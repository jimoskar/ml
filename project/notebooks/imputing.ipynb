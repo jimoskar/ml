{
 "cells": [
  {
   "cell_type": "code",
   "execution_count": 1,
   "source": [
    "import pandas as pd \n",
    "import numpy as np \n",
    "import matplotlib.pyplot as plt \n",
    "import seaborn as sns \n",
    "from catboost import CatBoostRegressor\n",
    "from sklearn.model_selection import KFold\n",
    "import optuna"
   ],
   "outputs": [],
   "metadata": {}
  },
  {
   "cell_type": "markdown",
   "source": [
    "TODO:\n",
    "- Impute bathrooms DONE\n",
    "- ceiling DONE\n",
    "- area_living DONE\n",
    "- area_kitchen DONE\n",
    "- balconies and loggias DONE"
   ],
   "metadata": {}
  },
  {
   "cell_type": "code",
   "execution_count": 3,
   "source": [
    "apartments = pd.read_csv('resources/data/apartments_train.csv')\n",
    "buildings = pd.read_csv('resources/data/buildings_train.csv')\n",
    "data = pd.merge(apartments, buildings.set_index('id'), how='left', left_on='building_id', right_index=True)\n",
    "\n",
    "apartments_test = pd.read_csv('resources/data/apartments_test.csv')\n",
    "buildings_test = pd.read_csv('resources/data/buildings_test.csv')\n",
    "data_test = pd.merge(apartments_test, buildings_test.set_index('id'), how='left', left_on='building_id', right_index=True)"
   ],
   "outputs": [],
   "metadata": {}
  },
  {
   "cell_type": "code",
   "execution_count": 56,
   "source": [
    "all_data = pd.read_csv('all_data_h3.csv')"
   ],
   "outputs": [],
   "metadata": {}
  },
  {
   "cell_type": "code",
   "execution_count": 59,
   "source": [
    "def rmlse(y_true, y_pred):\n",
    "    # Alternatively: sklearn.metrics.mean_squared_log_error(y_true, y_pred) ** 0.5\n",
    "    assert (y_true >= 0).all() \n",
    "    assert (y_pred >= 0).all()\n",
    "    log_error = np.log1p(y_pred) - np.log1p(y_true)  # Note: log1p(x) = log(1 + x)\n",
    "    return np.mean(log_error ** 2) ** 0.5"
   ],
   "outputs": [],
   "metadata": {}
  },
  {
   "cell_type": "markdown",
   "source": [
    "## Impute `bathrooms_total`"
   ],
   "metadata": {}
  },
  {
   "cell_type": "code",
   "execution_count": 60,
   "source": [
    "# Do not have en reasonable strategy other than using the mean.\n",
    "all_data['bathrooms_total'] = all_data['bathrooms_total'].fillna(all_data.bathrooms_total.median())"
   ],
   "outputs": [],
   "metadata": {}
  },
  {
   "cell_type": "markdown",
   "source": [
    "## Impute `ceiling`"
   ],
   "metadata": {}
  },
  {
   "cell_type": "code",
   "execution_count": 57,
   "source": [
    "pd.set_option('display.max_rows', 500)\n",
    "all_data.drop(columns = ['price', 'split', 'id', 'street', 'address']).apply(lambda x: x.corr(all_data.price)).sort_values()[-5:]"
   ],
   "outputs": [
    {
     "output_type": "execute_result",
     "data": {
      "text/plain": [
       "rooms                0.411317\n",
       "log_area_total       0.560908\n",
       "log_price_per_sqm    0.577837\n",
       "area_living          0.707580\n",
       "area_total           0.814829\n",
       "dtype: float64"
      ]
     },
     "metadata": {},
     "execution_count": 57
    }
   ],
   "metadata": {}
  },
  {
   "cell_type": "code",
   "execution_count": 61,
   "source": [
    "ceiling_fix2 = all_data.ceiling_fix\n",
    "ceiling_fix2.loc[ceiling_fix2 < 1.6] = ceiling_fix2.mean()\n",
    "ceiling_fix2.loc[ceiling_fix2 > 10] = ceiling_fix2.loc[ceiling_fix2 > 10]/10\n",
    "all_data['ceiling_fix2'] = ceiling_fix2"
   ],
   "outputs": [
    {
     "output_type": "stream",
     "name": "stderr",
     "text": [
      "/Users/jimtotland/anaconda3/lib/python3.7/site-packages/pandas/core/indexing.py:1637: SettingWithCopyWarning: \n",
      "A value is trying to be set on a copy of a slice from a DataFrame\n",
      "\n",
      "See the caveats in the documentation: https://pandas.pydata.org/pandas-docs/stable/user_guide/indexing.html#returning-a-view-versus-a-copy\n",
      "  self._setitem_single_block(indexer, value, name)\n",
      "/Users/jimtotland/anaconda3/lib/python3.7/site-packages/pandas/core/indexing.py:1637: SettingWithCopyWarning: \n",
      "A value is trying to be set on a copy of a slice from a DataFrame\n",
      "\n",
      "See the caveats in the documentation: https://pandas.pydata.org/pandas-docs/stable/user_guide/indexing.html#returning-a-view-versus-a-copy\n",
      "  self._setitem_single_block(indexer, value, name)\n"
     ]
    }
   ],
   "metadata": {}
  },
  {
   "cell_type": "code",
   "execution_count": 7,
   "source": [
    "from sklearn.impute import KNNImputer\n",
    "imputer = KNNImputer(n_neighbors=4)\n",
    "imp = imputer.fit_transform(all_data[['longitude', 'latitude', 'ceiling_fix2']])\n",
    "all_data['ceiling_fix2'] = imp[:, -1]"
   ],
   "outputs": [],
   "metadata": {}
  },
  {
   "cell_type": "code",
   "execution_count": 83,
   "source": [
    "all_data['ceiling_fix2'] = all_data['ceiling_fix2'].fillna(all_data.ceiling_fix2.median())"
   ],
   "outputs": [],
   "metadata": {}
  },
  {
   "cell_type": "code",
   "execution_count": 14,
   "source": [
    "plt.scatter(all_data.ceiling_fix2, all_data.log_price)"
   ],
   "outputs": [
    {
     "output_type": "execute_result",
     "data": {
      "text/plain": [
       "<matplotlib.collections.PathCollection at 0x7fe143eadc88>"
      ]
     },
     "metadata": {},
     "execution_count": 14
    },
    {
     "output_type": "display_data",
     "data": {
      "image/png": "[encoded data removed]",
      "text/plain": [
       "<Figure size 432x288 with 1 Axes>"
      ]
     },
     "metadata": {
      "needs_background": "light"
     }
    }
   ],
   "metadata": {}
  },
  {
   "cell_type": "code",
   "execution_count": 9,
   "source": [
    "mean = all_data.ceiling.mean()\n",
    "high_ceil= np.zeros(all_data.shape[0])\n",
    "for i in range(all_data.shape[0]):\n",
    "    if not pd.isna(all_data.ceiling[i]) and all_data.ceiling[i] > mean:\n",
    "        high_ceil[i] = 1\n",
    "\n",
    "all_data['high_ceil'] = high_ceil\n"
   ],
   "outputs": [],
   "metadata": {}
  },
  {
   "cell_type": "markdown",
   "source": [
    "## Imputing `new`"
   ],
   "metadata": {}
  },
  {
   "cell_type": "code",
   "execution_count": 80,
   "source": [
    "isnew = np.zeros(data.shape[0])\n",
    "for i in range(data.shape[0]):\n",
    "    if not pd.isna(data.new[i]) and data.new[i] == 1:\n",
    "        isnew[i] = 1\n",
    "\n",
    "data['isnew'] = isnew"
   ],
   "outputs": [],
   "metadata": {}
  },
  {
   "cell_type": "code",
   "execution_count": 81,
   "source": [
    "sns.boxplot(x = 'isnew', y = 'logprice', data = data)"
   ],
   "outputs": [
    {
     "output_type": "execute_result",
     "data": {
      "text/plain": [
       "<AxesSubplot:xlabel='isnew', ylabel='logprice'>"
      ]
     },
     "metadata": {},
     "execution_count": 81
    },
    {
     "output_type": "display_data",
     "data": {
      "image/png": "[encoded data removed]",
      "text/plain": [
       "<Figure size 432x288 with 1 Axes>"
      ]
     },
     "metadata": {
      "needs_background": "light"
     }
    }
   ],
   "metadata": {}
  },
  {
   "cell_type": "code",
   "execution_count": 87,
   "source": [
    "new_const = data.loc[data.new == 1, 'constructed']\n",
    "old_const = data.loc[data.new == 0, 'constructed']\n"
   ],
   "outputs": [],
   "metadata": {}
  },
  {
   "cell_type": "code",
   "execution_count": 85,
   "source": [
    "# new feature is bullshit\n",
    "sns.histplot(new_const)"
   ],
   "outputs": [
    {
     "output_type": "execute_result",
     "data": {
      "text/plain": [
       "<AxesSubplot:xlabel='constructed', ylabel='Count'>"
      ]
     },
     "metadata": {},
     "execution_count": 85
    },
    {
     "output_type": "display_data",
     "data": {
      "image/png": "[encoded data removed]",
      "text/plain": [
       "<Figure size 432x288 with 1 Axes>"
      ]
     },
     "metadata": {
      "needs_background": "light"
     }
    }
   ],
   "metadata": {}
  },
  {
   "cell_type": "code",
   "execution_count": 88,
   "source": [
    "sns.histplot(old_const)"
   ],
   "outputs": [
    {
     "output_type": "execute_result",
     "data": {
      "text/plain": [
       "<AxesSubplot:xlabel='constructed', ylabel='Count'>"
      ]
     },
     "metadata": {},
     "execution_count": 88
    },
    {
     "output_type": "display_data",
     "data": {
      "image/png": "[encoded data removed]",
      "text/plain": [
       "<Figure size 432x288 with 1 Axes>"
      ]
     },
     "metadata": {
      "needs_background": "light"
     }
    }
   ],
   "metadata": {}
  },
  {
   "cell_type": "code",
   "execution_count": 58,
   "source": [
    "# Rather create new feature based on construction\n",
    "new2 = np.zeros(all_data.shape[0])\n",
    "for i in range(all_data.shape[0]):\n",
    "    if not pd.isna(all_data.new[i]) and all_data.constructed[i] > 2000:\n",
    "        new2[i] = 1\n",
    "\n",
    "all_data['new2'] = new2"
   ],
   "outputs": [],
   "metadata": {}
  },
  {
   "cell_type": "code",
   "execution_count": 106,
   "source": [
    "sns.boxplot(data = data, x = 'new2', y = 'logprice')"
   ],
   "outputs": [
    {
     "output_type": "execute_result",
     "data": {
      "text/plain": [
       "<AxesSubplot:xlabel='new2', ylabel='logprice'>"
      ]
     },
     "metadata": {},
     "execution_count": 106
    },
    {
     "output_type": "display_data",
     "data": {
      "image/png": "[encoded data removed]",
      "text/plain": [
       "<Figure size 432x288 with 1 Axes>"
      ]
     },
     "metadata": {
      "needs_background": "light"
     }
    }
   ],
   "metadata": {}
  },
  {
   "cell_type": "markdown",
   "source": [
    "## Imputing `ballog`"
   ],
   "metadata": {}
  },
  {
   "cell_type": "code",
   "execution_count": 63,
   "source": [
    "all_data['ballog'] = all_data['ballog'].fillna(0)"
   ],
   "outputs": [],
   "metadata": {}
  },
  {
   "cell_type": "markdown",
   "source": [
    "## Impute `area_living`"
   ],
   "metadata": {}
  },
  {
   "cell_type": "code",
   "execution_count": 64,
   "source": [
    "pd.set_option('display.max_columns', 500)\n",
    "area_living_fix = all_data.area_living\n",
    "area_living_fix.loc[all_data.area_living > all_data.area_total]  = all_data.area_total/2"
   ],
   "outputs": [
    {
     "output_type": "stream",
     "name": "stderr",
     "text": [
      "/Users/jimtotland/anaconda3/lib/python3.7/site-packages/pandas/core/indexing.py:1637: SettingWithCopyWarning: \n",
      "A value is trying to be set on a copy of a slice from a DataFrame\n",
      "\n",
      "See the caveats in the documentation: https://pandas.pydata.org/pandas-docs/stable/user_guide/indexing.html#returning-a-view-versus-a-copy\n",
      "  self._setitem_single_block(indexer, value, name)\n"
     ]
    }
   ],
   "metadata": {}
  },
  {
   "cell_type": "code",
   "execution_count": 65,
   "source": [
    "all_data['area_living_fix'] = area_living_fix"
   ],
   "outputs": [],
   "metadata": {}
  },
  {
   "cell_type": "code",
   "execution_count": 20,
   "source": [
    "all_data.drop(columns = ['price', 'split', 'id', 'street', 'address', 'building_id', 'lon_rad', 'lat_rad', 'geometry']).apply(lambda x: x.corr(all_data.area_living)).sort_values()[-4:]"
   ],
   "outputs": [
    {
     "output_type": "execute_result",
     "data": {
      "text/plain": [
       "log_price         0.749629\n",
       "log_area_total    0.801206\n",
       "area_total        0.908238\n",
       "area_living       1.000000\n",
       "dtype: float64"
      ]
     },
     "metadata": {},
     "execution_count": 20
    }
   ],
   "metadata": {}
  },
  {
   "cell_type": "code",
   "execution_count": 84,
   "source": [
    "from sklearn import linear_model\n",
    "# Impute by regressing on the two most correlated features\n",
    "missing_idx = all_data['area_living_fix'].isna()\n",
    "model = linear_model.LinearRegression()\n",
    "model.fit(X = all_data.loc[~missing_idx, ['area_total', 'rooms']], y = all_data.loc[~missing_idx, 'area_living_fix'])\n",
    "all_data.loc[missing_idx, 'area_living_fix'] = model.predict(all_data.loc[missing_idx, ['area_total', 'rooms']])"
   ],
   "outputs": [],
   "metadata": {}
  },
  {
   "cell_type": "markdown",
   "source": [
    "## Imputing `area_kitchen`"
   ],
   "metadata": {}
  },
  {
   "cell_type": "code",
   "execution_count": 67,
   "source": [
    "area_kitchen_fix = all_data.area_kitchen\n",
    "area_kitchen_fix.loc[all_data.area_kitchen > all_data.area_total]  = 0\n",
    "all_data['area_kitchen_fix'] = area_kitchen_fix"
   ],
   "outputs": [
    {
     "output_type": "stream",
     "name": "stderr",
     "text": [
      "/Users/jimtotland/anaconda3/lib/python3.7/site-packages/pandas/core/indexing.py:1637: SettingWithCopyWarning: \n",
      "A value is trying to be set on a copy of a slice from a DataFrame\n",
      "\n",
      "See the caveats in the documentation: https://pandas.pydata.org/pandas-docs/stable/user_guide/indexing.html#returning-a-view-versus-a-copy\n",
      "  self._setitem_single_block(indexer, value, name)\n"
     ]
    }
   ],
   "metadata": {}
  },
  {
   "cell_type": "code",
   "execution_count": 117,
   "source": [
    "all_data.drop(columns = ['price', 'split', 'id', 'street', 'address']).apply(lambda x: x.corr(all_data.area_kitchen)).sort_values()[-10:]"
   ],
   "outputs": [
    {
     "output_type": "execute_result",
     "data": {
      "text/plain": [
       "new                 0.263295\n",
       "elevator_service    0.303741\n",
       "bathrooms_shared    0.312293\n",
       "rooms               0.316543\n",
       "constructed         0.380721\n",
       "seller              0.382460\n",
       "area_living         0.390412\n",
       "bathrooms_total     0.499980\n",
       "area_total          0.525835\n",
       "area_kitchen        1.000000\n",
       "dtype: float64"
      ]
     },
     "metadata": {},
     "execution_count": 117
    }
   ],
   "metadata": {}
  },
  {
   "cell_type": "code",
   "execution_count": 68,
   "source": [
    "from sklearn.impute import KNNImputer\n",
    "imputer = KNNImputer(n_neighbors=4)\n",
    "imp = imputer.fit_transform(all_data[['longitude', 'latitude', 'area_kitchen_fix']])\n",
    "all_data['area_kitchen_fix'] = imp[:, -1]"
   ],
   "outputs": [],
   "metadata": {}
  },
  {
   "cell_type": "markdown",
   "source": [
    "## Impute `parking`"
   ],
   "metadata": {}
  },
  {
   "cell_type": "code",
   "execution_count": 89,
   "source": [
    "# Assume that nan-values means no parking\n",
    "# fill with 3 for now:\n",
    "all_data['pariking'] = all_data['parking'].fillna(3)"
   ],
   "outputs": [],
   "metadata": {}
  },
  {
   "cell_type": "markdown",
   "source": [
    "## Imputing `garbage_chute`"
   ],
   "metadata": {}
  },
  {
   "cell_type": "code",
   "execution_count": 70,
   "source": [
    "\n",
    "all_data['garbage_chute'] = all_data['garbage_chute'].fillna(0)\n",
    "#sns.boxplot(x = 'garbage_chute', y = 'logprice', data = data)"
   ],
   "outputs": [],
   "metadata": {}
  },
  {
   "cell_type": "markdown",
   "source": [
    "## Impute `heating`"
   ],
   "metadata": {}
  },
  {
   "cell_type": "code",
   "execution_count": 71,
   "source": [
    "# introduce new category for missing values\n",
    "all_data['heating'] = all_data['heating'].fillna(4)"
   ],
   "outputs": [],
   "metadata": {}
  },
  {
   "cell_type": "markdown",
   "source": [
    "## Imputing `material`"
   ],
   "metadata": {}
  },
  {
   "cell_type": "code",
   "execution_count": 72,
   "source": [
    "# introduce new category for missing values\n",
    "all_data['material'] = all_data['material'].fillna(6)"
   ],
   "outputs": [],
   "metadata": {}
  },
  {
   "cell_type": "markdown",
   "source": [
    "## Imputing `condition`"
   ],
   "metadata": {}
  },
  {
   "cell_type": "code",
   "execution_count": 73,
   "source": [
    "# introduce new category for missing values\n",
    "all_data['condition'] = all_data['condition'].fillna(4)"
   ],
   "outputs": [],
   "metadata": {}
  },
  {
   "cell_type": "markdown",
   "source": [
    "## Creating feature for distance from city center"
   ],
   "metadata": {}
  },
  {
   "cell_type": "code",
   "execution_count": 74,
   "source": [
    "LAT_CENT = 55.751244\n",
    "LON_CENT = 37.618423\n",
    "dist = np.sqrt((all_data.latitude - LAT_CENT)**2 + (all_data.longitude - LON_CENT)**2)\n",
    "all_data['center_distance'] = dist"
   ],
   "outputs": [],
   "metadata": {}
  },
  {
   "cell_type": "code",
   "execution_count": 75,
   "source": [
    "data_train = all_data.loc[all_data.split == \"train\"]\n",
    "data_test = all_data.loc[all_data.split == \"test\"]"
   ],
   "outputs": [],
   "metadata": {}
  },
  {
   "cell_type": "markdown",
   "source": [
    "## Average price per district "
   ],
   "metadata": {}
  },
  {
   "cell_type": "markdown",
   "source": [
    "# Export data"
   ],
   "metadata": {}
  },
  {
   "cell_type": "code",
   "execution_count": 120,
   "source": [
    "all_data.to_csv(\"imp_h1.csv\")"
   ],
   "outputs": [],
   "metadata": {}
  },
  {
   "cell_type": "code",
   "execution_count": 134,
   "source": [
    "all_data."
   ],
   "outputs": [
    {
     "output_type": "execute_result",
     "data": {
      "text/plain": [
       "0        0\n",
       "1        0\n",
       "2        0\n",
       "3        0\n",
       "4        0\n",
       "        ..\n",
       "33217    0\n",
       "33218    1\n",
       "33219    0\n",
       "33220    0\n",
       "33221    0\n",
       "Name: park_close, Length: 33222, dtype: int64"
      ]
     },
     "metadata": {},
     "execution_count": 134
    }
   ],
   "metadata": {}
  },
  {
   "cell_type": "markdown",
   "source": [
    "# Linear models"
   ],
   "metadata": {}
  },
  {
   "cell_type": "code",
   "execution_count": 90,
   "source": [
    "data_train = all_data.loc[all_data.split == \"train\"]\n",
    "data_test = all_data.loc[all_data.split == \"test\"]"
   ],
   "outputs": [],
   "metadata": {}
  },
  {
   "cell_type": "code",
   "execution_count": 97,
   "source": [
    "\n",
    "NUMERIC = [\"latitude\", \"longitude\", \"constructed\", \"area_total\", \"area_living_fix\", \"area_kitchen_fix\", \"rooms\", \"ceiling_fix2\",\n",
    "            \"center_distance\", \"park_distance\", \"metro_distance\", \"square_distance\", \"metro_close\", \"square_close\", \"park_close\", \"ballog\", \"bathrooms_total\", \"distr_avg\",\n",
    "            'khamo_dist', 'ostoz_dist', 'rublevka_dist', 'yaki_dist', 'arbat_dist', 'pres_dist', 'tver_dist']\n",
    "\n",
    "CAT = [ \"district\", \"material\", \"condition\", \"heating\", \"parking\", \"garbage_chute\"]\n",
    "FEATURES = NUMERIC + CAT\n",
    "\n",
    "X_train = data_train[FEATURES].copy()\n",
    "X_test = data_test[FEATURES].copy()"
   ],
   "outputs": [],
   "metadata": {}
  },
  {
   "cell_type": "code",
   "execution_count": 101,
   "source": [
    "area_train = data_train.area_total\n",
    "area_test = data_test.area_total"
   ],
   "outputs": [],
   "metadata": {}
  },
  {
   "cell_type": "code",
   "execution_count": 98,
   "source": [
    "# transforming skewed features\n",
    "from scipy.stats import skew\n",
    "\n",
    "y = np.log(data_train.price)\n",
    "\n",
    "#log transform skewed numeric features:\n",
    "\n",
    "skewed_feats = X_train[NUMERIC].apply(lambda x: skew(x.dropna())) #compute skewness\n",
    "skewed_feats = skewed_feats[skewed_feats > 0.75]\n",
    "skewed_feats = skewed_feats.index\n",
    "print(skewed_feats)\n",
    "\n",
    "X_train[skewed_feats] = np.log1p(X_train[skewed_feats])\n",
    "X_test[skewed_feats] = np.log1p(X_test[skewed_feats])"
   ],
   "outputs": [
    {
     "output_type": "stream",
     "name": "stdout",
     "text": [
      "Index(['area_total', 'area_living_fix', 'area_kitchen_fix', 'rooms',\n",
      "       'ceiling_fix2', 'center_distance', 'park_distance', 'metro_distance',\n",
      "       'square_distance', 'metro_close', 'square_close', 'park_close',\n",
      "       'ballog', 'bathrooms_total', 'distr_avg', 'khamo_dist', 'ostoz_dist',\n",
      "       'yaki_dist', 'arbat_dist', 'pres_dist', 'tver_dist'],\n",
      "      dtype='object')\n"
     ]
    }
   ],
   "metadata": {}
  },
  {
   "cell_type": "code",
   "execution_count": 99,
   "source": [
    "X_train = pd.get_dummies(X_train, columns=CAT)\n",
    "X_test = pd.get_dummies(X_test, columns=CAT)"
   ],
   "outputs": [],
   "metadata": {}
  },
  {
   "cell_type": "code",
   "execution_count": 95,
   "source": [
    "X_train.isna().any()"
   ],
   "outputs": [
    {
     "output_type": "execute_result",
     "data": {
      "text/plain": [
       "latitude             False\n",
       "longitude            False\n",
       "constructed          False\n",
       "area_total           False\n",
       "area_living_fix      False\n",
       "area_kitchen_fix     False\n",
       "rooms                False\n",
       "ceiling_fix2         False\n",
       "center_distance      False\n",
       "park_distance        False\n",
       "metro_distance       False\n",
       "square_distance      False\n",
       "metro_close          False\n",
       "square_close         False\n",
       "park_close           False\n",
       "ballog               False\n",
       "bathrooms_total      False\n",
       "distr_avg            False\n",
       "khamo_dist           False\n",
       "ostoz_dist           False\n",
       "rublevka_dist        False\n",
       "yaki_dist            False\n",
       "arbat_dist           False\n",
       "pres_dist            False\n",
       "tver_dist            False\n",
       "district_0.0         False\n",
       "district_1.0         False\n",
       "district_2.0         False\n",
       "district_3.0         False\n",
       "district_4.0         False\n",
       "district_5.0         False\n",
       "district_6.0         False\n",
       "district_7.0         False\n",
       "district_8.0         False\n",
       "district_9.0         False\n",
       "district_10.0        False\n",
       "district_11.0        False\n",
       "material_0.0         False\n",
       "material_1.0         False\n",
       "material_2.0         False\n",
       "material_3.0         False\n",
       "material_4.0         False\n",
       "material_5.0         False\n",
       "material_6.0         False\n",
       "condition_0.0        False\n",
       "condition_1.0        False\n",
       "condition_2.0        False\n",
       "condition_3.0        False\n",
       "condition_4.0        False\n",
       "heating_0.0          False\n",
       "heating_1.0          False\n",
       "heating_2.0          False\n",
       "heating_3.0          False\n",
       "heating_4.0          False\n",
       "parking_0.0          False\n",
       "parking_1.0          False\n",
       "parking_2.0          False\n",
       "garbage_chute_0.0    False\n",
       "garbage_chute_1.0    False\n",
       "dtype: bool"
      ]
     },
     "metadata": {},
     "execution_count": 95
    }
   ],
   "metadata": {}
  },
  {
   "cell_type": "code",
   "execution_count": 102,
   "source": [
    "# linear regression\n",
    "from sklearn.linear_model import LinearRegression\n",
    "model = LinearRegression()\n",
    "cv_scores = np.empty(5)\n",
    "kf = KFold(n_splits=5, shuffle=True, random_state=42)\n",
    "for j, (train_idx, test_idx) in enumerate(kf.split(X_train, y)):\n",
    "    X_tr, X_te = X_train.iloc[train_idx], X_train.iloc[test_idx]\n",
    "    y_test = y[test_idx]\n",
    "    y_train = y[train_idx]\n",
    "\n",
    "    model.fit(X_tr, y_train)\n",
    "\n",
    "    preds = np.exp(model.predict(X_te)) * area_train[test_idx]\n",
    "    y_true = np.exp(y_test) * area_train[test_idx]\n",
    "    cv_scores[j] = rmlse(y_true, preds)\n"
   ],
   "outputs": [],
   "metadata": {}
  },
  {
   "cell_type": "code",
   "execution_count": 103,
   "source": [
    "cv_scores.mean()"
   ],
   "outputs": [
    {
     "output_type": "execute_result",
     "data": {
      "text/plain": [
       "0.24748679095261714"
      ]
     },
     "metadata": {},
     "execution_count": 103
    }
   ],
   "metadata": {}
  },
  {
   "cell_type": "code",
   "execution_count": 302,
   "source": [
    "preds_test = np.exp(model.predict(X_test))\n",
    "submission = pd.DataFrame()\n",
    "submission['id'] = data_test.index\n",
    "submission['price_prediction'] = preds_test\n",
    "submission.to_csv('submissions/linreg.csv', index=False)"
   ],
   "outputs": [],
   "metadata": {}
  },
  {
   "cell_type": "code",
   "execution_count": 116,
   "source": [
    "from sklearn.linear_model import Ridge\n",
    "def cv_lasso(X, y):\n",
    "    kf = KFold(n_splits=5, shuffle=True, random_state=42)\n",
    "    cv_scores = np.empty(5)\n",
    "    alpha_grid = [1.0e-06, 1.0e-05, 1.9e-05, 2.0e-05, 1.0e-04, 0.001, 0.01, 0.1, 0.5, 0.8, 0.9, 1, 2, 3, 4]\n",
    "    alpha_scores = np.zeros(len(alpha_grid))\n",
    "\n",
    "    for i, alpha in enumerate(alpha_grid):\n",
    "        model = Ridge(alpha = alpha)\n",
    "        for j, (train_idx, test_idx) in enumerate(kf.split(X, y)):\n",
    "            X_train, X_test = X.iloc[train_idx], X.iloc[test_idx]\n",
    "            y_test = y[test_idx]\n",
    "            y_train = y[train_idx]\n",
    "\n",
    "            model.fit(X_train, y_train)\n",
    "        \n",
    "            preds = np.exp(model.predict(X_test))\n",
    "            y_true = np.exp(y_test)\n",
    "            cv_scores[j] = rmlse(y_true, preds)\n",
    "        alpha_scores[i] = cv_scores.mean()\n",
    "    \n",
    "    return alpha_grid, alpha_scores"
   ],
   "outputs": [],
   "metadata": {}
  },
  {
   "cell_type": "code",
   "execution_count": null,
   "source": [
    "agrid, ascores = cv_lasso(X_train, y)"
   ],
   "outputs": [],
   "metadata": {}
  },
  {
   "cell_type": "code",
   "execution_count": 118,
   "source": [
    "plt.scatter(agrid, ascores)"
   ],
   "outputs": [
    {
     "output_type": "execute_result",
     "data": {
      "text/plain": [
       "<matplotlib.collections.PathCollection at 0x7fdf6bcdb6a0>"
      ]
     },
     "metadata": {},
     "execution_count": 118
    },
    {
     "output_type": "display_data",
     "data": {
      "image/png": "[encoded data removed]",
      "text/plain": [
       "<Figure size 432x288 with 1 Axes>"
      ]
     },
     "metadata": {
      "needs_background": "light"
     }
    }
   ],
   "metadata": {}
  },
  {
   "cell_type": "markdown",
   "source": [
    "# KNN-regressor"
   ],
   "metadata": {}
  },
  {
   "cell_type": "code",
   "execution_count": 92,
   "source": [
    "from sklearn.neighbors import KNeighborsRegressor\n",
    "from sklearn.model_selection import train_test_split\n",
    "X = data_train[['longitude', 'latitude', 'area_total']].copy()\n",
    "#X['area_total'] = np.log(X.area_total)\n",
    "y = data_train.price\n",
    "train, test, y_train, y_test = train_test_split(X, y, test_size = 0.2, random_state = 42, stratify = round(np.log(data_train.price)))"
   ],
   "outputs": [],
   "metadata": {}
  },
  {
   "cell_type": "code",
   "execution_count": 96,
   "source": [
    "neigh = KNeighborsRegressor(n_neighbors=3)\n",
    "neigh.fit(train, y_train)"
   ],
   "outputs": [
    {
     "output_type": "execute_result",
     "data": {
      "text/plain": [
       "KNeighborsRegressor(algorithm='auto', leaf_size=30, metric='minkowski',\n",
       "                    metric_params=None, n_jobs=None, n_neighbors=3, p=2,\n",
       "                    weights='uniform')"
      ]
     },
     "metadata": {},
     "execution_count": 96
    }
   ],
   "metadata": {}
  },
  {
   "cell_type": "code",
   "execution_count": 97,
   "source": [
    "preds = neigh.predict(test)\n",
    "rmlse(y_test, preds)"
   ],
   "outputs": [
    {
     "output_type": "execute_result",
     "data": {
      "text/plain": [
       "0.33125196445772653"
      ]
     },
     "metadata": {},
     "execution_count": 97
    }
   ],
   "metadata": {}
  },
  {
   "cell_type": "code",
   "execution_count": 451,
   "source": [
    "X = data_train[['longitude', 'latitude', 'area_total']].copy()\n",
    "X['area_total'] = np.log(X.area_total)\n",
    "y = data_train.price\n",
    "\n",
    "X_test = data_test[['longitude', 'latitude', 'area_total']].copy()\n",
    "X_test['area_total'] = np.log(X_test.area_total)"
   ],
   "outputs": [],
   "metadata": {}
  },
  {
   "cell_type": "code",
   "execution_count": 72,
   "source": [
    "neigh = KNeighborsRegressor(n_neighbors=3)\n",
    "neigh.fit(X, y)"
   ],
   "outputs": [
    {
     "output_type": "error",
     "ename": "NameError",
     "evalue": "name 'KNeighborsRegressor' is not defined",
     "traceback": [
      "\u001b[0;31m---------------------------------------------------------------------------\u001b[0m",
      "\u001b[0;31mNameError\u001b[0m                                 Traceback (most recent call last)",
      "\u001b[0;32m<ipython-input-72-1aff0869c8a5>\u001b[0m in \u001b[0;36m<module>\u001b[0;34m\u001b[0m\n\u001b[0;32m----> 1\u001b[0;31m \u001b[0mneigh\u001b[0m \u001b[0;34m=\u001b[0m \u001b[0mKNeighborsRegressor\u001b[0m\u001b[0;34m(\u001b[0m\u001b[0mn_neighbors\u001b[0m\u001b[0;34m=\u001b[0m\u001b[0;36m3\u001b[0m\u001b[0;34m)\u001b[0m\u001b[0;34m\u001b[0m\u001b[0;34m\u001b[0m\u001b[0m\n\u001b[0m\u001b[1;32m      2\u001b[0m \u001b[0mneigh\u001b[0m\u001b[0;34m.\u001b[0m\u001b[0mfit\u001b[0m\u001b[0;34m(\u001b[0m\u001b[0mX\u001b[0m\u001b[0;34m,\u001b[0m \u001b[0my\u001b[0m\u001b[0;34m)\u001b[0m\u001b[0;34m\u001b[0m\u001b[0;34m\u001b[0m\u001b[0m\n",
      "\u001b[0;31mNameError\u001b[0m: name 'KNeighborsRegressor' is not defined"
     ]
    }
   ],
   "metadata": {}
  },
  {
   "cell_type": "code",
   "execution_count": 452,
   "source": [
    "preds = neigh.predict(X_test)\n",
    "submission = pd.DataFrame()\n",
    "submission['id'] = data_test.index\n",
    "submission['price_prediction'] = preds\n",
    "submission.to_csv('submissions/knn.csv', index=False)\n"
   ],
   "outputs": [],
   "metadata": {}
  },
  {
   "cell_type": "markdown",
   "source": [
    "# Try some stacking."
   ],
   "metadata": {}
  },
  {
   "cell_type": "code",
   "execution_count": 121,
   "source": [
    "from sklearn.tree import DecisionTreeRegressor\n",
    "from sklearn.ensemble import RandomForestRegressor\n",
    "from sklearn.ensemble import AdaBoostRegressor\n",
    "from sklearn.ensemble import GradientBoostingRegressor\n",
    "import lightgbm as lgb\n",
    "from catboost import CatBoostRegressor\n",
    "import xgboost as xgb\n",
    "from sklearn.model_selection import train_test_split"
   ],
   "outputs": [
    {
     "output_type": "stream",
     "name": "stderr",
     "text": [
      "/Users/jimtotland/anaconda3/lib/python3.7/site-packages/dask/dataframe/utils.py:15: FutureWarning: pandas.util.testing is deprecated. Use the functions in the public API at pandas.testing instead.\n",
      "  import pandas.util.testing as tm\n"
     ]
    }
   ],
   "metadata": {}
  },
  {
   "cell_type": "code",
   "execution_count": 122,
   "source": [
    "SEED = 42\n",
    "NFOLDS = 5\n",
    "\n",
    "def get_oof(clf, kf, x_train, y_train, x_test):\n",
    "    ntrain = x_train.shape[0]\n",
    "    ntest = x_test.shape[0]\n",
    "    oof_train = np.zeros((ntrain,))\n",
    "    oof_test = np.zeros((ntest,))\n",
    "    oof_test_skf = np.empty((NFOLDS, ntest))\n",
    "\n",
    "    for i, (train_index, test_index) in enumerate(kf.split(x_train, y_train)):\n",
    "        x_tr = x_train.iloc[train_index]\n",
    "        y_tr = y_train.iloc[train_index]\n",
    "        x_te = x_train.iloc[test_index]\n",
    "\n",
    "        clf.fit(x_tr, y_tr)\n",
    "\n",
    "        oof_train[test_index] = clf.predict(x_te)\n",
    "        oof_test_skf[i, :] = clf.predict(x_test)\n",
    "\n",
    "    oof_test[:] = oof_test_skf.mean(axis=0)\n",
    "    return oof_train.reshape(-1, 1), oof_test.reshape(-1, 1)"
   ],
   "outputs": [],
   "metadata": {}
  },
  {
   "cell_type": "code",
   "execution_count": 123,
   "source": [
    "rf_params = {\n",
    "    'n_estimators' : 100,\n",
    "    'criterion': 'mse',\n",
    "    'max_depth': None,\n",
    "    'min_weight_fraction_leaf': 0.0,\n",
    "    'max_features': 'auto',\n",
    "    'max_leaf_nodes': None,\n",
    "    'min_impurity_decrease': 0.0,\n",
    "    'bootstrap':True,\n",
    "    'oob_score': False,\n",
    "    'n_jobs': None,\n",
    "    'random_state': SEED,\n",
    "    'verbose': 0,\n",
    "    'warm_start': False,\n",
    "    'ccp_alpha': 0.0,\n",
    "    'max_samples': None\n",
    "}\n",
    "\n",
    "lgb_params = {\n",
    "    'num_leaves': 10,\n",
    "    'max_depth': 5, \n",
    "    'random_state':SEED, \n",
    "    'silent' : True, \n",
    "    'metric': 'mse',\n",
    "    'n_jobs': 4, \n",
    "    'n_estimators': 2000,\n",
    "    'colsample_bytree': 0.95,\n",
    "    'subsample': 0.9,\n",
    "    'learning_rate': 0.05\n",
    "}\n",
    "\n",
    "cb_params = {\n",
    "    'n_estimators': 500,\n",
    "    'learning_rate': 0.1,\n",
    "    'thread_count': -1,\n",
    "    'depth': 7,\n",
    "    'silent': True,\n",
    "    'random_seed': SEED,\n",
    "    'bagging_temperature': 0.2\n",
    "}\n",
    "\n",
    "ada_params = {\n",
    "    'n_estimators': 1000,\n",
    "    'learning_rate':0.05,\n",
    "    'loss': 'square',\n",
    "    'random_state': SEED\n",
    "}\n",
    "\n",
    "tree_params = {\n",
    "    'criterion': 'mse',\n",
    "    'max_depth': 5,\n",
    "    'min_samples_split': 4,\n",
    "    'min_samples_leaf': 2,\n",
    "    'random_state': SEED\n",
    "}\n",
    "\n",
    "gb_params = {\n",
    "    'learning_rate': 0.01,\n",
    "    'n_estimators':2000,\n",
    "    'subsample':1.0, \n",
    "    'criterion':'mse', \n",
    "    'min_samples_split':4, \n",
    "    'min_samples_leaf':2, \n",
    "    'min_weight_fraction_leaf':0.0, \n",
    "    'max_depth':9, \n",
    "    'min_impurity_decrease':0.0, \n",
    "    'init':None, \n",
    "    'random_state':42, \n",
    "    'max_features':None,\n",
    "    'alpha':0.9,\n",
    "    'verbose':0,\n",
    "    'max_leaf_nodes':None,\n",
    "    'warm_start':False,\n",
    "    'validation_fraction':0.1,\n",
    "    'n_iter_no_change':None,\n",
    "    'tol':0.0001,\n",
    "    'ccp_alpha': 0.0\n",
    "}"
   ],
   "outputs": [],
   "metadata": {}
  },
  {
   "cell_type": "code",
   "execution_count": 124,
   "source": [
    "model1 = RandomForestRegressor(**rf_params)\n",
    "model2 = lgb.LGBMRegressor(**lgb_params)\n",
    "model3 = CatBoostRegressor(**cb_params)\n",
    "model4 = AdaBoostRegressor(**ada_params)\n",
    "model5 = DecisionTreeRegressor(**tree_params)\n",
    "model6 = LinearRegression()\n",
    "model7 = GradientBoostingRegressor(**gb_params)"
   ],
   "outputs": [],
   "metadata": {}
  },
  {
   "cell_type": "code",
   "execution_count": 125,
   "source": [
    "kf = KFold(n_splits=NFOLDS, shuffle=True,random_state=SEED) \n",
    "\n",
    "gb_oof_train, gb_oof_test = get_oof(model7, kf, X_train, y, X_test)\n",
    "rf_oof_train, rf_oof_test = get_oof(model1, kf, X_train, y, X_test)\n",
    "lgbm_oof_train, lgbm_oof_test = get_oof(model2, kf, X_train, y, X_test)\n",
    "cb_oof_train, cb_oof_test = get_oof(model3, kf, X_train, y, X_test)\n",
    "ada_oof_train, ada_oof_test = get_oof(model4, kf, X_train, y, X_test)\n",
    "tree_oof_train, tree_oof_test = get_oof(model5, kf, X_train, y, X_test)\n",
    "linreg_oof_train, linreg_oof_test = get_oof(model6, kf, X_train, y, X_test)"
   ],
   "outputs": [],
   "metadata": {}
  },
  {
   "cell_type": "code",
   "execution_count": 126,
   "source": [
    "x_train = np.concatenate((\n",
    "            rf_oof_train,\n",
    "            lgbm_oof_train,\n",
    "            cb_oof_train,\n",
    "            ada_oof_train,\n",
    "            tree_oof_train,\n",
    "            linreg_oof_train,\n",
    "            gb_oof_train\n",
    "        ), axis=1)\n",
    "\n",
    "x_test = np.concatenate((\n",
    "    rf_oof_test,\n",
    "    lgbm_oof_test,\n",
    "    cb_oof_test,\n",
    "    ada_oof_test,\n",
    "    tree_oof_test,\n",
    "    linreg_oof_test,\n",
    "    gb_oof_test\n",
    "), axis=1)"
   ],
   "outputs": [],
   "metadata": {}
  },
  {
   "cell_type": "code",
   "execution_count": 142,
   "source": [
    "#LGB meta model\n",
    "\n",
    "META_MODEL = lgb.LGBMRegressor(\n",
    "    num_leaves=5,\n",
    "    max_depth=7, \n",
    "    random_state=SEED, \n",
    "    silent=True, \n",
    "    metric='mse',\n",
    "    n_jobs=4, \n",
    "    n_estimators=2500,\n",
    "    colsample_bytree=1,\n",
    "    subsample=0.9,\n",
    "    learning_rate=0.002\n",
    ")\n",
    "\n",
    "META_MODEL.fit(x_train, y)"
   ],
   "outputs": [
    {
     "output_type": "execute_result",
     "data": {
      "text/plain": [
       "LGBMRegressor(boosting_type='gbdt', class_weight=None, colsample_bytree=1,\n",
       "              importance_type='split', learning_rate=0.002, max_depth=7,\n",
       "              metric='mse', min_child_samples=20, min_child_weight=0.001,\n",
       "              min_split_gain=0.0, n_estimators=2500, n_jobs=4, num_leaves=5,\n",
       "              objective=None, random_state=42, reg_alpha=0.0, reg_lambda=0.0,\n",
       "              silent=True, subsample=0.9, subsample_for_bin=200000,\n",
       "              subsample_freq=0)"
      ]
     },
     "metadata": {},
     "execution_count": 142
    }
   ],
   "metadata": {}
  },
  {
   "cell_type": "code",
   "execution_count": 391,
   "source": [
    "# XGB meta model.\n",
    "param = {\n",
    "        'max_depth': 3, \n",
    "        'reg_alpha': 0.0012, 'reg_lambda': 0.003, \n",
    "        'min_child_weight': 0, 'gamma': 2, \n",
    "        'learning_rate': 0.0132, 'colsample_bytree': 0.45\n",
    "        }\n",
    "\n",
    "dtrain = xgb.DMatrix(x_train, label = y)\n",
    "META_MODEL = xgb.train(param, dtrain, num_boost_round=2000)"
   ],
   "outputs": [],
   "metadata": {}
  },
  {
   "cell_type": "code",
   "execution_count": 392,
   "source": [
    "dtest = xgb.DMatrix(x_test)\n",
    "preds = np.exp(META_MODEL.predict(dtest))\n",
    "submission = pd.DataFrame()\n",
    "submission['id'] = data_test.index\n",
    "submission['price_prediction'] = preds\n",
    "submission.to_csv('submissions/stack.csv', index=False)"
   ],
   "outputs": [],
   "metadata": {}
  },
  {
   "cell_type": "code",
   "execution_count": 143,
   "source": [
    "preds = np.exp(META_MODEL.predict(x_test))\n",
    "submission = pd.DataFrame()\n",
    "submission['id'] = data_test.index\n",
    "submission['price_prediction'] = preds\n",
    "submission.to_csv('submissions/stack.csv', index=False)"
   ],
   "outputs": [],
   "metadata": {}
  },
  {
   "cell_type": "code",
   "execution_count": 144,
   "source": [
    "submission"
   ],
   "outputs": [
    {
     "output_type": "execute_result",
     "data": {
      "text/html": [
       "<div>\n",
       "<style scoped>\n",
       "    .dataframe tbody tr th:only-of-type {\n",
       "        vertical-align: middle;\n",
       "    }\n",
       "\n",
       "    .dataframe tbody tr th {\n",
       "        vertical-align: top;\n",
       "    }\n",
       "\n",
       "    .dataframe thead th {\n",
       "        text-align: right;\n",
       "    }\n",
       "</style>\n",
       "<table border=\"1\" class=\"dataframe\">\n",
       "  <thead>\n",
       "    <tr style=\"text-align: right;\">\n",
       "      <th></th>\n",
       "      <th>id</th>\n",
       "      <th>price_prediction</th>\n",
       "    </tr>\n",
       "  </thead>\n",
       "  <tbody>\n",
       "    <tr>\n",
       "      <th>0</th>\n",
       "      <td>23285</td>\n",
       "      <td>2.894686e+07</td>\n",
       "    </tr>\n",
       "    <tr>\n",
       "      <th>1</th>\n",
       "      <td>23286</td>\n",
       "      <td>9.644968e+06</td>\n",
       "    </tr>\n",
       "    <tr>\n",
       "      <th>2</th>\n",
       "      <td>23287</td>\n",
       "      <td>6.136317e+06</td>\n",
       "    </tr>\n",
       "    <tr>\n",
       "      <th>3</th>\n",
       "      <td>23288</td>\n",
       "      <td>8.141670e+06</td>\n",
       "    </tr>\n",
       "    <tr>\n",
       "      <th>4</th>\n",
       "      <td>23289</td>\n",
       "      <td>5.445709e+06</td>\n",
       "    </tr>\n",
       "    <tr>\n",
       "      <th>...</th>\n",
       "      <td>...</td>\n",
       "      <td>...</td>\n",
       "    </tr>\n",
       "    <tr>\n",
       "      <th>9932</th>\n",
       "      <td>33217</td>\n",
       "      <td>2.959119e+07</td>\n",
       "    </tr>\n",
       "    <tr>\n",
       "      <th>9933</th>\n",
       "      <td>33218</td>\n",
       "      <td>1.701111e+07</td>\n",
       "    </tr>\n",
       "    <tr>\n",
       "      <th>9934</th>\n",
       "      <td>33219</td>\n",
       "      <td>9.760407e+06</td>\n",
       "    </tr>\n",
       "    <tr>\n",
       "      <th>9935</th>\n",
       "      <td>33220</td>\n",
       "      <td>8.859670e+06</td>\n",
       "    </tr>\n",
       "    <tr>\n",
       "      <th>9936</th>\n",
       "      <td>33221</td>\n",
       "      <td>7.735159e+06</td>\n",
       "    </tr>\n",
       "  </tbody>\n",
       "</table>\n",
       "<p>9937 rows × 2 columns</p>\n",
       "</div>"
      ],
      "text/plain": [
       "         id  price_prediction\n",
       "0     23285      2.894686e+07\n",
       "1     23286      9.644968e+06\n",
       "2     23287      6.136317e+06\n",
       "3     23288      8.141670e+06\n",
       "4     23289      5.445709e+06\n",
       "...     ...               ...\n",
       "9932  33217      2.959119e+07\n",
       "9933  33218      1.701111e+07\n",
       "9934  33219      9.760407e+06\n",
       "9935  33220      8.859670e+06\n",
       "9936  33221      7.735159e+06\n",
       "\n",
       "[9937 rows x 2 columns]"
      ]
     },
     "metadata": {},
     "execution_count": 144
    }
   ],
   "metadata": {}
  },
  {
   "cell_type": "code",
   "execution_count": 133,
   "source": [
    "data_test"
   ],
   "outputs": [
    {
     "output_type": "execute_result",
     "data": {
      "text/html": [
       "<div>\n",
       "<style scoped>\n",
       "    .dataframe tbody tr th:only-of-type {\n",
       "        vertical-align: middle;\n",
       "    }\n",
       "\n",
       "    .dataframe tbody tr th {\n",
       "        vertical-align: top;\n",
       "    }\n",
       "\n",
       "    .dataframe thead th {\n",
       "        text-align: right;\n",
       "    }\n",
       "</style>\n",
       "<table border=\"1\" class=\"dataframe\">\n",
       "  <thead>\n",
       "    <tr style=\"text-align: right;\">\n",
       "      <th></th>\n",
       "      <th>id</th>\n",
       "      <th>seller</th>\n",
       "      <th>price</th>\n",
       "      <th>area_total</th>\n",
       "      <th>area_kitchen</th>\n",
       "      <th>area_living</th>\n",
       "      <th>floor</th>\n",
       "      <th>rooms</th>\n",
       "      <th>layout</th>\n",
       "      <th>ceiling</th>\n",
       "      <th>bathrooms_shared</th>\n",
       "      <th>bathrooms_private</th>\n",
       "      <th>windows_court</th>\n",
       "      <th>windows_street</th>\n",
       "      <th>balconies</th>\n",
       "      <th>loggias</th>\n",
       "      <th>condition</th>\n",
       "      <th>phones</th>\n",
       "      <th>building_id</th>\n",
       "      <th>split</th>\n",
       "      <th>new</th>\n",
       "      <th>latitude</th>\n",
       "      <th>longitude</th>\n",
       "      <th>district</th>\n",
       "      <th>street</th>\n",
       "      <th>address</th>\n",
       "      <th>constructed</th>\n",
       "      <th>material</th>\n",
       "      <th>stories</th>\n",
       "      <th>elevator_without</th>\n",
       "      <th>elevator_passenger</th>\n",
       "      <th>elevator_service</th>\n",
       "      <th>parking</th>\n",
       "      <th>garbage_chute</th>\n",
       "      <th>heating</th>\n",
       "      <th>geometry</th>\n",
       "      <th>lon_rad</th>\n",
       "      <th>lat_rad</th>\n",
       "      <th>metro_distance</th>\n",
       "      <th>park_distance</th>\n",
       "      <th>park_close</th>\n",
       "      <th>square_distance</th>\n",
       "      <th>square_close</th>\n",
       "      <th>rublevka_dist</th>\n",
       "      <th>ostoz_dist</th>\n",
       "      <th>khamo_dist</th>\n",
       "      <th>yaki_dist</th>\n",
       "      <th>arbat_dist</th>\n",
       "      <th>pres_dist</th>\n",
       "      <th>tver_dist</th>\n",
       "      <th>metro_close</th>\n",
       "      <th>bathrooms_total</th>\n",
       "      <th>ballog</th>\n",
       "      <th>ceiling_fix</th>\n",
       "      <th>price_per_sqm</th>\n",
       "      <th>distr_avg</th>\n",
       "      <th>log_area_total</th>\n",
       "      <th>log_area_per_room</th>\n",
       "      <th>floor_fix</th>\n",
       "      <th>ceiling_fix2</th>\n",
       "      <th>area_living_fix</th>\n",
       "      <th>area_kitchen_fix</th>\n",
       "      <th>pariking</th>\n",
       "      <th>center_distance</th>\n",
       "    </tr>\n",
       "  </thead>\n",
       "  <tbody>\n",
       "    <tr>\n",
       "      <th>23285</th>\n",
       "      <td>23285</td>\n",
       "      <td>NaN</td>\n",
       "      <td>NaN</td>\n",
       "      <td>71.4</td>\n",
       "      <td>NaN</td>\n",
       "      <td>35.365399</td>\n",
       "      <td>2.0</td>\n",
       "      <td>1.0</td>\n",
       "      <td>NaN</td>\n",
       "      <td>NaN</td>\n",
       "      <td>NaN</td>\n",
       "      <td>NaN</td>\n",
       "      <td>1.0</td>\n",
       "      <td>0.0</td>\n",
       "      <td>1.0</td>\n",
       "      <td>0.0</td>\n",
       "      <td>0.0</td>\n",
       "      <td>1.0</td>\n",
       "      <td>5148</td>\n",
       "      <td>test</td>\n",
       "      <td>0.0</td>\n",
       "      <td>55.762247</td>\n",
       "      <td>37.549040</td>\n",
       "      <td>0.0</td>\n",
       "      <td>2-я Черногрязская улица</td>\n",
       "      <td>6к3</td>\n",
       "      <td>2017.0</td>\n",
       "      <td>2.0</td>\n",
       "      <td>20.0</td>\n",
       "      <td>1.0</td>\n",
       "      <td>1.0</td>\n",
       "      <td>1.0</td>\n",
       "      <td>NaN</td>\n",
       "      <td>1.0</td>\n",
       "      <td>0.0</td>\n",
       "      <td>POINT (37.54904000000001 55.762247)</td>\n",
       "      <td>0.655354</td>\n",
       "      <td>0.973235</td>\n",
       "      <td>825.809315</td>\n",
       "      <td>2072.586392</td>\n",
       "      <td>0</td>\n",
       "      <td>2407.762678</td>\n",
       "      <td>3</td>\n",
       "      <td>18336.173653</td>\n",
       "      <td>3814.598372</td>\n",
       "      <td>3623.697964</td>\n",
       "      <td>5061.042878</td>\n",
       "      <td>3469.959055</td>\n",
       "      <td>676.059132</td>\n",
       "      <td>3787.368503</td>\n",
       "      <td>1</td>\n",
       "      <td>1.0</td>\n",
       "      <td>1.0</td>\n",
       "      <td>NaN</td>\n",
       "      <td>NaN</td>\n",
       "      <td>546695.648414</td>\n",
       "      <td>4.268298</td>\n",
       "      <td>4.268298</td>\n",
       "      <td>2.0</td>\n",
       "      <td>2.800000</td>\n",
       "      <td>35.365399</td>\n",
       "      <td>15.00</td>\n",
       "      <td>3.0</td>\n",
       "      <td>0.070250</td>\n",
       "    </tr>\n",
       "    <tr>\n",
       "      <th>23286</th>\n",
       "      <td>23286</td>\n",
       "      <td>NaN</td>\n",
       "      <td>NaN</td>\n",
       "      <td>54.0</td>\n",
       "      <td>4.0</td>\n",
       "      <td>50.000000</td>\n",
       "      <td>4.0</td>\n",
       "      <td>1.0</td>\n",
       "      <td>NaN</td>\n",
       "      <td>3.00</td>\n",
       "      <td>NaN</td>\n",
       "      <td>NaN</td>\n",
       "      <td>1.0</td>\n",
       "      <td>0.0</td>\n",
       "      <td>NaN</td>\n",
       "      <td>NaN</td>\n",
       "      <td>3.0</td>\n",
       "      <td>1.0</td>\n",
       "      <td>1290</td>\n",
       "      <td>test</td>\n",
       "      <td>0.0</td>\n",
       "      <td>55.591467</td>\n",
       "      <td>37.452651</td>\n",
       "      <td>11.0</td>\n",
       "      <td>улица Сервантеса</td>\n",
       "      <td>3к2</td>\n",
       "      <td>2017.0</td>\n",
       "      <td>2.0</td>\n",
       "      <td>15.0</td>\n",
       "      <td>0.0</td>\n",
       "      <td>1.0</td>\n",
       "      <td>1.0</td>\n",
       "      <td>0.0</td>\n",
       "      <td>0.0</td>\n",
       "      <td>0.0</td>\n",
       "      <td>POINT (37.452651 55.591467)</td>\n",
       "      <td>0.653672</td>\n",
       "      <td>0.970254</td>\n",
       "      <td>1319.278050</td>\n",
       "      <td>7744.119969</td>\n",
       "      <td>0</td>\n",
       "      <td>11872.826577</td>\n",
       "      <td>0</td>\n",
       "      <td>20383.167519</td>\n",
       "      <td>18846.877247</td>\n",
       "      <td>17513.052973</td>\n",
       "      <td>18593.027944</td>\n",
       "      <td>20099.918140</td>\n",
       "      <td>20303.257578</td>\n",
       "      <td>22077.317666</td>\n",
       "      <td>0</td>\n",
       "      <td>1.0</td>\n",
       "      <td>0.0</td>\n",
       "      <td>3.000000</td>\n",
       "      <td>NaN</td>\n",
       "      <td>143188.100942</td>\n",
       "      <td>3.988984</td>\n",
       "      <td>3.988984</td>\n",
       "      <td>4.0</td>\n",
       "      <td>3.000000</td>\n",
       "      <td>50.000000</td>\n",
       "      <td>4.00</td>\n",
       "      <td>0.0</td>\n",
       "      <td>0.230237</td>\n",
       "    </tr>\n",
       "    <tr>\n",
       "      <th>23287</th>\n",
       "      <td>23287</td>\n",
       "      <td>3.0</td>\n",
       "      <td>NaN</td>\n",
       "      <td>39.4</td>\n",
       "      <td>19.6</td>\n",
       "      <td>11.200000</td>\n",
       "      <td>10.0</td>\n",
       "      <td>1.0</td>\n",
       "      <td>NaN</td>\n",
       "      <td>2.65</td>\n",
       "      <td>1.0</td>\n",
       "      <td>0.0</td>\n",
       "      <td>1.0</td>\n",
       "      <td>0.0</td>\n",
       "      <td>NaN</td>\n",
       "      <td>NaN</td>\n",
       "      <td>4.0</td>\n",
       "      <td>1.0</td>\n",
       "      <td>681</td>\n",
       "      <td>test</td>\n",
       "      <td>1.0</td>\n",
       "      <td>55.617017</td>\n",
       "      <td>37.413718</td>\n",
       "      <td>11.0</td>\n",
       "      <td>Саларьево Парк ЖК</td>\n",
       "      <td>27</td>\n",
       "      <td>2021.0</td>\n",
       "      <td>3.0</td>\n",
       "      <td>9.0</td>\n",
       "      <td>0.0</td>\n",
       "      <td>1.0</td>\n",
       "      <td>1.0</td>\n",
       "      <td>1.0</td>\n",
       "      <td>0.0</td>\n",
       "      <td>4.0</td>\n",
       "      <td>POINT (37.413718 55.617017)</td>\n",
       "      <td>0.652993</td>\n",
       "      <td>0.970700</td>\n",
       "      <td>903.397736</td>\n",
       "      <td>9625.311029</td>\n",
       "      <td>0</td>\n",
       "      <td>11584.208621</td>\n",
       "      <td>0</td>\n",
       "      <td>16646.994374</td>\n",
       "      <td>17859.627463</td>\n",
       "      <td>16390.199123</td>\n",
       "      <td>17853.287368</td>\n",
       "      <td>19032.253681</td>\n",
       "      <td>18707.900725</td>\n",
       "      <td>20889.657826</td>\n",
       "      <td>1</td>\n",
       "      <td>1.0</td>\n",
       "      <td>0.0</td>\n",
       "      <td>2.650000</td>\n",
       "      <td>NaN</td>\n",
       "      <td>143188.100942</td>\n",
       "      <td>3.673766</td>\n",
       "      <td>3.673766</td>\n",
       "      <td>9.0</td>\n",
       "      <td>2.650000</td>\n",
       "      <td>11.200000</td>\n",
       "      <td>19.60</td>\n",
       "      <td>1.0</td>\n",
       "      <td>0.244788</td>\n",
       "    </tr>\n",
       "    <tr>\n",
       "      <th>23288</th>\n",
       "      <td>23288</td>\n",
       "      <td>NaN</td>\n",
       "      <td>NaN</td>\n",
       "      <td>60.9</td>\n",
       "      <td>NaN</td>\n",
       "      <td>33.265374</td>\n",
       "      <td>5.0</td>\n",
       "      <td>2.0</td>\n",
       "      <td>1.0</td>\n",
       "      <td>NaN</td>\n",
       "      <td>1.0</td>\n",
       "      <td>0.0</td>\n",
       "      <td>0.0</td>\n",
       "      <td>1.0</td>\n",
       "      <td>NaN</td>\n",
       "      <td>NaN</td>\n",
       "      <td>0.0</td>\n",
       "      <td>1.0</td>\n",
       "      <td>4261</td>\n",
       "      <td>test</td>\n",
       "      <td>0.0</td>\n",
       "      <td>55.569052</td>\n",
       "      <td>37.479510</td>\n",
       "      <td>11.0</td>\n",
       "      <td>улица Александры Монаховой</td>\n",
       "      <td>23</td>\n",
       "      <td>2014.0</td>\n",
       "      <td>2.0</td>\n",
       "      <td>17.0</td>\n",
       "      <td>1.0</td>\n",
       "      <td>1.0</td>\n",
       "      <td>0.0</td>\n",
       "      <td>NaN</td>\n",
       "      <td>1.0</td>\n",
       "      <td>3.0</td>\n",
       "      <td>POINT (37.47951 55.569052)</td>\n",
       "      <td>0.654141</td>\n",
       "      <td>0.969863</td>\n",
       "      <td>1195.976230</td>\n",
       "      <td>7696.799446</td>\n",
       "      <td>0</td>\n",
       "      <td>13213.870184</td>\n",
       "      <td>0</td>\n",
       "      <td>23391.277752</td>\n",
       "      <td>20409.449809</td>\n",
       "      <td>19194.934141</td>\n",
       "      <td>19993.720319</td>\n",
       "      <td>21690.962451</td>\n",
       "      <td>22232.258337</td>\n",
       "      <td>23715.046143</td>\n",
       "      <td>0</td>\n",
       "      <td>1.0</td>\n",
       "      <td>0.0</td>\n",
       "      <td>NaN</td>\n",
       "      <td>NaN</td>\n",
       "      <td>143188.100942</td>\n",
       "      <td>4.109233</td>\n",
       "      <td>3.416086</td>\n",
       "      <td>5.0</td>\n",
       "      <td>2.800000</td>\n",
       "      <td>33.265374</td>\n",
       "      <td>12.15</td>\n",
       "      <td>3.0</td>\n",
       "      <td>0.229109</td>\n",
       "    </tr>\n",
       "    <tr>\n",
       "      <th>23289</th>\n",
       "      <td>23289</td>\n",
       "      <td>NaN</td>\n",
       "      <td>NaN</td>\n",
       "      <td>34.0</td>\n",
       "      <td>9.0</td>\n",
       "      <td>17.000000</td>\n",
       "      <td>14.0</td>\n",
       "      <td>1.0</td>\n",
       "      <td>NaN</td>\n",
       "      <td>2.75</td>\n",
       "      <td>1.0</td>\n",
       "      <td>0.0</td>\n",
       "      <td>1.0</td>\n",
       "      <td>0.0</td>\n",
       "      <td>0.0</td>\n",
       "      <td>1.0</td>\n",
       "      <td>1.0</td>\n",
       "      <td>1.0</td>\n",
       "      <td>7530</td>\n",
       "      <td>test</td>\n",
       "      <td>0.0</td>\n",
       "      <td>55.518041</td>\n",
       "      <td>37.343829</td>\n",
       "      <td>11.0</td>\n",
       "      <td>улица 3-я Нововатутинская</td>\n",
       "      <td>13к1</td>\n",
       "      <td>2016.0</td>\n",
       "      <td>2.0</td>\n",
       "      <td>17.0</td>\n",
       "      <td>0.0</td>\n",
       "      <td>1.0</td>\n",
       "      <td>1.0</td>\n",
       "      <td>NaN</td>\n",
       "      <td>1.0</td>\n",
       "      <td>0.0</td>\n",
       "      <td>POINT (37.343829 55.518041)</td>\n",
       "      <td>0.651773</td>\n",
       "      <td>0.968973</td>\n",
       "      <td>9134.298106</td>\n",
       "      <td>17865.884248</td>\n",
       "      <td>0</td>\n",
       "      <td>22511.206947</td>\n",
       "      <td>0</td>\n",
       "      <td>25106.856842</td>\n",
       "      <td>29362.020138</td>\n",
       "      <td>27966.281283</td>\n",
       "      <td>29183.586713</td>\n",
       "      <td>30589.056332</td>\n",
       "      <td>30498.241458</td>\n",
       "      <td>32520.735050</td>\n",
       "      <td>0</td>\n",
       "      <td>1.0</td>\n",
       "      <td>1.0</td>\n",
       "      <td>2.750000</td>\n",
       "      <td>NaN</td>\n",
       "      <td>143188.100942</td>\n",
       "      <td>3.526361</td>\n",
       "      <td>3.526361</td>\n",
       "      <td>14.0</td>\n",
       "      <td>2.750000</td>\n",
       "      <td>17.000000</td>\n",
       "      <td>9.00</td>\n",
       "      <td>3.0</td>\n",
       "      <td>0.360258</td>\n",
       "    </tr>\n",
       "    <tr>\n",
       "      <th>...</th>\n",
       "      <td>...</td>\n",
       "      <td>...</td>\n",
       "      <td>...</td>\n",
       "      <td>...</td>\n",
       "      <td>...</td>\n",
       "      <td>...</td>\n",
       "      <td>...</td>\n",
       "      <td>...</td>\n",
       "      <td>...</td>\n",
       "      <td>...</td>\n",
       "      <td>...</td>\n",
       "      <td>...</td>\n",
       "      <td>...</td>\n",
       "      <td>...</td>\n",
       "      <td>...</td>\n",
       "      <td>...</td>\n",
       "      <td>...</td>\n",
       "      <td>...</td>\n",
       "      <td>...</td>\n",
       "      <td>...</td>\n",
       "      <td>...</td>\n",
       "      <td>...</td>\n",
       "      <td>...</td>\n",
       "      <td>...</td>\n",
       "      <td>...</td>\n",
       "      <td>...</td>\n",
       "      <td>...</td>\n",
       "      <td>...</td>\n",
       "      <td>...</td>\n",
       "      <td>...</td>\n",
       "      <td>...</td>\n",
       "      <td>...</td>\n",
       "      <td>...</td>\n",
       "      <td>...</td>\n",
       "      <td>...</td>\n",
       "      <td>...</td>\n",
       "      <td>...</td>\n",
       "      <td>...</td>\n",
       "      <td>...</td>\n",
       "      <td>...</td>\n",
       "      <td>...</td>\n",
       "      <td>...</td>\n",
       "      <td>...</td>\n",
       "      <td>...</td>\n",
       "      <td>...</td>\n",
       "      <td>...</td>\n",
       "      <td>...</td>\n",
       "      <td>...</td>\n",
       "      <td>...</td>\n",
       "      <td>...</td>\n",
       "      <td>...</td>\n",
       "      <td>...</td>\n",
       "      <td>...</td>\n",
       "      <td>...</td>\n",
       "      <td>...</td>\n",
       "      <td>...</td>\n",
       "      <td>...</td>\n",
       "      <td>...</td>\n",
       "      <td>...</td>\n",
       "      <td>...</td>\n",
       "      <td>...</td>\n",
       "      <td>...</td>\n",
       "      <td>...</td>\n",
       "      <td>...</td>\n",
       "    </tr>\n",
       "    <tr>\n",
       "      <th>33217</th>\n",
       "      <td>33217</td>\n",
       "      <td>3.0</td>\n",
       "      <td>NaN</td>\n",
       "      <td>106.0</td>\n",
       "      <td>19.9</td>\n",
       "      <td>56.700000</td>\n",
       "      <td>16.0</td>\n",
       "      <td>3.0</td>\n",
       "      <td>NaN</td>\n",
       "      <td>3.30</td>\n",
       "      <td>NaN</td>\n",
       "      <td>NaN</td>\n",
       "      <td>NaN</td>\n",
       "      <td>NaN</td>\n",
       "      <td>0.0</td>\n",
       "      <td>1.0</td>\n",
       "      <td>4.0</td>\n",
       "      <td>1.0</td>\n",
       "      <td>4252</td>\n",
       "      <td>test</td>\n",
       "      <td>1.0</td>\n",
       "      <td>55.789750</td>\n",
       "      <td>37.456468</td>\n",
       "      <td>8.0</td>\n",
       "      <td>улица Паршина</td>\n",
       "      <td>10А</td>\n",
       "      <td>2020.0</td>\n",
       "      <td>2.0</td>\n",
       "      <td>20.0</td>\n",
       "      <td>0.0</td>\n",
       "      <td>1.0</td>\n",
       "      <td>1.0</td>\n",
       "      <td>0.0</td>\n",
       "      <td>0.0</td>\n",
       "      <td>0.0</td>\n",
       "      <td>POINT (37.456468 55.78975)</td>\n",
       "      <td>0.653739</td>\n",
       "      <td>0.973715</td>\n",
       "      <td>2149.619209</td>\n",
       "      <td>2722.553236</td>\n",
       "      <td>0</td>\n",
       "      <td>8714.902036</td>\n",
       "      <td>0</td>\n",
       "      <td>13592.771015</td>\n",
       "      <td>10312.574310</td>\n",
       "      <td>9724.912026</td>\n",
       "      <td>11543.178069</td>\n",
       "      <td>9995.091603</td>\n",
       "      <td>7056.500290</td>\n",
       "      <td>9746.268744</td>\n",
       "      <td>0</td>\n",
       "      <td>1.0</td>\n",
       "      <td>1.0</td>\n",
       "      <td>3.300000</td>\n",
       "      <td>NaN</td>\n",
       "      <td>232640.356084</td>\n",
       "      <td>4.663439</td>\n",
       "      <td>3.564827</td>\n",
       "      <td>16.0</td>\n",
       "      <td>3.300000</td>\n",
       "      <td>56.700000</td>\n",
       "      <td>19.90</td>\n",
       "      <td>0.0</td>\n",
       "      <td>0.166470</td>\n",
       "    </tr>\n",
       "    <tr>\n",
       "      <th>33218</th>\n",
       "      <td>33218</td>\n",
       "      <td>NaN</td>\n",
       "      <td>NaN</td>\n",
       "      <td>82.0</td>\n",
       "      <td>NaN</td>\n",
       "      <td>48.287121</td>\n",
       "      <td>3.0</td>\n",
       "      <td>3.0</td>\n",
       "      <td>NaN</td>\n",
       "      <td>NaN</td>\n",
       "      <td>2.0</td>\n",
       "      <td>0.0</td>\n",
       "      <td>1.0</td>\n",
       "      <td>0.0</td>\n",
       "      <td>NaN</td>\n",
       "      <td>NaN</td>\n",
       "      <td>1.0</td>\n",
       "      <td>2.0</td>\n",
       "      <td>7380</td>\n",
       "      <td>test</td>\n",
       "      <td>1.0</td>\n",
       "      <td>55.751639</td>\n",
       "      <td>37.516260</td>\n",
       "      <td>7.0</td>\n",
       "      <td>Западный Порт ЖК</td>\n",
       "      <td>к1</td>\n",
       "      <td>2021.0</td>\n",
       "      <td>2.0</td>\n",
       "      <td>20.0</td>\n",
       "      <td>0.0</td>\n",
       "      <td>1.0</td>\n",
       "      <td>1.0</td>\n",
       "      <td>1.0</td>\n",
       "      <td>0.0</td>\n",
       "      <td>4.0</td>\n",
       "      <td>POINT (37.51626 55.751639)</td>\n",
       "      <td>0.654782</td>\n",
       "      <td>0.973050</td>\n",
       "      <td>631.967077</td>\n",
       "      <td>1016.030957</td>\n",
       "      <td>1</td>\n",
       "      <td>3438.082111</td>\n",
       "      <td>0</td>\n",
       "      <td>16163.243682</td>\n",
       "      <td>5148.076276</td>\n",
       "      <td>4208.809640</td>\n",
       "      <td>6275.983993</td>\n",
       "      <td>5315.392588</td>\n",
       "      <td>3024.822110</td>\n",
       "      <td>6086.511852</td>\n",
       "      <td>3</td>\n",
       "      <td>2.0</td>\n",
       "      <td>0.0</td>\n",
       "      <td>NaN</td>\n",
       "      <td>NaN</td>\n",
       "      <td>318067.198905</td>\n",
       "      <td>4.406719</td>\n",
       "      <td>3.308107</td>\n",
       "      <td>3.0</td>\n",
       "      <td>2.800000</td>\n",
       "      <td>48.287121</td>\n",
       "      <td>14.15</td>\n",
       "      <td>1.0</td>\n",
       "      <td>0.102164</td>\n",
       "    </tr>\n",
       "    <tr>\n",
       "      <th>33219</th>\n",
       "      <td>33219</td>\n",
       "      <td>NaN</td>\n",
       "      <td>NaN</td>\n",
       "      <td>49.3</td>\n",
       "      <td>NaN</td>\n",
       "      <td>23.390995</td>\n",
       "      <td>15.0</td>\n",
       "      <td>1.0</td>\n",
       "      <td>NaN</td>\n",
       "      <td>0.00</td>\n",
       "      <td>NaN</td>\n",
       "      <td>NaN</td>\n",
       "      <td>NaN</td>\n",
       "      <td>NaN</td>\n",
       "      <td>NaN</td>\n",
       "      <td>NaN</td>\n",
       "      <td>4.0</td>\n",
       "      <td>1.0</td>\n",
       "      <td>1480</td>\n",
       "      <td>test</td>\n",
       "      <td>1.0</td>\n",
       "      <td>55.770659</td>\n",
       "      <td>37.375234</td>\n",
       "      <td>7.0</td>\n",
       "      <td>Рублевское шоссе</td>\n",
       "      <td>70к5</td>\n",
       "      <td>2016.0</td>\n",
       "      <td>2.0</td>\n",
       "      <td>24.0</td>\n",
       "      <td>0.0</td>\n",
       "      <td>1.0</td>\n",
       "      <td>1.0</td>\n",
       "      <td>0.0</td>\n",
       "      <td>1.0</td>\n",
       "      <td>1.0</td>\n",
       "      <td>POINT (37.37523400000001 55.770659)</td>\n",
       "      <td>0.652321</td>\n",
       "      <td>0.973382</td>\n",
       "      <td>2576.168739</td>\n",
       "      <td>2783.241960</td>\n",
       "      <td>0</td>\n",
       "      <td>12402.492472</td>\n",
       "      <td>0</td>\n",
       "      <td>8092.667046</td>\n",
       "      <td>14220.942238</td>\n",
       "      <td>13172.675686</td>\n",
       "      <td>15329.749437</td>\n",
       "      <td>14294.318852</td>\n",
       "      <td>11549.472155</td>\n",
       "      <td>14569.294284</td>\n",
       "      <td>0</td>\n",
       "      <td>1.0</td>\n",
       "      <td>0.0</td>\n",
       "      <td>2.871079</td>\n",
       "      <td>NaN</td>\n",
       "      <td>318067.198905</td>\n",
       "      <td>3.897924</td>\n",
       "      <td>3.897924</td>\n",
       "      <td>15.0</td>\n",
       "      <td>2.871079</td>\n",
       "      <td>23.390995</td>\n",
       "      <td>16.85</td>\n",
       "      <td>0.0</td>\n",
       "      <td>0.243963</td>\n",
       "    </tr>\n",
       "    <tr>\n",
       "      <th>33220</th>\n",
       "      <td>33220</td>\n",
       "      <td>NaN</td>\n",
       "      <td>NaN</td>\n",
       "      <td>38.8</td>\n",
       "      <td>10.5</td>\n",
       "      <td>15.100000</td>\n",
       "      <td>14.0</td>\n",
       "      <td>1.0</td>\n",
       "      <td>NaN</td>\n",
       "      <td>3.30</td>\n",
       "      <td>1.0</td>\n",
       "      <td>0.0</td>\n",
       "      <td>0.0</td>\n",
       "      <td>1.0</td>\n",
       "      <td>0.0</td>\n",
       "      <td>1.0</td>\n",
       "      <td>0.0</td>\n",
       "      <td>2.0</td>\n",
       "      <td>2154</td>\n",
       "      <td>test</td>\n",
       "      <td>0.0</td>\n",
       "      <td>55.699943</td>\n",
       "      <td>37.637183</td>\n",
       "      <td>5.0</td>\n",
       "      <td>улица Архитектора Щусева</td>\n",
       "      <td>1</td>\n",
       "      <td>2019.0</td>\n",
       "      <td>6.0</td>\n",
       "      <td>14.0</td>\n",
       "      <td>1.0</td>\n",
       "      <td>1.0</td>\n",
       "      <td>1.0</td>\n",
       "      <td>0.0</td>\n",
       "      <td>1.0</td>\n",
       "      <td>4.0</td>\n",
       "      <td>POINT (37.637183 55.699943)</td>\n",
       "      <td>0.656893</td>\n",
       "      <td>0.972147</td>\n",
       "      <td>720.178547</td>\n",
       "      <td>3561.337982</td>\n",
       "      <td>0</td>\n",
       "      <td>4138.508285</td>\n",
       "      <td>0</td>\n",
       "      <td>24072.070887</td>\n",
       "      <td>5185.201825</td>\n",
       "      <td>5367.751769</td>\n",
       "      <td>4017.656265</td>\n",
       "      <td>6174.976214</td>\n",
       "      <td>8611.294008</td>\n",
       "      <td>7956.656116</td>\n",
       "      <td>1</td>\n",
       "      <td>1.0</td>\n",
       "      <td>1.0</td>\n",
       "      <td>3.300000</td>\n",
       "      <td>NaN</td>\n",
       "      <td>204893.928454</td>\n",
       "      <td>3.658420</td>\n",
       "      <td>3.658420</td>\n",
       "      <td>14.0</td>\n",
       "      <td>3.300000</td>\n",
       "      <td>15.100000</td>\n",
       "      <td>10.50</td>\n",
       "      <td>0.0</td>\n",
       "      <td>0.054624</td>\n",
       "    </tr>\n",
       "    <tr>\n",
       "      <th>33221</th>\n",
       "      <td>33221</td>\n",
       "      <td>1.0</td>\n",
       "      <td>NaN</td>\n",
       "      <td>71.5</td>\n",
       "      <td>7.0</td>\n",
       "      <td>49.000000</td>\n",
       "      <td>2.0</td>\n",
       "      <td>3.0</td>\n",
       "      <td>NaN</td>\n",
       "      <td>NaN</td>\n",
       "      <td>NaN</td>\n",
       "      <td>NaN</td>\n",
       "      <td>NaN</td>\n",
       "      <td>NaN</td>\n",
       "      <td>NaN</td>\n",
       "      <td>NaN</td>\n",
       "      <td>4.0</td>\n",
       "      <td>0.0</td>\n",
       "      <td>3007</td>\n",
       "      <td>test</td>\n",
       "      <td>NaN</td>\n",
       "      <td>55.506510</td>\n",
       "      <td>37.273787</td>\n",
       "      <td>10.0</td>\n",
       "      <td>Ильичевка хут.</td>\n",
       "      <td>2</td>\n",
       "      <td>1967.0</td>\n",
       "      <td>6.0</td>\n",
       "      <td>2.0</td>\n",
       "      <td>NaN</td>\n",
       "      <td>NaN</td>\n",
       "      <td>NaN</td>\n",
       "      <td>NaN</td>\n",
       "      <td>0.0</td>\n",
       "      <td>4.0</td>\n",
       "      <td>POINT (37.273787 55.50651)</td>\n",
       "      <td>0.650550</td>\n",
       "      <td>0.968771</td>\n",
       "      <td>13413.752548</td>\n",
       "      <td>22187.120415</td>\n",
       "      <td>0</td>\n",
       "      <td>26359.996313</td>\n",
       "      <td>0</td>\n",
       "      <td>25834.946664</td>\n",
       "      <td>32952.538000</td>\n",
       "      <td>31497.176294</td>\n",
       "      <td>32885.724907</td>\n",
       "      <td>34138.372024</td>\n",
       "      <td>33767.671046</td>\n",
       "      <td>36003.118029</td>\n",
       "      <td>0</td>\n",
       "      <td>1.0</td>\n",
       "      <td>0.0</td>\n",
       "      <td>NaN</td>\n",
       "      <td>NaN</td>\n",
       "      <td>94929.747387</td>\n",
       "      <td>4.269697</td>\n",
       "      <td>3.171085</td>\n",
       "      <td>2.0</td>\n",
       "      <td>2.800000</td>\n",
       "      <td>49.000000</td>\n",
       "      <td>7.00</td>\n",
       "      <td>3.0</td>\n",
       "      <td>0.422692</td>\n",
       "    </tr>\n",
       "  </tbody>\n",
       "</table>\n",
       "<p>9937 rows × 64 columns</p>\n",
       "</div>"
      ],
      "text/plain": [
       "          id  seller  price  area_total  area_kitchen  area_living  floor  \\\n",
       "23285  23285     NaN    NaN        71.4           NaN    35.365399    2.0   \n",
       "23286  23286     NaN    NaN        54.0           4.0    50.000000    4.0   \n",
       "23287  23287     3.0    NaN        39.4          19.6    11.200000   10.0   \n",
       "23288  23288     NaN    NaN        60.9           NaN    33.265374    5.0   \n",
       "23289  23289     NaN    NaN        34.0           9.0    17.000000   14.0   \n",
       "...      ...     ...    ...         ...           ...          ...    ...   \n",
       "33217  33217     3.0    NaN       106.0          19.9    56.700000   16.0   \n",
       "33218  33218     NaN    NaN        82.0           NaN    48.287121    3.0   \n",
       "33219  33219     NaN    NaN        49.3           NaN    23.390995   15.0   \n",
       "33220  33220     NaN    NaN        38.8          10.5    15.100000   14.0   \n",
       "33221  33221     1.0    NaN        71.5           7.0    49.000000    2.0   \n",
       "\n",
       "       rooms  layout  ceiling  bathrooms_shared  bathrooms_private  \\\n",
       "23285    1.0     NaN      NaN               NaN                NaN   \n",
       "23286    1.0     NaN     3.00               NaN                NaN   \n",
       "23287    1.0     NaN     2.65               1.0                0.0   \n",
       "23288    2.0     1.0      NaN               1.0                0.0   \n",
       "23289    1.0     NaN     2.75               1.0                0.0   \n",
       "...      ...     ...      ...               ...                ...   \n",
       "33217    3.0     NaN     3.30               NaN                NaN   \n",
       "33218    3.0     NaN      NaN               2.0                0.0   \n",
       "33219    1.0     NaN     0.00               NaN                NaN   \n",
       "33220    1.0     NaN     3.30               1.0                0.0   \n",
       "33221    3.0     NaN      NaN               NaN                NaN   \n",
       "\n",
       "       windows_court  windows_street  balconies  loggias  condition  phones  \\\n",
       "23285            1.0             0.0        1.0      0.0        0.0     1.0   \n",
       "23286            1.0             0.0        NaN      NaN        3.0     1.0   \n",
       "23287            1.0             0.0        NaN      NaN        4.0     1.0   \n",
       "23288            0.0             1.0        NaN      NaN        0.0     1.0   \n",
       "23289            1.0             0.0        0.0      1.0        1.0     1.0   \n",
       "...              ...             ...        ...      ...        ...     ...   \n",
       "33217            NaN             NaN        0.0      1.0        4.0     1.0   \n",
       "33218            1.0             0.0        NaN      NaN        1.0     2.0   \n",
       "33219            NaN             NaN        NaN      NaN        4.0     1.0   \n",
       "33220            0.0             1.0        0.0      1.0        0.0     2.0   \n",
       "33221            NaN             NaN        NaN      NaN        4.0     0.0   \n",
       "\n",
       "       building_id split  new   latitude  longitude  district  \\\n",
       "23285         5148  test  0.0  55.762247  37.549040       0.0   \n",
       "23286         1290  test  0.0  55.591467  37.452651      11.0   \n",
       "23287          681  test  1.0  55.617017  37.413718      11.0   \n",
       "23288         4261  test  0.0  55.569052  37.479510      11.0   \n",
       "23289         7530  test  0.0  55.518041  37.343829      11.0   \n",
       "...            ...   ...  ...        ...        ...       ...   \n",
       "33217         4252  test  1.0  55.789750  37.456468       8.0   \n",
       "33218         7380  test  1.0  55.751639  37.516260       7.0   \n",
       "33219         1480  test  1.0  55.770659  37.375234       7.0   \n",
       "33220         2154  test  0.0  55.699943  37.637183       5.0   \n",
       "33221         3007  test  NaN  55.506510  37.273787      10.0   \n",
       "\n",
       "                           street address  constructed  material  stories  \\\n",
       "23285     2-я Черногрязская улица     6к3       2017.0       2.0     20.0   \n",
       "23286            улица Сервантеса     3к2       2017.0       2.0     15.0   \n",
       "23287           Саларьево Парк ЖК      27       2021.0       3.0      9.0   \n",
       "23288  улица Александры Монаховой      23       2014.0       2.0     17.0   \n",
       "23289   улица 3-я Нововатутинская    13к1       2016.0       2.0     17.0   \n",
       "...                           ...     ...          ...       ...      ...   \n",
       "33217               улица Паршина     10А       2020.0       2.0     20.0   \n",
       "33218            Западный Порт ЖК      к1       2021.0       2.0     20.0   \n",
       "33219            Рублевское шоссе    70к5       2016.0       2.0     24.0   \n",
       "33220    улица Архитектора Щусева       1       2019.0       6.0     14.0   \n",
       "33221              Ильичевка хут.       2       1967.0       6.0      2.0   \n",
       "\n",
       "       elevator_without  elevator_passenger  elevator_service  parking  \\\n",
       "23285               1.0                 1.0               1.0      NaN   \n",
       "23286               0.0                 1.0               1.0      0.0   \n",
       "23287               0.0                 1.0               1.0      1.0   \n",
       "23288               1.0                 1.0               0.0      NaN   \n",
       "23289               0.0                 1.0               1.0      NaN   \n",
       "...                 ...                 ...               ...      ...   \n",
       "33217               0.0                 1.0               1.0      0.0   \n",
       "33218               0.0                 1.0               1.0      1.0   \n",
       "33219               0.0                 1.0               1.0      0.0   \n",
       "33220               1.0                 1.0               1.0      0.0   \n",
       "33221               NaN                 NaN               NaN      NaN   \n",
       "\n",
       "       garbage_chute  heating                             geometry   lon_rad  \\\n",
       "23285            1.0      0.0  POINT (37.54904000000001 55.762247)  0.655354   \n",
       "23286            0.0      0.0          POINT (37.452651 55.591467)  0.653672   \n",
       "23287            0.0      4.0          POINT (37.413718 55.617017)  0.652993   \n",
       "23288            1.0      3.0           POINT (37.47951 55.569052)  0.654141   \n",
       "23289            1.0      0.0          POINT (37.343829 55.518041)  0.651773   \n",
       "...              ...      ...                                  ...       ...   \n",
       "33217            0.0      0.0           POINT (37.456468 55.78975)  0.653739   \n",
       "33218            0.0      4.0           POINT (37.51626 55.751639)  0.654782   \n",
       "33219            1.0      1.0  POINT (37.37523400000001 55.770659)  0.652321   \n",
       "33220            1.0      4.0          POINT (37.637183 55.699943)  0.656893   \n",
       "33221            0.0      4.0           POINT (37.273787 55.50651)  0.650550   \n",
       "\n",
       "        lat_rad  metro_distance  park_distance  park_close  square_distance  \\\n",
       "23285  0.973235      825.809315    2072.586392           0      2407.762678   \n",
       "23286  0.970254     1319.278050    7744.119969           0     11872.826577   \n",
       "23287  0.970700      903.397736    9625.311029           0     11584.208621   \n",
       "23288  0.969863     1195.976230    7696.799446           0     13213.870184   \n",
       "23289  0.968973     9134.298106   17865.884248           0     22511.206947   \n",
       "...         ...             ...            ...         ...              ...   \n",
       "33217  0.973715     2149.619209    2722.553236           0      8714.902036   \n",
       "33218  0.973050      631.967077    1016.030957           1      3438.082111   \n",
       "33219  0.973382     2576.168739    2783.241960           0     12402.492472   \n",
       "33220  0.972147      720.178547    3561.337982           0      4138.508285   \n",
       "33221  0.968771    13413.752548   22187.120415           0     26359.996313   \n",
       "\n",
       "       square_close  rublevka_dist    ostoz_dist    khamo_dist     yaki_dist  \\\n",
       "23285             3   18336.173653   3814.598372   3623.697964   5061.042878   \n",
       "23286             0   20383.167519  18846.877247  17513.052973  18593.027944   \n",
       "23287             0   16646.994374  17859.627463  16390.199123  17853.287368   \n",
       "23288             0   23391.277752  20409.449809  19194.934141  19993.720319   \n",
       "23289             0   25106.856842  29362.020138  27966.281283  29183.586713   \n",
       "...             ...            ...           ...           ...           ...   \n",
       "33217             0   13592.771015  10312.574310   9724.912026  11543.178069   \n",
       "33218             0   16163.243682   5148.076276   4208.809640   6275.983993   \n",
       "33219             0    8092.667046  14220.942238  13172.675686  15329.749437   \n",
       "33220             0   24072.070887   5185.201825   5367.751769   4017.656265   \n",
       "33221             0   25834.946664  32952.538000  31497.176294  32885.724907   \n",
       "\n",
       "         arbat_dist     pres_dist     tver_dist  metro_close  bathrooms_total  \\\n",
       "23285   3469.959055    676.059132   3787.368503            1              1.0   \n",
       "23286  20099.918140  20303.257578  22077.317666            0              1.0   \n",
       "23287  19032.253681  18707.900725  20889.657826            1              1.0   \n",
       "23288  21690.962451  22232.258337  23715.046143            0              1.0   \n",
       "23289  30589.056332  30498.241458  32520.735050            0              1.0   \n",
       "...             ...           ...           ...          ...              ...   \n",
       "33217   9995.091603   7056.500290   9746.268744            0              1.0   \n",
       "33218   5315.392588   3024.822110   6086.511852            3              2.0   \n",
       "33219  14294.318852  11549.472155  14569.294284            0              1.0   \n",
       "33220   6174.976214   8611.294008   7956.656116            1              1.0   \n",
       "33221  34138.372024  33767.671046  36003.118029            0              1.0   \n",
       "\n",
       "       ballog  ceiling_fix  price_per_sqm      distr_avg  log_area_total  \\\n",
       "23285     1.0          NaN            NaN  546695.648414        4.268298   \n",
       "23286     0.0     3.000000            NaN  143188.100942        3.988984   \n",
       "23287     0.0     2.650000            NaN  143188.100942        3.673766   \n",
       "23288     0.0          NaN            NaN  143188.100942        4.109233   \n",
       "23289     1.0     2.750000            NaN  143188.100942        3.526361   \n",
       "...       ...          ...            ...            ...             ...   \n",
       "33217     1.0     3.300000            NaN  232640.356084        4.663439   \n",
       "33218     0.0          NaN            NaN  318067.198905        4.406719   \n",
       "33219     0.0     2.871079            NaN  318067.198905        3.897924   \n",
       "33220     1.0     3.300000            NaN  204893.928454        3.658420   \n",
       "33221     0.0          NaN            NaN   94929.747387        4.269697   \n",
       "\n",
       "       log_area_per_room  floor_fix  ceiling_fix2  area_living_fix  \\\n",
       "23285           4.268298        2.0      2.800000        35.365399   \n",
       "23286           3.988984        4.0      3.000000        50.000000   \n",
       "23287           3.673766        9.0      2.650000        11.200000   \n",
       "23288           3.416086        5.0      2.800000        33.265374   \n",
       "23289           3.526361       14.0      2.750000        17.000000   \n",
       "...                  ...        ...           ...              ...   \n",
       "33217           3.564827       16.0      3.300000        56.700000   \n",
       "33218           3.308107        3.0      2.800000        48.287121   \n",
       "33219           3.897924       15.0      2.871079        23.390995   \n",
       "33220           3.658420       14.0      3.300000        15.100000   \n",
       "33221           3.171085        2.0      2.800000        49.000000   \n",
       "\n",
       "       area_kitchen_fix  pariking  center_distance  \n",
       "23285             15.00       3.0         0.070250  \n",
       "23286              4.00       0.0         0.230237  \n",
       "23287             19.60       1.0         0.244788  \n",
       "23288             12.15       3.0         0.229109  \n",
       "23289              9.00       3.0         0.360258  \n",
       "...                 ...       ...              ...  \n",
       "33217             19.90       0.0         0.166470  \n",
       "33218             14.15       1.0         0.102164  \n",
       "33219             16.85       0.0         0.243963  \n",
       "33220             10.50       0.0         0.054624  \n",
       "33221              7.00       3.0         0.422692  \n",
       "\n",
       "[9937 rows x 64 columns]"
      ]
     },
     "metadata": {},
     "execution_count": 133
    }
   ],
   "metadata": {}
  },
  {
   "cell_type": "code",
   "execution_count": 349,
   "source": [
    "def objective(trial, X, y):\n",
    "\n",
    "    param = {   'booster': 'gbtree',\n",
    "                'max_depth':trial.suggest_int('max_depth', 1, 11),\n",
    "                'reg_alpha':trial.suggest_loguniform('reg_alpha', 1e-8, 1.0),\n",
    "                'reg_lambda':trial.suggest_loguniform('reg_lambda', 1e-8, 1.0),\n",
    "                'min_child_weight':trial.suggest_int('min_child_weight', 0, 5),\n",
    "                'gamma':trial.suggest_int('gamma', 0, 5),\n",
    "                'learning_rate':trial.suggest_loguniform('learning_rate',0.001,0.5),\n",
    "                'colsample_bytree':trial.suggest_discrete_uniform('colsample_bytree',0.1,1,0.01),\n",
    "                'nthread' : -1\n",
    "    }\n",
    "    \n",
    "    cv = KFold(n_splits=5, shuffle=True, random_state=42)\n",
    "    cv_scores = np.empty(5)\n",
    "\n",
    "    for idx, (train_idx, test_idx) in enumerate(cv.split(X, y)):\n",
    "        X_train, X_test = X[train_idx], X[test_idx]\n",
    "        y_train, y_test = y[train_idx], y[test_idx]\n",
    "\n",
    "        kf = KFold(\n",
    "            n_splits=NFOLDS,\n",
    "            shuffle=True,\n",
    "            random_state=SEED\n",
    "        ) \n",
    "\n",
    "        dtrain = xgb.DMatrix(X_train, label=y_train)\n",
    "        META_MODEL = xgb.train(param, dtrain, \n",
    "                                num_boost_round=1000)\n",
    "\n",
    "        dtest = xgb.DMatrix(X_test)\n",
    "        preds = np.exp(META_MODEL.predict(dtest)) \n",
    "        y_true = np.exp(y_test)\n",
    "        cv_scores[idx] = rmlse(y_true, preds)\n",
    "\n",
    "    return np.mean(cv_scores)"
   ],
   "outputs": [],
   "metadata": {}
  },
  {
   "cell_type": "code",
   "execution_count": 350,
   "source": [
    "study = optuna.create_study(direction=\"minimize\", study_name=\"Stack\")\n",
    "func = lambda trial: objective(trial, x_train, y)\n",
    "study.optimize(func, n_trials=10)"
   ],
   "outputs": [
    {
     "output_type": "stream",
     "name": "stderr",
     "text": [
      "\u001b[32m[I 2021-11-09 14:34:40,544]\u001b[0m A new study created in memory with name: Stack\u001b[0m\n",
      "\u001b[32m[I 2021-11-09 14:35:25,246]\u001b[0m Trial 0 finished with value: 0.14359774189705152 and parameters: {'max_depth': 3, 'reg_alpha': 0.05016170687237439, 'reg_lambda': 1.8409016717703767e-07, 'min_child_weight': 1, 'gamma': 0, 'learning_rate': 0.07685304923301955, 'colsample_bytree': 0.84}. Best is trial 0 with value: 0.14359774189705152.\u001b[0m\n",
      "\u001b[32m[I 2021-11-09 14:37:07,437]\u001b[0m Trial 1 finished with value: 0.1469716296421057 and parameters: {'max_depth': 8, 'reg_alpha': 9.814099441526654e-06, 'reg_lambda': 0.006447914672796177, 'min_child_weight': 2, 'gamma': 3, 'learning_rate': 0.07580301008496847, 'colsample_bytree': 0.58}. Best is trial 0 with value: 0.14359774189705152.\u001b[0m\n",
      "\u001b[32m[I 2021-11-09 14:37:33,092]\u001b[0m Trial 2 finished with value: 0.19573610780300438 and parameters: {'max_depth': 2, 'reg_alpha': 3.0247227897893424e-06, 'reg_lambda': 6.939181180876434e-05, 'min_child_weight': 5, 'gamma': 3, 'learning_rate': 0.004806372915925098, 'colsample_bytree': 0.58}. Best is trial 0 with value: 0.14359774189705152.\u001b[0m\n",
      "\u001b[32m[I 2021-11-09 14:39:26,958]\u001b[0m Trial 3 finished with value: 0.18420534415458198 and parameters: {'max_depth': 10, 'reg_alpha': 0.004730025139908154, 'reg_lambda': 0.0005990351118842094, 'min_child_weight': 1, 'gamma': 3, 'learning_rate': 0.014482162828910442, 'colsample_bytree': 0.19}. Best is trial 0 with value: 0.14359774189705152.\u001b[0m\n",
      "\u001b[32m[I 2021-11-09 14:39:48,933]\u001b[0m Trial 4 finished with value: 0.14682304976215868 and parameters: {'max_depth': 2, 'reg_alpha': 5.8356086072394326e-06, 'reg_lambda': 0.0021101948245357033, 'min_child_weight': 4, 'gamma': 0, 'learning_rate': 0.017210785124932126, 'colsample_bytree': 0.49}. Best is trial 0 with value: 0.14359774189705152.\u001b[0m\n",
      "\u001b[32m[I 2021-11-09 14:40:21,995]\u001b[0m Trial 5 finished with value: 0.15350274929991473 and parameters: {'max_depth': 3, 'reg_alpha': 6.988610522586043e-07, 'reg_lambda': 0.0019154242267513373, 'min_child_weight': 4, 'gamma': 3, 'learning_rate': 0.010146470502227759, 'colsample_bytree': 0.42000000000000004}. Best is trial 0 with value: 0.14359774189705152.\u001b[0m\n",
      "\u001b[32m[I 2021-11-09 14:41:22,496]\u001b[0m Trial 6 finished with value: 5.2205005651416085 and parameters: {'max_depth': 8, 'reg_alpha': 0.3115064397093861, 'reg_lambda': 0.06551376084743293, 'min_child_weight': 5, 'gamma': 5, 'learning_rate': 0.0011169567807140378, 'colsample_bytree': 0.75}. Best is trial 0 with value: 0.14359774189705152.\u001b[0m\n",
      "\u001b[32m[I 2021-11-09 14:42:45,376]\u001b[0m Trial 7 finished with value: 0.17146118460907825 and parameters: {'max_depth': 10, 'reg_alpha': 3.160144379062478e-05, 'reg_lambda': 0.00010494850492804382, 'min_child_weight': 1, 'gamma': 1, 'learning_rate': 0.15239000383553375, 'colsample_bytree': 0.23}. Best is trial 0 with value: 0.14359774189705152.\u001b[0m\n",
      "\u001b[32m[I 2021-11-09 14:43:50,862]\u001b[0m Trial 8 finished with value: 0.14893221460305525 and parameters: {'max_depth': 7, 'reg_alpha': 1.663920372732707e-07, 'reg_lambda': 4.086764300107272e-08, 'min_child_weight': 3, 'gamma': 3, 'learning_rate': 0.20189785846088995, 'colsample_bytree': 0.45000000000000007}. Best is trial 0 with value: 0.14359774189705152.\u001b[0m\n",
      "\u001b[32m[I 2021-11-09 14:45:36,298]\u001b[0m Trial 9 finished with value: 0.15397261082578612 and parameters: {'max_depth': 10, 'reg_alpha': 0.08036813829666728, 'reg_lambda': 0.0005801345341580545, 'min_child_weight': 5, 'gamma': 4, 'learning_rate': 0.05317007783161831, 'colsample_bytree': 0.44000000000000006}. Best is trial 0 with value: 0.14359774189705152.\u001b[0m\n"
     ]
    }
   ],
   "metadata": {}
  },
  {
   "cell_type": "code",
   "execution_count": 351,
   "source": [
    "dtrain = xgb.DMatrix(x_train, label= y)\n",
    "META_MODEL = xgb.train(study.best_params, dtrain, num_boost_round=1000)"
   ],
   "outputs": [],
   "metadata": {}
  },
  {
   "cell_type": "code",
   "execution_count": 352,
   "source": [
    "dtest = xgb.DMatrix(x_test)\n",
    "preds = np.exp(META_MODEL.predict(dtest))\n",
    "submission = pd.DataFrame()\n",
    "submission['id'] = data_test.index\n",
    "submission['price_prediction'] = preds\n",
    "submission.to_csv('submissions/stack.csv', index=False)"
   ],
   "outputs": [],
   "metadata": {}
  }
 ],
 "metadata": {
  "orig_nbformat": 4,
  "language_info": {
   "name": "python",
   "version": "3.7.3",
   "mimetype": "text/x-python",
   "codemirror_mode": {
    "name": "ipython",
    "version": 3
   },
   "pygments_lexer": "ipython3",
   "nbconvert_exporter": "python",
   "file_extension": ".py"
  },
  "kernelspec": {
   "name": "python3",
   "display_name": "Python 3.7.3 64-bit ('base': conda)"
  },
  "interpreter": {
   "hash": "675e4d1f4971b295d587632b2ddd77135b95b56ce96661a1d369a7e57f4b577d"
  }
 },
 "nbformat": 4,
 "nbformat_minor": 2
}
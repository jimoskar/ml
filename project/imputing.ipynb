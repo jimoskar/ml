{
 "cells": [
  {
   "cell_type": "code",
   "execution_count": 2,
   "source": [
    "import pandas as pd \n",
    "import numpy as np \n",
    "import matplotlib.pyplot as plt \n",
    "import seaborn as sns \n",
    "from catboost import CatBoostRegressor\n",
    "from sklearn.model_selection import KFold\n",
    "import optuna"
   ],
   "outputs": [],
   "metadata": {}
  },
  {
   "cell_type": "markdown",
   "source": [
    "TODO:\n",
    "- Impute bathrooms DONE\n",
    "- ceiling DONE\n",
    "- area_living DONE\n",
    "- area_kitchen DONE\n",
    "- balconies and loggias DONE"
   ],
   "metadata": {}
  },
  {
   "cell_type": "code",
   "execution_count": 52,
   "source": [
    "apartments = pd.read_csv('resources/data/apartments_train.csv')\n",
    "buildings = pd.read_csv('resources/data/buildings_train.csv')\n",
    "data = pd.merge(apartments, buildings.set_index('id'), how='left', left_on='building_id', right_index=True)\n",
    "\n",
    "apartments_test = pd.read_csv('resources/data/apartments_test.csv')\n",
    "buildings_test = pd.read_csv('resources/data/buildings_test.csv')\n",
    "data_test = pd.merge(apartments_test, buildings_test.set_index('id'), how='left', left_on='building_id', right_index=True)"
   ],
   "outputs": [],
   "metadata": {}
  },
  {
   "cell_type": "code",
   "execution_count": 11,
   "source": [
    "all_data = pd.read_csv('all_data_h3.csv')"
   ],
   "outputs": [],
   "metadata": {}
  },
  {
   "cell_type": "code",
   "execution_count": 4,
   "source": [
    "def rmlse(y_true, y_pred):\n",
    "    # Alternatively: sklearn.metrics.mean_squared_log_error(y_true, y_pred) ** 0.5\n",
    "    assert (y_true >= 0).all() \n",
    "    assert (y_pred >= 0).all()\n",
    "    log_error = np.log1p(y_pred) - np.log1p(y_true)  # Note: log1p(x) = log(1 + x)\n",
    "    return np.mean(log_error ** 2) ** 0.5"
   ],
   "outputs": [],
   "metadata": {}
  },
  {
   "cell_type": "markdown",
   "source": [
    "## Impute `bathrooms_total`"
   ],
   "metadata": {}
  },
  {
   "cell_type": "code",
   "execution_count": 56,
   "source": [
    "# Do not have en reasonable strategy other than using the mean.\n",
    "all_data['bathrooms_total'] = all_data['bathrooms_total'].fillna(all_data.bathrooms_total.mean())"
   ],
   "outputs": [],
   "metadata": {}
  },
  {
   "cell_type": "markdown",
   "source": [
    "## Impute `ceiling`"
   ],
   "metadata": {}
  },
  {
   "cell_type": "code",
   "execution_count": 57,
   "source": [
    "pd.set_option('display.max_rows', 500)\n",
    "all_data.drop(columns = ['price', 'split', 'id', 'street', 'address']).apply(lambda x: x.corr(all_data.price)).sort_values()[-5:]"
   ],
   "outputs": [
    {
     "output_type": "execute_result",
     "data": {
      "text/plain": [
       "rooms                0.411317\n",
       "log_area_total       0.560908\n",
       "log_price_per_sqm    0.577837\n",
       "area_living          0.707580\n",
       "area_total           0.814829\n",
       "dtype: float64"
      ]
     },
     "metadata": {},
     "execution_count": 57
    }
   ],
   "metadata": {}
  },
  {
   "cell_type": "code",
   "execution_count": 39,
   "source": [
    "all_data.loc[(all_data.ceiling < 1.6) & (all_data.split == 'train'), 'ceiling'].max()"
   ],
   "outputs": [
    {
     "output_type": "execute_result",
     "data": {
      "text/plain": [
       "0.03"
      ]
     },
     "metadata": {},
     "execution_count": 39
    }
   ],
   "metadata": {}
  },
  {
   "cell_type": "code",
   "execution_count": 42,
   "source": [
    "ceiling_fix2 = all_data.ceiling_fix\n",
    "ceiling_fix2.loc[ceiling_fix2 < 1.6] = ceiling_fix2.mean()\n",
    "all_data['ceiling_fix2'] = ceiling_fix2"
   ],
   "outputs": [
    {
     "output_type": "stream",
     "name": "stderr",
     "text": [
      "/Users/jimtotland/anaconda3/lib/python3.7/site-packages/pandas/core/indexing.py:1637: SettingWithCopyWarning: \n",
      "A value is trying to be set on a copy of a slice from a DataFrame\n",
      "\n",
      "See the caveats in the documentation: https://pandas.pydata.org/pandas-docs/stable/user_guide/indexing.html#returning-a-view-versus-a-copy\n",
      "  self._setitem_single_block(indexer, value, name)\n"
     ]
    }
   ],
   "metadata": {}
  },
  {
   "cell_type": "code",
   "execution_count": 41,
   "source": [
    "ceiling_fix2.min()"
   ],
   "outputs": [
    {
     "output_type": "execute_result",
     "data": {
      "text/plain": [
       "1.65"
      ]
     },
     "metadata": {},
     "execution_count": 41
    }
   ],
   "metadata": {}
  },
  {
   "cell_type": "code",
   "execution_count": 43,
   "source": [
    "from sklearn.impute import KNNImputer\n",
    "imputer = KNNImputer(n_neighbors=4)\n",
    "imp = imputer.fit_transform(all_data[['longitude', 'latitude', 'area_total', 'ceiling_fix2']])\n",
    "all_data['ceiling_fix2'] = imp[:, -1]"
   ],
   "outputs": [],
   "metadata": {}
  },
  {
   "cell_type": "code",
   "execution_count": null,
   "source": [
    "plt.scatter(all_data.ceiling_fix2, all_data.log_price)"
   ],
   "outputs": [],
   "metadata": {}
  },
  {
   "cell_type": "code",
   "execution_count": 9,
   "source": [
    "mean = all_data.ceiling.mean()\n",
    "high_ceil= np.zeros(all_data.shape[0])\n",
    "for i in range(all_data.shape[0]):\n",
    "    if not pd.isna(all_data.ceiling[i]) and all_data.ceiling[i] > mean:\n",
    "        high_ceil[i] = 1\n",
    "\n",
    "all_data['high_ceil'] = high_ceil\n"
   ],
   "outputs": [],
   "metadata": {}
  },
  {
   "cell_type": "code",
   "execution_count": 73,
   "source": [
    "pd.set_option('display.max_rows', 500)\n",
    "data.loc[data.ceiling > mean, ['high_ceil', 'ceiling']]"
   ],
   "outputs": [
    {
     "output_type": "execute_result",
     "data": {
      "text/html": [
       "<div>\n",
       "<style scoped>\n",
       "    .dataframe tbody tr th:only-of-type {\n",
       "        vertical-align: middle;\n",
       "    }\n",
       "\n",
       "    .dataframe tbody tr th {\n",
       "        vertical-align: top;\n",
       "    }\n",
       "\n",
       "    .dataframe thead th {\n",
       "        text-align: right;\n",
       "    }\n",
       "</style>\n",
       "<table border=\"1\" class=\"dataframe\">\n",
       "  <thead>\n",
       "    <tr style=\"text-align: right;\">\n",
       "      <th></th>\n",
       "      <th>high_ceil</th>\n",
       "      <th>ceiling</th>\n",
       "    </tr>\n",
       "  </thead>\n",
       "  <tbody>\n",
       "    <tr>\n",
       "      <th>174</th>\n",
       "      <td>1.0</td>\n",
       "      <td>4.2</td>\n",
       "    </tr>\n",
       "    <tr>\n",
       "      <th>405</th>\n",
       "      <td>1.0</td>\n",
       "      <td>3.5</td>\n",
       "    </tr>\n",
       "    <tr>\n",
       "      <th>453</th>\n",
       "      <td>1.0</td>\n",
       "      <td>3.3</td>\n",
       "    </tr>\n",
       "    <tr>\n",
       "      <th>458</th>\n",
       "      <td>1.0</td>\n",
       "      <td>3.3</td>\n",
       "    </tr>\n",
       "    <tr>\n",
       "      <th>467</th>\n",
       "      <td>1.0</td>\n",
       "      <td>3.3</td>\n",
       "    </tr>\n",
       "    <tr>\n",
       "      <th>...</th>\n",
       "      <td>...</td>\n",
       "      <td>...</td>\n",
       "    </tr>\n",
       "    <tr>\n",
       "      <th>23210</th>\n",
       "      <td>1.0</td>\n",
       "      <td>3.5</td>\n",
       "    </tr>\n",
       "    <tr>\n",
       "      <th>23213</th>\n",
       "      <td>1.0</td>\n",
       "      <td>3.8</td>\n",
       "    </tr>\n",
       "    <tr>\n",
       "      <th>23256</th>\n",
       "      <td>1.0</td>\n",
       "      <td>3.3</td>\n",
       "    </tr>\n",
       "    <tr>\n",
       "      <th>23269</th>\n",
       "      <td>1.0</td>\n",
       "      <td>3.3</td>\n",
       "    </tr>\n",
       "    <tr>\n",
       "      <th>23274</th>\n",
       "      <td>1.0</td>\n",
       "      <td>3.3</td>\n",
       "    </tr>\n",
       "  </tbody>\n",
       "</table>\n",
       "<p>933 rows × 2 columns</p>\n",
       "</div>"
      ],
      "text/plain": [
       "       high_ceil  ceiling\n",
       "174          1.0      4.2\n",
       "405          1.0      3.5\n",
       "453          1.0      3.3\n",
       "458          1.0      3.3\n",
       "467          1.0      3.3\n",
       "...          ...      ...\n",
       "23210        1.0      3.5\n",
       "23213        1.0      3.8\n",
       "23256        1.0      3.3\n",
       "23269        1.0      3.3\n",
       "23274        1.0      3.3\n",
       "\n",
       "[933 rows x 2 columns]"
      ]
     },
     "metadata": {},
     "execution_count": 73
    }
   ],
   "metadata": {}
  },
  {
   "cell_type": "code",
   "execution_count": 76,
   "source": [
    "sns.boxplot(x = 'high_ceil', y = 'logprice', data = data)\n",
    "data.loc[data.high_ceil ==1].count()"
   ],
   "outputs": [
    {
     "output_type": "execute_result",
     "data": {
      "text/plain": [
       "<AxesSubplot:xlabel='high_ceil', ylabel='logprice'>"
      ]
     },
     "metadata": {},
     "execution_count": 76
    },
    {
     "output_type": "display_data",
     "data": {
      "image/png": "[encoded data removed]",
      "text/plain": [
       "<Figure size 432x288 with 1 Axes>"
      ]
     },
     "metadata": {
      "needs_background": "light"
     }
    }
   ],
   "metadata": {}
  },
  {
   "cell_type": "markdown",
   "source": [
    "## Imputing `new`"
   ],
   "metadata": {}
  },
  {
   "cell_type": "code",
   "execution_count": 80,
   "source": [
    "isnew = np.zeros(data.shape[0])\n",
    "for i in range(data.shape[0]):\n",
    "    if not pd.isna(data.new[i]) and data.new[i] == 1:\n",
    "        isnew[i] = 1\n",
    "\n",
    "data['isnew'] = isnew"
   ],
   "outputs": [],
   "metadata": {}
  },
  {
   "cell_type": "code",
   "execution_count": 81,
   "source": [
    "sns.boxplot(x = 'isnew', y = 'logprice', data = data)"
   ],
   "outputs": [
    {
     "output_type": "execute_result",
     "data": {
      "text/plain": [
       "<AxesSubplot:xlabel='isnew', ylabel='logprice'>"
      ]
     },
     "metadata": {},
     "execution_count": 81
    },
    {
     "output_type": "display_data",
     "data": {
      "image/png": "[encoded data removed]",
      "text/plain": [
       "<Figure size 432x288 with 1 Axes>"
      ]
     },
     "metadata": {
      "needs_background": "light"
     }
    }
   ],
   "metadata": {}
  },
  {
   "cell_type": "code",
   "execution_count": 87,
   "source": [
    "new_const = data.loc[data.new == 1, 'constructed']\n",
    "old_const = data.loc[data.new == 0, 'constructed']\n"
   ],
   "outputs": [],
   "metadata": {}
  },
  {
   "cell_type": "code",
   "execution_count": 85,
   "source": [
    "# new feature is bullshit\n",
    "sns.histplot(new_const)"
   ],
   "outputs": [
    {
     "output_type": "execute_result",
     "data": {
      "text/plain": [
       "<AxesSubplot:xlabel='constructed', ylabel='Count'>"
      ]
     },
     "metadata": {},
     "execution_count": 85
    },
    {
     "output_type": "display_data",
     "data": {
      "image/png": "[encoded data removed]",
      "text/plain": [
       "<Figure size 432x288 with 1 Axes>"
      ]
     },
     "metadata": {
      "needs_background": "light"
     }
    }
   ],
   "metadata": {}
  },
  {
   "cell_type": "code",
   "execution_count": 88,
   "source": [
    "sns.histplot(old_const)"
   ],
   "outputs": [
    {
     "output_type": "execute_result",
     "data": {
      "text/plain": [
       "<AxesSubplot:xlabel='constructed', ylabel='Count'>"
      ]
     },
     "metadata": {},
     "execution_count": 88
    },
    {
     "output_type": "display_data",
     "data": {
      "image/png": "[encoded data removed]",
      "text/plain": [
       "<Figure size 432x288 with 1 Axes>"
      ]
     },
     "metadata": {
      "needs_background": "light"
     }
    }
   ],
   "metadata": {}
  },
  {
   "cell_type": "code",
   "execution_count": 58,
   "source": [
    "# Rather create new feature based on construction\n",
    "new2 = np.zeros(all_data.shape[0])\n",
    "for i in range(all_data.shape[0]):\n",
    "    if not pd.isna(all_data.new[i]) and all_data.constructed[i] > 2000:\n",
    "        new2[i] = 1\n",
    "\n",
    "all_data['new2'] = new2"
   ],
   "outputs": [],
   "metadata": {}
  },
  {
   "cell_type": "code",
   "execution_count": 106,
   "source": [
    "sns.boxplot(data = data, x = 'new2', y = 'logprice')"
   ],
   "outputs": [
    {
     "output_type": "execute_result",
     "data": {
      "text/plain": [
       "<AxesSubplot:xlabel='new2', ylabel='logprice'>"
      ]
     },
     "metadata": {},
     "execution_count": 106
    },
    {
     "output_type": "display_data",
     "data": {
      "image/png": "[encoded data removed]",
      "text/plain": [
       "<Figure size 432x288 with 1 Axes>"
      ]
     },
     "metadata": {
      "needs_background": "light"
     }
    }
   ],
   "metadata": {}
  },
  {
   "cell_type": "markdown",
   "source": [
    "## Imputing `ballog`"
   ],
   "metadata": {}
  },
  {
   "cell_type": "code",
   "execution_count": 10,
   "source": [
    "# Seems reasonable to assume that number of loggias/balconies is zero for NAN-values.\n",
    "data['balconies'] = data['balconies'].fillna(0)\n",
    "data['loggias'] = data['loggias'].fillna(0)"
   ],
   "outputs": [
    {
     "output_type": "error",
     "ename": "NameError",
     "evalue": "name 'data' is not defined",
     "traceback": [
      "\u001b[0;31m---------------------------------------------------------------------------\u001b[0m",
      "\u001b[0;31mNameError\u001b[0m                                 Traceback (most recent call last)",
      "\u001b[0;32m<ipython-input-10-404ad05af017>\u001b[0m in \u001b[0;36m<module>\u001b[0;34m\u001b[0m\n\u001b[1;32m      1\u001b[0m \u001b[0;31m# Seems reasonable to assume that number of loggias/balconies is zero for NAN-values.\u001b[0m\u001b[0;34m\u001b[0m\u001b[0;34m\u001b[0m\u001b[0;34m\u001b[0m\u001b[0m\n\u001b[0;32m----> 2\u001b[0;31m \u001b[0mdata\u001b[0m\u001b[0;34m[\u001b[0m\u001b[0;34m'balconies'\u001b[0m\u001b[0;34m]\u001b[0m \u001b[0;34m=\u001b[0m \u001b[0mdata\u001b[0m\u001b[0;34m[\u001b[0m\u001b[0;34m'balconies'\u001b[0m\u001b[0;34m]\u001b[0m\u001b[0;34m.\u001b[0m\u001b[0mfillna\u001b[0m\u001b[0;34m(\u001b[0m\u001b[0;36m0\u001b[0m\u001b[0;34m)\u001b[0m\u001b[0;34m\u001b[0m\u001b[0;34m\u001b[0m\u001b[0m\n\u001b[0m\u001b[1;32m      3\u001b[0m \u001b[0mdata\u001b[0m\u001b[0;34m[\u001b[0m\u001b[0;34m'loggias'\u001b[0m\u001b[0;34m]\u001b[0m \u001b[0;34m=\u001b[0m \u001b[0mdata\u001b[0m\u001b[0;34m[\u001b[0m\u001b[0;34m'loggias'\u001b[0m\u001b[0;34m]\u001b[0m\u001b[0;34m.\u001b[0m\u001b[0mfillna\u001b[0m\u001b[0;34m(\u001b[0m\u001b[0;36m0\u001b[0m\u001b[0;34m)\u001b[0m\u001b[0;34m\u001b[0m\u001b[0;34m\u001b[0m\u001b[0m\n",
      "\u001b[0;31mNameError\u001b[0m: name 'data' is not defined"
     ]
    }
   ],
   "metadata": {}
  },
  {
   "cell_type": "code",
   "execution_count": 59,
   "source": [
    "all_data['ballog'] = all_data['ballog'].fillna(0)"
   ],
   "outputs": [],
   "metadata": {}
  },
  {
   "cell_type": "markdown",
   "source": [
    "## Impute `area_living`"
   ],
   "metadata": {}
  },
  {
   "cell_type": "code",
   "execution_count": 12,
   "source": [
    "all_data.drop(columns = ['price', 'split', 'id', 'street', 'address']).apply(lambda x: x.corr(all_data.area_living)).sort_values()[-3:]"
   ],
   "outputs": [
    {
     "output_type": "execute_result",
     "data": {
      "text/plain": [
       "log_area_total    0.801206\n",
       "area_total        0.908238\n",
       "area_living       1.000000\n",
       "dtype: float64"
      ]
     },
     "metadata": {},
     "execution_count": 12
    }
   ],
   "metadata": {}
  },
  {
   "cell_type": "code",
   "execution_count": 60,
   "source": [
    "from sklearn import linear_model\n",
    "# Impute by regressing on the two most correlated features\n",
    "missing_idx = all_data['area_living'].isna()\n",
    "model = linear_model.LinearRegression()\n",
    "model.fit(X = all_data.loc[~missing_idx, ['area_total', 'rooms']], y = all_data.loc[~missing_idx, 'area_living'])\n",
    "all_data.loc[missing_idx, 'area_living'] = model.predict(all_data.loc[missing_idx, ['area_total', 'rooms']])"
   ],
   "outputs": [],
   "metadata": {}
  },
  {
   "cell_type": "markdown",
   "source": [
    "## Imputing `area_kitchen`"
   ],
   "metadata": {}
  },
  {
   "cell_type": "code",
   "execution_count": 117,
   "source": [
    "all_data.drop(columns = ['price', 'split', 'id', 'street', 'address']).apply(lambda x: x.corr(all_data.area_kitchen)).sort_values()[-10:]"
   ],
   "outputs": [
    {
     "output_type": "execute_result",
     "data": {
      "text/plain": [
       "new                 0.263295\n",
       "elevator_service    0.303741\n",
       "bathrooms_shared    0.312293\n",
       "rooms               0.316543\n",
       "constructed         0.380721\n",
       "seller              0.382460\n",
       "area_living         0.390412\n",
       "bathrooms_total     0.499980\n",
       "area_total          0.525835\n",
       "area_kitchen        1.000000\n",
       "dtype: float64"
      ]
     },
     "metadata": {},
     "execution_count": 117
    }
   ],
   "metadata": {}
  },
  {
   "cell_type": "code",
   "execution_count": 61,
   "source": [
    "from sklearn.impute import KNNImputer\n",
    "imputer = KNNImputer(n_neighbors=4)\n",
    "imp = imputer.fit_transform(all_data[['longitude', 'latitude', 'area_total', 'area_kitchen']])\n",
    "all_data['area_kitchen'] = imp[:, -1]"
   ],
   "outputs": [],
   "metadata": {}
  },
  {
   "cell_type": "markdown",
   "source": [
    "## Impute `parking`"
   ],
   "metadata": {}
  },
  {
   "cell_type": "code",
   "execution_count": 62,
   "source": [
    "# Assume that nan-values means no parking\n",
    "# fill with 3 for now:\n",
    "all_data['pariking'] = all_data['parking'].fillna(3)"
   ],
   "outputs": [],
   "metadata": {}
  },
  {
   "cell_type": "markdown",
   "source": [
    "## Imputing `garbage_chute`"
   ],
   "metadata": {}
  },
  {
   "cell_type": "code",
   "execution_count": 63,
   "source": [
    "\n",
    "all_data['garbage_chute'] = all_data['garbage_chute'].fillna(0)\n",
    "#sns.boxplot(x = 'garbage_chute', y = 'logprice', data = data)"
   ],
   "outputs": [],
   "metadata": {}
  },
  {
   "cell_type": "markdown",
   "source": [
    "## Impute `heating`"
   ],
   "metadata": {}
  },
  {
   "cell_type": "code",
   "execution_count": 64,
   "source": [
    "# introduce new category for missing values\n",
    "all_data['heating'] = all_data['heating'].fillna(4)"
   ],
   "outputs": [],
   "metadata": {}
  },
  {
   "cell_type": "markdown",
   "source": [
    "## Imputing `material`"
   ],
   "metadata": {}
  },
  {
   "cell_type": "code",
   "execution_count": 65,
   "source": [
    "# introduce new category for missing values\n",
    "all_data['material'] = all_data['material'].fillna(6)"
   ],
   "outputs": [],
   "metadata": {}
  },
  {
   "cell_type": "markdown",
   "source": [
    "## Imputing `condition`"
   ],
   "metadata": {}
  },
  {
   "cell_type": "code",
   "execution_count": 66,
   "source": [
    "# introduce new category for missing values\n",
    "all_data['condition'] = all_data['condition'].fillna(4)"
   ],
   "outputs": [],
   "metadata": {}
  },
  {
   "cell_type": "markdown",
   "source": [
    "## Creating feature for distance from city center"
   ],
   "metadata": {}
  },
  {
   "cell_type": "code",
   "execution_count": 67,
   "source": [
    "LAT_CENT = 55.751244\n",
    "LON_CENT = 37.618423\n",
    "dist = np.sqrt((all_data.latitude - LAT_CENT)**2 + (all_data.longitude - LON_CENT)**2)\n",
    "all_data['center_distance'] = dist"
   ],
   "outputs": [],
   "metadata": {}
  },
  {
   "cell_type": "code",
   "execution_count": 21,
   "source": [
    "data_train = all_data.loc[all_data.split == \"train\"]\n",
    "data_test = all_data.loc[all_data.split == \"test\"]"
   ],
   "outputs": [],
   "metadata": {}
  },
  {
   "cell_type": "markdown",
   "source": [
    "## Average price per district "
   ],
   "metadata": {}
  },
  {
   "cell_type": "code",
   "execution_count": 68,
   "source": [
    "avg_prices = all_data.groupby('district').agg('mean')['price']"
   ],
   "outputs": [],
   "metadata": {}
  },
  {
   "cell_type": "code",
   "execution_count": 69,
   "source": [
    "distr_avg = np.empty(all_data.shape[0])\n",
    "for i in range(all_data.shape[0]):\n",
    "    distr_avg[i] = avg_prices[int(all_data.district[i])]\n",
    "all_data['distr_avg'] = distr_avg"
   ],
   "outputs": [],
   "metadata": {}
  },
  {
   "cell_type": "markdown",
   "source": [
    "# Export data"
   ],
   "metadata": {}
  },
  {
   "cell_type": "code",
   "execution_count": 71,
   "source": [
    "all_data.to_csv(\"jim_imputed\")"
   ],
   "outputs": [],
   "metadata": {}
  },
  {
   "cell_type": "code",
   "execution_count": 24,
   "source": [
    "#all_data.loc[all_data.floor > all_data.stories,['floor', 'stories']]\n",
    "floor_max = all_data.floor\n",
    "for i in range(all_data.shape[0]):\n",
    "    if all_data.floor[i] > all_data.stories[i]:\n",
    "        floor_max[i] = all_data.stories[i]\n",
    "all_data['floor_max'] = floor_max"
   ],
   "outputs": [
    {
     "output_type": "stream",
     "name": "stderr",
     "text": [
      "/Users/jimtotland/anaconda3/lib/python3.7/site-packages/ipykernel_launcher.py:5: SettingWithCopyWarning: \n",
      "A value is trying to be set on a copy of a slice from a DataFrame\n",
      "\n",
      "See the caveats in the documentation: https://pandas.pydata.org/pandas-docs/stable/user_guide/indexing.html#returning-a-view-versus-a-copy\n",
      "  \"\"\"\n"
     ]
    }
   ],
   "metadata": {}
  },
  {
   "cell_type": "code",
   "execution_count": 28,
   "source": [
    "np.min(all_data.stories)"
   ],
   "outputs": [
    {
     "output_type": "execute_result",
     "data": {
      "text/plain": [
       "1.0"
      ]
     },
     "metadata": {},
     "execution_count": 28
    }
   ],
   "metadata": {}
  },
  {
   "cell_type": "code",
   "execution_count": 26,
   "source": [
    "all_data['floor_ratio'] = all_data.floor/all_data.stories\n",
    "plt.scatter(all_data.floor_ratio, np.log(all_data.price))"
   ],
   "outputs": [
    {
     "output_type": "execute_result",
     "data": {
      "text/plain": [
       "<matplotlib.collections.PathCollection at 0x7f892ba63f98>"
      ]
     },
     "metadata": {},
     "execution_count": 26
    },
    {
     "output_type": "display_data",
     "data": {
      "image/png": "[encoded data removed]",
      "text/plain": [
       "<Figure size 432x288 with 1 Axes>"
      ]
     },
     "metadata": {
      "needs_background": "light"
     }
    }
   ],
   "metadata": {}
  },
  {
   "cell_type": "code",
   "execution_count": 48,
   "source": [
    "floor_cat = np.empty(all_data.shape[0])\n",
    "for i in range(all_data.shape[0]):\n",
    "    if all_data.floor_max[i] == all_data.stories[i]:\n",
    "        floor_cat[i] = 2\n",
    "    elif all_data.floor_max[i] == 1:\n",
    "        floor_cat[i] = 0\n",
    "    else:\n",
    "        floor_cat[i] = 1"
   ],
   "outputs": [],
   "metadata": {}
  },
  {
   "cell_type": "code",
   "execution_count": 49,
   "source": [
    "all_data['floor_cat'] = floor_cat"
   ],
   "outputs": [],
   "metadata": {}
  },
  {
   "cell_type": "code",
   "execution_count": 50,
   "source": [
    "data_train = all_data.loc[all_data.split == \"train\"]\n",
    "data_test = all_data.loc[all_data.split == \"test\"]\n",
    "data_train['logprice'] = np.log(data_train.price)"
   ],
   "outputs": [
    {
     "output_type": "stream",
     "name": "stderr",
     "text": [
      "/Users/jimtotland/anaconda3/lib/python3.7/site-packages/ipykernel_launcher.py:3: SettingWithCopyWarning: \n",
      "A value is trying to be set on a copy of a slice from a DataFrame.\n",
      "Try using .loc[row_indexer,col_indexer] = value instead\n",
      "\n",
      "See the caveats in the documentation: https://pandas.pydata.org/pandas-docs/stable/user_guide/indexing.html#returning-a-view-versus-a-copy\n",
      "  This is separate from the ipykernel package so we can avoid doing imports until\n"
     ]
    }
   ],
   "metadata": {}
  },
  {
   "cell_type": "code",
   "execution_count": 51,
   "source": [
    "sns.boxplot(x = 'floor_cat', y = 'logprice', data = data_train)"
   ],
   "outputs": [
    {
     "output_type": "execute_result",
     "data": {
      "text/plain": [
       "<AxesSubplot:xlabel='floor_cat', ylabel='logprice'>"
      ]
     },
     "metadata": {},
     "execution_count": 51
    },
    {
     "output_type": "display_data",
     "data": {
      "image/png": "[encoded data removed]",
      "text/plain": [
       "<Figure size 432x288 with 1 Axes>"
      ]
     },
     "metadata": {
      "needs_background": "light"
     }
    }
   ],
   "metadata": {}
  },
  {
   "cell_type": "markdown",
   "source": [
    "# Linear models"
   ],
   "metadata": {}
  },
  {
   "cell_type": "code",
   "execution_count": 43,
   "source": [
    "data_train = all_data.loc[all_data.split == \"train\"]\n",
    "data_test = all_data.loc[all_data.split == \"test\"]"
   ],
   "outputs": [],
   "metadata": {}
  },
  {
   "cell_type": "code",
   "execution_count": 468,
   "source": [
    "\n",
    "NUMERIC = [\"latitude\", \"longitude\", \"constructed\", \"area_total\", \"area_living\", \"area_kitchen\", \"rooms\", \n",
    "            \"center_distance\", \"park_distance\", \"metro_distance\", \"square_distance\",\"ballog\", \"bathrooms_total\", \"distr_avg\"]\n",
    "CAT = [ \"district\", \"material\", \"condition\", \"heating\", \"new2\", \"parking\", \"garbage_chute\"]\n",
    "FEATURES = NUMERIC + CAT\n",
    "\n",
    "X_train = data_train[FEATURES].copy()\n",
    "X_test = data_test[FEATURES].copy()"
   ],
   "outputs": [],
   "metadata": {}
  },
  {
   "cell_type": "code",
   "execution_count": 371,
   "source": [
    "area_train = data_train.area_total\n",
    "area_test = data_test.area_total"
   ],
   "outputs": [],
   "metadata": {}
  },
  {
   "cell_type": "code",
   "execution_count": 469,
   "source": [
    "# transforming skewed features\n",
    "from scipy.stats import skew\n",
    "\n",
    "y = np.log(data_train.price)\n",
    "\n",
    "#log transform skewed numeric features:\n",
    "\n",
    "skewed_feats = X_train[NUMERIC].apply(lambda x: skew(x.dropna())) #compute skewness\n",
    "skewed_feats = skewed_feats[skewed_feats > 0.75]\n",
    "skewed_feats = skewed_feats.index\n",
    "print(skewed_feats)\n",
    "\n",
    "X_train[skewed_feats] = np.log1p(X_train[skewed_feats])\n",
    "X_test[skewed_feats] = np.log1p(X_test[skewed_feats])"
   ],
   "outputs": [
    {
     "output_type": "stream",
     "name": "stdout",
     "text": [
      "Index(['area_total', 'area_living', 'area_kitchen', 'rooms', 'center_distance',\n",
      "       'park_distance', 'metro_distance', 'square_distance', 'ballog',\n",
      "       'bathrooms_total', 'distr_avg'],\n",
      "      dtype='object')\n"
     ]
    }
   ],
   "metadata": {}
  },
  {
   "cell_type": "code",
   "execution_count": 470,
   "source": [
    "X_train = pd.get_dummies(X_train, columns=CAT)\n",
    "X_test = pd.get_dummies(X_test, columns=CAT)"
   ],
   "outputs": [],
   "metadata": {}
  },
  {
   "cell_type": "code",
   "execution_count": 471,
   "source": [
    "# linear regression\n",
    "from sklearn.linear_model import LinearRegression\n",
    "model = LinearRegression()\n",
    "cv_scores = np.empty(5)\n",
    "kf = KFold(n_splits=5, shuffle=True, random_state=42)\n",
    "for j, (train_idx, test_idx) in enumerate(kf.split(X_train, y)):\n",
    "    X_tr, X_te = X_train.iloc[train_idx], X_train.iloc[test_idx]\n",
    "    y_test = y[test_idx]\n",
    "    y_train = y[train_idx]\n",
    "\n",
    "    model.fit(X_tr, y_train)\n",
    "\n",
    "    preds = np.exp(model.predict(X_te)) * area_train[test_idx]\n",
    "    y_true = np.exp(y_test) * area_train[test_idx]\n",
    "    cv_scores[j] = rmlse(y_true, preds)\n"
   ],
   "outputs": [],
   "metadata": {}
  },
  {
   "cell_type": "code",
   "execution_count": 472,
   "source": [
    "cv_scores.mean()"
   ],
   "outputs": [
    {
     "output_type": "execute_result",
     "data": {
      "text/plain": [
       "0.26081825527322"
      ]
     },
     "metadata": {},
     "execution_count": 472
    }
   ],
   "metadata": {}
  },
  {
   "cell_type": "code",
   "execution_count": 302,
   "source": [
    "preds_test = np.exp(model.predict(X_test))\n",
    "submission = pd.DataFrame()\n",
    "submission['id'] = data_test.index\n",
    "submission['price_prediction'] = preds_test\n",
    "submission.to_csv('submissions/linreg.csv', index=False)"
   ],
   "outputs": [],
   "metadata": {}
  },
  {
   "cell_type": "code",
   "execution_count": 313,
   "source": [
    "from sklearn.linear_model import Ridge\n",
    "def cv_lasso(X, y):\n",
    "    kf = KFold(n_splits=5, shuffle=True, random_state=42)\n",
    "    cv_scores = np.empty(5)\n",
    "    alpha_grid = [1.0e-06, 1.0e-05, 1.9e-05, 2.0e-05, 1.0e-04, 0.001, 0.01, 0.1, 0.5, 0.8]\n",
    "    alpha_scores = np.zeros(len(alpha_grid))\n",
    "\n",
    "    for i, alpha in enumerate(alpha_grid):\n",
    "        model = Lasso(alpha = alpha)\n",
    "        for j, (train_idx, test_idx) in enumerate(kf.split(X, y)):\n",
    "            X_train, X_test = X.iloc[train_idx], X.iloc[test_idx]\n",
    "            y_test = y[test_idx]\n",
    "            y_train = y[train_idx]\n",
    "\n",
    "            model.fit(X_train, y_train)\n",
    "        \n",
    "            preds = np.exp(model.predict(X_test))\n",
    "            y_true = np.exp(y_test)\n",
    "            cv_scores[j] = rmlse(y_true, preds)\n",
    "        alpha_scores[i] = cv_scores.mean()\n",
    "    \n",
    "    return alpha_grid, alpha_scores"
   ],
   "outputs": [],
   "metadata": {}
  },
  {
   "cell_type": "code",
   "execution_count": 314,
   "source": [
    "agrid, ascores = cv_lasso(X_train, y)"
   ],
   "outputs": [],
   "metadata": {}
  },
  {
   "cell_type": "code",
   "execution_count": 315,
   "source": [
    "plt.scatter(agrid, ascores)"
   ],
   "outputs": [
    {
     "output_type": "execute_result",
     "data": {
      "text/plain": [
       "<matplotlib.collections.PathCollection at 0x7ffa030c00f0>"
      ]
     },
     "metadata": {},
     "execution_count": 315
    },
    {
     "output_type": "display_data",
     "data": {
      "image/png": "[encoded data removed]",
      "text/plain": [
       "<Figure size 432x288 with 1 Axes>"
      ]
     },
     "metadata": {
      "needs_background": "light"
     }
    }
   ],
   "metadata": {}
  },
  {
   "cell_type": "markdown",
   "source": [
    "# KNN-regressor"
   ],
   "metadata": {}
  },
  {
   "cell_type": "code",
   "execution_count": 92,
   "source": [
    "from sklearn.neighbors import KNeighborsRegressor\n",
    "from sklearn.model_selection import train_test_split\n",
    "X = data_train[['longitude', 'latitude', 'area_total']].copy()\n",
    "#X['area_total'] = np.log(X.area_total)\n",
    "y = data_train.price\n",
    "train, test, y_train, y_test = train_test_split(X, y, test_size = 0.2, random_state = 42, stratify = round(np.log(data_train.price)))"
   ],
   "outputs": [],
   "metadata": {}
  },
  {
   "cell_type": "code",
   "execution_count": 96,
   "source": [
    "neigh = KNeighborsRegressor(n_neighbors=3)\n",
    "neigh.fit(train, y_train)"
   ],
   "outputs": [
    {
     "output_type": "execute_result",
     "data": {
      "text/plain": [
       "KNeighborsRegressor(algorithm='auto', leaf_size=30, metric='minkowski',\n",
       "                    metric_params=None, n_jobs=None, n_neighbors=3, p=2,\n",
       "                    weights='uniform')"
      ]
     },
     "metadata": {},
     "execution_count": 96
    }
   ],
   "metadata": {}
  },
  {
   "cell_type": "code",
   "execution_count": 97,
   "source": [
    "preds = neigh.predict(test)\n",
    "rmlse(y_test, preds)"
   ],
   "outputs": [
    {
     "output_type": "execute_result",
     "data": {
      "text/plain": [
       "0.33125196445772653"
      ]
     },
     "metadata": {},
     "execution_count": 97
    }
   ],
   "metadata": {}
  },
  {
   "cell_type": "code",
   "execution_count": 451,
   "source": [
    "X = data_train[['longitude', 'latitude', 'area_total']].copy()\n",
    "X['area_total'] = np.log(X.area_total)\n",
    "y = data_train.price\n",
    "\n",
    "X_test = data_test[['longitude', 'latitude', 'area_total']].copy()\n",
    "X_test['area_total'] = np.log(X_test.area_total)"
   ],
   "outputs": [],
   "metadata": {}
  },
  {
   "cell_type": "code",
   "execution_count": 72,
   "source": [
    "neigh = KNeighborsRegressor(n_neighbors=3)\n",
    "neigh.fit(X, y)"
   ],
   "outputs": [
    {
     "output_type": "error",
     "ename": "NameError",
     "evalue": "name 'KNeighborsRegressor' is not defined",
     "traceback": [
      "\u001b[0;31m---------------------------------------------------------------------------\u001b[0m",
      "\u001b[0;31mNameError\u001b[0m                                 Traceback (most recent call last)",
      "\u001b[0;32m<ipython-input-72-1aff0869c8a5>\u001b[0m in \u001b[0;36m<module>\u001b[0;34m\u001b[0m\n\u001b[0;32m----> 1\u001b[0;31m \u001b[0mneigh\u001b[0m \u001b[0;34m=\u001b[0m \u001b[0mKNeighborsRegressor\u001b[0m\u001b[0;34m(\u001b[0m\u001b[0mn_neighbors\u001b[0m\u001b[0;34m=\u001b[0m\u001b[0;36m3\u001b[0m\u001b[0;34m)\u001b[0m\u001b[0;34m\u001b[0m\u001b[0;34m\u001b[0m\u001b[0m\n\u001b[0m\u001b[1;32m      2\u001b[0m \u001b[0mneigh\u001b[0m\u001b[0;34m.\u001b[0m\u001b[0mfit\u001b[0m\u001b[0;34m(\u001b[0m\u001b[0mX\u001b[0m\u001b[0;34m,\u001b[0m \u001b[0my\u001b[0m\u001b[0;34m)\u001b[0m\u001b[0;34m\u001b[0m\u001b[0;34m\u001b[0m\u001b[0m\n",
      "\u001b[0;31mNameError\u001b[0m: name 'KNeighborsRegressor' is not defined"
     ]
    }
   ],
   "metadata": {}
  },
  {
   "cell_type": "code",
   "execution_count": 452,
   "source": [
    "preds = neigh.predict(X_test)\n",
    "submission = pd.DataFrame()\n",
    "submission['id'] = data_test.index\n",
    "submission['price_prediction'] = preds\n",
    "submission.to_csv('submissions/knn.csv', index=False)\n"
   ],
   "outputs": [],
   "metadata": {}
  },
  {
   "cell_type": "markdown",
   "source": [
    "# Try KERAS"
   ],
   "metadata": {}
  },
  {
   "cell_type": "code",
   "execution_count": 486,
   "source": [
    "from sklearn.preprocessing import StandardScaler # Standardization\n",
    "from sklearn.ensemble import IsolationForest # Outlier Detection\n",
    "from keras.models import Sequential # Sequential Neural Network\n",
    "from keras.layers import Dense\n",
    "from keras.callbacks import EarlyStopping # Early Stopping Callback\n",
    "from tensorflow.keras.optimizers import Adam # Optimizer\n",
    "from kerastuner.tuners import RandomSearch # HyperParameter Tuning\n",
    "from sklearn.preprocessing import MinMaxScaler\n",
    "import warnings\n",
    "warnings.filterwarnings('ignore') # To ignore warnings."
   ],
   "outputs": [],
   "metadata": {}
  },
  {
   "cell_type": "code",
   "execution_count": 507,
   "source": [
    "scaler = MinMaxScaler()\n",
    "scaler.fit(X_train)\n",
    "X_tr = scaler.transform(X_train)\n",
    "y_tr = y.copy()"
   ],
   "outputs": [],
   "metadata": {}
  },
  {
   "cell_type": "code",
   "execution_count": 495,
   "source": [
    "def build_model(hp):\n",
    "    model = Sequential()\n",
    "    for i in range(hp.Int('layers', 2, 10)):\n",
    "        model.add(Dense(units=hp.Int('units_' + str(i),\n",
    "                                            min_value=32,\n",
    "                                            max_value=512,\n",
    "                                            step=32),\n",
    "                               activation='relu'))\n",
    "    model.add(Dense(1))\n",
    "    model.compile(\n",
    "        optimizer=Adam(\n",
    "            hp.Choice('learning_rate', [1e-2, 1e-3, 1e-4])),\n",
    "        loss='mse',\n",
    "        metrics=['mse'])\n",
    "    return model"
   ],
   "outputs": [],
   "metadata": {}
  },
  {
   "cell_type": "code",
   "execution_count": 496,
   "source": [
    "tuner = RandomSearch(\n",
    "    build_model,\n",
    "    objective='val_mse',\n",
    "    max_trials=10,\n",
    "    executions_per_trial=3,\n",
    "    directory='model_dir',\n",
    "    project_name='House_Price_Prediction')\n",
    " \n",
    "tuner.search(X_tr[:15000],y_tr[:15000],batch_size=128,epochs=200,validation_data=(X_tr[15000:],y_tr[15000:]))"
   ],
   "outputs": [
    {
     "output_type": "stream",
     "name": "stdout",
     "text": [
      "Trial 7 Complete [00h 05m 36s]\n",
      "val_mse: 752938838392832.0\n",
      "\n",
      "Best val_mse So Far: 617606264389632.0\n",
      "Total elapsed time: 00h 47m 06s\n",
      "\n",
      "Search: Running Trial #8\n",
      "\n",
      "Hyperparameter    |Value             |Best Value So Far \n",
      "layers            |8                 |7                 \n",
      "units_0           |224               |352               \n",
      "units_1           |224               |192               \n",
      "learning_rate     |0.0001            |0.01              \n",
      "units_2           |448               |32                \n",
      "units_3           |96                |32                \n",
      "units_4           |192               |32                \n",
      "units_5           |288               |32                \n",
      "units_6           |288               |32                \n",
      "units_7           |416               |None              \n",
      "units_8           |480               |None              \n",
      "units_9           |64                |None              \n",
      "\n",
      "Epoch 1/200\n",
      "118/118 [==============================] - 3s 15ms/step - loss: 3116883536510976.0000 - mse: 3116883536510976.0000 - val_loss: 3704501903032320.0000 - val_mse: 3704501903032320.0000\n",
      "Epoch 2/200\n",
      "118/118 [==============================] - 2s 14ms/step - loss: 2990251794497536.0000 - mse: 2990251794497536.0000 - val_loss: 3138414476001280.0000 - val_mse: 3138414476001280.0000\n",
      "Epoch 3/200\n",
      "118/118 [==============================] - 2s 14ms/step - loss: 2437021620502528.0000 - mse: 2437021620502528.0000 - val_loss: 2969422008418304.0000 - val_mse: 2969422008418304.0000\n",
      "Epoch 4/200\n",
      "118/118 [==============================] - 1s 13ms/step - loss: 2300136180940800.0000 - mse: 2300136180940800.0000 - val_loss: 2836177090510848.0000 - val_mse: 2836177090510848.0000\n",
      "Epoch 5/200\n",
      "118/118 [==============================] - 2s 13ms/step - loss: 2141778991906816.0000 - mse: 2141778991906816.0000 - val_loss: 2668803557163008.0000 - val_mse: 2668803557163008.0000\n",
      "Epoch 6/200\n",
      "118/118 [==============================] - 2s 14ms/step - loss: 1947120873504768.0000 - mse: 1947120873504768.0000 - val_loss: 2485213569482752.0000 - val_mse: 2485213569482752.0000\n",
      "Epoch 7/200\n",
      "118/118 [==============================] - 2s 13ms/step - loss: 1764409743507456.0000 - mse: 1764409743507456.0000 - val_loss: 2356934170640384.0000 - val_mse: 2356934170640384.0000\n",
      "Epoch 8/200\n",
      "118/118 [==============================] - 2s 13ms/step - loss: 1668709282217984.0000 - mse: 1668709282217984.0000 - val_loss: 2303200371671040.0000 - val_mse: 2303200371671040.0000\n",
      "Epoch 9/200\n",
      "118/118 [==============================] - 2s 13ms/step - loss: 1607231254560768.0000 - mse: 1607231254560768.0000 - val_loss: 2267370680745984.0000 - val_mse: 2267370680745984.0000\n",
      "Epoch 10/200\n",
      "118/118 [==============================] - 2s 13ms/step - loss: 1569615394111488.0000 - mse: 1569615394111488.0000 - val_loss: 2235902663327744.0000 - val_mse: 2235902663327744.0000\n",
      "Epoch 11/200\n",
      "118/118 [==============================] - 2s 14ms/step - loss: 1535099560525824.0000 - mse: 1535099560525824.0000 - val_loss: 2200644203053056.0000 - val_mse: 2200644203053056.0000\n",
      "Epoch 12/200\n",
      "118/118 [==============================] - 2s 13ms/step - loss: 1503082861035520.0000 - mse: 1503082861035520.0000 - val_loss: 2168556905037824.0000 - val_mse: 2168556905037824.0000\n",
      "Epoch 13/200\n",
      "118/118 [==============================] - 2s 14ms/step - loss: 1468606487461888.0000 - mse: 1468606487461888.0000 - val_loss: 2153241991184384.0000 - val_mse: 2153241991184384.0000\n",
      "Epoch 14/200\n",
      "118/118 [==============================] - 2s 13ms/step - loss: 1440316611624960.0000 - mse: 1440316611624960.0000 - val_loss: 2110176488325120.0000 - val_mse: 2110176488325120.0000\n",
      "Epoch 15/200\n",
      "118/118 [==============================] - 2s 14ms/step - loss: 1408858928971776.0000 - mse: 1408858928971776.0000 - val_loss: 2075865336774656.0000 - val_mse: 2075865336774656.0000\n",
      "Epoch 16/200\n",
      "118/118 [==============================] - 2s 13ms/step - loss: 1379178691690496.0000 - mse: 1379178691690496.0000 - val_loss: 2050422487384064.0000 - val_mse: 2050422487384064.0000\n",
      "Epoch 17/200\n",
      "118/118 [==============================] - 2s 14ms/step - loss: 1350048612876288.0000 - mse: 1350048612876288.0000 - val_loss: 2014427306000384.0000 - val_mse: 2014427306000384.0000\n",
      "Epoch 18/200\n",
      "118/118 [==============================] - 2s 13ms/step - loss: 1325892240408576.0000 - mse: 1325892240408576.0000 - val_loss: 2001501736140800.0000 - val_mse: 2001501736140800.0000\n",
      "Epoch 19/200\n",
      "118/118 [==============================] - 2s 13ms/step - loss: 1297331378978816.0000 - mse: 1297331378978816.0000 - val_loss: 1959371865063424.0000 - val_mse: 1959371865063424.0000\n",
      "Epoch 20/200\n",
      "118/118 [==============================] - 2s 15ms/step - loss: 1275515495251968.0000 - mse: 1275515495251968.0000 - val_loss: 1948915096092672.0000 - val_mse: 1948915096092672.0000\n",
      "Epoch 21/200\n",
      "118/118 [==============================] - 2s 14ms/step - loss: 1250285112524800.0000 - mse: 1250285112524800.0000 - val_loss: 1914983243841536.0000 - val_mse: 1914983243841536.0000\n",
      "Epoch 22/200\n",
      "118/118 [==============================] - 2s 14ms/step - loss: 1230227078381568.0000 - mse: 1230227078381568.0000 - val_loss: 1888998154829824.0000 - val_mse: 1888998154829824.0000\n",
      "Epoch 23/200\n",
      "118/118 [==============================] - 2s 14ms/step - loss: 1203681764573184.0000 - mse: 1203681764573184.0000 - val_loss: 1872375826087936.0000 - val_mse: 1872375826087936.0000\n",
      "Epoch 24/200\n",
      "118/118 [==============================] - 2s 15ms/step - loss: 1180381701210112.0000 - mse: 1180381701210112.0000 - val_loss: 1853872435888128.0000 - val_mse: 1853872435888128.0000\n",
      "Epoch 25/200\n",
      "118/118 [==============================] - 2s 14ms/step - loss: 1162871253762048.0000 - mse: 1162871253762048.0000 - val_loss: 1838825689055232.0000 - val_mse: 1838825689055232.0000\n",
      "Epoch 26/200\n",
      "118/118 [==============================] - 2s 14ms/step - loss: 1150768572792832.0000 - mse: 1150768572792832.0000 - val_loss: 1807599531982848.0000 - val_mse: 1807599531982848.0000\n",
      "Epoch 27/200\n",
      "118/118 [==============================] - 2s 15ms/step - loss: 1127342613200896.0000 - mse: 1127342613200896.0000 - val_loss: 1794454113484800.0000 - val_mse: 1794454113484800.0000\n",
      "Epoch 28/200\n",
      "118/118 [==============================] - 2s 15ms/step - loss: 1120574818484224.0000 - mse: 1120574818484224.0000 - val_loss: 1781408552976384.0000 - val_mse: 1781408552976384.0000\n",
      "Epoch 29/200\n",
      "118/118 [==============================] - 2s 13ms/step - loss: 1095740378054656.0000 - mse: 1095740378054656.0000 - val_loss: 1761386623401984.0000 - val_mse: 1761386623401984.0000\n",
      "Epoch 30/200\n",
      "118/118 [==============================] - 2s 14ms/step - loss: 1074728592736256.0000 - mse: 1074728592736256.0000 - val_loss: 1735021564002304.0000 - val_mse: 1735021564002304.0000\n",
      "Epoch 31/200\n",
      "118/118 [==============================] - 2s 13ms/step - loss: 1062929847812096.0000 - mse: 1062929847812096.0000 - val_loss: 1723465149186048.0000 - val_mse: 1723465149186048.0000\n",
      "Epoch 32/200\n",
      "118/118 [==============================] - 2s 14ms/step - loss: 1046658565537792.0000 - mse: 1046658565537792.0000 - val_loss: 1717579299160064.0000 - val_mse: 1717579299160064.0000\n",
      "Epoch 33/200\n",
      "118/118 [==============================] - 2s 14ms/step - loss: 1035928260837376.0000 - mse: 1035928260837376.0000 - val_loss: 1690926208516096.0000 - val_mse: 1690926208516096.0000\n",
      "Epoch 34/200\n",
      "118/118 [==============================] - 1s 13ms/step - loss: 1018683161837568.0000 - mse: 1018683161837568.0000 - val_loss: 1677619594526720.0000 - val_mse: 1677619594526720.0000\n",
      "Epoch 35/200\n",
      "118/118 [==============================] - 2s 13ms/step - loss: 1006892067323904.0000 - mse: 1006892067323904.0000 - val_loss: 1666955593383936.0000 - val_mse: 1666955593383936.0000\n",
      "Epoch 36/200\n",
      "118/118 [==============================] - 2s 13ms/step - loss: 984598234267648.0000 - mse: 984598234267648.0000 - val_loss: 1662885306564608.0000 - val_mse: 1662885306564608.0000\n",
      "Epoch 37/200\n",
      "118/118 [==============================] - 2s 14ms/step - loss: 968527406170112.0000 - mse: 968527406170112.0000 - val_loss: 1632320977108992.0000 - val_mse: 1632320977108992.0000\n",
      "Epoch 38/200\n",
      "118/118 [==============================] - 2s 14ms/step - loss: 959913983475712.0000 - mse: 959913983475712.0000 - val_loss: 1618787400941568.0000 - val_mse: 1618787400941568.0000\n",
      "Epoch 39/200\n",
      "118/118 [==============================] - 1s 12ms/step - loss: 944172257247232.0000 - mse: 944172257247232.0000 - val_loss: 1610609783209984.0000 - val_mse: 1610609783209984.0000\n",
      "Epoch 40/200\n",
      "118/118 [==============================] - 2s 14ms/step - loss: 925538206089216.0000 - mse: 925538206089216.0000 - val_loss: 1591189014839296.0000 - val_mse: 1591189014839296.0000\n",
      "Epoch 41/200\n",
      "118/118 [==============================] - 2s 18ms/step - loss: 911124228734976.0000 - mse: 911124228734976.0000 - val_loss: 1578058226073600.0000 - val_mse: 1578058226073600.0000\n",
      "Epoch 42/200\n",
      "118/118 [==============================] - 2s 15ms/step - loss: 893225086746624.0000 - mse: 893225086746624.0000 - val_loss: 1565537054228480.0000 - val_mse: 1565537054228480.0000\n",
      "Epoch 43/200\n",
      "118/118 [==============================] - 2s 14ms/step - loss: 876823076405248.0000 - mse: 876823076405248.0000 - val_loss: 1570505660301312.0000 - val_mse: 1570505660301312.0000\n",
      "Epoch 44/200\n",
      "118/118 [==============================] - 2s 15ms/step - loss: 860984377868288.0000 - mse: 860984377868288.0000 - val_loss: 1535690118529024.0000 - val_mse: 1535690118529024.0000\n",
      "Epoch 45/200\n",
      "118/118 [==============================] - 2s 17ms/step - loss: 837161335128064.0000 - mse: 837161335128064.0000 - val_loss: 1520884963606528.0000 - val_mse: 1520884963606528.0000\n",
      "Epoch 46/200\n",
      "118/118 [==============================] - 2s 19ms/step - loss: 836447699468288.0000 - mse: 836447699468288.0000 - val_loss: 1508104617328640.0000 - val_mse: 1508104617328640.0000\n",
      "Epoch 47/200\n",
      "118/118 [==============================] - 2s 19ms/step - loss: 804631655481344.0000 - mse: 804631655481344.0000 - val_loss: 1519863029825536.0000 - val_mse: 1519863029825536.0000\n",
      "Epoch 48/200\n",
      "118/118 [==============================] - 2s 16ms/step - loss: 793533057335296.0000 - mse: 793533057335296.0000 - val_loss: 1483137435566080.0000 - val_mse: 1483137435566080.0000\n",
      "Epoch 49/200\n",
      "118/118 [==============================] - 2s 17ms/step - loss: 776480963428352.0000 - mse: 776480963428352.0000 - val_loss: 1476951474700288.0000 - val_mse: 1476951474700288.0000\n",
      "Epoch 50/200\n",
      "118/118 [==============================] - 2s 15ms/step - loss: 765668316151808.0000 - mse: 765668316151808.0000 - val_loss: 1470593178271744.0000 - val_mse: 1470593178271744.0000\n",
      "Epoch 51/200\n",
      "118/118 [==============================] - 2s 15ms/step - loss: 744415542902784.0000 - mse: 744415542902784.0000 - val_loss: 1446681887375360.0000 - val_mse: 1446681887375360.0000\n",
      "Epoch 52/200\n",
      "118/118 [==============================] - 2s 14ms/step - loss: 719462990872576.0000 - mse: 719462990872576.0000 - val_loss: 1463225296093184.0000 - val_mse: 1463225296093184.0000\n",
      "Epoch 53/200\n",
      "118/118 [==============================] - 2s 14ms/step - loss: 715479073161216.0000 - mse: 715479073161216.0000 - val_loss: 1447172050518016.0000 - val_mse: 1447172050518016.0000\n",
      "Epoch 54/200\n",
      "118/118 [==============================] - 2s 15ms/step - loss: 694158654177280.0000 - mse: 694158654177280.0000 - val_loss: 1415126494216192.0000 - val_mse: 1415126494216192.0000\n",
      "Epoch 55/200\n",
      "118/118 [==============================] - 2s 17ms/step - loss: 673716690223104.0000 - mse: 673716690223104.0000 - val_loss: 1434873545883648.0000 - val_mse: 1434873545883648.0000\n",
      "Epoch 56/200\n",
      "118/118 [==============================] - 2s 15ms/step - loss: 664538009567232.0000 - mse: 664538009567232.0000 - val_loss: 1399485297065984.0000 - val_mse: 1399485297065984.0000\n",
      "Epoch 57/200\n",
      "118/118 [==============================] - 2s 18ms/step - loss: 641785621643264.0000 - mse: 641785621643264.0000 - val_loss: 1380383161581568.0000 - val_mse: 1380383161581568.0000\n",
      "Epoch 58/200\n",
      "118/118 [==============================] - 2s 14ms/step - loss: 620111740272640.0000 - mse: 620111740272640.0000 - val_loss: 1416516318789632.0000 - val_mse: 1416516318789632.0000\n",
      "Epoch 59/200\n",
      "118/118 [==============================] - 2s 17ms/step - loss: 604026014007296.0000 - mse: 604026014007296.0000 - val_loss: 1384368757014528.0000 - val_mse: 1384368757014528.0000\n",
      "Epoch 60/200\n",
      "118/118 [==============================] - 2s 14ms/step - loss: 581295570681856.0000 - mse: 581295570681856.0000 - val_loss: 1390972269232128.0000 - val_mse: 1390972269232128.0000\n",
      "Epoch 61/200\n",
      "118/118 [==============================] - 2s 19ms/step - loss: 563925112324096.0000 - mse: 563925112324096.0000 - val_loss: 1375854789656576.0000 - val_mse: 1375854789656576.0000\n",
      "Epoch 62/200\n",
      "118/118 [==============================] - 2s 17ms/step - loss: 541737579708416.0000 - mse: 541737579708416.0000 - val_loss: 1336282437386240.0000 - val_mse: 1336282437386240.0000\n",
      "Epoch 63/200\n",
      "118/118 [==============================] - 2s 16ms/step - loss: 527664951590912.0000 - mse: 527664951590912.0000 - val_loss: 1342178622177280.0000 - val_mse: 1342178622177280.0000\n",
      "Epoch 64/200\n",
      "118/118 [==============================] - 2s 15ms/step - loss: 525972365377536.0000 - mse: 525972365377536.0000 - val_loss: 1331891101761536.0000 - val_mse: 1331891101761536.0000\n",
      "Epoch 65/200\n",
      "118/118 [==============================] - 2s 14ms/step - loss: 503252156153856.0000 - mse: 503252156153856.0000 - val_loss: 1311469069139968.0000 - val_mse: 1311469069139968.0000\n",
      "Epoch 66/200\n",
      "118/118 [==============================] - 2s 15ms/step - loss: 472196321378304.0000 - mse: 472196321378304.0000 - val_loss: 1292593761615872.0000 - val_mse: 1292593761615872.0000\n",
      "Epoch 67/200\n",
      "118/118 [==============================] - 2s 18ms/step - loss: 458698816225280.0000 - mse: 458698816225280.0000 - val_loss: 1288381606658048.0000 - val_mse: 1288381606658048.0000\n",
      "Epoch 68/200\n",
      "118/118 [==============================] - 2s 16ms/step - loss: 451941624709120.0000 - mse: 451941624709120.0000 - val_loss: 1283966782930944.0000 - val_mse: 1283966782930944.0000\n",
      "Epoch 69/200\n",
      "118/118 [==============================] - 2s 14ms/step - loss: 412682939269120.0000 - mse: 412682939269120.0000 - val_loss: 1363413611577344.0000 - val_mse: 1363413611577344.0000\n",
      "Epoch 70/200\n",
      "118/118 [==============================] - 2s 17ms/step - loss: 414094976876544.0000 - mse: 414094976876544.0000 - val_loss: 1280600065441792.0000 - val_mse: 1280600065441792.0000\n",
      "Epoch 71/200\n",
      "118/118 [==============================] - 2s 13ms/step - loss: 393434472906752.0000 - mse: 393434472906752.0000 - val_loss: 1344177392582656.0000 - val_mse: 1344177392582656.0000\n",
      "Epoch 72/200\n",
      "118/118 [==============================] - 2s 16ms/step - loss: 391195050115072.0000 - mse: 391195050115072.0000 - val_loss: 1263960825266176.0000 - val_mse: 1263960825266176.0000\n",
      "Epoch 73/200\n",
      "118/118 [==============================] - 2s 14ms/step - loss: 366495162957824.0000 - mse: 366495162957824.0000 - val_loss: 1266881537245184.0000 - val_mse: 1266881537245184.0000\n",
      "Epoch 74/200\n",
      "118/118 [==============================] - 2s 15ms/step - loss: 358564103192576.0000 - mse: 358564103192576.0000 - val_loss: 1255127419715584.0000 - val_mse: 1255127419715584.0000\n",
      "Epoch 75/200\n",
      "118/118 [==============================] - 2s 14ms/step - loss: 352178225020928.0000 - mse: 352178225020928.0000 - val_loss: 1297102403534848.0000 - val_mse: 1297102403534848.0000\n",
      "Epoch 76/200\n",
      "118/118 [==============================] - 2s 15ms/step - loss: 338163042091008.0000 - mse: 338163042091008.0000 - val_loss: 1251134039654400.0000 - val_mse: 1251134039654400.0000\n",
      "Epoch 77/200\n",
      "118/118 [==============================] - 2s 15ms/step - loss: 323028483309568.0000 - mse: 323028483309568.0000 - val_loss: 1215648214548480.0000 - val_mse: 1215648214548480.0000\n",
      "Epoch 78/200\n",
      "118/118 [==============================] - 2s 15ms/step - loss: 316587743641600.0000 - mse: 316587743641600.0000 - val_loss: 1213126263439360.0000 - val_mse: 1213126263439360.0000\n",
      "Epoch 79/200\n",
      "118/118 [==============================] - 2s 15ms/step - loss: 307062915465216.0000 - mse: 307062915465216.0000 - val_loss: 1204892811132928.0000 - val_mse: 1204892811132928.0000\n",
      "Epoch 80/200\n",
      "118/118 [==============================] - 2s 13ms/step - loss: 302356973486080.0000 - mse: 302356973486080.0000 - val_loss: 1189445021728768.0000 - val_mse: 1189445021728768.0000\n",
      "Epoch 81/200\n",
      "118/118 [==============================] - 2s 13ms/step - loss: 290398241030144.0000 - mse: 290398241030144.0000 - val_loss: 1194317393690624.0000 - val_mse: 1194317393690624.0000\n",
      "Epoch 82/200\n",
      "118/118 [==============================] - 2s 14ms/step - loss: 289292488278016.0000 - mse: 289292488278016.0000 - val_loss: 1174640269459456.0000 - val_mse: 1174640269459456.0000\n",
      "Epoch 83/200\n",
      "118/118 [==============================] - 1s 12ms/step - loss: 283848952774656.0000 - mse: 283848952774656.0000 - val_loss: 1190738343755776.0000 - val_mse: 1190738343755776.0000\n",
      "Epoch 84/200\n",
      "118/118 [==============================] - 2s 13ms/step - loss: 278993022484480.0000 - mse: 278993022484480.0000 - val_loss: 1169986001305600.0000 - val_mse: 1169986001305600.0000\n",
      "Epoch 85/200\n",
      "118/118 [==============================] - 1s 10ms/step - loss: 275559934328832.0000 - mse: 275559934328832.0000 - val_loss: 1164530319097856.0000 - val_mse: 1164530319097856.0000\n",
      "Epoch 86/200\n",
      "118/118 [==============================] - 2s 13ms/step - loss: 272923914928128.0000 - mse: 272923914928128.0000 - val_loss: 1155828581138432.0000 - val_mse: 1155828581138432.0000\n",
      "Epoch 87/200\n",
      "118/118 [==============================] - 1s 11ms/step - loss: 268320213303296.0000 - mse: 268320213303296.0000 - val_loss: 1148284873736192.0000 - val_mse: 1148284873736192.0000\n",
      "Epoch 88/200\n",
      "118/118 [==============================] - 1s 10ms/step - loss: 263777865957376.0000 - mse: 263777865957376.0000 - val_loss: 1134892494618624.0000 - val_mse: 1134892494618624.0000\n",
      "Epoch 89/200\n",
      "118/118 [==============================] - 1s 10ms/step - loss: 263807158976512.0000 - mse: 263807158976512.0000 - val_loss: 1123767254253568.0000 - val_mse: 1123767254253568.0000\n",
      "Epoch 90/200\n",
      "118/118 [==============================] - 1s 10ms/step - loss: 257090903867392.0000 - mse: 257090903867392.0000 - val_loss: 1139323692908544.0000 - val_mse: 1139323692908544.0000\n",
      "Epoch 91/200\n",
      "118/118 [==============================] - 1s 9ms/step - loss: 254459733082112.0000 - mse: 254459733082112.0000 - val_loss: 1128799009767424.0000 - val_mse: 1128799009767424.0000\n",
      "Epoch 92/200\n",
      "118/118 [==============================] - 1s 9ms/step - loss: 258264990220288.0000 - mse: 258264990220288.0000 - val_loss: 1132571333230592.0000 - val_mse: 1132571333230592.0000\n",
      "Epoch 93/200\n",
      "118/118 [==============================] - 1s 11ms/step - loss: 247026134548480.0000 - mse: 247026134548480.0000 - val_loss: 1103214158020608.0000 - val_mse: 1103214158020608.0000\n",
      "Epoch 94/200\n",
      "118/118 [==============================] - 1s 9ms/step - loss: 244153975832576.0000 - mse: 244153975832576.0000 - val_loss: 1101596163309568.0000 - val_mse: 1101596163309568.0000\n",
      "Epoch 95/200\n",
      "118/118 [==============================] - 2s 14ms/step - loss: 247495779155968.0000 - mse: 247495779155968.0000 - val_loss: 1090382070808576.0000 - val_mse: 1090382070808576.0000\n",
      "Epoch 96/200\n",
      "118/118 [==============================] - 2s 14ms/step - loss: 242300881993728.0000 - mse: 242300881993728.0000 - val_loss: 1102793318334464.0000 - val_mse: 1102793318334464.0000\n",
      "Epoch 97/200\n",
      "118/118 [==============================] - 2s 14ms/step - loss: 237752125751296.0000 - mse: 237752125751296.0000 - val_loss: 1084509038575616.0000 - val_mse: 1084509038575616.0000\n",
      "Epoch 98/200\n",
      "118/118 [==============================] - 2s 13ms/step - loss: 235418247233536.0000 - mse: 235418247233536.0000 - val_loss: 1112785022877696.0000 - val_mse: 1112785022877696.0000\n",
      "Epoch 99/200\n",
      "118/118 [==============================] - 2s 16ms/step - loss: 234035099992064.0000 - mse: 234035099992064.0000 - val_loss: 1064091904901120.0000 - val_mse: 1064091904901120.0000\n",
      "Epoch 100/200\n",
      "118/118 [==============================] - 2s 13ms/step - loss: 232629706162176.0000 - mse: 232629706162176.0000 - val_loss: 1068964008427520.0000 - val_mse: 1068964008427520.0000\n",
      "Epoch 101/200\n",
      "118/118 [==============================] - 1s 13ms/step - loss: 227955338903552.0000 - mse: 227955338903552.0000 - val_loss: 1084309322596352.0000 - val_mse: 1084309322596352.0000\n",
      "Epoch 102/200\n",
      "118/118 [==============================] - 2s 14ms/step - loss: 231094590898176.0000 - mse: 231094590898176.0000 - val_loss: 1056637183852544.0000 - val_mse: 1056637183852544.0000\n",
      "Epoch 103/200\n",
      "118/118 [==============================] - 2s 14ms/step - loss: 222728195932160.0000 - mse: 222728195932160.0000 - val_loss: 1047173827395584.0000 - val_mse: 1047173827395584.0000\n",
      "Epoch 104/200\n",
      "118/118 [==============================] - 2s 13ms/step - loss: 225299002294272.0000 - mse: 225299002294272.0000 - val_loss: 1061290982244352.0000 - val_mse: 1061290982244352.0000\n",
      "Epoch 105/200\n",
      "118/118 [==============================] - 1s 12ms/step - loss: 223273640001536.0000 - mse: 223273640001536.0000 - val_loss: 1033312424427520.0000 - val_mse: 1033312424427520.0000\n",
      "Epoch 106/200\n",
      "118/118 [==============================] - 1s 9ms/step - loss: 221479132200960.0000 - mse: 221479132200960.0000 - val_loss: 1044744486518784.0000 - val_mse: 1044744486518784.0000\n",
      "Epoch 107/200\n",
      "118/118 [==============================] - 1s 12ms/step - loss: 216815636578304.0000 - mse: 216815636578304.0000 - val_loss: 1030704775299072.0000 - val_mse: 1030704775299072.0000\n",
      "Epoch 108/200\n",
      "118/118 [==============================] - 2s 17ms/step - loss: 215114561093632.0000 - mse: 215114561093632.0000 - val_loss: 1022424682332160.0000 - val_mse: 1022424682332160.0000\n",
      "Epoch 109/200\n",
      "118/118 [==============================] - 2s 16ms/step - loss: 216722623692800.0000 - mse: 216722623692800.0000 - val_loss: 1020047686369280.0000 - val_mse: 1020047686369280.0000\n",
      "Epoch 110/200\n",
      "118/118 [==============================] - 2s 15ms/step - loss: 215722080862208.0000 - mse: 215722080862208.0000 - val_loss: 1012601353928704.0000 - val_mse: 1012601353928704.0000\n",
      "Epoch 111/200\n",
      "118/118 [==============================] - 2s 13ms/step - loss: 210486247292928.0000 - mse: 210486247292928.0000 - val_loss: 1037485924679680.0000 - val_mse: 1037485924679680.0000\n",
      "Epoch 112/200\n",
      "118/118 [==============================] - 2s 16ms/step - loss: 210950405750784.0000 - mse: 210950405750784.0000 - val_loss: 1025442299510784.0000 - val_mse: 1025442299510784.0000\n",
      "Epoch 113/200\n",
      "118/118 [==============================] - 2s 18ms/step - loss: 206741287469056.0000 - mse: 206741287469056.0000 - val_loss: 1021560253054976.0000 - val_mse: 1021560253054976.0000\n",
      "Epoch 114/200\n",
      "118/118 [==============================] - 2s 13ms/step - loss: 205635887038464.0000 - mse: 205635887038464.0000 - val_loss: 1004660026507264.0000 - val_mse: 1004660026507264.0000\n",
      "Epoch 115/200\n",
      "118/118 [==============================] - 2s 14ms/step - loss: 203617235632128.0000 - mse: 203617235632128.0000 - val_loss: 1004214356541440.0000 - val_mse: 1004214356541440.0000\n",
      "Epoch 116/200\n",
      "118/118 [==============================] - 2s 14ms/step - loss: 206080013500416.0000 - mse: 206080013500416.0000 - val_loss: 1003780229300224.0000 - val_mse: 1003780229300224.0000\n",
      "Epoch 117/200\n",
      "118/118 [==============================] - 2s 14ms/step - loss: 198738790318080.0000 - mse: 198738790318080.0000 - val_loss: 977929089581056.0000 - val_mse: 977929089581056.0000\n",
      "Epoch 118/200\n",
      "118/118 [==============================] - 2s 14ms/step - loss: 198240137904128.0000 - mse: 198240137904128.0000 - val_loss: 976539667660800.0000 - val_mse: 976539667660800.0000\n",
      "Epoch 119/200\n",
      "118/118 [==============================] - 2s 13ms/step - loss: 198602290888704.0000 - mse: 198602290888704.0000 - val_loss: 972304494362624.0000 - val_mse: 972304494362624.0000\n",
      "Epoch 120/200\n",
      "118/118 [==============================] - 2s 13ms/step - loss: 194980593270784.0000 - mse: 194980593270784.0000 - val_loss: 987726178418688.0000 - val_mse: 987726178418688.0000\n",
      "Epoch 121/200\n",
      "118/118 [==============================] - 2s 14ms/step - loss: 192926961369088.0000 - mse: 192926961369088.0000 - val_loss: 955904295960576.0000 - val_mse: 955904295960576.0000\n",
      "Epoch 122/200\n",
      "118/118 [==============================] - 2s 13ms/step - loss: 193388854902784.0000 - mse: 193388854902784.0000 - val_loss: 970753876951040.0000 - val_mse: 970753876951040.0000\n",
      "Epoch 123/200\n",
      "118/118 [==============================] - 1s 9ms/step - loss: 196260560633856.0000 - mse: 196260560633856.0000 - val_loss: 960141482524672.0000 - val_mse: 960141482524672.0000\n",
      "Epoch 124/200\n",
      "118/118 [==============================] - 1s 11ms/step - loss: 187883143036928.0000 - mse: 187883143036928.0000 - val_loss: 968775776075776.0000 - val_mse: 968775776075776.0000\n",
      "Epoch 125/200\n",
      "118/118 [==============================] - 2s 14ms/step - loss: 188587047911424.0000 - mse: 188587047911424.0000 - val_loss: 954451456163840.0000 - val_mse: 954451456163840.0000\n",
      "Epoch 126/200\n",
      "118/118 [==============================] - 1s 13ms/step - loss: 188506852818944.0000 - mse: 188506852818944.0000 - val_loss: 959054184710144.0000 - val_mse: 959054184710144.0000\n",
      "Epoch 127/200\n",
      "118/118 [==============================] - 2s 14ms/step - loss: 186721757036544.0000 - mse: 186721757036544.0000 - val_loss: 943125560295424.0000 - val_mse: 943125560295424.0000\n",
      "Epoch 128/200\n",
      "118/118 [==============================] - 1s 12ms/step - loss: 183398123438080.0000 - mse: 183398123438080.0000 - val_loss: 943957039120384.0000 - val_mse: 943957039120384.0000\n",
      "Epoch 129/200\n",
      "118/118 [==============================] - 2s 13ms/step - loss: 179837947871232.0000 - mse: 179837947871232.0000 - val_loss: 925640949760000.0000 - val_mse: 925640949760000.0000\n",
      "Epoch 130/200\n",
      "118/118 [==============================] - 1s 12ms/step - loss: 183353512820736.0000 - mse: 183353512820736.0000 - val_loss: 949821078765568.0000 - val_mse: 949821078765568.0000\n",
      "Epoch 131/200\n",
      "118/118 [==============================] - 2s 13ms/step - loss: 176725036105728.0000 - mse: 176725036105728.0000 - val_loss: 922730840981504.0000 - val_mse: 922730840981504.0000\n",
      "Epoch 132/200\n",
      "118/118 [==============================] - 2s 14ms/step - loss: 177065580036096.0000 - mse: 177065580036096.0000 - val_loss: 913439148998656.0000 - val_mse: 913439148998656.0000\n",
      "Epoch 133/200\n",
      "118/118 [==============================] - 2s 13ms/step - loss: 178322025742336.0000 - mse: 178322025742336.0000 - val_loss: 929312207273984.0000 - val_mse: 929312207273984.0000\n",
      "Epoch 134/200\n",
      "118/118 [==============================] - 2s 13ms/step - loss: 182216067907584.0000 - mse: 182216067907584.0000 - val_loss: 921313703100416.0000 - val_mse: 921313703100416.0000\n",
      "Epoch 135/200\n",
      "118/118 [==============================] - 1s 12ms/step - loss: 174144079527936.0000 - mse: 174144079527936.0000 - val_loss: 892687477637120.0000 - val_mse: 892687477637120.0000\n",
      "Epoch 136/200\n",
      "118/118 [==============================] - 2s 21ms/step - loss: 175259646951424.0000 - mse: 175259646951424.0000 - val_loss: 913097229336576.0000 - val_mse: 913097229336576.0000\n",
      "Epoch 137/200\n",
      "118/118 [==============================] - 2s 16ms/step - loss: 172997373591552.0000 - mse: 172997373591552.0000 - val_loss: 891183567994880.0000 - val_mse: 891183567994880.0000\n",
      "Epoch 138/200\n",
      "118/118 [==============================] - 2s 15ms/step - loss: 171355068694528.0000 - mse: 171355068694528.0000 - val_loss: 900959316213760.0000 - val_mse: 900959316213760.0000\n",
      "Epoch 139/200\n",
      "118/118 [==============================] - 2s 15ms/step - loss: 174454290251776.0000 - mse: 174454290251776.0000 - val_loss: 904502060253184.0000 - val_mse: 904502060253184.0000\n",
      "Epoch 140/200\n",
      "118/118 [==============================] - 2s 17ms/step - loss: 166994301157376.0000 - mse: 166994301157376.0000 - val_loss: 886542587396096.0000 - val_mse: 886542587396096.0000\n",
      "Epoch 141/200\n",
      "118/118 [==============================] - 3s 22ms/step - loss: 169605859377152.0000 - mse: 169605859377152.0000 - val_loss: 877089431486464.0000 - val_mse: 877089431486464.0000\n",
      "Epoch 142/200\n",
      "118/118 [==============================] - 2s 14ms/step - loss: 163698517737472.0000 - mse: 163698517737472.0000 - val_loss: 902249618341888.0000 - val_mse: 902249618341888.0000\n",
      "Epoch 143/200\n",
      "118/118 [==============================] - 2s 16ms/step - loss: 161874364596224.0000 - mse: 161874364596224.0000 - val_loss: 879065317769216.0000 - val_mse: 879065317769216.0000\n",
      "Epoch 144/200\n",
      "118/118 [==============================] - 2s 16ms/step - loss: 164894431248384.0000 - mse: 164894431248384.0000 - val_loss: 924911342190592.0000 - val_mse: 924911342190592.0000\n",
      "Epoch 145/200\n",
      " 67/118 [================>.............] - ETA: 0s - loss: 159165448192000.0000 - mse: 159165448192000.0000"
     ]
    },
    {
     "output_type": "error",
     "ename": "KeyboardInterrupt",
     "evalue": "",
     "traceback": [
      "\u001b[0;31m---------------------------------------------------------------------------\u001b[0m",
      "\u001b[0;31mKeyboardInterrupt\u001b[0m                         Traceback (most recent call last)",
      "\u001b[0;32m<ipython-input-496-8ce8e3738b0f>\u001b[0m in \u001b[0;36m<module>\u001b[0;34m\u001b[0m\n\u001b[1;32m      7\u001b[0m     project_name='House_Price_Prediction')\n\u001b[1;32m      8\u001b[0m \u001b[0;34m\u001b[0m\u001b[0m\n\u001b[0;32m----> 9\u001b[0;31m \u001b[0mtuner\u001b[0m\u001b[0;34m.\u001b[0m\u001b[0msearch\u001b[0m\u001b[0;34m(\u001b[0m\u001b[0mX_tr\u001b[0m\u001b[0;34m[\u001b[0m\u001b[0;34m:\u001b[0m\u001b[0;36m15000\u001b[0m\u001b[0;34m]\u001b[0m\u001b[0;34m,\u001b[0m\u001b[0my_tr\u001b[0m\u001b[0;34m[\u001b[0m\u001b[0;34m:\u001b[0m\u001b[0;36m15000\u001b[0m\u001b[0;34m]\u001b[0m\u001b[0;34m,\u001b[0m\u001b[0mbatch_size\u001b[0m\u001b[0;34m=\u001b[0m\u001b[0;36m128\u001b[0m\u001b[0;34m,\u001b[0m\u001b[0mepochs\u001b[0m\u001b[0;34m=\u001b[0m\u001b[0;36m200\u001b[0m\u001b[0;34m,\u001b[0m\u001b[0mvalidation_data\u001b[0m\u001b[0;34m=\u001b[0m\u001b[0;34m(\u001b[0m\u001b[0mX_tr\u001b[0m\u001b[0;34m[\u001b[0m\u001b[0;36m15000\u001b[0m\u001b[0;34m:\u001b[0m\u001b[0;34m]\u001b[0m\u001b[0;34m,\u001b[0m\u001b[0my_tr\u001b[0m\u001b[0;34m[\u001b[0m\u001b[0;36m15000\u001b[0m\u001b[0;34m:\u001b[0m\u001b[0;34m]\u001b[0m\u001b[0;34m)\u001b[0m\u001b[0;34m)\u001b[0m\u001b[0;34m\u001b[0m\u001b[0;34m\u001b[0m\u001b[0m\n\u001b[0m",
      "\u001b[0;32m~/anaconda3/lib/python3.7/site-packages/keras_tuner/engine/base_tuner.py\u001b[0m in \u001b[0;36msearch\u001b[0;34m(self, *fit_args, **fit_kwargs)\u001b[0m\n\u001b[1;32m    177\u001b[0m \u001b[0;34m\u001b[0m\u001b[0m\n\u001b[1;32m    178\u001b[0m             \u001b[0mself\u001b[0m\u001b[0;34m.\u001b[0m\u001b[0mon_trial_begin\u001b[0m\u001b[0;34m(\u001b[0m\u001b[0mtrial\u001b[0m\u001b[0;34m)\u001b[0m\u001b[0;34m\u001b[0m\u001b[0;34m\u001b[0m\u001b[0m\n\u001b[0;32m--> 179\u001b[0;31m             \u001b[0mresults\u001b[0m \u001b[0;34m=\u001b[0m \u001b[0mself\u001b[0m\u001b[0;34m.\u001b[0m\u001b[0mrun_trial\u001b[0m\u001b[0;34m(\u001b[0m\u001b[0mtrial\u001b[0m\u001b[0;34m,\u001b[0m \u001b[0;34m*\u001b[0m\u001b[0mfit_args\u001b[0m\u001b[0;34m,\u001b[0m \u001b[0;34m**\u001b[0m\u001b[0mfit_kwargs\u001b[0m\u001b[0;34m)\u001b[0m\u001b[0;34m\u001b[0m\u001b[0;34m\u001b[0m\u001b[0m\n\u001b[0m\u001b[1;32m    180\u001b[0m             \u001b[0;31m# `results` is None indicates user updated oracle in `run_trial()`.\u001b[0m\u001b[0;34m\u001b[0m\u001b[0;34m\u001b[0m\u001b[0;34m\u001b[0m\u001b[0m\n\u001b[1;32m    181\u001b[0m             \u001b[0;32mif\u001b[0m \u001b[0mresults\u001b[0m \u001b[0;32mis\u001b[0m \u001b[0;32mNone\u001b[0m\u001b[0;34m:\u001b[0m\u001b[0;34m\u001b[0m\u001b[0;34m\u001b[0m\u001b[0m\n",
      "\u001b[0;32m~/anaconda3/lib/python3.7/site-packages/keras_tuner/engine/tuner.py\u001b[0m in \u001b[0;36mrun_trial\u001b[0;34m(self, trial, *args, **kwargs)\u001b[0m\n\u001b[1;32m    302\u001b[0m             \u001b[0mcallbacks\u001b[0m\u001b[0;34m.\u001b[0m\u001b[0mappend\u001b[0m\u001b[0;34m(\u001b[0m\u001b[0mmodel_checkpoint\u001b[0m\u001b[0;34m)\u001b[0m\u001b[0;34m\u001b[0m\u001b[0;34m\u001b[0m\u001b[0m\n\u001b[1;32m    303\u001b[0m             \u001b[0mcopied_kwargs\u001b[0m\u001b[0;34m[\u001b[0m\u001b[0;34m\"callbacks\"\u001b[0m\u001b[0;34m]\u001b[0m \u001b[0;34m=\u001b[0m \u001b[0mcallbacks\u001b[0m\u001b[0;34m\u001b[0m\u001b[0;34m\u001b[0m\u001b[0m\n\u001b[0;32m--> 304\u001b[0;31m             \u001b[0mobj_value\u001b[0m \u001b[0;34m=\u001b[0m \u001b[0mself\u001b[0m\u001b[0;34m.\u001b[0m\u001b[0m_build_and_fit_model\u001b[0m\u001b[0;34m(\u001b[0m\u001b[0mtrial\u001b[0m\u001b[0;34m,\u001b[0m \u001b[0;34m*\u001b[0m\u001b[0margs\u001b[0m\u001b[0;34m,\u001b[0m \u001b[0;34m**\u001b[0m\u001b[0mcopied_kwargs\u001b[0m\u001b[0;34m)\u001b[0m\u001b[0;34m\u001b[0m\u001b[0;34m\u001b[0m\u001b[0m\n\u001b[0m\u001b[1;32m    305\u001b[0m \u001b[0;34m\u001b[0m\u001b[0m\n\u001b[1;32m    306\u001b[0m             \u001b[0;31m# objective left unspecified,\u001b[0m\u001b[0;34m\u001b[0m\u001b[0;34m\u001b[0m\u001b[0;34m\u001b[0m\u001b[0m\n",
      "\u001b[0;32m~/anaconda3/lib/python3.7/site-packages/keras_tuner/engine/tuner.py\u001b[0m in \u001b[0;36m_build_and_fit_model\u001b[0;34m(self, trial, *args, **kwargs)\u001b[0m\n\u001b[1;32m    232\u001b[0m         \u001b[0mhp\u001b[0m \u001b[0;34m=\u001b[0m \u001b[0mtrial\u001b[0m\u001b[0;34m.\u001b[0m\u001b[0mhyperparameters\u001b[0m\u001b[0;34m\u001b[0m\u001b[0;34m\u001b[0m\u001b[0m\n\u001b[1;32m    233\u001b[0m         \u001b[0mmodel\u001b[0m \u001b[0;34m=\u001b[0m \u001b[0mself\u001b[0m\u001b[0;34m.\u001b[0m\u001b[0m_try_build\u001b[0m\u001b[0;34m(\u001b[0m\u001b[0mhp\u001b[0m\u001b[0;34m)\u001b[0m\u001b[0;34m\u001b[0m\u001b[0;34m\u001b[0m\u001b[0m\n\u001b[0;32m--> 234\u001b[0;31m         \u001b[0;32mreturn\u001b[0m \u001b[0mself\u001b[0m\u001b[0;34m.\u001b[0m\u001b[0mhypermodel\u001b[0m\u001b[0;34m.\u001b[0m\u001b[0mfit\u001b[0m\u001b[0;34m(\u001b[0m\u001b[0mhp\u001b[0m\u001b[0;34m,\u001b[0m \u001b[0mmodel\u001b[0m\u001b[0;34m,\u001b[0m \u001b[0;34m*\u001b[0m\u001b[0margs\u001b[0m\u001b[0;34m,\u001b[0m \u001b[0;34m**\u001b[0m\u001b[0mkwargs\u001b[0m\u001b[0;34m)\u001b[0m\u001b[0;34m\u001b[0m\u001b[0;34m\u001b[0m\u001b[0m\n\u001b[0m\u001b[1;32m    235\u001b[0m \u001b[0;34m\u001b[0m\u001b[0m\n\u001b[1;32m    236\u001b[0m     \u001b[0;32mdef\u001b[0m \u001b[0mrun_trial\u001b[0m\u001b[0;34m(\u001b[0m\u001b[0mself\u001b[0m\u001b[0;34m,\u001b[0m \u001b[0mtrial\u001b[0m\u001b[0;34m,\u001b[0m \u001b[0;34m*\u001b[0m\u001b[0margs\u001b[0m\u001b[0;34m,\u001b[0m \u001b[0;34m**\u001b[0m\u001b[0mkwargs\u001b[0m\u001b[0;34m)\u001b[0m\u001b[0;34m:\u001b[0m\u001b[0;34m\u001b[0m\u001b[0;34m\u001b[0m\u001b[0m\n",
      "\u001b[0;32m~/anaconda3/lib/python3.7/site-packages/keras_tuner/engine/hypermodel.py\u001b[0m in \u001b[0;36mfit\u001b[0;34m(self, hp, model, *args, **kwargs)\u001b[0m\n\u001b[1;32m    135\u001b[0m             \u001b[0mIf\u001b[0m \u001b[0;32mreturn\u001b[0m \u001b[0ma\u001b[0m \u001b[0mfloat\u001b[0m\u001b[0;34m,\u001b[0m \u001b[0mit\u001b[0m \u001b[0mshould\u001b[0m \u001b[0mbe\u001b[0m \u001b[0mthe\u001b[0m\u001b[0;31m \u001b[0m\u001b[0;31m`\u001b[0m\u001b[0mobjective\u001b[0m\u001b[0;31m`\u001b[0m \u001b[0mvalue\u001b[0m\u001b[0;34m.\u001b[0m\u001b[0;34m\u001b[0m\u001b[0;34m\u001b[0m\u001b[0m\n\u001b[1;32m    136\u001b[0m         \"\"\"\n\u001b[0;32m--> 137\u001b[0;31m         \u001b[0;32mreturn\u001b[0m \u001b[0mmodel\u001b[0m\u001b[0;34m.\u001b[0m\u001b[0mfit\u001b[0m\u001b[0;34m(\u001b[0m\u001b[0;34m*\u001b[0m\u001b[0margs\u001b[0m\u001b[0;34m,\u001b[0m \u001b[0;34m**\u001b[0m\u001b[0mkwargs\u001b[0m\u001b[0;34m)\u001b[0m\u001b[0;34m\u001b[0m\u001b[0;34m\u001b[0m\u001b[0m\n\u001b[0m\u001b[1;32m    138\u001b[0m \u001b[0;34m\u001b[0m\u001b[0m\n\u001b[1;32m    139\u001b[0m \u001b[0;34m\u001b[0m\u001b[0m\n",
      "\u001b[0;32m~/anaconda3/lib/python3.7/site-packages/keras/utils/traceback_utils.py\u001b[0m in \u001b[0;36merror_handler\u001b[0;34m(*args, **kwargs)\u001b[0m\n\u001b[1;32m     62\u001b[0m     \u001b[0mfiltered_tb\u001b[0m \u001b[0;34m=\u001b[0m \u001b[0;32mNone\u001b[0m\u001b[0;34m\u001b[0m\u001b[0;34m\u001b[0m\u001b[0m\n\u001b[1;32m     63\u001b[0m     \u001b[0;32mtry\u001b[0m\u001b[0;34m:\u001b[0m\u001b[0;34m\u001b[0m\u001b[0;34m\u001b[0m\u001b[0m\n\u001b[0;32m---> 64\u001b[0;31m       \u001b[0;32mreturn\u001b[0m \u001b[0mfn\u001b[0m\u001b[0;34m(\u001b[0m\u001b[0;34m*\u001b[0m\u001b[0margs\u001b[0m\u001b[0;34m,\u001b[0m \u001b[0;34m**\u001b[0m\u001b[0mkwargs\u001b[0m\u001b[0;34m)\u001b[0m\u001b[0;34m\u001b[0m\u001b[0;34m\u001b[0m\u001b[0m\n\u001b[0m\u001b[1;32m     65\u001b[0m     \u001b[0;32mexcept\u001b[0m \u001b[0mException\u001b[0m \u001b[0;32mas\u001b[0m \u001b[0me\u001b[0m\u001b[0;34m:\u001b[0m  \u001b[0;31m# pylint: disable=broad-except\u001b[0m\u001b[0;34m\u001b[0m\u001b[0;34m\u001b[0m\u001b[0m\n\u001b[1;32m     66\u001b[0m       \u001b[0mfiltered_tb\u001b[0m \u001b[0;34m=\u001b[0m \u001b[0m_process_traceback_frames\u001b[0m\u001b[0;34m(\u001b[0m\u001b[0me\u001b[0m\u001b[0;34m.\u001b[0m\u001b[0m__traceback__\u001b[0m\u001b[0;34m)\u001b[0m\u001b[0;34m\u001b[0m\u001b[0;34m\u001b[0m\u001b[0m\n",
      "\u001b[0;32m~/anaconda3/lib/python3.7/site-packages/keras/engine/training.py\u001b[0m in \u001b[0;36mfit\u001b[0;34m(self, x, y, batch_size, epochs, verbose, callbacks, validation_split, validation_data, shuffle, class_weight, sample_weight, initial_epoch, steps_per_epoch, validation_steps, validation_batch_size, validation_freq, max_queue_size, workers, use_multiprocessing)\u001b[0m\n\u001b[1;32m   1214\u001b[0m                 _r=1):\n\u001b[1;32m   1215\u001b[0m               \u001b[0mcallbacks\u001b[0m\u001b[0;34m.\u001b[0m\u001b[0mon_train_batch_begin\u001b[0m\u001b[0;34m(\u001b[0m\u001b[0mstep\u001b[0m\u001b[0;34m)\u001b[0m\u001b[0;34m\u001b[0m\u001b[0;34m\u001b[0m\u001b[0m\n\u001b[0;32m-> 1216\u001b[0;31m               \u001b[0mtmp_logs\u001b[0m \u001b[0;34m=\u001b[0m \u001b[0mself\u001b[0m\u001b[0;34m.\u001b[0m\u001b[0mtrain_function\u001b[0m\u001b[0;34m(\u001b[0m\u001b[0miterator\u001b[0m\u001b[0;34m)\u001b[0m\u001b[0;34m\u001b[0m\u001b[0;34m\u001b[0m\u001b[0m\n\u001b[0m\u001b[1;32m   1217\u001b[0m               \u001b[0;32mif\u001b[0m \u001b[0mdata_handler\u001b[0m\u001b[0;34m.\u001b[0m\u001b[0mshould_sync\u001b[0m\u001b[0;34m:\u001b[0m\u001b[0;34m\u001b[0m\u001b[0;34m\u001b[0m\u001b[0m\n\u001b[1;32m   1218\u001b[0m                 \u001b[0mcontext\u001b[0m\u001b[0;34m.\u001b[0m\u001b[0masync_wait\u001b[0m\u001b[0;34m(\u001b[0m\u001b[0;34m)\u001b[0m\u001b[0;34m\u001b[0m\u001b[0;34m\u001b[0m\u001b[0m\n",
      "\u001b[0;32m~/anaconda3/lib/python3.7/site-packages/tensorflow/python/util/traceback_utils.py\u001b[0m in \u001b[0;36merror_handler\u001b[0;34m(*args, **kwargs)\u001b[0m\n\u001b[1;32m    148\u001b[0m     \u001b[0mfiltered_tb\u001b[0m \u001b[0;34m=\u001b[0m \u001b[0;32mNone\u001b[0m\u001b[0;34m\u001b[0m\u001b[0;34m\u001b[0m\u001b[0m\n\u001b[1;32m    149\u001b[0m     \u001b[0;32mtry\u001b[0m\u001b[0;34m:\u001b[0m\u001b[0;34m\u001b[0m\u001b[0;34m\u001b[0m\u001b[0m\n\u001b[0;32m--> 150\u001b[0;31m       \u001b[0;32mreturn\u001b[0m \u001b[0mfn\u001b[0m\u001b[0;34m(\u001b[0m\u001b[0;34m*\u001b[0m\u001b[0margs\u001b[0m\u001b[0;34m,\u001b[0m \u001b[0;34m**\u001b[0m\u001b[0mkwargs\u001b[0m\u001b[0;34m)\u001b[0m\u001b[0;34m\u001b[0m\u001b[0;34m\u001b[0m\u001b[0m\n\u001b[0m\u001b[1;32m    151\u001b[0m     \u001b[0;32mexcept\u001b[0m \u001b[0mException\u001b[0m \u001b[0;32mas\u001b[0m \u001b[0me\u001b[0m\u001b[0;34m:\u001b[0m\u001b[0;34m\u001b[0m\u001b[0;34m\u001b[0m\u001b[0m\n\u001b[1;32m    152\u001b[0m       \u001b[0mfiltered_tb\u001b[0m \u001b[0;34m=\u001b[0m \u001b[0m_process_traceback_frames\u001b[0m\u001b[0;34m(\u001b[0m\u001b[0me\u001b[0m\u001b[0;34m.\u001b[0m\u001b[0m__traceback__\u001b[0m\u001b[0;34m)\u001b[0m\u001b[0;34m\u001b[0m\u001b[0;34m\u001b[0m\u001b[0m\n",
      "\u001b[0;32m~/anaconda3/lib/python3.7/site-packages/tensorflow/python/eager/def_function.py\u001b[0m in \u001b[0;36m__call__\u001b[0;34m(self, *args, **kwds)\u001b[0m\n\u001b[1;32m    908\u001b[0m \u001b[0;34m\u001b[0m\u001b[0m\n\u001b[1;32m    909\u001b[0m       \u001b[0;32mwith\u001b[0m \u001b[0mOptionalXlaContext\u001b[0m\u001b[0;34m(\u001b[0m\u001b[0mself\u001b[0m\u001b[0;34m.\u001b[0m\u001b[0m_jit_compile\u001b[0m\u001b[0;34m)\u001b[0m\u001b[0;34m:\u001b[0m\u001b[0;34m\u001b[0m\u001b[0;34m\u001b[0m\u001b[0m\n\u001b[0;32m--> 910\u001b[0;31m         \u001b[0mresult\u001b[0m \u001b[0;34m=\u001b[0m \u001b[0mself\u001b[0m\u001b[0;34m.\u001b[0m\u001b[0m_call\u001b[0m\u001b[0;34m(\u001b[0m\u001b[0;34m*\u001b[0m\u001b[0margs\u001b[0m\u001b[0;34m,\u001b[0m \u001b[0;34m**\u001b[0m\u001b[0mkwds\u001b[0m\u001b[0;34m)\u001b[0m\u001b[0;34m\u001b[0m\u001b[0;34m\u001b[0m\u001b[0m\n\u001b[0m\u001b[1;32m    911\u001b[0m \u001b[0;34m\u001b[0m\u001b[0m\n\u001b[1;32m    912\u001b[0m       \u001b[0mnew_tracing_count\u001b[0m \u001b[0;34m=\u001b[0m \u001b[0mself\u001b[0m\u001b[0;34m.\u001b[0m\u001b[0mexperimental_get_tracing_count\u001b[0m\u001b[0;34m(\u001b[0m\u001b[0;34m)\u001b[0m\u001b[0;34m\u001b[0m\u001b[0;34m\u001b[0m\u001b[0m\n",
      "\u001b[0;32m~/anaconda3/lib/python3.7/site-packages/tensorflow/python/eager/def_function.py\u001b[0m in \u001b[0;36m_call\u001b[0;34m(self, *args, **kwds)\u001b[0m\n\u001b[1;32m    940\u001b[0m       \u001b[0;31m# In this case we have created variables on the first call, so we run the\u001b[0m\u001b[0;34m\u001b[0m\u001b[0;34m\u001b[0m\u001b[0;34m\u001b[0m\u001b[0m\n\u001b[1;32m    941\u001b[0m       \u001b[0;31m# defunned version which is guaranteed to never create variables.\u001b[0m\u001b[0;34m\u001b[0m\u001b[0;34m\u001b[0m\u001b[0;34m\u001b[0m\u001b[0m\n\u001b[0;32m--> 942\u001b[0;31m       \u001b[0;32mreturn\u001b[0m \u001b[0mself\u001b[0m\u001b[0;34m.\u001b[0m\u001b[0m_stateless_fn\u001b[0m\u001b[0;34m(\u001b[0m\u001b[0;34m*\u001b[0m\u001b[0margs\u001b[0m\u001b[0;34m,\u001b[0m \u001b[0;34m**\u001b[0m\u001b[0mkwds\u001b[0m\u001b[0;34m)\u001b[0m  \u001b[0;31m# pylint: disable=not-callable\u001b[0m\u001b[0;34m\u001b[0m\u001b[0;34m\u001b[0m\u001b[0m\n\u001b[0m\u001b[1;32m    943\u001b[0m     \u001b[0;32melif\u001b[0m \u001b[0mself\u001b[0m\u001b[0;34m.\u001b[0m\u001b[0m_stateful_fn\u001b[0m \u001b[0;32mis\u001b[0m \u001b[0;32mnot\u001b[0m \u001b[0;32mNone\u001b[0m\u001b[0;34m:\u001b[0m\u001b[0;34m\u001b[0m\u001b[0;34m\u001b[0m\u001b[0m\n\u001b[1;32m    944\u001b[0m       \u001b[0;31m# Release the lock early so that multiple threads can perform the call\u001b[0m\u001b[0;34m\u001b[0m\u001b[0;34m\u001b[0m\u001b[0;34m\u001b[0m\u001b[0m\n",
      "\u001b[0;32m~/anaconda3/lib/python3.7/site-packages/tensorflow/python/eager/function.py\u001b[0m in \u001b[0;36m__call__\u001b[0;34m(self, *args, **kwargs)\u001b[0m\n\u001b[1;32m   3129\u001b[0m        filtered_flat_args) = self._maybe_define_function(args, kwargs)\n\u001b[1;32m   3130\u001b[0m     return graph_function._call_flat(\n\u001b[0;32m-> 3131\u001b[0;31m         filtered_flat_args, captured_inputs=graph_function.captured_inputs)  # pylint: disable=protected-access\n\u001b[0m\u001b[1;32m   3132\u001b[0m \u001b[0;34m\u001b[0m\u001b[0m\n\u001b[1;32m   3133\u001b[0m   \u001b[0;34m@\u001b[0m\u001b[0mproperty\u001b[0m\u001b[0;34m\u001b[0m\u001b[0;34m\u001b[0m\u001b[0m\n",
      "\u001b[0;32m~/anaconda3/lib/python3.7/site-packages/tensorflow/python/eager/function.py\u001b[0m in \u001b[0;36m_call_flat\u001b[0;34m(self, args, captured_inputs, cancellation_manager)\u001b[0m\n\u001b[1;32m   1958\u001b[0m       \u001b[0;31m# No tape is watching; skip to running the function.\u001b[0m\u001b[0;34m\u001b[0m\u001b[0;34m\u001b[0m\u001b[0;34m\u001b[0m\u001b[0m\n\u001b[1;32m   1959\u001b[0m       return self._build_call_outputs(self._inference_function.call(\n\u001b[0;32m-> 1960\u001b[0;31m           ctx, args, cancellation_manager=cancellation_manager))\n\u001b[0m\u001b[1;32m   1961\u001b[0m     forward_backward = self._select_forward_and_backward_functions(\n\u001b[1;32m   1962\u001b[0m         \u001b[0margs\u001b[0m\u001b[0;34m,\u001b[0m\u001b[0;34m\u001b[0m\u001b[0;34m\u001b[0m\u001b[0m\n",
      "\u001b[0;32m~/anaconda3/lib/python3.7/site-packages/tensorflow/python/eager/function.py\u001b[0m in \u001b[0;36mcall\u001b[0;34m(self, ctx, args, cancellation_manager)\u001b[0m\n\u001b[1;32m    601\u001b[0m               \u001b[0minputs\u001b[0m\u001b[0;34m=\u001b[0m\u001b[0margs\u001b[0m\u001b[0;34m,\u001b[0m\u001b[0;34m\u001b[0m\u001b[0;34m\u001b[0m\u001b[0m\n\u001b[1;32m    602\u001b[0m               \u001b[0mattrs\u001b[0m\u001b[0;34m=\u001b[0m\u001b[0mattrs\u001b[0m\u001b[0;34m,\u001b[0m\u001b[0;34m\u001b[0m\u001b[0;34m\u001b[0m\u001b[0m\n\u001b[0;32m--> 603\u001b[0;31m               ctx=ctx)\n\u001b[0m\u001b[1;32m    604\u001b[0m         \u001b[0;32melse\u001b[0m\u001b[0;34m:\u001b[0m\u001b[0;34m\u001b[0m\u001b[0;34m\u001b[0m\u001b[0m\n\u001b[1;32m    605\u001b[0m           outputs = execute.execute_with_cancellation(\n",
      "\u001b[0;32m~/anaconda3/lib/python3.7/site-packages/tensorflow/python/eager/execute.py\u001b[0m in \u001b[0;36mquick_execute\u001b[0;34m(op_name, num_outputs, inputs, attrs, ctx, name)\u001b[0m\n\u001b[1;32m     57\u001b[0m     \u001b[0mctx\u001b[0m\u001b[0;34m.\u001b[0m\u001b[0mensure_initialized\u001b[0m\u001b[0;34m(\u001b[0m\u001b[0;34m)\u001b[0m\u001b[0;34m\u001b[0m\u001b[0;34m\u001b[0m\u001b[0m\n\u001b[1;32m     58\u001b[0m     tensors = pywrap_tfe.TFE_Py_Execute(ctx._handle, device_name, op_name,\n\u001b[0;32m---> 59\u001b[0;31m                                         inputs, attrs, num_outputs)\n\u001b[0m\u001b[1;32m     60\u001b[0m   \u001b[0;32mexcept\u001b[0m \u001b[0mcore\u001b[0m\u001b[0;34m.\u001b[0m\u001b[0m_NotOkStatusException\u001b[0m \u001b[0;32mas\u001b[0m \u001b[0me\u001b[0m\u001b[0;34m:\u001b[0m\u001b[0;34m\u001b[0m\u001b[0;34m\u001b[0m\u001b[0m\n\u001b[1;32m     61\u001b[0m     \u001b[0;32mif\u001b[0m \u001b[0mname\u001b[0m \u001b[0;32mis\u001b[0m \u001b[0;32mnot\u001b[0m \u001b[0;32mNone\u001b[0m\u001b[0;34m:\u001b[0m\u001b[0;34m\u001b[0m\u001b[0;34m\u001b[0m\u001b[0m\n",
      "\u001b[0;31mKeyboardInterrupt\u001b[0m: "
     ]
    }
   ],
   "metadata": {}
  },
  {
   "cell_type": "code",
   "execution_count": 497,
   "source": [
    "model = tuner.get_best_models(1)[0]"
   ],
   "outputs": [],
   "metadata": {}
  },
  {
   "cell_type": "code",
   "execution_count": 500,
   "source": [
    "model.compile(optimizer=Adam(learning_rate=0.0001), loss = 'mse', metrics = [\"mse\"])"
   ],
   "outputs": [],
   "metadata": {}
  },
  {
   "cell_type": "code",
   "execution_count": 508,
   "source": [
    "def create_model():\n",
    "    # create model\n",
    "    model = Sequential()\n",
    "    model.add(Dense(320, input_dim=X_tr.shape[1], activation='relu'))\n",
    "    model.add(Dense(384, activation='relu'))\n",
    "    model.add(Dense(352, activation='relu'))\n",
    "    model.add(Dense(448, activation='relu'))\n",
    "    model.add(Dense(160, activation='relu'))\n",
    "    model.add(Dense(160, activation='relu'))\n",
    "    model.add(Dense(32, activation='relu'))\n",
    "    model.add(Dense(1))\n",
    "    # Compile model\n",
    "    model.compile(optimizer=Adam(learning_rate=0.001), loss = 'mse', metrics = [\"mse\"])\n",
    "    return model\n",
    "model = create_model()\n",
    "model.summary()"
   ],
   "outputs": [
    {
     "output_type": "stream",
     "name": "stdout",
     "text": [
      "Model: \"sequential_1\"\n",
      "_________________________________________________________________\n",
      " Layer (type)                Output Shape              Param #   \n",
      "=================================================================\n",
      " dense_8 (Dense)             (None, 320)               16320     \n",
      "                                                                 \n",
      " dense_9 (Dense)             (None, 384)               123264    \n",
      "                                                                 \n",
      " dense_10 (Dense)            (None, 352)               135520    \n",
      "                                                                 \n",
      " dense_11 (Dense)            (None, 448)               158144    \n",
      "                                                                 \n",
      " dense_12 (Dense)            (None, 160)               71840     \n",
      "                                                                 \n",
      " dense_13 (Dense)            (None, 160)               25760     \n",
      "                                                                 \n",
      " dense_14 (Dense)            (None, 32)                5152      \n",
      "                                                                 \n",
      " dense_15 (Dense)            (None, 1)                 33        \n",
      "                                                                 \n",
      "=================================================================\n",
      "Total params: 536,033\n",
      "Trainable params: 536,033\n",
      "Non-trainable params: 0\n",
      "_________________________________________________________________\n"
     ]
    }
   ],
   "metadata": {}
  },
  {
   "cell_type": "code",
   "execution_count": 510,
   "source": [
    "early_stop = EarlyStopping(monitor='val_loss', mode='min', verbose=1, patience=10)\n",
    "history = model.fit(x=X_tr,y=y_tr,\n",
    "          validation_split=0.2,\n",
    "          batch_size=128, epochs=1000, callbacks=[early_stop])\n",
    "losses = pd.DataFrame(model.history.history)\n",
    "losses.plot()"
   ],
   "outputs": [
    {
     "output_type": "stream",
     "name": "stdout",
     "text": [
      "Epoch 1/1000\n",
      "146/146 [==============================] - 2s 12ms/step - loss: 0.0651 - mse: 0.0651 - val_loss: 0.0422 - val_mse: 0.0422\n",
      "Epoch 2/1000\n",
      "146/146 [==============================] - 2s 10ms/step - loss: 0.0698 - mse: 0.0698 - val_loss: 0.1019 - val_mse: 0.1019\n",
      "Epoch 3/1000\n",
      "146/146 [==============================] - 2s 13ms/step - loss: 0.0710 - mse: 0.0710 - val_loss: 0.0511 - val_mse: 0.0511\n",
      "Epoch 4/1000\n",
      "146/146 [==============================] - 2s 14ms/step - loss: 0.0444 - mse: 0.0444 - val_loss: 0.0413 - val_mse: 0.0413\n",
      "Epoch 5/1000\n",
      "146/146 [==============================] - 2s 11ms/step - loss: 0.0794 - mse: 0.0794 - val_loss: 0.0688 - val_mse: 0.0688\n",
      "Epoch 6/1000\n",
      "146/146 [==============================] - 2s 12ms/step - loss: 0.0624 - mse: 0.0624 - val_loss: 0.0762 - val_mse: 0.0762\n",
      "Epoch 7/1000\n",
      "146/146 [==============================] - 2s 12ms/step - loss: 0.0529 - mse: 0.0529 - val_loss: 0.1553 - val_mse: 0.1553\n",
      "Epoch 8/1000\n",
      "146/146 [==============================] - 2s 11ms/step - loss: 0.0708 - mse: 0.0708 - val_loss: 0.1855 - val_mse: 0.1855\n",
      "Epoch 9/1000\n",
      "146/146 [==============================] - 2s 11ms/step - loss: 0.0648 - mse: 0.0648 - val_loss: 0.0809 - val_mse: 0.0809\n",
      "Epoch 10/1000\n",
      "146/146 [==============================] - 2s 12ms/step - loss: 0.0618 - mse: 0.0618 - val_loss: 0.0896 - val_mse: 0.0896\n",
      "Epoch 11/1000\n",
      "146/146 [==============================] - 2s 12ms/step - loss: 0.0598 - mse: 0.0598 - val_loss: 0.0963 - val_mse: 0.0963\n",
      "Epoch 12/1000\n",
      "146/146 [==============================] - 2s 11ms/step - loss: 0.0628 - mse: 0.0628 - val_loss: 0.0440 - val_mse: 0.0440\n",
      "Epoch 13/1000\n",
      "146/146 [==============================] - 2s 12ms/step - loss: 0.0498 - mse: 0.0498 - val_loss: 0.0421 - val_mse: 0.0421\n",
      "Epoch 14/1000\n",
      "146/146 [==============================] - 2s 10ms/step - loss: 0.0557 - mse: 0.0557 - val_loss: 0.0763 - val_mse: 0.0763\n",
      "Epoch 00014: early stopping\n"
     ]
    },
    {
     "output_type": "execute_result",
     "data": {
      "text/plain": [
       "<AxesSubplot:>"
      ]
     },
     "metadata": {},
     "execution_count": 510
    },
    {
     "output_type": "display_data",
     "data": {
      "image/png": "[encoded data removed]",
      "text/plain": [
       "<Figure size 432x288 with 1 Axes>"
      ]
     },
     "metadata": {
      "needs_background": "light"
     }
    }
   ],
   "metadata": {}
  },
  {
   "cell_type": "markdown",
   "source": [
    "# Try some stacking."
   ],
   "metadata": {}
  },
  {
   "cell_type": "code",
   "execution_count": 323,
   "source": [
    "from sklearn.tree import DecisionTreeRegressor\n",
    "from sklearn.ensemble import RandomForestRegressor\n",
    "from sklearn.ensemble import AdaBoostRegressor\n",
    "from sklearn.ensemble import GradientBoostingRegressor\n",
    "import lightgbm as lgb\n",
    "from catboost import CatBoostRegressor\n",
    "import xgboost as xgb\n",
    "from sklearn.model_selection import train_test_split"
   ],
   "outputs": [],
   "metadata": {}
  },
  {
   "cell_type": "code",
   "execution_count": 324,
   "source": [
    "SEED = 42\n",
    "NFOLDS = 5\n",
    "\n",
    "def get_oof(clf, kf, x_train, y_train, x_test):\n",
    "    ntrain = x_train.shape[0]\n",
    "    ntest = x_test.shape[0]\n",
    "    oof_train = np.zeros((ntrain,))\n",
    "    oof_test = np.zeros((ntest,))\n",
    "    oof_test_skf = np.empty((NFOLDS, ntest))\n",
    "\n",
    "    for i, (train_index, test_index) in enumerate(kf.split(x_train, y_train)):\n",
    "        x_tr = x_train.iloc[train_index]\n",
    "        y_tr = y_train.iloc[train_index]\n",
    "        x_te = x_train.iloc[test_index]\n",
    "\n",
    "        clf.fit(x_tr, y_tr)\n",
    "\n",
    "        oof_train[test_index] = clf.predict(x_te)\n",
    "        oof_test_skf[i, :] = clf.predict(x_test)\n",
    "\n",
    "    oof_test[:] = oof_test_skf.mean(axis=0)\n",
    "    return oof_train.reshape(-1, 1), oof_test.reshape(-1, 1)"
   ],
   "outputs": [],
   "metadata": {}
  },
  {
   "cell_type": "code",
   "execution_count": 386,
   "source": [
    "rf_params = {\n",
    "    'n_estimators' : 100,\n",
    "    'criterion': 'mse',\n",
    "    'max_depth': None,\n",
    "    'min_weight_fraction_leaf': 0.0,\n",
    "    'max_features': 'auto',\n",
    "    'max_leaf_nodes': None,\n",
    "    'min_impurity_decrease': 0.0,\n",
    "    'bootstrap':True,\n",
    "    'oob_score': False,\n",
    "    'n_jobs': None,\n",
    "    'random_state': SEED,\n",
    "    'verbose': 0,\n",
    "    'warm_start': False,\n",
    "    'ccp_alpha': 0.0,\n",
    "    'max_samples': None\n",
    "}\n",
    "\n",
    "lgb_params = {\n",
    "    'num_leaves': 10,\n",
    "    'max_depth': 5, \n",
    "    'random_state':SEED, \n",
    "    'silent' : True, \n",
    "    'metric': 'mse',\n",
    "    'n_jobs': 4, \n",
    "    'n_estimators': 2000,\n",
    "    'colsample_bytree': 0.95,\n",
    "    'subsample': 0.9,\n",
    "    'learning_rate': 0.05\n",
    "}\n",
    "\n",
    "cb_params = {\n",
    "    'n_estimators': 500,\n",
    "    'learning_rate': 0.1,\n",
    "    'thread_count': -1,\n",
    "    'depth': 7,\n",
    "    'silent': True,\n",
    "    'random_seed': SEED,\n",
    "    'bagging_temperature': 0.2\n",
    "}\n",
    "\n",
    "ada_params = {\n",
    "    'n_estimators': 1000,\n",
    "    'learning_rate':0.05,\n",
    "    'loss': 'square',\n",
    "    'random_state': SEED\n",
    "}\n",
    "\n",
    "tree_params = {\n",
    "    'criterion': 'mse',\n",
    "    'max_depth': 5,\n",
    "    'min_samples_split': 4,\n",
    "    'min_samples_leaf': 2,\n",
    "    'random_state': SEED\n",
    "}\n",
    "\n",
    "gb_params = {\n",
    "    'learning_rate': 0.01,\n",
    "    'n_estimators':2000,\n",
    "    'subsample':1.0, \n",
    "    'criterion':'mse', \n",
    "    'min_samples_split':4, \n",
    "    'min_samples_leaf':2, \n",
    "    'min_weight_fraction_leaf':0.0, \n",
    "    'max_depth':9, \n",
    "    'min_impurity_decrease':0.0, \n",
    "    'init':None, \n",
    "    'random_state':42, \n",
    "    'max_features':None,\n",
    "    'alpha':0.9,\n",
    "    'verbose':0,\n",
    "    'max_leaf_nodes':None,\n",
    "    'warm_start':False,\n",
    "    'validation_fraction':0.1,\n",
    "    'n_iter_no_change':None,\n",
    "    'tol':0.0001,\n",
    "    'ccp_alpha': 0.0\n",
    "}"
   ],
   "outputs": [],
   "metadata": {}
  },
  {
   "cell_type": "code",
   "execution_count": 387,
   "source": [
    "model1 = RandomForestRegressor(**rf_params)\n",
    "model2 = lgb.LGBMRegressor(**lgb_params)\n",
    "model3 = CatBoostRegressor(**cb_params)\n",
    "model4 = AdaBoostRegressor(**ada_params)\n",
    "model5 = DecisionTreeRegressor(**tree_params)\n",
    "model6 = LinearRegression()\n",
    "model7 = GradientBoostingRegressor(**gb_params)"
   ],
   "outputs": [],
   "metadata": {}
  },
  {
   "cell_type": "code",
   "execution_count": 389,
   "source": [
    "kf = KFold(n_splits=NFOLDS, shuffle=True,random_state=SEED) \n",
    "\n",
    "gb_oof_train, gb_oof_test = get_oof(model7, kf, X_train, y, X_test)\n",
    "rf_oof_train, rf_oof_test = get_oof(model1, kf, X_train, y, X_test)\n",
    "lgbm_oof_train, lgbm_oof_test = get_oof(model2, kf, X_train, y, X_test)\n",
    "cb_oof_train, cb_oof_test = get_oof(model3, kf, X_train, y, X_test)\n",
    "ada_oof_train, ada_oof_test = get_oof(model4, kf, X_train, y, X_test)\n",
    "tree_oof_train, tree_oof_test = get_oof(model5, kf, X_train, y, X_test)\n",
    "linreg_oof_train, linreg_oof_test = get_oof(model6, kf, X_train, y, X_test)"
   ],
   "outputs": [],
   "metadata": {}
  },
  {
   "cell_type": "code",
   "execution_count": 390,
   "source": [
    "x_train = np.concatenate((\n",
    "            rf_oof_train,\n",
    "            lgbm_oof_train,\n",
    "            cb_oof_train,\n",
    "            ada_oof_train,\n",
    "            tree_oof_train,\n",
    "            linreg_oof_train,\n",
    "            gb_oof_train\n",
    "        ), axis=1)\n",
    "\n",
    "x_test = np.concatenate((\n",
    "    rf_oof_test,\n",
    "    lgbm_oof_test,\n",
    "    cb_oof_test,\n",
    "    ada_oof_test,\n",
    "    tree_oof_test,\n",
    "    linreg_oof_test,\n",
    "    gb_oof_test\n",
    "), axis=1)"
   ],
   "outputs": [],
   "metadata": {}
  },
  {
   "cell_type": "code",
   "execution_count": 375,
   "source": [
    "#LGB meta model\n",
    "\n",
    "META_MODEL = lgb.LGBMRegressor(\n",
    "    num_leaves=5,\n",
    "    max_depth=7, \n",
    "    random_state=SEED, \n",
    "    silent=True, \n",
    "    metric='mse',\n",
    "    n_jobs=4, \n",
    "    n_estimators=1000,\n",
    "    colsample_bytree=1,\n",
    "    subsample=0.9,\n",
    "    learning_rate=0.002\n",
    ")\n",
    "\n",
    "META_MODEL.fit(x_train, y)"
   ],
   "outputs": [
    {
     "output_type": "execute_result",
     "data": {
      "text/plain": [
       "LGBMRegressor(boosting_type='gbdt', class_weight=None, colsample_bytree=1,\n",
       "              importance_type='split', learning_rate=0.002, max_depth=7,\n",
       "              metric='mse', min_child_samples=20, min_child_weight=0.001,\n",
       "              min_split_gain=0.0, n_estimators=1000, n_jobs=4, num_leaves=5,\n",
       "              objective=None, random_state=42, reg_alpha=0.0, reg_lambda=0.0,\n",
       "              silent=True, subsample=0.9, subsample_for_bin=200000,\n",
       "              subsample_freq=0)"
      ]
     },
     "metadata": {},
     "execution_count": 375
    }
   ],
   "metadata": {}
  },
  {
   "cell_type": "code",
   "execution_count": 391,
   "source": [
    "# XGB meta model.\n",
    "param = {\n",
    "        'max_depth': 3, \n",
    "        'reg_alpha': 0.0012, 'reg_lambda': 0.003, \n",
    "        'min_child_weight': 0, 'gamma': 2, \n",
    "        'learning_rate': 0.0132, 'colsample_bytree': 0.45\n",
    "        }\n",
    "\n",
    "dtrain = xgb.DMatrix(x_train, label = y)\n",
    "META_MODEL = xgb.train(param, dtrain, num_boost_round=2000)"
   ],
   "outputs": [],
   "metadata": {}
  },
  {
   "cell_type": "code",
   "execution_count": 392,
   "source": [
    "dtest = xgb.DMatrix(x_test)\n",
    "preds = np.exp(META_MODEL.predict(dtest))\n",
    "submission = pd.DataFrame()\n",
    "submission['id'] = data_test.index\n",
    "submission['price_prediction'] = preds\n",
    "submission.to_csv('submissions/stack.csv', index=False)"
   ],
   "outputs": [],
   "metadata": {}
  },
  {
   "cell_type": "code",
   "execution_count": 379,
   "source": [
    "preds = np.exp(META_MODEL.predict(x_test)) * area_test\n",
    "submission = pd.DataFrame()\n",
    "submission['id'] = data_test.index\n",
    "submission['price_prediction'] = preds.values\n",
    "submission.to_csv('submissions/stack.csv', index=False)"
   ],
   "outputs": [],
   "metadata": {}
  },
  {
   "cell_type": "code",
   "execution_count": 380,
   "source": [
    "submission"
   ],
   "outputs": [
    {
     "output_type": "execute_result",
     "data": {
      "text/html": [
       "<div>\n",
       "<style scoped>\n",
       "    .dataframe tbody tr th:only-of-type {\n",
       "        vertical-align: middle;\n",
       "    }\n",
       "\n",
       "    .dataframe tbody tr th {\n",
       "        vertical-align: top;\n",
       "    }\n",
       "\n",
       "    .dataframe thead th {\n",
       "        text-align: right;\n",
       "    }\n",
       "</style>\n",
       "<table border=\"1\" class=\"dataframe\">\n",
       "  <thead>\n",
       "    <tr style=\"text-align: right;\">\n",
       "      <th></th>\n",
       "      <th>id</th>\n",
       "      <th>price_prediction</th>\n",
       "    </tr>\n",
       "  </thead>\n",
       "  <tbody>\n",
       "    <tr>\n",
       "      <th>0</th>\n",
       "      <td>23285</td>\n",
       "      <td>2.804098e+07</td>\n",
       "    </tr>\n",
       "    <tr>\n",
       "      <th>1</th>\n",
       "      <td>23286</td>\n",
       "      <td>9.647422e+06</td>\n",
       "    </tr>\n",
       "    <tr>\n",
       "      <th>2</th>\n",
       "      <td>23287</td>\n",
       "      <td>6.378363e+06</td>\n",
       "    </tr>\n",
       "    <tr>\n",
       "      <th>3</th>\n",
       "      <td>23288</td>\n",
       "      <td>9.269352e+06</td>\n",
       "    </tr>\n",
       "    <tr>\n",
       "      <th>4</th>\n",
       "      <td>23289</td>\n",
       "      <td>5.407428e+06</td>\n",
       "    </tr>\n",
       "    <tr>\n",
       "      <th>...</th>\n",
       "      <td>...</td>\n",
       "      <td>...</td>\n",
       "    </tr>\n",
       "    <tr>\n",
       "      <th>9932</th>\n",
       "      <td>33217</td>\n",
       "      <td>2.503058e+07</td>\n",
       "    </tr>\n",
       "    <tr>\n",
       "      <th>9933</th>\n",
       "      <td>33218</td>\n",
       "      <td>2.317493e+07</td>\n",
       "    </tr>\n",
       "    <tr>\n",
       "      <th>9934</th>\n",
       "      <td>33219</td>\n",
       "      <td>9.485919e+06</td>\n",
       "    </tr>\n",
       "    <tr>\n",
       "      <th>9935</th>\n",
       "      <td>33220</td>\n",
       "      <td>9.084187e+06</td>\n",
       "    </tr>\n",
       "    <tr>\n",
       "      <th>9936</th>\n",
       "      <td>33221</td>\n",
       "      <td>7.859554e+06</td>\n",
       "    </tr>\n",
       "  </tbody>\n",
       "</table>\n",
       "<p>9937 rows × 2 columns</p>\n",
       "</div>"
      ],
      "text/plain": [
       "         id  price_prediction\n",
       "0     23285      2.804098e+07\n",
       "1     23286      9.647422e+06\n",
       "2     23287      6.378363e+06\n",
       "3     23288      9.269352e+06\n",
       "4     23289      5.407428e+06\n",
       "...     ...               ...\n",
       "9932  33217      2.503058e+07\n",
       "9933  33218      2.317493e+07\n",
       "9934  33219      9.485919e+06\n",
       "9935  33220      9.084187e+06\n",
       "9936  33221      7.859554e+06\n",
       "\n",
       "[9937 rows x 2 columns]"
      ]
     },
     "metadata": {},
     "execution_count": 380
    }
   ],
   "metadata": {}
  },
  {
   "cell_type": "code",
   "execution_count": 349,
   "source": [
    "def objective(trial, X, y):\n",
    "\n",
    "    param = {   'booster': 'gbtree',\n",
    "                'max_depth':trial.suggest_int('max_depth', 1, 11),\n",
    "                'reg_alpha':trial.suggest_loguniform('reg_alpha', 1e-8, 1.0),\n",
    "                'reg_lambda':trial.suggest_loguniform('reg_lambda', 1e-8, 1.0),\n",
    "                'min_child_weight':trial.suggest_int('min_child_weight', 0, 5),\n",
    "                'gamma':trial.suggest_int('gamma', 0, 5),\n",
    "                'learning_rate':trial.suggest_loguniform('learning_rate',0.001,0.5),\n",
    "                'colsample_bytree':trial.suggest_discrete_uniform('colsample_bytree',0.1,1,0.01),\n",
    "                'nthread' : -1\n",
    "    }\n",
    "    \n",
    "    cv = KFold(n_splits=5, shuffle=True, random_state=42)\n",
    "    cv_scores = np.empty(5)\n",
    "\n",
    "    for idx, (train_idx, test_idx) in enumerate(cv.split(X, y)):\n",
    "        X_train, X_test = X[train_idx], X[test_idx]\n",
    "        y_train, y_test = y[train_idx], y[test_idx]\n",
    "\n",
    "        kf = KFold(\n",
    "            n_splits=NFOLDS,\n",
    "            shuffle=True,\n",
    "            random_state=SEED\n",
    "        ) \n",
    "\n",
    "        dtrain = xgb.DMatrix(X_train, label=y_train)\n",
    "        META_MODEL = xgb.train(param, dtrain, \n",
    "                                num_boost_round=1000)\n",
    "\n",
    "        dtest = xgb.DMatrix(X_test)\n",
    "        preds = np.exp(META_MODEL.predict(dtest)) \n",
    "        y_true = np.exp(y_test)\n",
    "        cv_scores[idx] = rmlse(y_true, preds)\n",
    "\n",
    "    return np.mean(cv_scores)"
   ],
   "outputs": [],
   "metadata": {}
  },
  {
   "cell_type": "code",
   "execution_count": 350,
   "source": [
    "study = optuna.create_study(direction=\"minimize\", study_name=\"Stack\")\n",
    "func = lambda trial: objective(trial, x_train, y)\n",
    "study.optimize(func, n_trials=10)"
   ],
   "outputs": [
    {
     "output_type": "stream",
     "name": "stderr",
     "text": [
      "\u001b[32m[I 2021-11-09 14:34:40,544]\u001b[0m A new study created in memory with name: Stack\u001b[0m\n",
      "\u001b[32m[I 2021-11-09 14:35:25,246]\u001b[0m Trial 0 finished with value: 0.14359774189705152 and parameters: {'max_depth': 3, 'reg_alpha': 0.05016170687237439, 'reg_lambda': 1.8409016717703767e-07, 'min_child_weight': 1, 'gamma': 0, 'learning_rate': 0.07685304923301955, 'colsample_bytree': 0.84}. Best is trial 0 with value: 0.14359774189705152.\u001b[0m\n",
      "\u001b[32m[I 2021-11-09 14:37:07,437]\u001b[0m Trial 1 finished with value: 0.1469716296421057 and parameters: {'max_depth': 8, 'reg_alpha': 9.814099441526654e-06, 'reg_lambda': 0.006447914672796177, 'min_child_weight': 2, 'gamma': 3, 'learning_rate': 0.07580301008496847, 'colsample_bytree': 0.58}. Best is trial 0 with value: 0.14359774189705152.\u001b[0m\n",
      "\u001b[32m[I 2021-11-09 14:37:33,092]\u001b[0m Trial 2 finished with value: 0.19573610780300438 and parameters: {'max_depth': 2, 'reg_alpha': 3.0247227897893424e-06, 'reg_lambda': 6.939181180876434e-05, 'min_child_weight': 5, 'gamma': 3, 'learning_rate': 0.004806372915925098, 'colsample_bytree': 0.58}. Best is trial 0 with value: 0.14359774189705152.\u001b[0m\n",
      "\u001b[32m[I 2021-11-09 14:39:26,958]\u001b[0m Trial 3 finished with value: 0.18420534415458198 and parameters: {'max_depth': 10, 'reg_alpha': 0.004730025139908154, 'reg_lambda': 0.0005990351118842094, 'min_child_weight': 1, 'gamma': 3, 'learning_rate': 0.014482162828910442, 'colsample_bytree': 0.19}. Best is trial 0 with value: 0.14359774189705152.\u001b[0m\n",
      "\u001b[32m[I 2021-11-09 14:39:48,933]\u001b[0m Trial 4 finished with value: 0.14682304976215868 and parameters: {'max_depth': 2, 'reg_alpha': 5.8356086072394326e-06, 'reg_lambda': 0.0021101948245357033, 'min_child_weight': 4, 'gamma': 0, 'learning_rate': 0.017210785124932126, 'colsample_bytree': 0.49}. Best is trial 0 with value: 0.14359774189705152.\u001b[0m\n",
      "\u001b[32m[I 2021-11-09 14:40:21,995]\u001b[0m Trial 5 finished with value: 0.15350274929991473 and parameters: {'max_depth': 3, 'reg_alpha': 6.988610522586043e-07, 'reg_lambda': 0.0019154242267513373, 'min_child_weight': 4, 'gamma': 3, 'learning_rate': 0.010146470502227759, 'colsample_bytree': 0.42000000000000004}. Best is trial 0 with value: 0.14359774189705152.\u001b[0m\n",
      "\u001b[32m[I 2021-11-09 14:41:22,496]\u001b[0m Trial 6 finished with value: 5.2205005651416085 and parameters: {'max_depth': 8, 'reg_alpha': 0.3115064397093861, 'reg_lambda': 0.06551376084743293, 'min_child_weight': 5, 'gamma': 5, 'learning_rate': 0.0011169567807140378, 'colsample_bytree': 0.75}. Best is trial 0 with value: 0.14359774189705152.\u001b[0m\n",
      "\u001b[32m[I 2021-11-09 14:42:45,376]\u001b[0m Trial 7 finished with value: 0.17146118460907825 and parameters: {'max_depth': 10, 'reg_alpha': 3.160144379062478e-05, 'reg_lambda': 0.00010494850492804382, 'min_child_weight': 1, 'gamma': 1, 'learning_rate': 0.15239000383553375, 'colsample_bytree': 0.23}. Best is trial 0 with value: 0.14359774189705152.\u001b[0m\n",
      "\u001b[32m[I 2021-11-09 14:43:50,862]\u001b[0m Trial 8 finished with value: 0.14893221460305525 and parameters: {'max_depth': 7, 'reg_alpha': 1.663920372732707e-07, 'reg_lambda': 4.086764300107272e-08, 'min_child_weight': 3, 'gamma': 3, 'learning_rate': 0.20189785846088995, 'colsample_bytree': 0.45000000000000007}. Best is trial 0 with value: 0.14359774189705152.\u001b[0m\n",
      "\u001b[32m[I 2021-11-09 14:45:36,298]\u001b[0m Trial 9 finished with value: 0.15397261082578612 and parameters: {'max_depth': 10, 'reg_alpha': 0.08036813829666728, 'reg_lambda': 0.0005801345341580545, 'min_child_weight': 5, 'gamma': 4, 'learning_rate': 0.05317007783161831, 'colsample_bytree': 0.44000000000000006}. Best is trial 0 with value: 0.14359774189705152.\u001b[0m\n"
     ]
    }
   ],
   "metadata": {}
  },
  {
   "cell_type": "code",
   "execution_count": 351,
   "source": [
    "dtrain = xgb.DMatrix(x_train, label= y)\n",
    "META_MODEL = xgb.train(study.best_params, dtrain, num_boost_round=1000)"
   ],
   "outputs": [],
   "metadata": {}
  },
  {
   "cell_type": "code",
   "execution_count": 352,
   "source": [
    "dtest = xgb.DMatrix(x_test)\n",
    "preds = np.exp(META_MODEL.predict(dtest))\n",
    "submission = pd.DataFrame()\n",
    "submission['id'] = data_test.index\n",
    "submission['price_prediction'] = preds\n",
    "submission.to_csv('submissions/stack.csv', index=False)"
   ],
   "outputs": [],
   "metadata": {}
  }
 ],
 "metadata": {
  "orig_nbformat": 4,
  "language_info": {
   "name": "python",
   "version": "3.7.3",
   "mimetype": "text/x-python",
   "codemirror_mode": {
    "name": "ipython",
    "version": 3
   },
   "pygments_lexer": "ipython3",
   "nbconvert_exporter": "python",
   "file_extension": ".py"
  },
  "kernelspec": {
   "name": "python3",
   "display_name": "Python 3.7.3 64-bit ('base': conda)"
  },
  "interpreter": {
   "hash": "675e4d1f4971b295d587632b2ddd77135b95b56ce96661a1d369a7e57f4b577d"
  }
 },
 "nbformat": 4,
 "nbformat_minor": 2
}
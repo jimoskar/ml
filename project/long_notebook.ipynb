{
 "cells": [
  {
   "cell_type": "code",
   "execution_count": 1,
   "metadata": {},
   "outputs": [],
   "source": [
    "import json\n",
    "import pandas as pd \n",
    "import numpy as np \n",
    "import matplotlib.pyplot as plt \n",
    "import seaborn as sns \n",
    "\n",
    "np.random.seed(123)\n",
    "sns.set_style('darkgrid')\n",
    "pd.set_option('display.max_colwidth', None)"
   ]
  },
  {
   "cell_type": "markdown",
   "metadata": {},
   "source": [
    "# Overview\n",
    "## Loadin data and utilities etc\n",
    "## Basic EDA\n",
    "- Pairs plot and correlation matrix\n",
    "- Exploring NaN-values and groups\n",
    "## Data cleaning\n",
    "- Fixing building with wrong coords.\n",
    "- Imputing some features?\n",
    "## Feature engineering\n",
    "- bathrooms_total, windows, ballog etc.\n",
    "- metro, park and square distance\n",
    "## Modeling\n",
    "- PyTorch\n",
    "- Random Forest, sklearn etc.\n",
    "- LightGBM\n",
    "- XGBoost\n",
    "- CatBoost\n",
    "- Combinations, stacking?"
   ]
  },
  {
   "cell_type": "markdown",
   "metadata": {},
   "source": [
    "# Utilities "
   ]
  },
  {
   "cell_type": "code",
   "execution_count": 30,
   "metadata": {},
   "outputs": [],
   "source": [
    "def root_mean_squared_log_error(y_true, y_pred):\n",
    "    # Alternatively: sklearn.metrics.mean_squared_log_error(y_true, y_pred) ** 0.5\n",
    "    assert (y_true >= 0).all() \n",
    "    assert (y_pred >= 0).all()\n",
    "    log_error = np.log1p(y_pred) - np.log1p(y_true)  # Note: log1p(x) = log(1 + x)\n",
    "    return np.mean(log_error ** 2) ** 0.5\n",
    "\n",
    "def check_if_has_nans(df):\n",
    "    a = df.isna().any()\n",
    "    print(\"The following columns have no NaN-values: \")\n",
    "    for pairs in a.items():\n",
    "        if(not pairs[1]):\n",
    "            print(pairs[0])\n",
    "        "
   ]
  },
  {
   "cell_type": "markdown",
   "metadata": {},
   "source": [
    "# Load Data"
   ]
  },
  {
   "cell_type": "code",
   "execution_count": 45,
   "metadata": {},
   "outputs": [
    {
     "name": "stdout",
     "output_type": "stream",
     "text": [
      "The following columns have no NaN-values: \n",
      "id\n",
      "price\n",
      "area_total\n",
      "floor\n",
      "rooms\n",
      "building_id\n",
      "latitude\n",
      "longitude\n",
      "street\n",
      "address\n",
      "stories\n",
      "The following columns have no NaN-values: \n",
      "id\n",
      "area_total\n",
      "floor\n",
      "rooms\n",
      "building_id\n",
      "street\n",
      "address\n",
      "stories\n"
     ]
    }
   ],
   "source": [
    "apartments = pd.read_csv('resources/data/apartments_train.csv')\n",
    "buildings = pd.read_csv('resources/data/buildings_train.csv')\n",
    "data = pd.merge(apartments, buildings.set_index('id'), how='left', left_on='building_id', right_index=True)\n",
    "\n",
    "apartments_test = pd.read_csv('resources/data/apartments_test.csv')\n",
    "buildings_test = pd.read_csv('resources/data/buildings_test.csv')\n",
    "data_test = pd.merge(apartments_test, buildings_test.set_index('id'), how='left', left_on='building_id', right_index=True)\n",
    "\n",
    "check_if_has_nans(data)\n",
    "check_if_has_nans(data_test)"
   ]
  },
  {
   "cell_type": "markdown",
   "metadata": {},
   "source": [
    "# Linear Regression"
   ]
  },
  {
   "cell_type": "code",
   "execution_count": 47,
   "metadata": {},
   "outputs": [
    {
     "name": "stdout",
     "output_type": "stream",
     "text": [
      "18696      7500000.0\n",
      "3747      12647097.0\n",
      "10268    207600000.0\n",
      "18701      7556237.0\n",
      "3659      59100000.0\n",
      "            ...     \n",
      "143        5300000.0\n",
      "12251     12900000.0\n",
      "16373     29960000.0\n",
      "23171      5847957.0\n",
      "20996     12000000.0\n",
      "Name: price, Length: 15600, dtype: float64\n"
     ]
    }
   ],
   "source": [
    "from sklearn.linear_model import LinearRegression\n",
    "import sklearn.model_selection as model_selection\n",
    "\n",
    "data_train, data_valid = model_selection.train_test_split(data, test_size=0.33, stratify=np.log(data.price).round())\n",
    "\n",
    "X_train = data_train[['latitude', 'longitude', 'area_total', 'floor', 'rooms', 'stories']]\n",
    "y_train = data_train.loc[X_train.index].price\n",
    "X_valid = data_valid[['latitude', 'longitude', 'area_total', 'floor', 'rooms', 'stories']]\n",
    "y_valid = data_valid.loc[X_valid.index].price\n",
    "\n",
    "linreg = LinearRegression(normalize= True).fit(X_train, y_train)\n",
    "preds_train = linreg.predict(X_train)\n",
    "preds_valid = linreg.predict(X_valid)\n",
    "\n",
    "# GET NEGATIVE VALUES from regression ://\n",
    "#print(root_mean_squared_log_error(preds_train, y_train))\n",
    "#print(root_mean_squared_log_error(preds_valid, y_valid))\n"
   ]
  },
  {
   "cell_type": "markdown",
   "metadata": {},
   "source": [
    "# Random Forest"
   ]
  },
  {
   "cell_type": "code",
   "execution_count": 49,
   "metadata": {},
   "outputs": [
    {
     "name": "stdout",
     "output_type": "stream",
     "text": [
      "0.5684917177129843\n",
      "0.5738513556218434\n"
     ]
    }
   ],
   "source": [
    "from sklearn.ensemble import RandomForestRegressor\n",
    "\n",
    "rf = RandomForestRegressor(n_estimators = 1000, max_depth=2).fit(X_train, y_train)\n",
    "preds_train = rf.predict(X_train)\n",
    "preds_valid = rf.predict(X_valid)\n",
    "# Pretty darn shitty results\n",
    "print(root_mean_squared_log_error(preds_train, y_train))\n",
    "print(root_mean_squared_log_error(preds_valid, y_valid))\n"
   ]
  },
  {
   "cell_type": "code",
   "execution_count": null,
   "metadata": {},
   "outputs": [],
   "source": []
  },
  {
   "cell_type": "code",
   "execution_count": null,
   "metadata": {},
   "outputs": [],
   "source": []
  },
  {
   "cell_type": "code",
   "execution_count": null,
   "metadata": {},
   "outputs": [],
   "source": []
  },
  {
   "cell_type": "code",
   "execution_count": null,
   "metadata": {},
   "outputs": [],
   "source": []
  },
  {
   "cell_type": "code",
   "execution_count": null,
   "metadata": {},
   "outputs": [],
   "source": []
  },
  {
   "cell_type": "code",
   "execution_count": null,
   "metadata": {},
   "outputs": [],
   "source": []
  },
  {
   "cell_type": "code",
   "execution_count": null,
   "metadata": {},
   "outputs": [],
   "source": []
  },
  {
   "cell_type": "code",
   "execution_count": null,
   "metadata": {},
   "outputs": [],
   "source": []
  }
 ],
 "metadata": {
  "interpreter": {
   "hash": "675e4d1f4971b295d587632b2ddd77135b95b56ce96661a1d369a7e57f4b577d"
  },
  "kernelspec": {
   "display_name": "Python 3 (ipykernel)",
   "language": "python",
   "name": "python3"
  },
  "language_info": {
   "codemirror_mode": {
    "name": "ipython",
    "version": 3
   },
   "file_extension": ".py",
   "mimetype": "text/x-python",
   "name": "python",
   "nbconvert_exporter": "python",
   "pygments_lexer": "ipython3",
   "version": "3.9.7"
  }
 },
 "nbformat": 4,
 "nbformat_minor": 4
}

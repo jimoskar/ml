{
 "cells": [
  {
   "cell_type": "code",
   "execution_count": 2,
   "source": [
    "import json\n",
    "import pandas as pd \n",
    "import numpy as np \n",
    "import matplotlib.pyplot as plt \n",
    "import seaborn as sns \n",
    "import lightgbm as lgb\n",
    "import sklearn.model_selection as model_selection\n",
    "import contextily as cx\n",
    "import geopandas as gpd\n",
    "\n",
    "gpd.io.file.fiona.drvsupport.supported_drivers[\"KML\"] = \"rw\""
   ],
   "outputs": [
    {
     "output_type": "stream",
     "name": "stderr",
     "text": [
      "/Users/jimtotland/anaconda3/lib/python3.7/site-packages/dask/dataframe/utils.py:15: FutureWarning: pandas.util.testing is deprecated. Use the functions in the public API at pandas.testing instead.\n",
      "  import pandas.util.testing as tm\n"
     ]
    }
   ],
   "metadata": {}
  },
  {
   "cell_type": "markdown",
   "source": [
    "# TODO:\n",
    "- Try scaling the response differently\n",
    "- Try transforming numerical features."
   ],
   "metadata": {}
  },
  {
   "cell_type": "code",
   "execution_count": 3,
   "source": [
    "# Utils\n",
    "\n",
    "def rmlse(y_true, y_pred):\n",
    "    # Alternatively: sklearn.metrics.mean_squared_log_error(y_true, y_pred) ** 0.5\n",
    "    assert (y_true >= 0).all() \n",
    "    assert (y_pred >= 0).all()\n",
    "    log_error = np.log1p(y_pred) - np.log1p(y_true)  # Note: log1p(x) = log(1 + x)\n",
    "    return np.mean(log_error ** 2) ** 0.5"
   ],
   "outputs": [],
   "metadata": {}
  },
  {
   "cell_type": "markdown",
   "source": [
    "## Creating feature for park and metro distance"
   ],
   "metadata": {}
  },
  {
   "cell_type": "code",
   "execution_count": 4,
   "source": [
    "# import data \n",
    "\n",
    "# Read the apartment datasets\n",
    "apartments_train = pd.read_csv(\"resources/data/apartments_train.csv\").set_index(\"id\")\n",
    "apartments_train[\"split\"] = \"train\"\n",
    "apartments_test = pd.read_csv(\"resources/data/apartments_test.csv\").set_index(\"id\")\n",
    "apartments_test[\"split\"] = \"test\"\n",
    "\n",
    "# Create a DataFrame of all apartments\n",
    "apartments = pd.concat([apartments_train, apartments_test])\n",
    "\n",
    "# Read the building datasets\n",
    "buildings_train = pd.read_csv(\"resources/data/buildings_train.csv\").set_index(\"id\")\n",
    "buildings_train[\"split\"] = \"train\"\n",
    "buildings_test = pd.read_csv(\"resources/data/buildings_test.csv\").set_index(\"id\")\n",
    "buildings_test[\"split\"] = \"test\"\n",
    "\n",
    "# Create a GeoDataFrame of all buildings\n",
    "buildings = pd.concat([buildings_train, buildings_test])\n",
    "buildings = gpd.GeoDataFrame(buildings, geometry=gpd.points_from_xy(\n",
    "    buildings.longitude, buildings.latitude, crs=\"EPSG:4326\"\n",
    "))"
   ],
   "outputs": [],
   "metadata": {}
  },
  {
   "cell_type": "code",
   "execution_count": 5,
   "source": [
    "# Find all buildings missing coordinates\n",
    "no_coords = buildings.latitude.isna() | buildings.longitude.isna()\n",
    "street = buildings[~no_coords & (buildings.street == \"пос. Коммунарка\")]\n",
    "\n",
    "buildings.loc[no_coords, \"latitude\"] = street.latitude.mean()\n",
    "buildings.loc[no_coords, \"longitude\"] = street.longitude.mean()\n",
    "buildings.loc[no_coords, \"district\"] = street.district.mode()[0]"
   ],
   "outputs": [],
   "metadata": {}
  },
  {
   "cell_type": "code",
   "execution_count": 6,
   "source": [
    "# The coordinates of the southwest and northeast corners of a rectangle approximately encompassing Moscow\n",
    "MOSCOW_SW_LAT = 55\n",
    "MOSCOW_SW_LON = 35\n",
    "MOSCOW_NE_LAT = 57\n",
    "MOSCOW_NE_LON = 39"
   ],
   "outputs": [],
   "metadata": {}
  },
  {
   "cell_type": "code",
   "execution_count": 7,
   "source": [
    "# Find all buildings with coordinates outside of Moscow\n",
    "outside = (((buildings.latitude < MOSCOW_SW_LAT) | (buildings.latitude > MOSCOW_NE_LAT)\n",
    "          | (buildings.longitude < MOSCOW_SW_LON) | (buildings.longitude > MOSCOW_NE_LON)))\n",
    "buildings[outside][[\"split\", \"latitude\", \"longitude\", \"district\", \"street\", \"address\", \"constructed\", \"material\", \"stories\"]]\n",
    "\n",
    "for idx, building in buildings[outside].iterrows():\n",
    "    street = buildings[~outside & (buildings.street == building.street)]\n",
    "    if len(street):\n",
    "        buildings.loc[idx, \"latitude\"] = street.latitude.mean()\n",
    "        buildings.loc[idx, \"longitude\"] = street.longitude.mean()\n",
    "        buildings.loc[idx, \"district\"] = street.district.mode()[0]\n",
    "    else:\n",
    "        buildings.loc[idx, \"latitude\"] = buildings[~outside].latitude.mean()\n",
    "        buildings.loc[idx, \"longitude\"] = buildings[~outside].longitude.mean()"
   ],
   "outputs": [],
   "metadata": {}
  },
  {
   "cell_type": "code",
   "execution_count": 8,
   "source": [
    "no_district = buildings.district.isna()\n",
    "districts = buildings.loc[no_district].apply(\n",
    "    lambda b: buildings.loc[\n",
    "        (buildings[~no_district][[\"latitude\", \"longitude\"]] - b[[\"latitude\", \"longitude\"]]).abs().sum(axis=1).idxmin()\n",
    "    ].district,\n",
    "    axis=1\n",
    ")\n",
    "districts.rename(\"district\", inplace=True)\n",
    "buildings.update(districts)\n"
   ],
   "outputs": [],
   "metadata": {}
  },
  {
   "cell_type": "code",
   "execution_count": 9,
   "source": [
    "stations = gpd.read_file(\"resources/metro_stations.kml\", driver=\"KML\").drop(columns=[\"Description\"]).rename(columns={\"Name\": \"name\"})\n",
    "\n",
    "# The Earth's radius in meters\n",
    "EARTH_RADIUS = 6371000\n",
    "\n",
    "# Create temporary columns for coordinates given in radians\n",
    "stations[\"lon_rad\"] = np.radians(stations.geometry.x)\n",
    "stations[\"lat_rad\"] = np.radians(stations.geometry.y)\n",
    "buildings[\"lon_rad\"] = np.radians(buildings.longitude)\n",
    "buildings[\"lat_rad\"] = np.radians(buildings.latitude)\n",
    "\n",
    "# Calculate the distance to the nearest metro station for each building using\n",
    "# the haversine formula with the Earth's radius as given above\n",
    "buildings[\"metro_distance\"] = buildings.apply(\n",
    "    lambda row: np.min(\n",
    "        2\n",
    "        * EARTH_RADIUS\n",
    "        * np.arcsin(\n",
    "            np.sqrt(\n",
    "                np.sin((stations.lat_rad - row.lat_rad) / 2) ** 2\n",
    "                + np.cos(row.lat_rad)\n",
    "                * np.cos(stations.lat_rad)\n",
    "                * np.sin((stations.lon_rad - row.lon_rad) / 2) ** 2\n",
    "            )\n",
    "        )\n",
    "    ),\n",
    "    axis=1,\n",
    ")\n"
   ],
   "outputs": [],
   "metadata": {}
  },
  {
   "cell_type": "code",
   "execution_count": 10,
   "source": [
    "# Read park and garden location data\n",
    "parks = gpd.read_file(\"resources/parks_and_gardens.kml\", driver=\"KML\").drop(columns=[\"Description\"]).rename(columns={\"Name\": \"name\"})\n",
    "\n",
    "# Create columns for coordinates given in radians\n",
    "parks[\"lon_rad\"] = np.radians(parks.geometry.x)\n",
    "parks[\"lat_rad\"] = np.radians(parks.geometry.y)\n",
    "\n",
    "# Calculate the distance to the nearest park or garden for each building using\n",
    "# the haversine formula with the Earth's radius as given above\n",
    "buildings[\"park_distance\"] = buildings.apply(\n",
    "    lambda row: np.min(\n",
    "        2\n",
    "        * EARTH_RADIUS\n",
    "        * np.arcsin(\n",
    "            np.sqrt(\n",
    "                np.sin((parks.lat_rad - row.lat_rad) / 2) ** 2\n",
    "                + np.cos(row.lat_rad)\n",
    "                * np.cos(parks.lat_rad)\n",
    "                * np.sin((parks.lon_rad - row.lon_rad) / 2) ** 2\n",
    "            )\n",
    "        )\n",
    "    ),\n",
    "    axis=1,\n",
    ")\n",
    "\n",
    "# Drop the temporary radian columns\n",
    "stations.drop(columns=[\"lon_rad\", \"lat_rad\"], inplace=True)\n",
    "buildings.drop(columns=[\"lon_rad\", \"lat_rad\"], inplace=True)"
   ],
   "outputs": [],
   "metadata": {}
  },
  {
   "cell_type": "code",
   "execution_count": 11,
   "source": [
    "buildings_train = buildings.loc[buildings[\"split\"] == \"train\", :]\n",
    "buildings_train.drop(columns = \"split\", inplace = True)\n",
    "apartments = pd.read_csv('resources/data/apartments_train.csv')\n",
    "data = pd.merge(apartments, buildings_train, how='left', left_on='building_id', right_index=True)\n",
    "\n",
    "buildings_test = buildings.loc[buildings[\"split\"] == \"test\", :]\n",
    "buildings_test.drop(columns = \"split\", inplace = True)\n",
    "apartments_test = pd.read_csv('resources/data/apartments_test.csv')\n",
    "data_test = pd.merge(apartments_test, buildings_test, how='left', left_on='building_id', right_index=True)"
   ],
   "outputs": [
    {
     "output_type": "stream",
     "name": "stderr",
     "text": [
      "/Users/jimtotland/anaconda3/lib/python3.7/site-packages/pandas/core/frame.py:4315: SettingWithCopyWarning: \n",
      "A value is trying to be set on a copy of a slice from a DataFrame\n",
      "\n",
      "See the caveats in the documentation: https://pandas.pydata.org/pandas-docs/stable/user_guide/indexing.html#returning-a-view-versus-a-copy\n",
      "  errors=errors,\n"
     ]
    }
   ],
   "metadata": {}
  },
  {
   "cell_type": "markdown",
   "source": [
    "## Some EDA shit"
   ],
   "metadata": {}
  },
  {
   "cell_type": "code",
   "execution_count": 12,
   "source": [
    "data[\"price\"].corr(data['park_distance'])\n",
    "data['log_price']= np.log(data['price'])\n",
    "sns.lmplot('park_distance', 'log_price', data=data, hue= 'district', fit_reg=False, scatter_kws={\"s\": 10})"
   ],
   "outputs": [
    {
     "output_type": "stream",
     "name": "stderr",
     "text": [
      "/Users/jimtotland/anaconda3/lib/python3.7/site-packages/seaborn/_decorators.py:43: FutureWarning: Pass the following variables as keyword args: x, y. From version 0.12, the only valid positional argument will be `data`, and passing other arguments without an explicit keyword will result in an error or misinterpretation.\n",
      "  FutureWarning\n"
     ]
    },
    {
     "output_type": "execute_result",
     "data": {
      "text/plain": [
       "<seaborn.axisgrid.FacetGrid at 0x7fa40c182470>"
      ]
     },
     "metadata": {},
     "execution_count": 12
    },
    {
     "output_type": "display_data",
     "data": {
      "image/png": "[encoded data removed]",
      "text/plain": [
       "<Figure size 418.25x360 with 1 Axes>"
      ]
     },
     "metadata": {
      "needs_background": "light"
     }
    }
   ],
   "metadata": {}
  },
  {
   "cell_type": "code",
   "execution_count": 158,
   "source": [
    "sns.heatmap(data[['latitude', 'longitude', 'constructed', 'area_total', 'rooms', 'metro_distance', 'district', 'park_distance', 'price']].corr(),annot=True,cmap='RdYlGn',linewidths=0.2) #data.corr()-->correlation matrix\n",
    "fig=plt.gcf()\n",
    "fig.set_size_inches(10,8)\n",
    "plt.show()"
   ],
   "outputs": [
    {
     "output_type": "display_data",
     "data": {
      "image/png": "[encoded data removed]",
      "text/plain": [
       "<Figure size 720x576 with 2 Axes>"
      ]
     },
     "metadata": {
      "needs_background": "light"
     }
    }
   ],
   "metadata": {}
  },
  {
   "cell_type": "markdown",
   "source": [
    "## Rough LightGBM model with train-test split"
   ],
   "metadata": {}
  },
  {
   "cell_type": "code",
   "execution_count": 151,
   "source": [
    "import sklearn.model_selection as model_selection\n",
    "\n",
    "data_train, data_valid = model_selection.train_test_split(data, test_size=0.33, stratify=np.log(data.price).round())"
   ],
   "outputs": [],
   "metadata": {}
  },
  {
   "cell_type": "code",
   "execution_count": 15,
   "source": [
    "features = ['latitude', 'longitude', 'constructed', 'area_total', 'rooms', 'metro_distance', 'district', 'park_distance', 'material', 'condition', 'heating']\n",
    "X_train = data_train[features]\n",
    "y_train = data_train.loc[X_train.index].price\n",
    "X_valid = data_valid[features]\n",
    "y_valid = data_valid.loc[X_valid.index].price\n",
    "\n",
    "\n",
    "lgb_mod = lgb.LGBMRegressor(\n",
    "    num_leaves=10,\n",
    "    max_depth=5, \n",
    "    random_state=42, \n",
    "    silent=True, \n",
    "    metric='rmse',\n",
    "    n_jobs=4, \n",
    "    n_estimators=2000,\n",
    "    colsample_bytree=0.95,\n",
    "    subsample=0.9,\n",
    "    learning_rate=0.05,\n",
    "    categorical_feature= 'name:district',\n",
    "    seed = 42\n",
    ")\n",
    "\n",
    "lgb_mod.fit(X_train, np.log(y_train))"
   ],
   "outputs": [
    {
     "output_type": "error",
     "ename": "NameError",
     "evalue": "name 'data_train' is not defined",
     "traceback": [
      "\u001b[0;31m---------------------------------------------------------------------------\u001b[0m",
      "\u001b[0;31mNameError\u001b[0m                                 Traceback (most recent call last)",
      "\u001b[0;32m<ipython-input-15-e2818c947e81>\u001b[0m in \u001b[0;36m<module>\u001b[0;34m\u001b[0m\n\u001b[1;32m      1\u001b[0m \u001b[0mfeatures\u001b[0m \u001b[0;34m=\u001b[0m \u001b[0;34m[\u001b[0m\u001b[0;34m'latitude'\u001b[0m\u001b[0;34m,\u001b[0m \u001b[0;34m'longitude'\u001b[0m\u001b[0;34m,\u001b[0m \u001b[0;34m'constructed'\u001b[0m\u001b[0;34m,\u001b[0m \u001b[0;34m'area_total'\u001b[0m\u001b[0;34m,\u001b[0m \u001b[0;34m'rooms'\u001b[0m\u001b[0;34m,\u001b[0m \u001b[0;34m'metro_distance'\u001b[0m\u001b[0;34m,\u001b[0m \u001b[0;34m'district'\u001b[0m\u001b[0;34m,\u001b[0m \u001b[0;34m'park_distance'\u001b[0m\u001b[0;34m,\u001b[0m \u001b[0;34m'material'\u001b[0m\u001b[0;34m,\u001b[0m \u001b[0;34m'condition'\u001b[0m\u001b[0;34m,\u001b[0m \u001b[0;34m'heating'\u001b[0m\u001b[0;34m]\u001b[0m\u001b[0;34m\u001b[0m\u001b[0;34m\u001b[0m\u001b[0m\n\u001b[0;32m----> 2\u001b[0;31m \u001b[0mX_train\u001b[0m \u001b[0;34m=\u001b[0m \u001b[0mdata_train\u001b[0m\u001b[0;34m[\u001b[0m\u001b[0mfeatures\u001b[0m\u001b[0;34m]\u001b[0m\u001b[0;34m\u001b[0m\u001b[0;34m\u001b[0m\u001b[0m\n\u001b[0m\u001b[1;32m      3\u001b[0m \u001b[0my_train\u001b[0m \u001b[0;34m=\u001b[0m \u001b[0mdata_train\u001b[0m\u001b[0;34m.\u001b[0m\u001b[0mloc\u001b[0m\u001b[0;34m[\u001b[0m\u001b[0mX_train\u001b[0m\u001b[0;34m.\u001b[0m\u001b[0mindex\u001b[0m\u001b[0;34m]\u001b[0m\u001b[0;34m.\u001b[0m\u001b[0mprice\u001b[0m\u001b[0;34m\u001b[0m\u001b[0;34m\u001b[0m\u001b[0m\n\u001b[1;32m      4\u001b[0m \u001b[0mX_valid\u001b[0m \u001b[0;34m=\u001b[0m \u001b[0mdata_valid\u001b[0m\u001b[0;34m[\u001b[0m\u001b[0mfeatures\u001b[0m\u001b[0;34m]\u001b[0m\u001b[0;34m\u001b[0m\u001b[0;34m\u001b[0m\u001b[0m\n\u001b[1;32m      5\u001b[0m \u001b[0my_valid\u001b[0m \u001b[0;34m=\u001b[0m \u001b[0mdata_valid\u001b[0m\u001b[0;34m.\u001b[0m\u001b[0mloc\u001b[0m\u001b[0;34m[\u001b[0m\u001b[0mX_valid\u001b[0m\u001b[0;34m.\u001b[0m\u001b[0mindex\u001b[0m\u001b[0;34m]\u001b[0m\u001b[0;34m.\u001b[0m\u001b[0mprice\u001b[0m\u001b[0;34m\u001b[0m\u001b[0;34m\u001b[0m\u001b[0m\n",
      "\u001b[0;31mNameError\u001b[0m: name 'data_train' is not defined"
     ]
    }
   ],
   "metadata": {}
  },
  {
   "cell_type": "code",
   "execution_count": 166,
   "source": [
    "preds_valid = lgb_mod.predict(X_valid)\n",
    "print('Validation RMSLE: ', rmlse(y_valid, np.exp(preds_valid)))"
   ],
   "outputs": [
    {
     "output_type": "stream",
     "name": "stdout",
     "text": [
      "Validation RMSLE:  0.14676366064791768\n"
     ]
    }
   ],
   "metadata": {}
  },
  {
   "cell_type": "code",
   "execution_count": 167,
   "source": [
    "lgb.plot_importance(lgb_mod)"
   ],
   "outputs": [
    {
     "output_type": "execute_result",
     "data": {
      "text/plain": [
       "<AxesSubplot:title={'center':'Feature importance'}, xlabel='Feature importance', ylabel='Features'>"
      ]
     },
     "metadata": {},
     "execution_count": 167
    },
    {
     "output_type": "display_data",
     "data": {
      "image/png": "[encoded data removed]",
      "text/plain": [
       "<Figure size 432x288 with 1 Axes>"
      ]
     },
     "metadata": {
      "needs_background": "light"
     }
    }
   ],
   "metadata": {}
  },
  {
   "cell_type": "code",
   "execution_count": 101,
   "source": [
    "preds_test = lgb_mod.predict(data_test[features])\n",
    "submission = pd.DataFrame()\n",
    "submission['id'] = data_test.id\n",
    "submission['price_prediction'] = np.exp(preds_test)\n",
    "submission.to_csv('submissions/metroandpark_submission.csv', index=False)"
   ],
   "outputs": [],
   "metadata": {}
  },
  {
   "cell_type": "markdown",
   "source": [
    "## Some data cleaning and feature engineering"
   ],
   "metadata": {}
  },
  {
   "cell_type": "code",
   "execution_count": 32,
   "source": [
    "# Imputing area_living\n",
    "from sklearn import linear_model\n",
    "missing_idx = data['area_living'].isna()\n",
    "model = linear_model.LinearRegression()\n",
    "model.fit(X = data.loc[~missing_idx, ['area_total', 'rooms']], y = data.loc[~missing_idx, 'area_living'])\n",
    "data.loc[missing_idx, 'area_living'] = model.predict(data.loc[missing_idx, ['area_total', 'rooms']])\n",
    "\n",
    "missing_idx_test = data_test['area_living'].isna()\n",
    "data_test.loc[missing_idx_test, 'area_living'] = model.predict(data_test.loc[missing_idx_test, ['area_total', 'rooms']])"
   ],
   "outputs": [],
   "metadata": {}
  },
  {
   "cell_type": "code",
   "execution_count": 21,
   "source": [
    "# feature ballog\n",
    "data['ballog'] = data['loggias'] + data['balconies']\n",
    "data_test['ballog'] = data_test['loggias'] + data_test['balconies']"
   ],
   "outputs": [],
   "metadata": {}
  },
  {
   "cell_type": "code",
   "execution_count": 55,
   "source": [
    "# featrure elevator\n",
    "a = np.empty(data.shape[0])\n",
    "for i in range(data.shape[0]):\n",
    "    ep = data['elevator_passenger'][i]\n",
    "    ew = data['elevator_without'][i]\n",
    "    es = data['elevator_service'][i]\n",
    "    ep_val, ew_val, es_val = 0, 0, 0\n",
    "    if ep:\n",
    "        ep_val = 1\n",
    "    else:\n",
    "        ep_val = 0\n",
    "    if es:\n",
    "        es_val = 1\n",
    "    else:\n",
    "        es_val = 0\n",
    "    val = ep_val + es_val\n",
    "    a[i] = val\n",
    "data['elevator'] = a\n",
    "\n",
    "b = np.empty(data_test.shape[0])\n",
    "for i in range(data_test.shape[0]):\n",
    "    ep = data_test['elevator_passenger'][i]\n",
    "    es = data_test['elevator_service'][i]\n",
    "    ep_val, ew_val, es_val = 0, 0, 0\n",
    "    if ep:\n",
    "        ep_val = 1\n",
    "    else:\n",
    "        ep_val = 0\n",
    "    if es:\n",
    "        es_val = 1\n",
    "    else:\n",
    "        es_val = 0\n",
    "    val = ep_val + es_val\n",
    "    b[i] = val\n",
    "data_test['elevator'] = b"
   ],
   "outputs": [],
   "metadata": {}
  },
  {
   "cell_type": "code",
   "execution_count": 20,
   "source": [
    "data['bathrooms_total'] = data['bathrooms_private'] + data['bathrooms_shared']\n",
    "data_test['bathrooms_total'] = data_test['bathrooms_private'] + data_test['bathrooms_shared']"
   ],
   "outputs": [],
   "metadata": {}
  },
  {
   "cell_type": "code",
   "execution_count": 19,
   "source": [
    "windows = np.empty(data.shape[0])\n",
    "windows[:] = np.nan\n",
    "for i in range(data.shape[0]):\n",
    "    wc = data['windows_court'][i]\n",
    "    ws = data['windows_street'][i]\n",
    "    if(not pd.isna(wc)):\n",
    "        if(wc and ws):\n",
    "            windows[i] = 3\n",
    "        elif(ws and not wc):\n",
    "            windows[i] = 2\n",
    "        elif(not ws and wc):\n",
    "            windows[i] = 1\n",
    "        else:\n",
    "            windows[i] = 0\n",
    "data['windows'] = windows\n",
    "\n",
    "windows = np.empty(data_test.shape[0])\n",
    "windows[:] = np.nan\n",
    "for i in range(data_test.shape[0]):\n",
    "    wc = data_test['windows_court'][i]\n",
    "    ws = data_test['windows_street'][i]\n",
    "    if(not pd.isna(wc)):\n",
    "        if(wc and ws):\n",
    "            windows[i] = 3\n",
    "        elif(ws and not wc):\n",
    "            windows[i] = 2\n",
    "        elif(not ws and wc):\n",
    "            windows[i] = 1\n",
    "        else:\n",
    "            windows[i] = 0\n",
    "data_test['windows'] = windows"
   ],
   "outputs": [],
   "metadata": {}
  },
  {
   "cell_type": "code",
   "execution_count": 18,
   "source": [
    "# binning of district_enc\n",
    "\n",
    "district_bin = np.empty(data.shape[0])\n",
    "for i in range(data.shape[0]):\n",
    "    d = data['district_enc'][i]\n",
    "    b = 0\n",
    "    if(d == 1 or d == 2):\n",
    "        b = 1\n",
    "    elif(d == 3 or d== 4):\n",
    "        b = 2\n",
    "    elif(d == 5 or d== 6 or d== 7):\n",
    "        b = 3\n",
    "    elif(d == 8 or d == 9):\n",
    "        b = 4\n",
    "    elif( d== 10):\n",
    "        b = 5\n",
    "    elif(d == 11):\n",
    "        b = 6\n",
    "    district_bin[i] = b\n",
    "\n",
    "data['district_bin'] = district_bin\n",
    "data['district_bin'] = data['district_bin'].astype(int)\n",
    "\n",
    "district_bin = np.empty(data_test.shape[0])\n",
    "for i in range(data_test.shape[0]):\n",
    "    d = data_test['district_enc'][i]\n",
    "    b = 0\n",
    "    if(d == 1 or d == 2):\n",
    "        b = 1\n",
    "    elif(d == 3 or d== 4):\n",
    "        b = 2\n",
    "    elif(d == 5 or d== 6 or d== 7):\n",
    "        b = 3\n",
    "    elif(d == 8 or d == 9):\n",
    "        b = 4\n",
    "    elif( d== 10):\n",
    "        b = 5\n",
    "    elif(d == 11):\n",
    "        b = 6\n",
    "    district_bin[i] = b\n",
    "\n",
    "data_test['district_bin'] = district_bin\n",
    "data_test['district_bin'] = data_test['district_bin'].astype(int)"
   ],
   "outputs": [],
   "metadata": {}
  },
  {
   "cell_type": "code",
   "execution_count": 17,
   "source": [
    "data['area_per_room'] = np.log(data['area_total']/data['rooms'])\n",
    "data_test['area_per_room'] = np.log(data_test['area_total']/data_test['rooms'])"
   ],
   "outputs": [],
   "metadata": {}
  },
  {
   "cell_type": "code",
   "execution_count": 33,
   "source": [
    "data['price_per_sqm'] = data['price'].div(data['area_total'])"
   ],
   "outputs": [],
   "metadata": {}
  },
  {
   "cell_type": "code",
   "execution_count": null,
   "source": [
    "logprice_per_sqm = np.log(data['price']).div(data['area_total'])"
   ],
   "outputs": [],
   "metadata": {}
  },
  {
   "cell_type": "markdown",
   "source": [
    "## Optuna with LightGBM\n",
    "Below are different tree-ensamble models combined with optuna.\n",
    "\n",
    " \n",
    "## Best submission so far:\n",
    "- crossval-score: 0.12700260767163787\n",
    "- features = ['latitude', 'longitude', 'constructed', 'area_kitchen', 'area_living', 'area_per_room', 'rooms', 'ballog', 'district', 'park_distance',\n",
    "            'material', 'condition', 'heating', 'stories', 'floor', 'ceiling', 'bathrooms_total', 'windows']\n",
    "- trees: 5000\n",
    "- params: {'reg_alpha': 0.09843863733920495, 'reg_lambda': 0.0034831755346420713, 'colsample_bytree': 0.8, 'subsample': 0.8, 'learning_rate': 0.03, 'max_depth': 100, 'num_leaves': 764, 'min_child_samples': 8, 'cat_smooth': 28}"
   ],
   "metadata": {}
  },
  {
   "cell_type": "code",
   "execution_count": 64,
   "source": [
    "import optuna \n",
    "from sklearn.model_selection import KFold\n",
    "from optuna.integration import LightGBMPruningCallback\n",
    "\n",
    "def objective(trial, X, y, price_per_sqm, area, logprice_per_sqm):\n",
    "    params = {\n",
    "        'verbose': -1,\n",
    "        'metric': 'rmse', \n",
    "        'random_state': 42,\n",
    "        'n_estimators': 5000,\n",
    "        'reg_alpha': trial.suggest_loguniform('reg_alpha', 1e-3, 10.0),\n",
    "        'reg_lambda': trial.suggest_loguniform('reg_lambda', 1e-3, 10.0),\n",
    "        'colsample_bytree': trial.suggest_categorical('colsample_bytree', [0.3,0.4,0.5,0.6,0.7,0.8,0.9, 1.0]),\n",
    "        'subsample': trial.suggest_categorical('subsample', [0.4,0.5,0.6,0.7,0.8,1.0]),\n",
    "        'learning_rate': trial.suggest_categorical('learning_rate', [0.006,0.008,0.01,0.014,0.017,0.02, 0.03]),\n",
    "        'max_depth': trial.suggest_categorical('max_depth', [10,20,100]),\n",
    "        'num_leaves' : trial.suggest_int('num_leaves', 1, 1000),\n",
    "        'min_child_samples': trial.suggest_int('min_child_samples', 1, 300),\n",
    "        'cat_smooth' : trial.suggest_int('cat_smooth', 3, 60)\n",
    "    }\n",
    "    cv = KFold(n_splits=5, shuffle=True, random_state=42)\n",
    "\n",
    "    pruning_callback = LightGBMPruningCallback(trial, \"rmse\")\n",
    "\n",
    "    cv_scores = np.empty(5)\n",
    "    for idx, (train_idx, test_idx) in enumerate(cv.split(X, y)):\n",
    "        X_train, X_test = X.iloc[train_idx], X.iloc[test_idx]\n",
    "        y_test = y[test_idx]\n",
    "        #y_train = np.log(price_per_sqm[train_idx])\n",
    "        y_train = logprice_per_sqm[train_idx]\n",
    "\n",
    "        lgb_train = lgb.Dataset(X_train, y_train, free_raw_data=False)\n",
    "        lgb_eval = lgb.Dataset(X_test, y_test,free_raw_data=False)\n",
    "        model = lgb.train(params, \n",
    "            lgb_train, valid_sets=lgb_eval, \n",
    "            verbose_eval=False, callbacks = [pruning_callback], early_stopping_rounds=100,\n",
    "            categorical_feature= ['heating', 'condition', 'district'])\n",
    "    \n",
    "        #preds = np.exp(model.predict(X_test)) * area[test_idx]\n",
    "        preds = np.exp(model.predict(X_test) * area[test_idx]) \n",
    "        cv_scores[idx] = rmlse(y_test, preds)\n",
    "    \n",
    "    return np.mean(cv_scores)"
   ],
   "outputs": [],
   "metadata": {}
  },
  {
   "cell_type": "code",
   "execution_count": 65,
   "source": [
    "import warnings\n",
    "warnings.filterwarnings(\"ignore\")\n",
    "\n",
    "features = ['latitude', 'longitude', 'constructed', 'area_kitchen', 'area_living', 'area_per_room', 'rooms', 'ballog', 'district', 'park_distance',\n",
    "            'material', 'condition', 'heating', 'stories', 'floor', 'ceiling', 'bathrooms_total', 'windows']\n",
    "X = data[features]   \n",
    "y = data['price']\n",
    "area = data['area_total']\n",
    "price_per_sqm = data['price_per_sqm']\n",
    "\n",
    "study = optuna.create_study(direction=\"minimize\", study_name=\"LGBM Regressor\")\n",
    "func = lambda trial: objective(trial, X, y, price_per_sqm, area, logprice_per_sqm)\n",
    "study.optimize(func, n_trials=30)"
   ],
   "outputs": [
    {
     "output_type": "stream",
     "name": "stderr",
     "text": [
      "\u001b[32m[I 2021-10-30 13:41:40,765]\u001b[0m A new study created in memory with name: LGBM Regressor\u001b[0m\n",
      "\u001b[32m[I 2021-10-30 13:42:52,250]\u001b[0m Trial 0 finished with value: 0.13857355874499616 and parameters: {'reg_alpha': 0.0033530110055131437, 'reg_lambda': 2.5872844114948634, 'colsample_bytree': 0.6, 'subsample': 0.7, 'learning_rate': 0.01, 'max_depth': 10, 'num_leaves': 47, 'min_child_samples': 59, 'cat_smooth': 21}. Best is trial 0 with value: 0.13857355874499616.\u001b[0m\n",
      "\u001b[32m[I 2021-10-30 13:44:15,979]\u001b[0m Trial 1 finished with value: 0.13603982455259706 and parameters: {'reg_alpha': 0.03403166697391599, 'reg_lambda': 1.917226334011769, 'colsample_bytree': 0.6, 'subsample': 0.5, 'learning_rate': 0.03, 'max_depth': 20, 'num_leaves': 422, 'min_child_samples': 215, 'cat_smooth': 21}. Best is trial 1 with value: 0.13603982455259706.\u001b[0m\n",
      "\u001b[32m[I 2021-10-30 13:46:22,693]\u001b[0m Trial 2 finished with value: 0.13593159514919056 and parameters: {'reg_alpha': 0.04181561351643226, 'reg_lambda': 0.8377625674891189, 'colsample_bytree': 0.3, 'subsample': 1.0, 'learning_rate': 0.017, 'max_depth': 20, 'num_leaves': 522, 'min_child_samples': 144, 'cat_smooth': 57}. Best is trial 2 with value: 0.13593159514919056.\u001b[0m\n",
      "\u001b[32m[I 2021-10-30 13:47:06,748]\u001b[0m Trial 3 finished with value: 0.14232273884656882 and parameters: {'reg_alpha': 0.09627231404920641, 'reg_lambda': 0.029163921279482134, 'colsample_bytree': 0.9, 'subsample': 0.4, 'learning_rate': 0.03, 'max_depth': 10, 'num_leaves': 427, 'min_child_samples': 261, 'cat_smooth': 42}. Best is trial 2 with value: 0.13593159514919056.\u001b[0m\n",
      "\u001b[32m[I 2021-10-30 13:48:03,990]\u001b[0m Trial 4 finished with value: 0.14420463395390157 and parameters: {'reg_alpha': 0.01329188726697107, 'reg_lambda': 0.19144197166021643, 'colsample_bytree': 0.9, 'subsample': 0.4, 'learning_rate': 0.02, 'max_depth': 10, 'num_leaves': 859, 'min_child_samples': 177, 'cat_smooth': 47}. Best is trial 2 with value: 0.13593159514919056.\u001b[0m\n",
      "\u001b[32m[I 2021-10-30 13:48:04,125]\u001b[0m Trial 5 pruned. Trial was pruned at iteration 0.\u001b[0m\n",
      "\u001b[32m[I 2021-10-30 13:48:04,341]\u001b[0m Trial 6 pruned. Trial was pruned at iteration 0.\u001b[0m\n",
      "\u001b[32m[I 2021-10-30 13:48:04,516]\u001b[0m Trial 7 pruned. Trial was pruned at iteration 0.\u001b[0m\n",
      "\u001b[32m[I 2021-10-30 13:48:04,818]\u001b[0m Trial 8 pruned. Trial was pruned at iteration 1.\u001b[0m\n",
      "\u001b[32m[I 2021-10-30 13:48:05,016]\u001b[0m Trial 9 pruned. Trial was pruned at iteration 0.\u001b[0m\n",
      "\u001b[32m[I 2021-10-30 13:48:05,208]\u001b[0m Trial 10 pruned. Trial was pruned at iteration 0.\u001b[0m\n",
      "\u001b[32m[I 2021-10-30 13:48:05,458]\u001b[0m Trial 11 pruned. Trial was pruned at iteration 0.\u001b[0m\n",
      "\u001b[32m[I 2021-10-30 13:48:12,205]\u001b[0m Trial 12 pruned. Trial was pruned at iteration 0.\u001b[0m\n",
      "\u001b[32m[I 2021-10-30 13:48:13,374]\u001b[0m Trial 13 pruned. Trial was pruned at iteration 150.\u001b[0m\n",
      "\u001b[32m[I 2021-10-30 13:51:14,952]\u001b[0m Trial 14 finished with value: 0.13368598737570053 and parameters: {'reg_alpha': 0.4998012769265405, 'reg_lambda': 0.6503850269089899, 'colsample_bytree': 0.6, 'subsample': 0.8, 'learning_rate': 0.03, 'max_depth': 20, 'num_leaves': 547, 'min_child_samples': 137, 'cat_smooth': 32}. Best is trial 14 with value: 0.13368598737570053.\u001b[0m\n",
      "\u001b[32m[I 2021-10-30 13:51:15,072]\u001b[0m Trial 15 pruned. Trial was pruned at iteration 0.\u001b[0m\n",
      "\u001b[32m[I 2021-10-30 13:51:15,180]\u001b[0m Trial 16 pruned. Trial was pruned at iteration 0.\u001b[0m\n",
      "\u001b[32m[I 2021-10-30 13:51:15,293]\u001b[0m Trial 17 pruned. Trial was pruned at iteration 0.\u001b[0m\n",
      "\u001b[32m[I 2021-10-30 13:51:15,418]\u001b[0m Trial 18 pruned. Trial was pruned at iteration 0.\u001b[0m\n",
      "\u001b[32m[I 2021-10-30 13:53:30,322]\u001b[0m Trial 19 finished with value: 0.13310602097891414 and parameters: {'reg_alpha': 0.3136666122311604, 'reg_lambda': 0.10961859953470547, 'colsample_bytree': 0.8, 'subsample': 0.8, 'learning_rate': 0.03, 'max_depth': 100, 'num_leaves': 542, 'min_child_samples': 64, 'cat_smooth': 39}. Best is trial 19 with value: 0.13310602097891414.\u001b[0m\n",
      "\u001b[32m[I 2021-10-30 13:55:05,444]\u001b[0m Trial 20 finished with value: 0.13123775994074655 and parameters: {'reg_alpha': 0.5831649923852603, 'reg_lambda': 0.008513466779981459, 'colsample_bytree': 0.8, 'subsample': 0.8, 'learning_rate': 0.03, 'max_depth': 100, 'num_leaves': 994, 'min_child_samples': 53, 'cat_smooth': 37}. Best is trial 20 with value: 0.13123775994074655.\u001b[0m\n",
      "\u001b[32m[I 2021-10-30 13:56:34,401]\u001b[0m Trial 21 finished with value: 0.13237438674982918 and parameters: {'reg_alpha': 0.5712598719571754, 'reg_lambda': 0.002312259806942211, 'colsample_bytree': 0.8, 'subsample': 0.8, 'learning_rate': 0.03, 'max_depth': 100, 'num_leaves': 965, 'min_child_samples': 63, 'cat_smooth': 38}. Best is trial 20 with value: 0.13123775994074655.\u001b[0m\n",
      "\u001b[32m[I 2021-10-30 13:57:30,583]\u001b[0m Trial 22 finished with value: 0.1333686540636637 and parameters: {'reg_alpha': 1.6333963000716976, 'reg_lambda': 0.0023589589504944978, 'colsample_bytree': 0.8, 'subsample': 0.8, 'learning_rate': 0.03, 'max_depth': 100, 'num_leaves': 968, 'min_child_samples': 48, 'cat_smooth': 39}. Best is trial 20 with value: 0.13123775994074655.\u001b[0m\n",
      "\u001b[32m[I 2021-10-30 13:59:38,930]\u001b[0m Trial 23 finished with value: 0.13056824507777792 and parameters: {'reg_alpha': 0.32356354047239194, 'reg_lambda': 0.005758628839733285, 'colsample_bytree': 0.8, 'subsample': 0.8, 'learning_rate': 0.03, 'max_depth': 100, 'num_leaves': 988, 'min_child_samples': 50, 'cat_smooth': 38}. Best is trial 23 with value: 0.13056824507777792.\u001b[0m\n",
      "\u001b[32m[I 2021-10-30 14:03:53,125]\u001b[0m Trial 24 finished with value: 0.13020997771158738 and parameters: {'reg_alpha': 0.1039779300747969, 'reg_lambda': 0.006819452836190304, 'colsample_bytree': 0.8, 'subsample': 0.8, 'learning_rate': 0.03, 'max_depth': 100, 'num_leaves': 999, 'min_child_samples': 34, 'cat_smooth': 25}. Best is trial 24 with value: 0.13020997771158738.\u001b[0m\n",
      "\u001b[32m[I 2021-10-30 14:08:58,259]\u001b[0m Trial 25 finished with value: 0.1296625891065962 and parameters: {'reg_alpha': 0.11524829621642711, 'reg_lambda': 0.009665382297703747, 'colsample_bytree': 0.8, 'subsample': 0.8, 'learning_rate': 0.03, 'max_depth': 100, 'num_leaves': 804, 'min_child_samples': 30, 'cat_smooth': 27}. Best is trial 25 with value: 0.1296625891065962.\u001b[0m\n",
      "\u001b[32m[I 2021-10-30 14:11:54,276]\u001b[0m Trial 26 finished with value: 0.12926854194415194 and parameters: {'reg_alpha': 0.1625729207053313, 'reg_lambda': 0.003743153711847174, 'colsample_bytree': 0.8, 'subsample': 0.8, 'learning_rate': 0.03, 'max_depth': 100, 'num_leaves': 805, 'min_child_samples': 26, 'cat_smooth': 27}. Best is trial 26 with value: 0.12926854194415194.\u001b[0m\n",
      "\u001b[32m[I 2021-10-30 14:15:37,112]\u001b[0m Trial 27 finished with value: 0.1284859216035929 and parameters: {'reg_alpha': 0.09669826394530179, 'reg_lambda': 0.004578832940607988, 'colsample_bytree': 0.8, 'subsample': 0.8, 'learning_rate': 0.03, 'max_depth': 100, 'num_leaves': 786, 'min_child_samples': 23, 'cat_smooth': 26}. Best is trial 27 with value: 0.1284859216035929.\u001b[0m\n",
      "\u001b[32m[I 2021-10-30 14:18:19,391]\u001b[0m Trial 28 finished with value: 0.12700260767163787 and parameters: {'reg_alpha': 0.09843863733920495, 'reg_lambda': 0.0034831755346420713, 'colsample_bytree': 0.8, 'subsample': 0.8, 'learning_rate': 0.03, 'max_depth': 100, 'num_leaves': 764, 'min_child_samples': 8, 'cat_smooth': 28}. Best is trial 28 with value: 0.12700260767163787.\u001b[0m\n",
      "\u001b[32m[I 2021-10-30 14:18:19,510]\u001b[0m Trial 29 pruned. Trial was pruned at iteration 0.\u001b[0m\n"
     ]
    }
   ],
   "metadata": {}
  },
  {
   "cell_type": "code",
   "execution_count": 66,
   "source": [
    "X_train = data[features]\n",
    "y_train = np.log(data.loc[X_train.index].price_per_sqm)\n",
    "#y_tain = logprice_per_sqm\n",
    "\n",
    "params = {'reg_alpha': 0.42289447266040825, \n",
    "    'reg_lambda': 0.0024149685444340963, 'colsample_bytree': 0.8, 'subsample': 0.6, \n",
    "    'learning_rate': 0.02, 'max_depth': 20, 'num_leaves': 933, 'min_child_samples': 3, 'cat_smooth': 56}\n",
    "\n",
    "lgb_mod = lgb.LGBMRegressor(\n",
    "    random_state = 42,\n",
    "    metric='rmse',\n",
    "    n_estimators= 5000,\n",
    "    **params\n",
    ")\n",
    "\n",
    "lgb_mod.fit(X_train, y_train)"
   ],
   "outputs": [
    {
     "output_type": "execute_result",
     "data": {
      "text/plain": [
       "LGBMRegressor(boosting_type='gbdt', cat_smooth=56, class_weight=None,\n",
       "              colsample_bytree=0.8, importance_type='split', learning_rate=0.02,\n",
       "              max_depth=20, metric='rmse', min_child_samples=3,\n",
       "              min_child_weight=0.001, min_split_gain=0.0, n_estimators=5000,\n",
       "              n_jobs=-1, num_leaves=933, objective=None, random_state=42,\n",
       "              reg_alpha=0.42289447266040825, reg_lambda=0.0024149685444340963,\n",
       "              silent=True, subsample=0.6, subsample_for_bin=200000,\n",
       "              subsample_freq=0)"
      ]
     },
     "metadata": {},
     "execution_count": 66
    }
   ],
   "metadata": {}
  },
  {
   "cell_type": "code",
   "execution_count": 67,
   "source": [
    "lgb.plot_importance(lgb_mod)"
   ],
   "outputs": [
    {
     "output_type": "execute_result",
     "data": {
      "text/plain": [
       "<AxesSubplot:title={'center':'Feature importance'}, xlabel='Feature importance', ylabel='Features'>"
      ]
     },
     "metadata": {},
     "execution_count": 67
    },
    {
     "output_type": "display_data",
     "data": {
      "image/png": "[encoded data removed]",
      "text/plain": [
       "<Figure size 432x288 with 1 Axes>"
      ]
     },
     "metadata": {
      "needs_background": "light"
     }
    }
   ],
   "metadata": {}
  },
  {
   "cell_type": "code",
   "execution_count": 68,
   "source": [
    "preds_test = np.exp(lgb_mod.predict(data_test[features])) * data_test['area_total']\n",
    "# #preds_test = np.exp(lgb_mod.predict(data_test[features]) * data_test['area_total'])\n",
    "submission = pd.DataFrame()\n",
    "submission['id'] = data_test.id\n",
    "submission['price_prediction'] = preds_test\n",
    "submission.to_csv('submissions/lgbm_submission.csv', index=False)"
   ],
   "outputs": [],
   "metadata": {}
  },
  {
   "cell_type": "code",
   "execution_count": 69,
   "source": [
    "preds_test"
   ],
   "outputs": [
    {
     "output_type": "execute_result",
     "data": {
      "text/plain": [
       "0       3.290558e+07\n",
       "1       1.043999e+07\n",
       "2       6.203051e+06\n",
       "3       8.659007e+06\n",
       "4       5.319818e+06\n",
       "            ...     \n",
       "9932    2.700105e+07\n",
       "9933    2.153644e+07\n",
       "9934    9.757521e+06\n",
       "9935    8.879443e+06\n",
       "9936    6.450248e+06\n",
       "Name: area_total, Length: 9937, dtype: float64"
      ]
     },
     "metadata": {},
     "execution_count": 69
    }
   ],
   "metadata": {}
  },
  {
   "cell_type": "markdown",
   "source": [
    "## Optuna with XGBoost"
   ],
   "metadata": {}
  },
  {
   "cell_type": "code",
   "execution_count": 37,
   "source": [
    "import xgboost as xgb \n",
    "\n",
    "def objective(trial, X, y):\n",
    "    '''\n",
    "    param = {\n",
    "        \"objective\": \"reg:squaredlogerror\",\n",
    "        \"eval_metric\": \"rmse\",\n",
    "        \"booster\": trial.suggest_categorical(\"booster\", [\"gbtree\", \"gblinear\", \"dart\"]),\n",
    "        \"lambda\": trial.suggest_loguniform(\"lambda\", 1e-8, 1.0),\n",
    "        \"alpha\": trial.suggest_loguniform(\"alpha\", 1e-8, 1.0),\n",
    "    }\n",
    "    if param[\"booster\"] == \"gbtree\" or param[\"booster\"] == \"dart\":\n",
    "        param[\"max_depth\"] = trial.suggest_int(\"max_depth\", 1, 9)\n",
    "        param[\"eta\"] = trial.suggest_loguniform(\"eta\", 1e-8, 1.0)\n",
    "        param[\"gamma\"] = trial.suggest_loguniform(\"gamma\", 1e-8, 1.0)\n",
    "        param[\"grow_policy\"] = trial.suggest_categorical(\"grow_policy\", [\"depthwise\", \"lossguide\"])\n",
    "    if param[\"booster\"] == \"dart\":\n",
    "        param[\"sample_type\"] = trial.suggest_categorical(\"sample_type\", [\"uniform\", \"weighted\"])\n",
    "        param[\"normalize_type\"] = trial.suggest_categorical(\"normalize_type\", [\"tree\", \"forest\"])\n",
    "        param[\"rate_drop\"] = trial.suggest_loguniform(\"rate_drop\", 1e-8, 1.0)\n",
    "        param[\"skip_drop\"] = trial.suggest_loguniform(\"skip_drop\", 1e-8, 1.0)\n",
    "    '''\n",
    "    param = {   'booster': 'gbtree',\n",
    "                'max_depth':trial.suggest_int('max_depth', 1, 11),\n",
    "                'reg_alpha':trial.suggest_loguniform('reg_alpha', 1e-8, 1.0),\n",
    "                'reg_lambda':trial.suggest_loguniform('reg_lambda', 1e-8, 1.0),\n",
    "                'min_child_weight':trial.suggest_int('min_child_weight', 0, 5),\n",
    "                'gamma':trial.suggest_int('gamma', 0, 5),\n",
    "                'learning_rate':trial.suggest_loguniform('learning_rate',0.001,0.5),\n",
    "                'colsample_bytree':trial.suggest_discrete_uniform('colsample_bytree',0.1,1,0.01),\n",
    "                'nthread' : -1\n",
    "    }\n",
    "\n",
    "    pruning_callback = optuna.integration.XGBoostPruningCallback(trial, \"validation_0-rmse\")\n",
    "    cv = KFold(n_splits=5, shuffle=True, random_state=42)\n",
    "\n",
    "    cv_scores = np.empty(5)\n",
    "    for idx, (train_idx, test_idx) in enumerate(cv.split(X, y)):\n",
    "        X_train, X_test = X.iloc[train_idx], X.iloc[test_idx]\n",
    "        y_train, y_test = np.log(y[train_idx]), y[test_idx]\n",
    "\n",
    "        dtrain = xgb.DMatrix(X_train, label=y_train, enable_categorical=True)\n",
    "        dtest = xgb.DMatrix(X_test, label = y_test, enable_categorical=True)\n",
    "        model = xgb.train(param, dtrain, num_boost_round=3000, evals=[(dtest, \"validation\")], verbose_eval=False) #callbacks=[pruning_callback])\n",
    "    \n",
    "        preds = np.exp(model.predict(dtest))\n",
    "        cv_scores[idx] = rmlse(y_test, preds)\n",
    "    \n",
    "    return np.mean(cv_scores)"
   ],
   "outputs": [],
   "metadata": {}
  },
  {
   "cell_type": "code",
   "execution_count": 39,
   "source": [
    "from sklearn.model_selection import KFold\n",
    "\n",
    "\n",
    "def objective_xgb(trial, X, y, random_state=42, n_splits=5, n_jobs=-1, early_stopping_rounds=3000,\n",
    "):\n",
    "    # XGBoost parameters\n",
    "    param = {  'n_estimators': 3000,\n",
    "                'booster': 'gbtree',\n",
    "                'max_depth':trial.suggest_int('max_depth', 1, 11),\n",
    "                'reg_alpha':trial.suggest_loguniform('reg_alpha', 1e-8, 1.0),\n",
    "                'reg_lambda':trial.suggest_loguniform('reg_lambda', 1e-8, 1.0),\n",
    "                'min_child_weight':trial.suggest_int('min_child_weight', 0, 5),\n",
    "                'gamma':trial.suggest_int('gamma', 0, 5),\n",
    "                'learning_rate':trial.suggest_loguniform('learning_rate',0.001,0.5),\n",
    "                'colsample_bytree':trial.suggest_discrete_uniform('colsample_bytree',0.1,1,0.01),\n",
    "                'nthread' : -1\n",
    "    }\n",
    "\n",
    "    model = xgb.XGBRegressor(**param)\n",
    "    pruning_callback = optuna.integration.XGBoostPruningCallback(trial, \"validation_0-rmse\")\n",
    "\n",
    "    cv = KFold(n_splits= n_splits, shuffle=True, random_state= random_state)\n",
    "    cv_scores = np.empty(n_splits)\n",
    "    \n",
    "    for idx, (train_idx, test_idx) in enumerate(cv.split(X, y)):\n",
    "        X_train, X_test = X.iloc[train_idx], X.iloc[test_idx]\n",
    "        y_train, y_test = np.log(y[train_idx]), y[test_idx]\n",
    "        model.fit(\n",
    "            X_train,\n",
    "            y_train,\n",
    "            eval_set=[(X_test, y_test)],\n",
    "            eval_metric=\"rmse\",\n",
    "            verbose=0,\n",
    "            callbacks=[pruning_callback],\n",
    "            early_stopping_rounds=early_stopping_rounds\n",
    "        )\n",
    "        preds = np.exp(model.predict(X_test))\n",
    "        cv_scores[idx] = rmlse(y_test, preds)\n",
    "        \n",
    "    return np.mean(cv_scores)"
   ],
   "outputs": [],
   "metadata": {}
  },
  {
   "cell_type": "code",
   "execution_count": 45,
   "source": [
    "from sklearn.model_selection import train_test_split\n",
    "def objective_light(trial, X, y):\n",
    "    train_x, test_x, train_y, test_y = train_test_split(X, y, test_size=0.33, stratify=np.log(data.price).round())\n",
    "    dtrain = xgb.DMatrix(train_x, label= np.log(train_y))\n",
    "    dtest = xgb.DMatrix(test_x, label=test_y)\n",
    "\n",
    "    param = {   'booster': 'gbtree',\n",
    "                'max_depth':trial.suggest_int('max_depth', 1, 11),\n",
    "                'reg_alpha':trial.suggest_loguniform('reg_alpha', 1e-8, 1.0),\n",
    "                'reg_lambda':trial.suggest_loguniform('reg_lambda', 1e-8, 1.0),\n",
    "                'min_child_weight':trial.suggest_int('min_child_weight', 0, 5),\n",
    "                'gamma':trial.suggest_int('gamma', 0, 5),\n",
    "                'learning_rate':trial.suggest_loguniform('learning_rate',0.001,0.5),\n",
    "                'colsample_bytree':trial.suggest_discrete_uniform('colsample_bytree',0.1,1,0.01),\n",
    "                'nthread' : -1\n",
    "    }\n",
    "\n",
    "\n",
    "    # Add a callback for pruning.\n",
    "    pruning_callback = optuna.integration.XGBoostPruningCallback(trial, \"validation-rmse\")\n",
    "    model = xgb.train(param, dtrain, num_boost_round=3000, evals=[(dtest, \"validation\")], early_stopping_rounds=100, verbose_eval=False)\n",
    "    preds = np.exp(model.predict(dtest))\n",
    "    return rmlse(test_y, preds)"
   ],
   "outputs": [],
   "metadata": {}
  },
  {
   "cell_type": "code",
   "execution_count": 15,
   "source": [
    "agg = data.groupby('district').aggregate('mean')['price'].sort_values(ascending = True)\n",
    "encoding = dict()\n",
    "for i in range(12):\n",
    "    encoding[agg.index[i]] = i\n",
    "encoding\n",
    "\n",
    "data['district_enc'] = np.empty(data.shape[0])\n",
    "for i in range(data.shape[0]):\n",
    "    if(not pd.isna(data['district'][i])):\n",
    "        data['district_enc'][i] = encoding[data['district'][i]]"
   ],
   "outputs": [],
   "metadata": {}
  },
  {
   "cell_type": "code",
   "execution_count": 16,
   "source": [
    "data_test['district_enc'] = np.empty(data_test.shape[0])\n",
    "for i in range(data_test.shape[0]):\n",
    "    if(not pd.isna(data_test['district'][i])):\n",
    "        data_test['district_enc'][i] = encoding[data_test['district'][i]]"
   ],
   "outputs": [],
   "metadata": {}
  },
  {
   "cell_type": "code",
   "execution_count": 44,
   "source": [
    "import optuna\n",
    "import warnings\n",
    "warnings.filterwarnings(\"ignore\")\n",
    "\n",
    "features = ['latitude', 'longitude', 'constructed', 'area_total', 'area_living', 'rooms', 'ballog', 'district_enc', 'park_distance', 'stories', 'floor', 'ceiling', 'bathrooms_total']\n",
    "X = data[features]   \n",
    "y = data['price']\n",
    "\n",
    "study = optuna.create_study(direction=\"minimize\", study_name=\"XGB Regressor\")\n",
    "func = lambda trial: objective_light(trial, X, y)\n",
    "study.optimize(func, n_trials=30)"
   ],
   "outputs": [
    {
     "output_type": "stream",
     "name": "stderr",
     "text": [
      "\u001b[32m[I 2021-10-27 16:22:09,408]\u001b[0m A new study created in memory with name: XGB Regressor\u001b[0m\n",
      "\u001b[32m[I 2021-10-27 16:23:09,506]\u001b[0m Trial 0 finished with value: 0.21430517661378792 and parameters: {'max_depth': 9, 'reg_alpha': 1.8928579030839304e-05, 'reg_lambda': 0.0011232158303798204, 'min_child_weight': 5, 'gamma': 3, 'learning_rate': 0.2742788148207912, 'colsample_bytree': 0.58}. Best is trial 0 with value: 0.21430517661378792.\u001b[0m\n",
      "\u001b[32m[I 2021-10-27 16:23:23,383]\u001b[0m Trial 1 finished with value: 0.24321472111525683 and parameters: {'max_depth': 2, 'reg_alpha': 2.842169790465508e-05, 'reg_lambda': 4.2662774273625736e-05, 'min_child_weight': 1, 'gamma': 4, 'learning_rate': 0.03524911815894048, 'colsample_bytree': 0.6799999999999999}. Best is trial 0 with value: 0.21430517661378792.\u001b[0m\n",
      "\u001b[32m[I 2021-10-27 16:23:49,524]\u001b[0m Trial 2 finished with value: 0.19620350559652222 and parameters: {'max_depth': 6, 'reg_alpha': 3.242288449912052e-05, 'reg_lambda': 2.5781136004606804e-05, 'min_child_weight': 5, 'gamma': 2, 'learning_rate': 0.15252325327199912, 'colsample_bytree': 0.33}. Best is trial 2 with value: 0.19620350559652222.\u001b[0m\n",
      "\u001b[32m[I 2021-10-27 16:24:13,356]\u001b[0m Trial 3 finished with value: 0.21258873397338515 and parameters: {'max_depth': 5, 'reg_alpha': 3.013083052823493e-06, 'reg_lambda': 6.9991087325077085e-06, 'min_child_weight': 5, 'gamma': 3, 'learning_rate': 0.22338470900051174, 'colsample_bytree': 0.49}. Best is trial 2 with value: 0.19620350559652222.\u001b[0m\n",
      "\u001b[32m[I 2021-10-27 16:24:28,520]\u001b[0m Trial 4 finished with value: 0.2594775205707155 and parameters: {'max_depth': 3, 'reg_alpha': 3.866597223207797e-06, 'reg_lambda': 0.030738284794214074, 'min_child_weight': 1, 'gamma': 3, 'learning_rate': 0.0017903466572147205, 'colsample_bytree': 0.36}. Best is trial 2 with value: 0.19620350559652222.\u001b[0m\n",
      "\u001b[32m[I 2021-10-27 16:24:40,974]\u001b[0m Trial 5 finished with value: 0.24935606939634422 and parameters: {'max_depth': 2, 'reg_alpha': 0.18525448273974351, 'reg_lambda': 7.170730896886092e-08, 'min_child_weight': 5, 'gamma': 4, 'learning_rate': 0.21818682997769556, 'colsample_bytree': 0.5700000000000001}. Best is trial 2 with value: 0.19620350559652222.\u001b[0m\n",
      "\u001b[32m[I 2021-10-27 16:25:03,873]\u001b[0m Trial 6 finished with value: 0.20906723682895312 and parameters: {'max_depth': 5, 'reg_alpha': 6.034068789062512e-07, 'reg_lambda': 5.653108792296021e-06, 'min_child_weight': 1, 'gamma': 2, 'learning_rate': 0.015623952880462304, 'colsample_bytree': 0.43000000000000005}. Best is trial 2 with value: 0.19620350559652222.\u001b[0m\n",
      "\u001b[32m[I 2021-10-27 16:25:20,712]\u001b[0m Trial 7 finished with value: 0.24345084709916562 and parameters: {'max_depth': 2, 'reg_alpha': 0.06720399041247509, 'reg_lambda': 1.870917437016954e-05, 'min_child_weight': 5, 'gamma': 4, 'learning_rate': 0.03499056845875176, 'colsample_bytree': 0.69}. Best is trial 2 with value: 0.19620350559652222.\u001b[0m\n",
      "\u001b[32m[I 2021-10-27 16:26:02,403]\u001b[0m Trial 8 finished with value: 0.21442525921685868 and parameters: {'max_depth': 6, 'reg_alpha': 0.04526865738389968, 'reg_lambda': 2.6709214488219233e-05, 'min_child_weight': 2, 'gamma': 5, 'learning_rate': 0.049471212098801086, 'colsample_bytree': 0.82}. Best is trial 2 with value: 0.19620350559652222.\u001b[0m\n",
      "\u001b[32m[I 2021-10-27 16:26:18,552]\u001b[0m Trial 9 finished with value: 0.2224553355443465 and parameters: {'max_depth': 5, 'reg_alpha': 0.04323182021064801, 'reg_lambda': 7.6166551768557865e-06, 'min_child_weight': 1, 'gamma': 0, 'learning_rate': 0.0030051965815065165, 'colsample_bytree': 0.17}. Best is trial 2 with value: 0.19620350559652222.\u001b[0m\n",
      "\u001b[32m[I 2021-10-27 16:27:28,520]\u001b[0m Trial 10 finished with value: 0.181082648902945 and parameters: {'max_depth': 10, 'reg_alpha': 1.243439441446781e-08, 'reg_lambda': 0.7115599061615998, 'min_child_weight': 3, 'gamma': 1, 'learning_rate': 0.005886067828295362, 'colsample_bytree': 1.0}. Best is trial 10 with value: 0.181082648902945.\u001b[0m\n",
      "\u001b[32m[I 2021-10-27 16:28:09,878]\u001b[0m Trial 11 finished with value: 0.18992517690605268 and parameters: {'max_depth': 11, 'reg_alpha': 1.8437223619413013e-08, 'reg_lambda': 0.4580202268198407, 'min_child_weight': 3, 'gamma': 1, 'learning_rate': 0.00617487396422245, 'colsample_bytree': 0.2}. Best is trial 10 with value: 0.181082648902945.\u001b[0m\n",
      "\u001b[32m[I 2021-10-27 16:29:42,062]\u001b[0m Trial 12 finished with value: 0.14369468303268218 and parameters: {'max_depth': 11, 'reg_alpha': 6.698857130029282e-08, 'reg_lambda': 0.9223959374178847, 'min_child_weight': 3, 'gamma': 0, 'learning_rate': 0.006747170711443405, 'colsample_bytree': 0.95}. Best is trial 12 with value: 0.14369468303268218.\u001b[0m\n",
      "\u001b[32m[I 2021-10-27 16:31:09,292]\u001b[0m Trial 13 finished with value: 0.14128374293922594 and parameters: {'max_depth': 11, 'reg_alpha': 1.170493190614229e-08, 'reg_lambda': 0.7304071482218623, 'min_child_weight': 3, 'gamma': 0, 'learning_rate': 0.008389452668483888, 'colsample_bytree': 1.0}. Best is trial 13 with value: 0.14128374293922594.\u001b[0m\n",
      "\u001b[32m[I 2021-10-27 16:32:12,188]\u001b[0m Trial 14 finished with value: 0.14693572814879957 and parameters: {'max_depth': 8, 'reg_alpha': 0.0014478290130408708, 'reg_lambda': 0.014952588329620212, 'min_child_weight': 3, 'gamma': 0, 'learning_rate': 0.01187694716294717, 'colsample_bytree': 0.99}. Best is trial 13 with value: 0.14128374293922594.\u001b[0m\n",
      "\u001b[32m[I 2021-10-27 16:34:06,209]\u001b[0m Trial 15 finished with value: 0.44596123013017314 and parameters: {'max_depth': 11, 'reg_alpha': 1.9170467690429272e-07, 'reg_lambda': 0.04070654114585183, 'min_child_weight': 4, 'gamma': 1, 'learning_rate': 0.001223992677754401, 'colsample_bytree': 0.89}. Best is trial 13 with value: 0.14128374293922594.\u001b[0m\n",
      "\u001b[32m[I 2021-10-27 16:35:06,142]\u001b[0m Trial 16 finished with value: 0.15260956256803082 and parameters: {'max_depth': 8, 'reg_alpha': 1.2381421754672228e-07, 'reg_lambda': 0.0008608336558630568, 'min_child_weight': 2, 'gamma': 0, 'learning_rate': 0.005940763748184107, 'colsample_bytree': 0.83}. Best is trial 13 with value: 0.14128374293922594.\u001b[0m\n",
      "\u001b[32m[I 2021-10-27 16:35:55,054]\u001b[0m Trial 17 finished with value: 0.18316283148311582 and parameters: {'max_depth': 9, 'reg_alpha': 0.0009083425498490946, 'reg_lambda': 0.1547657601772192, 'min_child_weight': 4, 'gamma': 1, 'learning_rate': 0.07835131132218592, 'colsample_bytree': 0.9}. Best is trial 13 with value: 0.14128374293922594.\u001b[0m\n",
      "\u001b[32m[I 2021-10-27 16:37:40,203]\u001b[0m Trial 18 finished with value: 0.15056120305518864 and parameters: {'max_depth': 11, 'reg_alpha': 7.889070749441114e-08, 'reg_lambda': 0.003856187178683252, 'min_child_weight': 0, 'gamma': 0, 'learning_rate': 0.0029047390781550835, 'colsample_bytree': 0.74}. Best is trial 13 with value: 0.14128374293922594.\u001b[0m\n",
      "\u001b[32m[I 2021-10-27 16:38:50,376]\u001b[0m Trial 19 finished with value: 0.19595753797432508 and parameters: {'max_depth': 9, 'reg_alpha': 1.2317129836683109e-06, 'reg_lambda': 1.4073734298922513e-07, 'min_child_weight': 4, 'gamma': 2, 'learning_rate': 0.011428118690424094, 'colsample_bytree': 0.95}. Best is trial 13 with value: 0.14128374293922594.\u001b[0m\n",
      "\u001b[32m[I 2021-10-27 16:39:53,420]\u001b[0m Trial 20 finished with value: 0.1401878733143978 and parameters: {'max_depth': 7, 'reg_alpha': 2.9386569153311807e-08, 'reg_lambda': 0.12393573393936254, 'min_child_weight': 2, 'gamma': 0, 'learning_rate': 0.02313627040528888, 'colsample_bytree': 0.79}. Best is trial 20 with value: 0.1401878733143978.\u001b[0m\n",
      "\u001b[32m[I 2021-10-27 16:41:10,939]\u001b[0m Trial 21 finished with value: 0.1379516763447056 and parameters: {'max_depth': 7, 'reg_alpha': 1.4657921632804892e-08, 'reg_lambda': 0.14338639155093058, 'min_child_weight': 2, 'gamma': 0, 'learning_rate': 0.02159828304237205, 'colsample_bytree': 0.8}. Best is trial 21 with value: 0.1379516763447056.\u001b[0m\n",
      "\u001b[32m[I 2021-10-27 16:42:23,364]\u001b[0m Trial 22 finished with value: 0.17857292119953472 and parameters: {'max_depth': 7, 'reg_alpha': 1.526354378445409e-08, 'reg_lambda': 0.11894452777148584, 'min_child_weight': 2, 'gamma': 1, 'learning_rate': 0.023266691764836225, 'colsample_bytree': 0.77}. Best is trial 21 with value: 0.1379516763447056.\u001b[0m\n",
      "\u001b[32m[I 2021-10-27 16:43:24,920]\u001b[0m Trial 23 finished with value: 0.1435761101409463 and parameters: {'max_depth': 7, 'reg_alpha': 3.627522084446163e-07, 'reg_lambda': 0.006168320785408005, 'min_child_weight': 2, 'gamma': 0, 'learning_rate': 0.08024896489933342, 'colsample_bytree': 0.64}. Best is trial 21 with value: 0.1379516763447056.\u001b[0m\n",
      "\u001b[32m[I 2021-10-27 16:44:39,886]\u001b[0m Trial 24 finished with value: 0.1842281209295054 and parameters: {'max_depth': 7, 'reg_alpha': 4.6794599330609285e-08, 'reg_lambda': 0.0002474424306588442, 'min_child_weight': 0, 'gamma': 1, 'learning_rate': 0.0208354921382381, 'colsample_bytree': 0.85}. Best is trial 21 with value: 0.1379516763447056.\u001b[0m\n",
      "\u001b[32m[I 2021-10-27 16:45:23,344]\u001b[0m Trial 25 finished with value: 0.1777984511902465 and parameters: {'max_depth': 4, 'reg_alpha': 1.0293896631109369e-08, 'reg_lambda': 0.10425461997395973, 'min_child_weight': 2, 'gamma': 0, 'learning_rate': 0.009980433589550407, 'colsample_bytree': 0.76}. Best is trial 21 with value: 0.1379516763447056.\u001b[0m\n",
      "\u001b[32m[I 2021-10-27 16:46:38,713]\u001b[0m Trial 26 finished with value: 0.18226475793876235 and parameters: {'max_depth': 8, 'reg_alpha': 0.00048344776537776715, 'reg_lambda': 0.21220253210841852, 'min_child_weight': 3, 'gamma': 1, 'learning_rate': 0.06187695721466575, 'colsample_bytree': 0.91}. Best is trial 21 with value: 0.1379516763447056.\u001b[0m\n",
      "\u001b[32m[I 2021-10-27 16:48:47,918]\u001b[0m Trial 27 finished with value: 0.1432662717061712 and parameters: {'max_depth': 10, 'reg_alpha': 9.238547017089725e-07, 'reg_lambda': 0.008005923503715009, 'min_child_weight': 4, 'gamma': 0, 'learning_rate': 0.02671813914262795, 'colsample_bytree': 0.79}. Best is trial 21 with value: 0.1379516763447056.\u001b[0m\n",
      "\u001b[32m[I 2021-10-27 16:49:06,748]\u001b[0m Trial 28 finished with value: 0.28829272684267987 and parameters: {'max_depth': 1, 'reg_alpha': 0.0068331764452975495, 'reg_lambda': 1.0609360308875467e-06, 'min_child_weight': 2, 'gamma': 2, 'learning_rate': 0.003513354334727425, 'colsample_bytree': 0.64}. Best is trial 21 with value: 0.1379516763447056.\u001b[0m\n",
      "\u001b[32m[I 2021-10-27 16:49:28,201]\u001b[0m Trial 29 finished with value: 0.19772832252092104 and parameters: {'max_depth': 10, 'reg_alpha': 6.938144709432963e-06, 'reg_lambda': 0.0014694917125152567, 'min_child_weight': 1, 'gamma': 0, 'learning_rate': 0.3763821692882665, 'colsample_bytree': 0.49}. Best is trial 21 with value: 0.1379516763447056.\u001b[0m\n"
     ]
    }
   ],
   "metadata": {}
  },
  {
   "cell_type": "code",
   "execution_count": 1,
   "source": [
    "X_train = data[features]\n",
    "y_train = data.loc[X_train.index].price\n",
    "dtrain = xgb.DMatrix(X_train, label=np.log(y_train), enable_categorical=True)\n",
    "\n",
    "\n",
    "xgb_mod = xgb.train(study.best_params, dtrain, num_boost_round = 3000)\n",
    "\n"
   ],
   "outputs": [
    {
     "output_type": "error",
     "ename": "NameError",
     "evalue": "name 'data' is not defined",
     "traceback": [
      "\u001b[0;31m---------------------------------------------------------------------------\u001b[0m",
      "\u001b[0;31mNameError\u001b[0m                                 Traceback (most recent call last)",
      "\u001b[0;32m<ipython-input-1-6b3f5ec8ff16>\u001b[0m in \u001b[0;36m<module>\u001b[0;34m\u001b[0m\n\u001b[0;32m----> 1\u001b[0;31m \u001b[0mX_train\u001b[0m \u001b[0;34m=\u001b[0m \u001b[0mdata\u001b[0m\u001b[0;34m[\u001b[0m\u001b[0mfeatures\u001b[0m\u001b[0;34m]\u001b[0m\u001b[0;34m\u001b[0m\u001b[0;34m\u001b[0m\u001b[0m\n\u001b[0m\u001b[1;32m      2\u001b[0m \u001b[0my_train\u001b[0m \u001b[0;34m=\u001b[0m \u001b[0mdata\u001b[0m\u001b[0;34m.\u001b[0m\u001b[0mloc\u001b[0m\u001b[0;34m[\u001b[0m\u001b[0mX_train\u001b[0m\u001b[0;34m.\u001b[0m\u001b[0mindex\u001b[0m\u001b[0;34m]\u001b[0m\u001b[0;34m.\u001b[0m\u001b[0mprice\u001b[0m\u001b[0;34m\u001b[0m\u001b[0;34m\u001b[0m\u001b[0m\n\u001b[1;32m      3\u001b[0m \u001b[0mdtrain\u001b[0m \u001b[0;34m=\u001b[0m \u001b[0mxgb\u001b[0m\u001b[0;34m.\u001b[0m\u001b[0mDMatrix\u001b[0m\u001b[0;34m(\u001b[0m\u001b[0mX_train\u001b[0m\u001b[0;34m,\u001b[0m \u001b[0mlabel\u001b[0m\u001b[0;34m=\u001b[0m\u001b[0mnp\u001b[0m\u001b[0;34m.\u001b[0m\u001b[0mlog\u001b[0m\u001b[0;34m(\u001b[0m\u001b[0my_train\u001b[0m\u001b[0;34m)\u001b[0m\u001b[0;34m,\u001b[0m \u001b[0menable_categorical\u001b[0m\u001b[0;34m=\u001b[0m\u001b[0;32mTrue\u001b[0m\u001b[0;34m)\u001b[0m\u001b[0;34m\u001b[0m\u001b[0;34m\u001b[0m\u001b[0m\n\u001b[1;32m      4\u001b[0m \u001b[0;34m\u001b[0m\u001b[0m\n\u001b[1;32m      5\u001b[0m \u001b[0;34m\u001b[0m\u001b[0m\n",
      "\u001b[0;31mNameError\u001b[0m: name 'data' is not defined"
     ]
    }
   ],
   "metadata": {}
  },
  {
   "cell_type": "code",
   "execution_count": 50,
   "source": [
    "dtest = xgb.DMatrix(data_test[features], enable_categorical=True)\n",
    "preds_test = xgb_mod.predict(dtest)\n",
    "submission = pd.DataFrame()\n",
    "submission['id'] = data_test.id\n",
    "submission['price_prediction'] = np.exp(preds_test)\n",
    "submission.to_csv('submissions/xgb_sub.csv', index=False)"
   ],
   "outputs": [],
   "metadata": {}
  },
  {
   "cell_type": "code",
   "execution_count": 3,
   "source": [
    "import xgboost as xgb\n",
    "print(xgb.__version__)"
   ],
   "outputs": [
    {
     "output_type": "stream",
     "name": "stdout",
     "text": [
      "1.5.0\n"
     ]
    }
   ],
   "metadata": {}
  },
  {
   "cell_type": "markdown",
   "source": [
    "## Optuna with CatBoost"
   ],
   "metadata": {}
  },
  {
   "cell_type": "code",
   "execution_count": 31,
   "source": [
    "from catboost import CatBoostRegressor\n",
    "from sklearn.model_selection import train_test_split\n",
    "\n",
    "def objective_cat(trial,X,y):\n",
    "    \n",
    "    train_x, test_x, train_y, test_y = train_test_split(X, y, test_size=0.25,random_state=42)\n",
    "    param = {\n",
    "        'loss_function': 'RMSE',\n",
    "        'task_type': 'CPU',\n",
    "        'l2_leaf_reg': trial.suggest_loguniform('l2_leaf_reg', 1e-3, 10.0),\n",
    "        'max_bin': trial.suggest_int('max_bin', 200, 400),\n",
    "        #'rsm': trial.suggest_uniform('rsm', 0.3, 1.0),\n",
    "        'subsample': trial.suggest_uniform('bagging_fraction', 0.4, 1.0),\n",
    "        'learning_rate': trial.suggest_uniform('learning_rate', 0.006, 0.018),\n",
    "        'n_estimators':  1000,\n",
    "        'max_depth': trial.suggest_categorical('max_depth', [7,10,14,16]),\n",
    "        'random_state': trial.suggest_categorical('random_state', [24, 48,2020]),\n",
    "        'min_data_in_leaf': trial.suggest_int('min_data_in_leaf', 1, 300),\n",
    "    }\n",
    "    model = CatBoostRegressor(**param)  \n",
    "    \n",
    "    model.fit(train_x,np.log(train_y),eval_set=[(test_x,test_y)],early_stopping_rounds=200,verbose=False)\n",
    "    \n",
    "    preds = model.predict(test_x)\n",
    "    \n",
    "    return rmlse(test_y, np.exp(preds))"
   ],
   "outputs": [],
   "metadata": {}
  },
  {
   "cell_type": "code",
   "execution_count": 32,
   "source": [
    "import optuna\n",
    "import warnings\n",
    "warnings.filterwarnings(\"ignore\")\n",
    "\n",
    "features = ['latitude', 'longitude', 'constructed', 'area_total', 'area_living', 'rooms', 'ballog', 'district_enc', 'park_distance', 'stories', 'floor', 'ceiling', 'bathrooms_total']\n",
    "X = data[features]   \n",
    "y = data['price']\n",
    "\n",
    "study = optuna.create_study(direction=\"minimize\", study_name=\"CatBoost Regressor\")\n",
    "func = lambda trial: objective_cat(trial, X, y)\n",
    "study.optimize(func, n_trials=30)"
   ],
   "outputs": [
    {
     "output_type": "stream",
     "name": "stderr",
     "text": [
      "\u001b[32m[I 2021-10-29 18:52:12,907]\u001b[0m A new study created in memory with name: CatBoost Regressor\u001b[0m\n",
      "Custom logger is already specified. Specify more than one logger at same time is not thread safe.\u001b[32m[I 2021-10-29 18:52:44,766]\u001b[0m Trial 0 finished with value: 0.16818635487560377 and parameters: {'l2_leaf_reg': 1.541902555173562, 'max_bin': 317, 'bagging_fraction': 0.5776741086349154, 'learning_rate': 0.015843489201742125, 'max_depth': 10, 'random_state': 48, 'min_data_in_leaf': 229}. Best is trial 0 with value: 0.16818635487560377.\u001b[0m\n",
      "\u001b[32m[I 2021-10-29 19:02:50,865]\u001b[0m Trial 1 finished with value: 0.1696741298046122 and parameters: {'l2_leaf_reg': 0.0016243206725826884, 'max_bin': 313, 'bagging_fraction': 0.7000137493874574, 'learning_rate': 0.013421397897836158, 'max_depth': 14, 'random_state': 2020, 'min_data_in_leaf': 30}. Best is trial 0 with value: 0.16818635487560377.\u001b[0m\n",
      "\u001b[32m[I 2021-10-29 19:03:19,653]\u001b[0m Trial 2 finished with value: 0.18443764845906732 and parameters: {'l2_leaf_reg': 0.0029080170624547633, 'max_bin': 335, 'bagging_fraction': 0.4295983795662565, 'learning_rate': 0.0081742466445485, 'max_depth': 10, 'random_state': 48, 'min_data_in_leaf': 285}. Best is trial 0 with value: 0.16818635487560377.\u001b[0m\n"
     ]
    },
    {
     "output_type": "error",
     "ename": "KeyboardInterrupt",
     "evalue": "",
     "traceback": [
      "\u001b[0;31m---------------------------------------------------------------------------\u001b[0m",
      "\u001b[0;31mKeyboardInterrupt\u001b[0m                         Traceback (most recent call last)",
      "\u001b[0;32m<ipython-input-32-946c6f0c5ffe>\u001b[0m in \u001b[0;36m<module>\u001b[0;34m\u001b[0m\n\u001b[1;32m      9\u001b[0m \u001b[0mstudy\u001b[0m \u001b[0;34m=\u001b[0m \u001b[0moptuna\u001b[0m\u001b[0;34m.\u001b[0m\u001b[0mcreate_study\u001b[0m\u001b[0;34m(\u001b[0m\u001b[0mdirection\u001b[0m\u001b[0;34m=\u001b[0m\u001b[0;34m\"minimize\"\u001b[0m\u001b[0;34m,\u001b[0m \u001b[0mstudy_name\u001b[0m\u001b[0;34m=\u001b[0m\u001b[0;34m\"CatBoost Regressor\"\u001b[0m\u001b[0;34m)\u001b[0m\u001b[0;34m\u001b[0m\u001b[0;34m\u001b[0m\u001b[0m\n\u001b[1;32m     10\u001b[0m \u001b[0mfunc\u001b[0m \u001b[0;34m=\u001b[0m \u001b[0;32mlambda\u001b[0m \u001b[0mtrial\u001b[0m\u001b[0;34m:\u001b[0m \u001b[0mobjective_cat\u001b[0m\u001b[0;34m(\u001b[0m\u001b[0mtrial\u001b[0m\u001b[0;34m,\u001b[0m \u001b[0mX\u001b[0m\u001b[0;34m,\u001b[0m \u001b[0my\u001b[0m\u001b[0;34m)\u001b[0m\u001b[0;34m\u001b[0m\u001b[0;34m\u001b[0m\u001b[0m\n\u001b[0;32m---> 11\u001b[0;31m \u001b[0mstudy\u001b[0m\u001b[0;34m.\u001b[0m\u001b[0moptimize\u001b[0m\u001b[0;34m(\u001b[0m\u001b[0mfunc\u001b[0m\u001b[0;34m,\u001b[0m \u001b[0mn_trials\u001b[0m\u001b[0;34m=\u001b[0m\u001b[0;36m30\u001b[0m\u001b[0;34m)\u001b[0m\u001b[0;34m\u001b[0m\u001b[0;34m\u001b[0m\u001b[0m\n\u001b[0m",
      "\u001b[0;32m~/anaconda3/lib/python3.7/site-packages/optuna/study/study.py\u001b[0m in \u001b[0;36moptimize\u001b[0;34m(self, func, n_trials, timeout, n_jobs, catch, callbacks, gc_after_trial, show_progress_bar)\u001b[0m\n\u001b[1;32m    407\u001b[0m             \u001b[0mcallbacks\u001b[0m\u001b[0;34m=\u001b[0m\u001b[0mcallbacks\u001b[0m\u001b[0;34m,\u001b[0m\u001b[0;34m\u001b[0m\u001b[0;34m\u001b[0m\u001b[0m\n\u001b[1;32m    408\u001b[0m             \u001b[0mgc_after_trial\u001b[0m\u001b[0;34m=\u001b[0m\u001b[0mgc_after_trial\u001b[0m\u001b[0;34m,\u001b[0m\u001b[0;34m\u001b[0m\u001b[0;34m\u001b[0m\u001b[0m\n\u001b[0;32m--> 409\u001b[0;31m             \u001b[0mshow_progress_bar\u001b[0m\u001b[0;34m=\u001b[0m\u001b[0mshow_progress_bar\u001b[0m\u001b[0;34m,\u001b[0m\u001b[0;34m\u001b[0m\u001b[0;34m\u001b[0m\u001b[0m\n\u001b[0m\u001b[1;32m    410\u001b[0m         )\n\u001b[1;32m    411\u001b[0m \u001b[0;34m\u001b[0m\u001b[0m\n",
      "\u001b[0;32m~/anaconda3/lib/python3.7/site-packages/optuna/study/_optimize.py\u001b[0m in \u001b[0;36m_optimize\u001b[0;34m(study, func, n_trials, timeout, n_jobs, catch, callbacks, gc_after_trial, show_progress_bar)\u001b[0m\n\u001b[1;32m     74\u001b[0m                 \u001b[0mreseed_sampler_rng\u001b[0m\u001b[0;34m=\u001b[0m\u001b[0;32mFalse\u001b[0m\u001b[0;34m,\u001b[0m\u001b[0;34m\u001b[0m\u001b[0;34m\u001b[0m\u001b[0m\n\u001b[1;32m     75\u001b[0m                 \u001b[0mtime_start\u001b[0m\u001b[0;34m=\u001b[0m\u001b[0;32mNone\u001b[0m\u001b[0;34m,\u001b[0m\u001b[0;34m\u001b[0m\u001b[0;34m\u001b[0m\u001b[0m\n\u001b[0;32m---> 76\u001b[0;31m                 \u001b[0mprogress_bar\u001b[0m\u001b[0;34m=\u001b[0m\u001b[0mprogress_bar\u001b[0m\u001b[0;34m,\u001b[0m\u001b[0;34m\u001b[0m\u001b[0;34m\u001b[0m\u001b[0m\n\u001b[0m\u001b[1;32m     77\u001b[0m             )\n\u001b[1;32m     78\u001b[0m         \u001b[0;32melse\u001b[0m\u001b[0;34m:\u001b[0m\u001b[0;34m\u001b[0m\u001b[0;34m\u001b[0m\u001b[0m\n",
      "\u001b[0;32m~/anaconda3/lib/python3.7/site-packages/optuna/study/_optimize.py\u001b[0m in \u001b[0;36m_optimize_sequential\u001b[0;34m(study, func, n_trials, timeout, catch, callbacks, gc_after_trial, reseed_sampler_rng, time_start, progress_bar)\u001b[0m\n\u001b[1;32m    161\u001b[0m \u001b[0;34m\u001b[0m\u001b[0m\n\u001b[1;32m    162\u001b[0m         \u001b[0;32mtry\u001b[0m\u001b[0;34m:\u001b[0m\u001b[0;34m\u001b[0m\u001b[0;34m\u001b[0m\u001b[0m\n\u001b[0;32m--> 163\u001b[0;31m             \u001b[0mtrial\u001b[0m \u001b[0;34m=\u001b[0m \u001b[0m_run_trial\u001b[0m\u001b[0;34m(\u001b[0m\u001b[0mstudy\u001b[0m\u001b[0;34m,\u001b[0m \u001b[0mfunc\u001b[0m\u001b[0;34m,\u001b[0m \u001b[0mcatch\u001b[0m\u001b[0;34m)\u001b[0m\u001b[0;34m\u001b[0m\u001b[0;34m\u001b[0m\u001b[0m\n\u001b[0m\u001b[1;32m    164\u001b[0m         \u001b[0;32mexcept\u001b[0m \u001b[0mException\u001b[0m\u001b[0;34m:\u001b[0m\u001b[0;34m\u001b[0m\u001b[0;34m\u001b[0m\u001b[0m\n\u001b[1;32m    165\u001b[0m             \u001b[0;32mraise\u001b[0m\u001b[0;34m\u001b[0m\u001b[0;34m\u001b[0m\u001b[0m\n",
      "\u001b[0;32m~/anaconda3/lib/python3.7/site-packages/optuna/study/_optimize.py\u001b[0m in \u001b[0;36m_run_trial\u001b[0;34m(study, func, catch)\u001b[0m\n\u001b[1;32m    211\u001b[0m \u001b[0;34m\u001b[0m\u001b[0m\n\u001b[1;32m    212\u001b[0m     \u001b[0;32mtry\u001b[0m\u001b[0;34m:\u001b[0m\u001b[0;34m\u001b[0m\u001b[0;34m\u001b[0m\u001b[0m\n\u001b[0;32m--> 213\u001b[0;31m         \u001b[0mvalue_or_values\u001b[0m \u001b[0;34m=\u001b[0m \u001b[0mfunc\u001b[0m\u001b[0;34m(\u001b[0m\u001b[0mtrial\u001b[0m\u001b[0;34m)\u001b[0m\u001b[0;34m\u001b[0m\u001b[0;34m\u001b[0m\u001b[0m\n\u001b[0m\u001b[1;32m    214\u001b[0m     \u001b[0;32mexcept\u001b[0m \u001b[0mexceptions\u001b[0m\u001b[0;34m.\u001b[0m\u001b[0mTrialPruned\u001b[0m \u001b[0;32mas\u001b[0m \u001b[0me\u001b[0m\u001b[0;34m:\u001b[0m\u001b[0;34m\u001b[0m\u001b[0;34m\u001b[0m\u001b[0m\n\u001b[1;32m    215\u001b[0m         \u001b[0;31m# TODO(mamu): Handle multi-objective cases.\u001b[0m\u001b[0;34m\u001b[0m\u001b[0;34m\u001b[0m\u001b[0;34m\u001b[0m\u001b[0m\n",
      "\u001b[0;32m<ipython-input-32-946c6f0c5ffe>\u001b[0m in \u001b[0;36m<lambda>\u001b[0;34m(trial)\u001b[0m\n\u001b[1;32m      8\u001b[0m \u001b[0;34m\u001b[0m\u001b[0m\n\u001b[1;32m      9\u001b[0m \u001b[0mstudy\u001b[0m \u001b[0;34m=\u001b[0m \u001b[0moptuna\u001b[0m\u001b[0;34m.\u001b[0m\u001b[0mcreate_study\u001b[0m\u001b[0;34m(\u001b[0m\u001b[0mdirection\u001b[0m\u001b[0;34m=\u001b[0m\u001b[0;34m\"minimize\"\u001b[0m\u001b[0;34m,\u001b[0m \u001b[0mstudy_name\u001b[0m\u001b[0;34m=\u001b[0m\u001b[0;34m\"CatBoost Regressor\"\u001b[0m\u001b[0;34m)\u001b[0m\u001b[0;34m\u001b[0m\u001b[0;34m\u001b[0m\u001b[0m\n\u001b[0;32m---> 10\u001b[0;31m \u001b[0mfunc\u001b[0m \u001b[0;34m=\u001b[0m \u001b[0;32mlambda\u001b[0m \u001b[0mtrial\u001b[0m\u001b[0;34m:\u001b[0m \u001b[0mobjective_cat\u001b[0m\u001b[0;34m(\u001b[0m\u001b[0mtrial\u001b[0m\u001b[0;34m,\u001b[0m \u001b[0mX\u001b[0m\u001b[0;34m,\u001b[0m \u001b[0my\u001b[0m\u001b[0;34m)\u001b[0m\u001b[0;34m\u001b[0m\u001b[0;34m\u001b[0m\u001b[0m\n\u001b[0m\u001b[1;32m     11\u001b[0m \u001b[0mstudy\u001b[0m\u001b[0;34m.\u001b[0m\u001b[0moptimize\u001b[0m\u001b[0;34m(\u001b[0m\u001b[0mfunc\u001b[0m\u001b[0;34m,\u001b[0m \u001b[0mn_trials\u001b[0m\u001b[0;34m=\u001b[0m\u001b[0;36m30\u001b[0m\u001b[0;34m)\u001b[0m\u001b[0;34m\u001b[0m\u001b[0;34m\u001b[0m\u001b[0m\n",
      "\u001b[0;32m<ipython-input-31-59e95bba0496>\u001b[0m in \u001b[0;36mobjective_cat\u001b[0;34m(trial, X, y)\u001b[0m\n\u001b[1;32m     20\u001b[0m     \u001b[0mmodel\u001b[0m \u001b[0;34m=\u001b[0m \u001b[0mCatBoostRegressor\u001b[0m\u001b[0;34m(\u001b[0m\u001b[0;34m**\u001b[0m\u001b[0mparam\u001b[0m\u001b[0;34m)\u001b[0m\u001b[0;34m\u001b[0m\u001b[0;34m\u001b[0m\u001b[0m\n\u001b[1;32m     21\u001b[0m \u001b[0;34m\u001b[0m\u001b[0m\n\u001b[0;32m---> 22\u001b[0;31m     \u001b[0mmodel\u001b[0m\u001b[0;34m.\u001b[0m\u001b[0mfit\u001b[0m\u001b[0;34m(\u001b[0m\u001b[0mtrain_x\u001b[0m\u001b[0;34m,\u001b[0m\u001b[0mnp\u001b[0m\u001b[0;34m.\u001b[0m\u001b[0mlog\u001b[0m\u001b[0;34m(\u001b[0m\u001b[0mtrain_y\u001b[0m\u001b[0;34m)\u001b[0m\u001b[0;34m,\u001b[0m\u001b[0meval_set\u001b[0m\u001b[0;34m=\u001b[0m\u001b[0;34m[\u001b[0m\u001b[0;34m(\u001b[0m\u001b[0mtest_x\u001b[0m\u001b[0;34m,\u001b[0m\u001b[0mtest_y\u001b[0m\u001b[0;34m)\u001b[0m\u001b[0;34m]\u001b[0m\u001b[0;34m,\u001b[0m\u001b[0mearly_stopping_rounds\u001b[0m\u001b[0;34m=\u001b[0m\u001b[0;36m200\u001b[0m\u001b[0;34m,\u001b[0m\u001b[0mverbose\u001b[0m\u001b[0;34m=\u001b[0m\u001b[0;32mFalse\u001b[0m\u001b[0;34m)\u001b[0m\u001b[0;34m\u001b[0m\u001b[0;34m\u001b[0m\u001b[0m\n\u001b[0m\u001b[1;32m     23\u001b[0m \u001b[0;34m\u001b[0m\u001b[0m\n\u001b[1;32m     24\u001b[0m     \u001b[0mpreds\u001b[0m \u001b[0;34m=\u001b[0m \u001b[0mmodel\u001b[0m\u001b[0;34m.\u001b[0m\u001b[0mpredict\u001b[0m\u001b[0;34m(\u001b[0m\u001b[0mtest_x\u001b[0m\u001b[0;34m)\u001b[0m\u001b[0;34m\u001b[0m\u001b[0;34m\u001b[0m\u001b[0m\n",
      "\u001b[0;32m~/anaconda3/lib/python3.7/site-packages/catboost/core.py\u001b[0m in \u001b[0;36mfit\u001b[0;34m(self, X, y, cat_features, sample_weight, baseline, use_best_model, eval_set, verbose, logging_level, plot, column_description, verbose_eval, metric_period, silent, early_stopping_rounds, save_snapshot, snapshot_file, snapshot_interval, init_model, callbacks, log_cout, log_cerr)\u001b[0m\n\u001b[1;32m   5259\u001b[0m                          \u001b[0muse_best_model\u001b[0m\u001b[0;34m,\u001b[0m \u001b[0meval_set\u001b[0m\u001b[0;34m,\u001b[0m \u001b[0mverbose\u001b[0m\u001b[0;34m,\u001b[0m \u001b[0mlogging_level\u001b[0m\u001b[0;34m,\u001b[0m \u001b[0mplot\u001b[0m\u001b[0;34m,\u001b[0m \u001b[0mcolumn_description\u001b[0m\u001b[0;34m,\u001b[0m\u001b[0;34m\u001b[0m\u001b[0;34m\u001b[0m\u001b[0m\n\u001b[1;32m   5260\u001b[0m                          \u001b[0mverbose_eval\u001b[0m\u001b[0;34m,\u001b[0m \u001b[0mmetric_period\u001b[0m\u001b[0;34m,\u001b[0m \u001b[0msilent\u001b[0m\u001b[0;34m,\u001b[0m \u001b[0mearly_stopping_rounds\u001b[0m\u001b[0;34m,\u001b[0m\u001b[0;34m\u001b[0m\u001b[0;34m\u001b[0m\u001b[0m\n\u001b[0;32m-> 5261\u001b[0;31m                          save_snapshot, snapshot_file, snapshot_interval, init_model, callbacks, log_cout, log_cerr)\n\u001b[0m\u001b[1;32m   5262\u001b[0m \u001b[0;34m\u001b[0m\u001b[0m\n\u001b[1;32m   5263\u001b[0m     \u001b[0;32mdef\u001b[0m \u001b[0mpredict\u001b[0m\u001b[0;34m(\u001b[0m\u001b[0mself\u001b[0m\u001b[0;34m,\u001b[0m \u001b[0mdata\u001b[0m\u001b[0;34m,\u001b[0m \u001b[0mprediction_type\u001b[0m\u001b[0;34m=\u001b[0m\u001b[0;32mNone\u001b[0m\u001b[0;34m,\u001b[0m \u001b[0mntree_start\u001b[0m\u001b[0;34m=\u001b[0m\u001b[0;36m0\u001b[0m\u001b[0;34m,\u001b[0m \u001b[0mntree_end\u001b[0m\u001b[0;34m=\u001b[0m\u001b[0;36m0\u001b[0m\u001b[0;34m,\u001b[0m \u001b[0mthread_count\u001b[0m\u001b[0;34m=\u001b[0m\u001b[0;34m-\u001b[0m\u001b[0;36m1\u001b[0m\u001b[0;34m,\u001b[0m \u001b[0mverbose\u001b[0m\u001b[0;34m=\u001b[0m\u001b[0;32mNone\u001b[0m\u001b[0;34m,\u001b[0m \u001b[0mtask_type\u001b[0m\u001b[0;34m=\u001b[0m\u001b[0;34m\"CPU\"\u001b[0m\u001b[0;34m)\u001b[0m\u001b[0;34m:\u001b[0m\u001b[0;34m\u001b[0m\u001b[0;34m\u001b[0m\u001b[0m\n",
      "\u001b[0;32m~/anaconda3/lib/python3.7/site-packages/catboost/core.py\u001b[0m in \u001b[0;36m_fit\u001b[0;34m(self, X, y, cat_features, text_features, embedding_features, pairs, sample_weight, group_id, group_weight, subgroup_id, pairs_weight, baseline, use_best_model, eval_set, verbose, logging_level, plot, column_description, verbose_eval, metric_period, silent, early_stopping_rounds, save_snapshot, snapshot_file, snapshot_interval, init_model, callbacks, log_cout, log_cerr)\u001b[0m\n\u001b[1;32m   2000\u001b[0m                 \u001b[0mparams\u001b[0m\u001b[0;34m,\u001b[0m\u001b[0;34m\u001b[0m\u001b[0;34m\u001b[0m\u001b[0m\n\u001b[1;32m   2001\u001b[0m                 \u001b[0mallow_clear_pool\u001b[0m\u001b[0;34m,\u001b[0m\u001b[0;34m\u001b[0m\u001b[0;34m\u001b[0m\u001b[0m\n\u001b[0;32m-> 2002\u001b[0;31m                 \u001b[0mtrain_params\u001b[0m\u001b[0;34m[\u001b[0m\u001b[0;34m\"init_model\"\u001b[0m\u001b[0;34m]\u001b[0m\u001b[0;34m\u001b[0m\u001b[0;34m\u001b[0m\u001b[0m\n\u001b[0m\u001b[1;32m   2003\u001b[0m             )\n\u001b[1;32m   2004\u001b[0m \u001b[0;34m\u001b[0m\u001b[0m\n",
      "\u001b[0;32m~/anaconda3/lib/python3.7/site-packages/catboost/core.py\u001b[0m in \u001b[0;36m_train\u001b[0;34m(self, train_pool, test_pool, params, allow_clear_pool, init_model)\u001b[0m\n\u001b[1;32m   1426\u001b[0m \u001b[0;34m\u001b[0m\u001b[0m\n\u001b[1;32m   1427\u001b[0m     \u001b[0;32mdef\u001b[0m \u001b[0m_train\u001b[0m\u001b[0;34m(\u001b[0m\u001b[0mself\u001b[0m\u001b[0;34m,\u001b[0m \u001b[0mtrain_pool\u001b[0m\u001b[0;34m,\u001b[0m \u001b[0mtest_pool\u001b[0m\u001b[0;34m,\u001b[0m \u001b[0mparams\u001b[0m\u001b[0;34m,\u001b[0m \u001b[0mallow_clear_pool\u001b[0m\u001b[0;34m,\u001b[0m \u001b[0minit_model\u001b[0m\u001b[0;34m)\u001b[0m\u001b[0;34m:\u001b[0m\u001b[0;34m\u001b[0m\u001b[0;34m\u001b[0m\u001b[0m\n\u001b[0;32m-> 1428\u001b[0;31m         \u001b[0mself\u001b[0m\u001b[0;34m.\u001b[0m\u001b[0m_object\u001b[0m\u001b[0;34m.\u001b[0m\u001b[0m_train\u001b[0m\u001b[0;34m(\u001b[0m\u001b[0mtrain_pool\u001b[0m\u001b[0;34m,\u001b[0m \u001b[0mtest_pool\u001b[0m\u001b[0;34m,\u001b[0m \u001b[0mparams\u001b[0m\u001b[0;34m,\u001b[0m \u001b[0mallow_clear_pool\u001b[0m\u001b[0;34m,\u001b[0m \u001b[0minit_model\u001b[0m\u001b[0;34m.\u001b[0m\u001b[0m_object\u001b[0m \u001b[0;32mif\u001b[0m \u001b[0minit_model\u001b[0m \u001b[0;32melse\u001b[0m \u001b[0;32mNone\u001b[0m\u001b[0;34m)\u001b[0m\u001b[0;34m\u001b[0m\u001b[0;34m\u001b[0m\u001b[0m\n\u001b[0m\u001b[1;32m   1429\u001b[0m         \u001b[0mself\u001b[0m\u001b[0;34m.\u001b[0m\u001b[0m_set_trained_model_attributes\u001b[0m\u001b[0;34m(\u001b[0m\u001b[0;34m)\u001b[0m\u001b[0;34m\u001b[0m\u001b[0;34m\u001b[0m\u001b[0m\n\u001b[1;32m   1430\u001b[0m \u001b[0;34m\u001b[0m\u001b[0m\n",
      "\u001b[0;32m_catboost.pyx\u001b[0m in \u001b[0;36m_catboost._CatBoost._train\u001b[0;34m()\u001b[0m\n",
      "\u001b[0;32m_catboost.pyx\u001b[0m in \u001b[0;36m_catboost._CatBoost._train\u001b[0;34m()\u001b[0m\n",
      "\u001b[0;31mKeyboardInterrupt\u001b[0m: "
     ]
    }
   ],
   "metadata": {}
  }
 ],
 "metadata": {
  "orig_nbformat": 4,
  "language_info": {
   "name": "python",
   "version": "3.7.3",
   "mimetype": "text/x-python",
   "codemirror_mode": {
    "name": "ipython",
    "version": 3
   },
   "pygments_lexer": "ipython3",
   "nbconvert_exporter": "python",
   "file_extension": ".py"
  },
  "kernelspec": {
   "name": "python3",
   "display_name": "Python 3.7.3 64-bit ('base': conda)"
  },
  "interpreter": {
   "hash": "675e4d1f4971b295d587632b2ddd77135b95b56ce96661a1d369a7e57f4b577d"
  }
 },
 "nbformat": 4,
 "nbformat_minor": 2
}
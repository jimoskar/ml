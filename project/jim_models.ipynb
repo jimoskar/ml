{
 "cells": [
  {
   "cell_type": "code",
   "execution_count": 44,
   "source": [
    "import json\n",
    "import pandas as pd \n",
    "import numpy as np \n",
    "import matplotlib.pyplot as plt \n",
    "import seaborn as sns \n",
    "import lightgbm as lgb\n",
    "import sklearn.model_selection as model_selection\n",
    "import contextily as cx\n",
    "import geopandas as gpd\n",
    "\n",
    "gpd.io.file.fiona.drvsupport.supported_drivers[\"KML\"] = \"rw\"\n",
    "sns.set_style('darkgrid')\n",
    "pd.set_option('display.max_colwidth', None)"
   ],
   "outputs": [],
   "metadata": {}
  },
  {
   "cell_type": "markdown",
   "source": [
    "# Utils"
   ],
   "metadata": {}
  },
  {
   "cell_type": "code",
   "execution_count": 4,
   "source": [
    "def rmlse(y_true, y_pred):\n",
    "    # Alternatively: sklearn.metrics.mean_squared_log_error(y_true, y_pred) ** 0.5\n",
    "    assert (y_true >= 0).all() \n",
    "    assert (y_pred >= 0).all()\n",
    "    log_error = np.log1p(y_pred) - np.log1p(y_true)  # Note: log1p(x) = log(1 + x)\n",
    "    return np.mean(log_error ** 2) ** 0.5"
   ],
   "outputs": [],
   "metadata": {}
  },
  {
   "cell_type": "markdown",
   "source": [
    "# Load data metro"
   ],
   "metadata": {}
  },
  {
   "cell_type": "code",
   "execution_count": 45,
   "source": [
    "# Read the building datasets\n",
    "buildings_train = pd.read_csv(\"resources/data/buildings_train.csv\").set_index(\"id\")\n",
    "buildings_train[\"split\"] = \"train\"\n",
    "buildings_test = pd.read_csv(\"resources/data/buildings_test.csv\").set_index(\"id\")\n",
    "buildings_test[\"split\"] = \"test\"\n",
    "\n",
    "# Create a GeoDataFrame of all buildings\n",
    "buildings = pd.concat([buildings_train, buildings_test])\n",
    "buildings = gpd.GeoDataFrame(buildings, geometry=gpd.points_from_xy(\n",
    "    buildings.longitude, buildings.latitude, crs=\"EPSG:4326\"\n",
    "))\n",
    "\n",
    "stations = gpd.read_file(\"resources/metro_stations.kml\", driver=\"KML\").drop(columns=[\"Description\"]).rename(columns={\"Name\": \"name\"})\n",
    "\n",
    "# The Earth's radius in meters\n",
    "EARTH_RADIUS = 6371000\n",
    "\n",
    "# Create temporary columns for coordinates given in radians\n",
    "stations[\"lon_rad\"] = np.radians(stations.geometry.x)\n",
    "stations[\"lat_rad\"] = np.radians(stations.geometry.y)\n",
    "buildings[\"lon_rad\"] = np.radians(buildings.longitude)\n",
    "buildings[\"lat_rad\"] = np.radians(buildings.latitude)\n",
    "\n",
    "# Calculate the distance to the nearest metro station for each building using\n",
    "# the haversine formula with the Earth's radius as given above\n",
    "buildings[\"metro_distance\"] = buildings.apply(\n",
    "    lambda row: np.min(\n",
    "        2\n",
    "        * EARTH_RADIUS\n",
    "        * np.arcsin(\n",
    "            np.sqrt(\n",
    "                np.sin((stations.lat_rad - row.lat_rad) / 2) ** 2\n",
    "                + np.cos(row.lat_rad)\n",
    "                * np.cos(stations.lat_rad)\n",
    "                * np.sin((stations.lon_rad - row.lon_rad) / 2) ** 2\n",
    "            )\n",
    "        )\n",
    "    ),\n",
    "    axis=1,\n",
    ")\n",
    "\n",
    "# Drop the temporary radian columns\n",
    "stations.drop(columns=[\"lon_rad\", \"lat_rad\"], inplace=True)\n",
    "buildings.drop(columns=[\"lon_rad\", \"lat_rad\"], inplace=True)"
   ],
   "outputs": [],
   "metadata": {}
  },
  {
   "cell_type": "code",
   "execution_count": 51,
   "source": [
    "buildings_train = buildings.loc[buildings[\"split\"] == \"train\", :].drop(columns = \"split\", inplace = True)\n",
    "buildings_train.drop(columns = \"split\", inplace = True)\n",
    "buildings_train"
   ],
   "outputs": [
    {
     "output_type": "error",
     "ename": "AttributeError",
     "evalue": "'NoneType' object has no attribute 'head'",
     "traceback": [
      "\u001b[0;31m---------------------------------------------------------------------------\u001b[0m",
      "\u001b[0;31mAttributeError\u001b[0m                            Traceback (most recent call last)",
      "\u001b[0;32m<ipython-input-51-c868fe2626ea>\u001b[0m in \u001b[0;36m<module>\u001b[0;34m\u001b[0m\n\u001b[1;32m      1\u001b[0m \u001b[0mbuildings_train\u001b[0m \u001b[0;34m=\u001b[0m \u001b[0mbuildings\u001b[0m\u001b[0;34m.\u001b[0m\u001b[0mloc\u001b[0m\u001b[0;34m[\u001b[0m\u001b[0mbuildings\u001b[0m\u001b[0;34m[\u001b[0m\u001b[0;34m\"split\"\u001b[0m\u001b[0;34m]\u001b[0m \u001b[0;34m==\u001b[0m \u001b[0;34m\"train\"\u001b[0m\u001b[0;34m,\u001b[0m \u001b[0;34m:\u001b[0m\u001b[0;34m]\u001b[0m\u001b[0;34m.\u001b[0m\u001b[0mdrop\u001b[0m\u001b[0;34m(\u001b[0m\u001b[0mcolumns\u001b[0m \u001b[0;34m=\u001b[0m \u001b[0;34m\"split\"\u001b[0m\u001b[0;34m,\u001b[0m \u001b[0minplace\u001b[0m \u001b[0;34m=\u001b[0m \u001b[0;32mTrue\u001b[0m\u001b[0;34m)\u001b[0m\u001b[0;34m\u001b[0m\u001b[0;34m\u001b[0m\u001b[0m\n\u001b[0;32m----> 2\u001b[0;31m \u001b[0mbuildings_train\u001b[0m\u001b[0;34m.\u001b[0m\u001b[0mhead\u001b[0m\u001b[0;34m(\u001b[0m\u001b[0;34m)\u001b[0m\u001b[0;34m\u001b[0m\u001b[0;34m\u001b[0m\u001b[0m\n\u001b[0m",
      "\u001b[0;31mAttributeError\u001b[0m: 'NoneType' object has no attribute 'head'"
     ]
    }
   ],
   "metadata": {}
  },
  {
   "cell_type": "markdown",
   "source": [
    "# Load Data"
   ],
   "metadata": {}
  },
  {
   "cell_type": "code",
   "execution_count": 5,
   "source": [
    "apartments = pd.read_csv('resources/data/apartments_train.csv')\n",
    "buildings = pd.read_csv('resources/data/buildings_train.csv')\n",
    "data = pd.merge(apartments, buildings.set_index('id'), how='left', left_on='building_id', right_index=True)\n",
    "\n",
    "apartments_test = pd.read_csv('resources/data/apartments_test.csv')\n",
    "buildings_test = pd.read_csv('resources/data/buildings_test.csv')\n",
    "data_test = pd.merge(apartments_test, buildings_test.set_index('id'), how='left', left_on='building_id', right_index=True)"
   ],
   "outputs": [],
   "metadata": {}
  },
  {
   "cell_type": "markdown",
   "source": [
    "# LightGBM\n",
    "I try some hyperparameter tuning with optuna, but I am not able to use the rmlse, which is strange. Need to experiment more with this."
   ],
   "metadata": {}
  },
  {
   "cell_type": "code",
   "execution_count": 34,
   "source": [
    "import optuna \n",
    "from sklearn.model_selection import KFold\n",
    "from optuna.integration import LightGBMPruningCallback\n",
    "\n",
    "def objective(trial, X, y):\n",
    "    params = {\n",
    "        'verbose': -1,\n",
    "        'metric': 'rmse', \n",
    "        'random_state': 42,\n",
    "        'n_estimators': 3000,\n",
    "        #'reg_alpha': trial.suggest_loguniform('reg_alpha', 1e-3, 10.0),\n",
    "        #'reg_lambda': trial.suggest_loguniform('reg_lambda', 1e-3, 10.0),\n",
    "        #'colsample_bytree': trial.suggest_categorical('colsample_bytree', [0.3,0.4,0.5,0.6,0.7,0.8,0.9, 1.0]),\n",
    "        #'subsample': trial.suggest_categorical('subsample', [0.4,0.5,0.6,0.7,0.8,1.0]),\n",
    "        'learning_rate': trial.suggest_categorical('learning_rate', [0.006,0.008,0.01,0.014,0.017,0.02]),\n",
    "        'max_depth': trial.suggest_categorical('max_depth', [10,20,100]),\n",
    "        'num_leaves' : trial.suggest_int('num_leaves', 1, 1000),\n",
    "        'min_child_samples': trial.suggest_int('min_child_samples', 1, 300)\n",
    "        #'cat_smooth' : trial.suggest_int('min_data_per_groups', 1, 100)\n",
    "    }\n",
    "    cv = KFold(n_splits=5, shuffle=True, random_state=42)\n",
    "\n",
    "    cv_scores = np.empty(5)\n",
    "    for idx, (train_idx, test_idx) in enumerate(cv.split(X, y)):\n",
    "        X_train, X_test = X.iloc[train_idx], X.iloc[test_idx]\n",
    "        y_train, y_test = y[train_idx], y[test_idx]\n",
    "\n",
    "        lgb_train = lgb.Dataset(X_train, y_train, free_raw_data=False)\n",
    "        lgb_eval = lgb.Dataset(X_test, y_test,free_raw_data=False)\n",
    "        model = lgb.train(params, lgb_train, valid_sets=lgb_eval, verbose_eval=False, early_stopping_rounds=100)\n",
    "        \n",
    "        \"\"\"\n",
    "        model = lgb.LGBMRegressor(objective=\"regression\", silent = True, **param)\n",
    "        model.fit(\n",
    "            X_train,\n",
    "            y_train,\n",
    "            eval_set=[(X_test, y_test)],\n",
    "            early_stopping_rounds=100\n",
    "        )\n",
    "        \"\"\"\n",
    "        preds = model.predict(X_test)\n",
    "        cv_scores[idx] = rmlse(y_test, preds)\n",
    "\n",
    "    return np.mean(cv_scores)\n",
    "\n",
    "    optuna.logging.set_verbosity(optuna.logging.INFO)"
   ],
   "outputs": [],
   "metadata": {}
  },
  {
   "cell_type": "code",
   "execution_count": 37,
   "source": [
    "import warnings\n",
    "warnings.filterwarnings(\"ignore\")\n",
    "\n",
    "features = ['latitude', 'longitude', 'constructed', 'area_total', 'rooms']\n",
    "X = data[features]   \n",
    "y = np.log(data['price'])\n",
    "\n",
    "study = optuna.create_study(direction=\"minimize\", study_name=\"LGBM Regressor\")\n",
    "func = lambda trial: objective(trial, X, y)\n",
    "study.optimize(func, n_trials=10)"
   ],
   "outputs": [
    {
     "output_type": "stream",
     "name": "stderr",
     "text": [
      "\u001b[32m[I 2021-10-12 14:58:17,044]\u001b[0m A new study created in memory with name: LGBM Regressor\u001b[0m\n",
      "\u001b[32m[I 2021-10-12 14:59:13,530]\u001b[0m Trial 0 finished with value: 0.009410860426865272 and parameters: {'learning_rate': 0.017, 'max_depth': 20, 'num_leaves': 386, 'min_child_samples': 234}. Best is trial 0 with value: 0.009410860426865272.\u001b[0m\n",
      "\u001b[32m[I 2021-10-12 15:00:05,012]\u001b[0m Trial 1 finished with value: 0.009826179864794515 and parameters: {'learning_rate': 0.014, 'max_depth': 20, 'num_leaves': 791, 'min_child_samples': 300}. Best is trial 0 with value: 0.009410860426865272.\u001b[0m\n",
      "\u001b[32m[I 2021-10-12 15:01:13,972]\u001b[0m Trial 2 finished with value: 0.008922914786195179 and parameters: {'learning_rate': 0.02, 'max_depth': 20, 'num_leaves': 426, 'min_child_samples': 113}. Best is trial 2 with value: 0.008922914786195179.\u001b[0m\n",
      "\u001b[32m[I 2021-10-12 15:02:06,449]\u001b[0m Trial 3 finished with value: 0.009571986960539399 and parameters: {'learning_rate': 0.02, 'max_depth': 100, 'num_leaves': 818, 'min_child_samples': 298}. Best is trial 2 with value: 0.008922914786195179.\u001b[0m\n",
      "\u001b[32m[I 2021-10-12 15:03:44,388]\u001b[0m Trial 4 finished with value: 0.008826731969780961 and parameters: {'learning_rate': 0.02, 'max_depth': 100, 'num_leaves': 330, 'min_child_samples': 114}. Best is trial 4 with value: 0.008826731969780961.\u001b[0m\n",
      "\u001b[32m[I 2021-10-12 15:04:25,013]\u001b[0m Trial 5 finished with value: 0.009163257609647191 and parameters: {'learning_rate': 0.02, 'max_depth': 10, 'num_leaves': 406, 'min_child_samples': 96}. Best is trial 4 with value: 0.008826731969780961.\u001b[0m\n",
      "\u001b[32m[I 2021-10-12 15:05:26,390]\u001b[0m Trial 6 finished with value: 0.009898362006487086 and parameters: {'learning_rate': 0.006, 'max_depth': 20, 'num_leaves': 458, 'min_child_samples': 177}. Best is trial 4 with value: 0.008826731969780961.\u001b[0m\n",
      "\u001b[32m[I 2021-10-12 15:05:59,407]\u001b[0m Trial 7 finished with value: 0.010423917931781632 and parameters: {'learning_rate': 0.01, 'max_depth': 10, 'num_leaves': 241, 'min_child_samples': 292}. Best is trial 4 with value: 0.008826731969780961.\u001b[0m\n",
      "\u001b[32m[I 2021-10-12 15:06:34,248]\u001b[0m Trial 8 finished with value: 0.010081422291627774 and parameters: {'learning_rate': 0.014, 'max_depth': 10, 'num_leaves': 366, 'min_child_samples': 273}. Best is trial 4 with value: 0.008826731969780961.\u001b[0m\n",
      "\u001b[32m[I 2021-10-12 15:07:31,832]\u001b[0m Trial 9 finished with value: 0.00934928463059954 and parameters: {'learning_rate': 0.017, 'max_depth': 20, 'num_leaves': 935, 'min_child_samples': 214}. Best is trial 4 with value: 0.008826731969780961.\u001b[0m\n"
     ]
    }
   ],
   "metadata": {}
  },
  {
   "cell_type": "code",
   "execution_count": 38,
   "source": [
    "print(f\"\\tBest value (rmlse): {study.best_value:.5f}\")\n",
    "print(f\"\\tBest params:\")\n",
    "\n",
    "for key, value in study.best_params.items():\n",
    "    print(f\"\\t\\t{key}: {value}\")"
   ],
   "outputs": [
    {
     "output_type": "stream",
     "name": "stdout",
     "text": [
      "\tBest value (rmlse): 0.00883\n",
      "\tBest params:\n",
      "\t\tlearning_rate: 0.02\n",
      "\t\tmax_depth: 100\n",
      "\t\tnum_leaves: 330\n",
      "\t\tmin_child_samples: 114\n"
     ]
    }
   ],
   "metadata": {}
  },
  {
   "cell_type": "code",
   "execution_count": 39,
   "source": [
    "features = ['latitude', 'longitude', 'constructed', 'area_total', 'rooms']\n",
    "\n",
    "X_train = data[features]\n",
    "y_train = data.loc[X_train.index].price\n",
    "\n",
    "lgb_mod = lgb.LGBMRegressor(\n",
    "    random_state = 48,\n",
    "    metric='rmse',\n",
    "    n_estimators=20000,\n",
    "    **study.best_params\n",
    ")\n",
    "\n",
    "lgb_mod.fit(X_train, np.log(y_train))"
   ],
   "outputs": [
    {
     "output_type": "execute_result",
     "data": {
      "text/plain": [
       "LGBMRegressor(boosting_type='gbdt', class_weight=None, colsample_bytree=1.0,\n",
       "              importance_type='split', learning_rate=0.02, max_depth=100,\n",
       "              metric='rmse', min_child_samples=114, min_child_weight=0.001,\n",
       "              min_split_gain=0.0, n_estimators=20000, n_jobs=-1, num_leaves=330,\n",
       "              objective=None, random_state=48, reg_alpha=0.0, reg_lambda=0.0,\n",
       "              silent=True, subsample=1.0, subsample_for_bin=200000,\n",
       "              subsample_freq=0)"
      ]
     },
     "metadata": {},
     "execution_count": 39
    }
   ],
   "metadata": {}
  },
  {
   "cell_type": "code",
   "execution_count": 42,
   "source": [
    "lgb.plot_importance(lgb_mod)\n"
   ],
   "outputs": [
    {
     "output_type": "execute_result",
     "data": {
      "text/plain": [
       "<AxesSubplot:title={'center':'Feature importance'}, xlabel='Feature importance', ylabel='Features'>"
      ]
     },
     "metadata": {},
     "execution_count": 42
    },
    {
     "output_type": "display_data",
     "data": {
      "image/png": "[encoded data removed]",
      "text/plain": [
       "<Figure size 432x288 with 1 Axes>"
      ]
     },
     "metadata": {}
    }
   ],
   "metadata": {}
  },
  {
   "cell_type": "code",
   "execution_count": 40,
   "source": [
    "preds_test = lgb_mod.predict(data_test[features])\n",
    "submission = pd.DataFrame()\n",
    "submission['id'] = data_test.id\n",
    "submission['price_prediction'] = np.exp(preds_test)\n",
    "submission.to_csv('submissions/lgbm4_submission.csv', index=False)"
   ],
   "outputs": [],
   "metadata": {}
  },
  {
   "cell_type": "code",
   "execution_count": 28,
   "source": [
    "features = ['latitude', 'longitude', 'constructed', 'area_total', 'rooms']\n",
    "\n",
    "data_train, data_valid = model_selection.train_test_split(data, test_size=0.33, stratify=np.log(data.price).round())\n",
    "X_train = data_train[features]\n",
    "y_train = data_train.loc[X_train.index].price\n",
    "X_valid = data_valid[features]\n",
    "y_valid = data_valid.loc[X_valid.index].price\n",
    "\n",
    "\n",
    "lgb_mod = lgb.LGBMRegressor(\n",
    "    num_leaves=10,\n",
    "    max_depth=5, \n",
    "    random_state=42, \n",
    "    silent=True, \n",
    "    metric='rmsle',\n",
    "    n_jobs=4, \n",
    "    n_estimators=2000,\n",
    "    colsample_bytree=0.95,\n",
    "    subsample=0.9,\n",
    "    learning_rate=0.05,\n",
    "    seed = 42\n",
    ")\n",
    "\n",
    "lgb_mod.fit(X_train, np.log(y_train))"
   ],
   "outputs": [
    {
     "output_type": "stream",
     "name": "stderr",
     "text": [
      "/Users/jimtotland/anaconda3/lib/python3.7/site-packages/sklearn/utils/__init__.py:806: DeprecationWarning: `np.int` is a deprecated alias for the builtin `int`. To silence this warning, use `int` by itself. Doing this will not modify any behavior and is safe. When replacing `np.int`, you may wish to use e.g. `np.int64` or `np.int32` to specify the precision. If you wish to review your current use, check the release note link for additional information.\n",
      "Deprecated in NumPy 1.20; for more details and guidance: https://numpy.org/devdocs/release/1.20.0-notes.html#deprecations\n",
      "  return floored.astype(np.int)\n",
      "/Users/jimtotland/anaconda3/lib/python3.7/site-packages/sklearn/utils/__init__.py:806: DeprecationWarning: `np.int` is a deprecated alias for the builtin `int`. To silence this warning, use `int` by itself. Doing this will not modify any behavior and is safe. When replacing `np.int`, you may wish to use e.g. `np.int64` or `np.int32` to specify the precision. If you wish to review your current use, check the release note link for additional information.\n",
      "Deprecated in NumPy 1.20; for more details and guidance: https://numpy.org/devdocs/release/1.20.0-notes.html#deprecations\n",
      "  return floored.astype(np.int)\n"
     ]
    },
    {
     "output_type": "stream",
     "name": "stdout",
     "text": [
      "[LightGBM] [Warning] seed is set=42, random_state=42 will be ignored. Current value: seed=42\n"
     ]
    },
    {
     "output_type": "execute_result",
     "data": {
      "text/plain": [
       "LGBMRegressor(boosting_type='gbdt', class_weight=None, colsample_bytree=0.95,\n",
       "              importance_type='split', learning_rate=0.05, max_depth=5,\n",
       "              metric='rmsle', min_child_samples=20, min_child_weight=0.001,\n",
       "              min_split_gain=0.0, n_estimators=2000, n_jobs=4, num_leaves=10,\n",
       "              objective=None, random_state=42, reg_alpha=0.0, reg_lambda=0.0,\n",
       "              seed=42, silent=True, subsample=0.9, subsample_for_bin=200000,\n",
       "              subsample_freq=0)"
      ]
     },
     "metadata": {},
     "execution_count": 28
    }
   ],
   "metadata": {}
  },
  {
   "cell_type": "code",
   "execution_count": 29,
   "source": [
    "preds_valid = lgb_mod.predict(X_valid)\n",
    "print('Validation RMSLE: ', rmlse(y_valid, np.exp(preds_valid)))"
   ],
   "outputs": [
    {
     "output_type": "stream",
     "name": "stdout",
     "text": [
      "Validation RMSLE:  0.16431015822158682\n"
     ]
    }
   ],
   "metadata": {}
  },
  {
   "cell_type": "code",
   "execution_count": 37,
   "source": [
    "preds_test = lgb_mod.predict(data_test[features])\n",
    "submission = pd.DataFrame()\n",
    "submission['id'] = data_test.id\n",
    "submission['price_prediction'] = np.exp(preds_test)\n",
    "submission.to_csv('submissions/lgbm_submission.csv', index=False)\n"
   ],
   "outputs": [
    {
     "output_type": "stream",
     "name": "stdout",
     "text": [
      "(9937, 33)\n",
      "(9937,)\n"
     ]
    },
    {
     "output_type": "execute_result",
     "data": {
      "text/plain": [
       "array([34783427.25415785,  7639045.30896283,  6145455.69914033, ...,\n",
       "       10082195.97498193,  8750817.10927868,  6105413.72482848])"
      ]
     },
     "metadata": {},
     "execution_count": 37
    }
   ],
   "metadata": {}
  },
  {
   "cell_type": "markdown",
   "source": [
    "# Imputing with KNN."
   ],
   "metadata": {}
  },
  {
   "cell_type": "code",
   "execution_count": 13,
   "source": [
    "import sklearn\n",
    "from sklearn.impute import KNNImputer\n",
    "imputer = KNNImputer(n_neighbors = 3)\n",
    "\n",
    "\n",
    "X = data[['longitude', 'latitude', 'constructed']]\n",
    "nan_idx = X['constructed'].isna()\n",
    "X = pd.DataFrame(imputer.fit_transform(X), columns=X.columns)\n",
    "print(X.loc[nan_idx, 'constructed'])\n",
    "X['constructed'] = X['constructed'].round()\n",
    "print(X.loc[nan_idx, 'constructed'])\n"
   ],
   "outputs": [
    {
     "output_type": "stream",
     "name": "stdout",
     "text": [
      "0.22.1\n",
      "52       2019.000000\n",
      "70       2019.000000\n",
      "138      2019.000000\n",
      "139      2019.000000\n",
      "171      2021.000000\n",
      "            ...     \n",
      "23060    2017.000000\n",
      "23091    2004.333333\n",
      "23123    2019.000000\n",
      "23173    2018.333333\n",
      "23276    2019.000000\n",
      "Name: constructed, Length: 794, dtype: float64\n",
      "52       2019.0\n",
      "70       2019.0\n",
      "138      2019.0\n",
      "139      2019.0\n",
      "171      2021.0\n",
      "          ...  \n",
      "23060    2017.0\n",
      "23091    2004.0\n",
      "23123    2019.0\n",
      "23173    2018.0\n",
      "23276    2019.0\n",
      "Name: constructed, Length: 794, dtype: float64\n"
     ]
    }
   ],
   "metadata": {}
  },
  {
   "cell_type": "code",
   "execution_count": 14,
   "source": [
    "features = ['latitude', 'longitude', 'constructed', 'area_total', 'rooms']\n",
    "\n",
    "data['constructed'] = X['constructed']\n",
    "data_train, data_valid = model_selection.train_test_split(data, test_size=0.33, stratify=np.log(data.price).round())\n",
    "X_train = data_train[features]\n",
    "y_train = data_train.loc[X_train.index].price\n",
    "X_valid = data_valid[features]\n",
    "y_valid = data_valid.loc[X_valid.index].price\n",
    "\n",
    "\n",
    "lgb_mod = lgb.LGBMRegressor(\n",
    "    num_leaves=10,\n",
    "    max_depth=5, \n",
    "    random_state=42, \n",
    "    silent=True, \n",
    "    metric='rmsle',\n",
    "    n_jobs=4, \n",
    "    n_estimators=2000,\n",
    "    colsample_bytree=0.95,\n",
    "    subsample=0.9,\n",
    "    learning_rate=0.05,\n",
    "    seed = 42\n",
    ")\n",
    "\n",
    "lgb_mod.fit(X_train, np.log(y_train))"
   ],
   "outputs": [
    {
     "output_type": "stream",
     "name": "stdout",
     "text": [
      "[LightGBM] [Warning] seed is set=42, random_state=42 will be ignored. Current value: seed=42\n"
     ]
    },
    {
     "output_type": "execute_result",
     "data": {
      "text/plain": [
       "LGBMRegressor(boosting_type='gbdt', class_weight=None, colsample_bytree=0.95,\n",
       "              importance_type='split', learning_rate=0.05, max_depth=5,\n",
       "              metric='rmsle', min_child_samples=20, min_child_weight=0.001,\n",
       "              min_split_gain=0.0, n_estimators=2000, n_jobs=4, num_leaves=10,\n",
       "              objective=None, random_state=42, reg_alpha=0.0, reg_lambda=0.0,\n",
       "              seed=42, silent=True, subsample=0.9, subsample_for_bin=200000,\n",
       "              subsample_freq=0)"
      ]
     },
     "metadata": {},
     "execution_count": 14
    }
   ],
   "metadata": {}
  },
  {
   "cell_type": "code",
   "execution_count": 41,
   "source": [
    "preds_valid = lgb_mod.predict(X_valid)\n",
    "print('Validation RMSLE: ', rmlse(y_valid, np.exp(preds_valid)))\n",
    "lgb.plot_importance(lgb_mod)"
   ],
   "outputs": [
    {
     "output_type": "error",
     "ename": "NameError",
     "evalue": "name 'X_valid' is not defined",
     "traceback": [
      "\u001b[0;31m---------------------------------------------------------------------------\u001b[0m",
      "\u001b[0;31mNameError\u001b[0m                                 Traceback (most recent call last)",
      "\u001b[0;32m<ipython-input-41-74db0a389d04>\u001b[0m in \u001b[0;36m<module>\u001b[0;34m\u001b[0m\n\u001b[0;32m----> 1\u001b[0;31m \u001b[0mpreds_valid\u001b[0m \u001b[0;34m=\u001b[0m \u001b[0mlgb_mod\u001b[0m\u001b[0;34m.\u001b[0m\u001b[0mpredict\u001b[0m\u001b[0;34m(\u001b[0m\u001b[0mX_valid\u001b[0m\u001b[0;34m)\u001b[0m\u001b[0;34m\u001b[0m\u001b[0;34m\u001b[0m\u001b[0m\n\u001b[0m\u001b[1;32m      2\u001b[0m \u001b[0mprint\u001b[0m\u001b[0;34m(\u001b[0m\u001b[0;34m'Validation RMSLE: '\u001b[0m\u001b[0;34m,\u001b[0m \u001b[0mrmlse\u001b[0m\u001b[0;34m(\u001b[0m\u001b[0my_valid\u001b[0m\u001b[0;34m,\u001b[0m \u001b[0mnp\u001b[0m\u001b[0;34m.\u001b[0m\u001b[0mexp\u001b[0m\u001b[0;34m(\u001b[0m\u001b[0mpreds_valid\u001b[0m\u001b[0;34m)\u001b[0m\u001b[0;34m)\u001b[0m\u001b[0;34m)\u001b[0m\u001b[0;34m\u001b[0m\u001b[0;34m\u001b[0m\u001b[0m\n\u001b[1;32m      3\u001b[0m \u001b[0mlgb\u001b[0m\u001b[0;34m.\u001b[0m\u001b[0mplot_importance\u001b[0m\u001b[0;34m(\u001b[0m\u001b[0mlgb_mod\u001b[0m\u001b[0;34m)\u001b[0m\u001b[0;34m\u001b[0m\u001b[0;34m\u001b[0m\u001b[0m\n",
      "\u001b[0;31mNameError\u001b[0m: name 'X_valid' is not defined"
     ]
    }
   ],
   "metadata": {}
  }
 ],
 "metadata": {
  "orig_nbformat": 4,
  "language_info": {
   "name": "python",
   "version": "3.7.3",
   "mimetype": "text/x-python",
   "codemirror_mode": {
    "name": "ipython",
    "version": 3
   },
   "pygments_lexer": "ipython3",
   "nbconvert_exporter": "python",
   "file_extension": ".py"
  },
  "kernelspec": {
   "name": "python3",
   "display_name": "Python 3.7.3 64-bit ('base': conda)"
  },
  "interpreter": {
   "hash": "675e4d1f4971b295d587632b2ddd77135b95b56ce96661a1d369a7e57f4b577d"
  }
 },
 "nbformat": 4,
 "nbformat_minor": 2
}
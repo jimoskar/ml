{
 "cells": [
  {
   "cell_type": "code",
   "execution_count": 13,
   "id": "c946fb56-9e48-4b7a-8629-9311ab456de7",
   "metadata": {},
   "outputs": [],
   "source": [
    "import xgboost as xgb\n",
    "import pandas as pd\n",
    "import numpy as np\n",
    "import sklearn.model_selection as model_selection"
   ]
  },
  {
   "cell_type": "code",
   "execution_count": 14,
   "id": "c9971856-5bd9-414a-b240-192113acb812",
   "metadata": {},
   "outputs": [],
   "source": [
    "apartments = pd.read_csv('resources/data/apartments_train.csv')\n",
    "buildings = pd.read_csv('resources/data/buildings_train.csv')\n",
    "nan_data = pd.merge(apartments, buildings.set_index('id'), how='left', left_on='building_id', right_index=True)"
   ]
  },
  {
   "cell_type": "code",
   "execution_count": 21,
   "id": "26b8aad5-8a73-4637-a42d-d302a90977e1",
   "metadata": {},
   "outputs": [
    {
     "name": "stdout",
     "output_type": "stream",
     "text": [
      "0.0123577778759877\n",
      "0.012500789535784243\n"
     ]
    }
   ],
   "source": [
    "\n",
    "distance = np.sqrt((37.6 - nan_data[\"longitude\"])**2 + (55.75 - nan_data[\"latitude\"])**2)\n",
    "nan_data[\"distance\"] = distance\n",
    "data_train, data_valid = model_selection.train_test_split(nan_data, test_size=0.33, stratify=np.log(nan_data.price).round())\n",
    "\n",
    "def root_mean_squared_log_error(y_true, y_pred):\n",
    "    # Alternatively: sklearn.metrics.mean_squared_log_error(y_true, y_pred) ** 0.5\n",
    "    assert (y_true >= 0).all() \n",
    "    assert (y_pred >= 0).all()\n",
    "    log_error = np.log1p(y_pred) - np.log1p(y_true)  # Note: log1p(x) = log(1 + x)\n",
    "    return np.mean(log_error ** 2) ** 0.5\n",
    "\n",
    "\n",
    "#input_x = test_data[[\"area_total\", \"distance\", \"rooms\", \"norm_const\", \"stories\", \"floor\"]]\n",
    "#in_dist = test_data[[\"district\"]]\n",
    "\n",
    "X_train = data_train[[\"area_total\", \"distance\", \"rooms\", \"constructed\", \"district\"]]\n",
    "y_train = np.log(data_train.loc[X_train.index].price)\n",
    "X_valid = data_valid[[\"area_total\", \"distance\", \"rooms\", \"constructed\", \"district\"]]\n",
    "y_valid = np.log(data_valid.loc[X_valid.index].price)\n",
    "\n",
    "dtrain = xgb.DMatrix(X_train, label = y_train)\n",
    "dval = xgb.DMatrix(X_valid)\n",
    "param = {'max_depth': 3, 'eta': 0.1, 'objective': 'reg:squaredlogerror'}\n",
    "num_round = 500\n",
    "\n",
    "bst = xgb.train(param, dtrain, num_round)\n",
    "preds_train = bst.predict(dtrain)\n",
    "preds_valid = bst.predict(dval)\n",
    "\n",
    "\n",
    "print(root_mean_squared_log_error(preds_train, y_train))\n",
    "print(root_mean_squared_log_error(preds_valid, y_valid))\n"
   ]
  },
  {
   "cell_type": "code",
   "execution_count": null,
   "id": "372a9a61-088c-4afb-b372-25550ea317ce",
   "metadata": {},
   "outputs": [],
   "source": [
    "t_apartments = pd.read_csv('resources/data/apartments_test.csv')\n",
    "t_buildings = pd.read_csv('resources/data/buildings_test.csv')\n",
    "test_data_a = pd.merge(t_apartments, t_buildings.set_index('id'), how='left', left_on='building_id', right_index=True)\n",
    "X_test_nan_a = test_data_a.isna().any(axis=1)"
   ]
  },
  {
   "cell_type": "code",
   "execution_count": null,
   "id": "97baca40-f368-4088-afd6-b92e6b0e8f26",
   "metadata": {},
   "outputs": [],
   "source": [
    "submission = pd.DataFrame()\n",
    "submission['id'] = test_data_a[\"id\"]\n",
    "submission.loc[~X_test_nan, 'price_prediction'] = np.exp(numpy_res) # Predict on non-nan entries\n",
    "submission['price_prediction'].fillna(nn_data[\"price\"].mean(), inplace=True)\n",
    "print(f'Generated {len(submission)} predictions')\n",
    "\n",
    "# Export submission to csv with headers\n",
    "submission.to_csv('xgb_submission.csv', index=False)\n",
    "\n",
    "# Look at submitted csv\n",
    "print('\\nLine count of submission')\n",
    "!wc -l sample_submission.csv"
   ]
  },
  {
   "cell_type": "code",
   "execution_count": null,
   "id": "bd74d814-eb89-4216-910b-71c14aa36ee7",
   "metadata": {},
   "outputs": [],
   "source": []
  }
 ],
 "metadata": {
  "kernelspec": {
   "display_name": "Python 3 (ipykernel)",
   "language": "python",
   "name": "python3"
  },
  "language_info": {
   "codemirror_mode": {
    "name": "ipython",
    "version": 3
   },
   "file_extension": ".py",
   "mimetype": "text/x-python",
   "name": "python",
   "nbconvert_exporter": "python",
   "pygments_lexer": "ipython3",
   "version": "3.9.7"
  }
 },
 "nbformat": 4,
 "nbformat_minor": 5
}

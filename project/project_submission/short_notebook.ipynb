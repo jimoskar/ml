{
 "cells": [
  {
   "cell_type": "markdown",
   "metadata": {},
   "source": [
    "# Competition: **Moscow Housing**\n",
    "## Team Name: **Group 7**\n",
    "## Team Members:\n",
    "- **Vegard Skui** (506824)\n",
    "- **Albert Lesniewski** (488094)\n",
    "- **Jim Totland** (490741)\n",
    "\n",
    "Student IDs are given in the parantheses."
   ]
  },
  {
   "cell_type": "code",
   "execution_count": 1,
   "metadata": {},
   "outputs": [],
   "source": [
    "import pandas as pd \n",
    "import numpy as np \n",
    "import matplotlib.pyplot as plt \n",
    "import seaborn as sns \n",
    "import lightgbm as lgb\n",
    "import optuna\n",
    "import catboost\n",
    "import geopandas as gpd\n",
    "\n",
    "# Set up the KML driver for GeoPandas\n",
    "gpd.io.file.fiona.drvsupport.supported_drivers[\"KML\"] = \"rw\"\n",
    "\n",
    "import warnings\n",
    "warnings.filterwarnings(\"ignore\")\n",
    "\n",
    "SEED = 42"
   ]
  },
  {
   "cell_type": "markdown",
   "metadata": {},
   "source": [
    "# Data Cleaning/Feature Engineering"
   ]
  },
  {
   "cell_type": "code",
   "execution_count": 2,
   "metadata": {},
   "outputs": [],
   "source": [
    "# Read the apartment datasets\n",
    "apartments_train = pd.read_csv(\"resources/data/apartments_train.csv\").set_index(\"id\")\n",
    "apartments_train[\"split\"] = \"train\"\n",
    "apartments_test = pd.read_csv(\"resources/data/apartments_test.csv\").set_index(\"id\")\n",
    "apartments_test[\"split\"] = \"test\"\n",
    "\n",
    "# Create a DataFrame of all apartments\n",
    "apartments = pd.concat([apartments_train, apartments_test])\n",
    "\n",
    "# Read the building datasets\n",
    "buildings_train = pd.read_csv(\"resources/data/buildings_train.csv\").set_index(\"id\")\n",
    "buildings_train[\"split\"] = \"train\"\n",
    "buildings_test = pd.read_csv(\"resources/data/buildings_test.csv\").set_index(\"id\")\n",
    "buildings_test[\"split\"] = \"test\"\n",
    "\n",
    "# Create a GeoDataFrame of all buildings\n",
    "buildings = pd.concat([buildings_train, buildings_test])\n",
    "buildings = gpd.GeoDataFrame(buildings, geometry=gpd.points_from_xy(\n",
    "    buildings.longitude, buildings.latitude, crs=\"EPSG:4326\"\n",
    "))"
   ]
  },
  {
   "cell_type": "code",
   "execution_count": 3,
   "metadata": {},
   "outputs": [
    {
     "data": {
      "text/html": [
       "<div>\n",
       "<style scoped>\n",
       "    .dataframe tbody tr th:only-of-type {\n",
       "        vertical-align: middle;\n",
       "    }\n",
       "\n",
       "    .dataframe tbody tr th {\n",
       "        vertical-align: top;\n",
       "    }\n",
       "\n",
       "    .dataframe thead th {\n",
       "        text-align: right;\n",
       "    }\n",
       "</style>\n",
       "<table border=\"1\" class=\"dataframe\">\n",
       "  <thead>\n",
       "    <tr style=\"text-align: right;\">\n",
       "      <th></th>\n",
       "      <th>split</th>\n",
       "      <th>latitude</th>\n",
       "      <th>longitude</th>\n",
       "      <th>district</th>\n",
       "      <th>street</th>\n",
       "      <th>address</th>\n",
       "      <th>constructed</th>\n",
       "      <th>material</th>\n",
       "      <th>stories</th>\n",
       "    </tr>\n",
       "    <tr>\n",
       "      <th>id</th>\n",
       "      <th></th>\n",
       "      <th></th>\n",
       "      <th></th>\n",
       "      <th></th>\n",
       "      <th></th>\n",
       "      <th></th>\n",
       "      <th></th>\n",
       "      <th></th>\n",
       "      <th></th>\n",
       "    </tr>\n",
       "  </thead>\n",
       "  <tbody>\n",
       "    <tr>\n",
       "      <th>3803</th>\n",
       "      <td>test</td>\n",
       "      <td>NaN</td>\n",
       "      <td>NaN</td>\n",
       "      <td>NaN</td>\n",
       "      <td>пос. Коммунарка</td>\n",
       "      <td>Москва А101 ЖК</td>\n",
       "      <td>2019.0</td>\n",
       "      <td>2.0</td>\n",
       "      <td>12.0</td>\n",
       "    </tr>\n",
       "  </tbody>\n",
       "</table>\n",
       "</div>"
      ],
      "text/plain": [
       "     split  latitude  longitude  district           street         address  \\\n",
       "id                                                                           \n",
       "3803  test       NaN        NaN       NaN  пос. Коммунарка  Москва А101 ЖК   \n",
       "\n",
       "      constructed  material  stories  \n",
       "id                                    \n",
       "3803       2019.0       2.0     12.0  "
      ]
     },
     "execution_count": 3,
     "metadata": {},
     "output_type": "execute_result"
    }
   ],
   "source": [
    "# Find all buildings missing coordinates\n",
    "no_coords = buildings.latitude.isna() | buildings.longitude.isna()\n",
    "buildings[no_coords][[\n",
    "    \"split\", \"latitude\", \"longitude\", \"district\", \"street\", \"address\",\n",
    "    \"constructed\", \"material\", \"stories\"\n",
    "]]"
   ]
  },
  {
   "cell_type": "code",
   "execution_count": 4,
   "metadata": {},
   "outputs": [
    {
     "data": {
      "text/html": [
       "<div>\n",
       "<style scoped>\n",
       "    .dataframe tbody tr th:only-of-type {\n",
       "        vertical-align: middle;\n",
       "    }\n",
       "\n",
       "    .dataframe tbody tr th {\n",
       "        vertical-align: top;\n",
       "    }\n",
       "\n",
       "    .dataframe thead th {\n",
       "        text-align: right;\n",
       "    }\n",
       "</style>\n",
       "<table border=\"1\" class=\"dataframe\">\n",
       "  <thead>\n",
       "    <tr style=\"text-align: right;\">\n",
       "      <th></th>\n",
       "      <th>split</th>\n",
       "      <th>latitude</th>\n",
       "      <th>longitude</th>\n",
       "      <th>district</th>\n",
       "      <th>street</th>\n",
       "      <th>address</th>\n",
       "      <th>constructed</th>\n",
       "      <th>material</th>\n",
       "      <th>stories</th>\n",
       "    </tr>\n",
       "    <tr>\n",
       "      <th>id</th>\n",
       "      <th></th>\n",
       "      <th></th>\n",
       "      <th></th>\n",
       "      <th></th>\n",
       "      <th></th>\n",
       "      <th></th>\n",
       "      <th></th>\n",
       "      <th></th>\n",
       "      <th></th>\n",
       "    </tr>\n",
       "  </thead>\n",
       "  <tbody>\n",
       "    <tr>\n",
       "      <th>2036</th>\n",
       "      <td>train</td>\n",
       "      <td>55.569133</td>\n",
       "      <td>37.474408</td>\n",
       "      <td>11.0</td>\n",
       "      <td>пос. Коммунарка</td>\n",
       "      <td>22</td>\n",
       "      <td>2013.0</td>\n",
       "      <td>NaN</td>\n",
       "      <td>14.0</td>\n",
       "    </tr>\n",
       "    <tr>\n",
       "      <th>2461</th>\n",
       "      <td>train</td>\n",
       "      <td>55.571632</td>\n",
       "      <td>37.473492</td>\n",
       "      <td>11.0</td>\n",
       "      <td>пос. Коммунарка</td>\n",
       "      <td>20</td>\n",
       "      <td>2011.0</td>\n",
       "      <td>NaN</td>\n",
       "      <td>17.0</td>\n",
       "    </tr>\n",
       "    <tr>\n",
       "      <th>6375</th>\n",
       "      <td>train</td>\n",
       "      <td>55.567285</td>\n",
       "      <td>37.477929</td>\n",
       "      <td>11.0</td>\n",
       "      <td>пос. Коммунарка</td>\n",
       "      <td>17</td>\n",
       "      <td>1994.0</td>\n",
       "      <td>3.0</td>\n",
       "      <td>12.0</td>\n",
       "    </tr>\n",
       "    <tr>\n",
       "      <th>6280</th>\n",
       "      <td>train</td>\n",
       "      <td>55.572986</td>\n",
       "      <td>37.475189</td>\n",
       "      <td>11.0</td>\n",
       "      <td>пос. Коммунарка</td>\n",
       "      <td>4</td>\n",
       "      <td>1963.0</td>\n",
       "      <td>4.0</td>\n",
       "      <td>5.0</td>\n",
       "    </tr>\n",
       "    <tr>\n",
       "      <th>8577</th>\n",
       "      <td>train</td>\n",
       "      <td>55.570843</td>\n",
       "      <td>37.473635</td>\n",
       "      <td>11.0</td>\n",
       "      <td>пос. Коммунарка</td>\n",
       "      <td>20А</td>\n",
       "      <td>2012.0</td>\n",
       "      <td>NaN</td>\n",
       "      <td>17.0</td>\n",
       "    </tr>\n",
       "    <tr>\n",
       "      <th>6200</th>\n",
       "      <td>test</td>\n",
       "      <td>55.560891</td>\n",
       "      <td>37.473761</td>\n",
       "      <td>11.0</td>\n",
       "      <td>пос. Коммунарка</td>\n",
       "      <td>101</td>\n",
       "      <td>2020.0</td>\n",
       "      <td>0.0</td>\n",
       "      <td>16.0</td>\n",
       "    </tr>\n",
       "  </tbody>\n",
       "</table>\n",
       "</div>"
      ],
      "text/plain": [
       "      split   latitude  longitude  district           street address  \\\n",
       "id                                                                     \n",
       "2036  train  55.569133  37.474408      11.0  пос. Коммунарка      22   \n",
       "2461  train  55.571632  37.473492      11.0  пос. Коммунарка      20   \n",
       "6375  train  55.567285  37.477929      11.0  пос. Коммунарка      17   \n",
       "6280  train  55.572986  37.475189      11.0  пос. Коммунарка       4   \n",
       "8577  train  55.570843  37.473635      11.0  пос. Коммунарка     20А   \n",
       "6200   test  55.560891  37.473761      11.0  пос. Коммунарка     101   \n",
       "\n",
       "      constructed  material  stories  \n",
       "id                                    \n",
       "2036       2013.0       NaN     14.0  \n",
       "2461       2011.0       NaN     17.0  \n",
       "6375       1994.0       3.0     12.0  \n",
       "6280       1963.0       4.0      5.0  \n",
       "8577       2012.0       NaN     17.0  \n",
       "6200       2020.0       0.0     16.0  "
      ]
     },
     "execution_count": 4,
     "metadata": {},
     "output_type": "execute_result"
    }
   ],
   "source": [
    "# Find other buildings on the same street\n",
    "street = buildings[~no_coords & (buildings.street == \"пос. Коммунарка\")]\n",
    "street[[\n",
    "    \"split\", \"latitude\", \"longitude\", \"district\", \"street\", \"address\",\n",
    "    \"constructed\", \"material\", \"stories\"\n",
    "]]"
   ]
  },
  {
   "cell_type": "code",
   "execution_count": 5,
   "metadata": {},
   "outputs": [
    {
     "name": "stdout",
     "output_type": "stream",
     "text": [
      "There are now 0 buildings with missing coordinates.\n"
     ]
    }
   ],
   "source": [
    "# Set the location and district for the building with missing coordinates\n",
    "buildings.loc[no_coords, \"latitude\"] = street.latitude.mean()\n",
    "buildings.loc[no_coords, \"longitude\"] = street.longitude.mean()\n",
    "buildings.loc[no_coords, \"district\"] = street.district.mode()[0]\n",
    "\n",
    "print(\"There are now\", (buildings.latitude.isna() | buildings.longitude.isna()).sum(), \"buildings with missing coordinates.\")"
   ]
  },
  {
   "cell_type": "code",
   "execution_count": 6,
   "metadata": {},
   "outputs": [],
   "source": [
    "# The coordinates of the southwest and northeast corners of a rectangle approximately encompassing Moscow\n",
    "MOSCOW_SW_LAT = 55.101131\n",
    "MOSCOW_SW_LON = 36.754394\n",
    "MOSCOW_NE_LAT = 56.117476\n",
    "MOSCOW_NE_LON = 38.218283"
   ]
  },
  {
   "cell_type": "code",
   "execution_count": 7,
   "metadata": {},
   "outputs": [
    {
     "data": {
      "text/html": [
       "<div>\n",
       "<style scoped>\n",
       "    .dataframe tbody tr th:only-of-type {\n",
       "        vertical-align: middle;\n",
       "    }\n",
       "\n",
       "    .dataframe tbody tr th {\n",
       "        vertical-align: top;\n",
       "    }\n",
       "\n",
       "    .dataframe thead th {\n",
       "        text-align: right;\n",
       "    }\n",
       "</style>\n",
       "<table border=\"1\" class=\"dataframe\">\n",
       "  <thead>\n",
       "    <tr style=\"text-align: right;\">\n",
       "      <th></th>\n",
       "      <th>split</th>\n",
       "      <th>latitude</th>\n",
       "      <th>longitude</th>\n",
       "      <th>district</th>\n",
       "      <th>street</th>\n",
       "      <th>address</th>\n",
       "      <th>constructed</th>\n",
       "      <th>material</th>\n",
       "      <th>stories</th>\n",
       "    </tr>\n",
       "    <tr>\n",
       "      <th>id</th>\n",
       "      <th></th>\n",
       "      <th></th>\n",
       "      <th></th>\n",
       "      <th></th>\n",
       "      <th></th>\n",
       "      <th></th>\n",
       "      <th></th>\n",
       "      <th></th>\n",
       "      <th></th>\n",
       "    </tr>\n",
       "  </thead>\n",
       "  <tbody>\n",
       "    <tr>\n",
       "      <th>5667</th>\n",
       "      <td>test</td>\n",
       "      <td>43.352968</td>\n",
       "      <td>132.759204</td>\n",
       "      <td>NaN</td>\n",
       "      <td>улица Центральная</td>\n",
       "      <td>48</td>\n",
       "      <td>NaN</td>\n",
       "      <td>NaN</td>\n",
       "      <td>2.0</td>\n",
       "    </tr>\n",
       "    <tr>\n",
       "      <th>4412</th>\n",
       "      <td>test</td>\n",
       "      <td>17.141734</td>\n",
       "      <td>-61.790500</td>\n",
       "      <td>NaN</td>\n",
       "      <td>Бунинские Луга ЖК</td>\n",
       "      <td>к2/2/2</td>\n",
       "      <td>2021.0</td>\n",
       "      <td>NaN</td>\n",
       "      <td>9.0</td>\n",
       "    </tr>\n",
       "    <tr>\n",
       "      <th>4202</th>\n",
       "      <td>test</td>\n",
       "      <td>42.914700</td>\n",
       "      <td>74.517184</td>\n",
       "      <td>NaN</td>\n",
       "      <td>улица 1-я Линия</td>\n",
       "      <td>57</td>\n",
       "      <td>2016.0</td>\n",
       "      <td>NaN</td>\n",
       "      <td>3.0</td>\n",
       "    </tr>\n",
       "    <tr>\n",
       "      <th>8811</th>\n",
       "      <td>test</td>\n",
       "      <td>43.353545</td>\n",
       "      <td>132.768097</td>\n",
       "      <td>NaN</td>\n",
       "      <td>улица Центральная</td>\n",
       "      <td>75</td>\n",
       "      <td>2007.0</td>\n",
       "      <td>NaN</td>\n",
       "      <td>5.0</td>\n",
       "    </tr>\n",
       "    <tr>\n",
       "      <th>4636</th>\n",
       "      <td>test</td>\n",
       "      <td>17.141734</td>\n",
       "      <td>-61.790500</td>\n",
       "      <td>NaN</td>\n",
       "      <td>Бунинские Луга ЖК</td>\n",
       "      <td>к2/2/1</td>\n",
       "      <td>2021.0</td>\n",
       "      <td>3.0</td>\n",
       "      <td>17.0</td>\n",
       "    </tr>\n",
       "  </tbody>\n",
       "</table>\n",
       "</div>"
      ],
      "text/plain": [
       "     split   latitude   longitude  district             street address  \\\n",
       "id                                                                       \n",
       "5667  test  43.352968  132.759204       NaN  улица Центральная      48   \n",
       "4412  test  17.141734  -61.790500       NaN  Бунинские Луга ЖК  к2/2/2   \n",
       "4202  test  42.914700   74.517184       NaN    улица 1-я Линия      57   \n",
       "8811  test  43.353545  132.768097       NaN  улица Центральная      75   \n",
       "4636  test  17.141734  -61.790500       NaN  Бунинские Луга ЖК  к2/2/1   \n",
       "\n",
       "      constructed  material  stories  \n",
       "id                                    \n",
       "5667          NaN       NaN      2.0  \n",
       "4412       2021.0       NaN      9.0  \n",
       "4202       2016.0       NaN      3.0  \n",
       "8811       2007.0       NaN      5.0  \n",
       "4636       2021.0       3.0     17.0  "
      ]
     },
     "execution_count": 7,
     "metadata": {},
     "output_type": "execute_result"
    }
   ],
   "source": [
    "# Find all buildings with coordinates outside of Moscow\n",
    "outside = (((buildings.latitude < MOSCOW_SW_LAT) | (buildings.latitude > MOSCOW_NE_LAT))\n",
    "          & ((buildings.longitude < MOSCOW_SW_LON) | (buildings.longitude > MOSCOW_NE_LON)))\n",
    "buildings[outside][[\n",
    "    \"split\", \"latitude\", \"longitude\", \"district\", \"street\", \"address\",\n",
    "    \"constructed\", \"material\", \"stories\"\n",
    "]]"
   ]
  },
  {
   "cell_type": "code",
   "execution_count": 8,
   "metadata": {},
   "outputs": [
    {
     "data": {
      "text/html": [
       "<div>\n",
       "<style scoped>\n",
       "    .dataframe tbody tr th:only-of-type {\n",
       "        vertical-align: middle;\n",
       "    }\n",
       "\n",
       "    .dataframe tbody tr th {\n",
       "        vertical-align: top;\n",
       "    }\n",
       "\n",
       "    .dataframe thead th {\n",
       "        text-align: right;\n",
       "    }\n",
       "</style>\n",
       "<table border=\"1\" class=\"dataframe\">\n",
       "  <thead>\n",
       "    <tr style=\"text-align: right;\">\n",
       "      <th></th>\n",
       "      <th>test</th>\n",
       "      <th>train</th>\n",
       "    </tr>\n",
       "  </thead>\n",
       "  <tbody>\n",
       "    <tr>\n",
       "      <th>улица Центральная</th>\n",
       "      <td>8</td>\n",
       "      <td>16</td>\n",
       "    </tr>\n",
       "    <tr>\n",
       "      <th>Бунинские Луга ЖК</th>\n",
       "      <td>1</td>\n",
       "      <td>8</td>\n",
       "    </tr>\n",
       "    <tr>\n",
       "      <th>улица 1-я Линия</th>\n",
       "      <td>0</td>\n",
       "      <td>0</td>\n",
       "    </tr>\n",
       "  </tbody>\n",
       "</table>\n",
       "</div>"
      ],
      "text/plain": [
       "                   test  train\n",
       "улица Центральная     8     16\n",
       "Бунинские Луга ЖК     1      8\n",
       "улица 1-я Линия       0      0"
      ]
     },
     "execution_count": 8,
     "metadata": {},
     "output_type": "execute_result"
    }
   ],
   "source": [
    "# Find the number of buildings in the dataset on the same street\n",
    "streets = buildings[outside].street.unique()\n",
    "pd.DataFrame(\n",
    "    index=streets,\n",
    "    data={\n",
    "        \"test\": map(\n",
    "            lambda street: len(buildings[\n",
    "                ~outside\n",
    "                & (buildings.split == \"test\")\n",
    "                & (buildings.street == street)\n",
    "            ]),\n",
    "            streets\n",
    "        ),\n",
    "        \"train\": map(\n",
    "            lambda street: len(buildings[\n",
    "                ~outside\n",
    "                & (buildings.split == \"train\")\n",
    "                & (buildings.street == street)\n",
    "            ]),\n",
    "            streets\n",
    "        ),\n",
    "    },\n",
    ")"
   ]
  },
  {
   "cell_type": "code",
   "execution_count": 9,
   "metadata": {},
   "outputs": [
    {
     "name": "stdout",
     "output_type": "stream",
     "text": [
      "There are now 0 buildings outside of Moscow\n"
     ]
    }
   ],
   "source": [
    "# Set the location (and district) of the buildings with coordinates outside of Moscow\n",
    "for idx, building in buildings[outside].iterrows():\n",
    "    street = buildings[~outside & (buildings.street == building.street)]\n",
    "    if len(street):\n",
    "        buildings.loc[idx, \"latitude\"] = street.latitude.mean()\n",
    "        buildings.loc[idx, \"longitude\"] = street.longitude.mean()\n",
    "        buildings.loc[idx, \"district\"] = street.district.mode()[0]\n",
    "    else:\n",
    "        buildings.loc[idx, \"latitude\"] = buildings[~outside].latitude.mean()\n",
    "        buildings.loc[idx, \"longitude\"] = buildings[~outside].longitude.mean()\n",
    "\n",
    "print(\"There are now\", (((buildings.latitude < MOSCOW_SW_LAT) | (buildings.latitude > MOSCOW_NE_LAT)) & ((buildings.longitude < MOSCOW_SW_LON) | (buildings.longitude > MOSCOW_NE_LON))).sum(), \"buildings outside of Moscow\")"
   ]
  },
  {
   "cell_type": "code",
   "execution_count": 10,
   "metadata": {},
   "outputs": [
    {
     "data": {
      "text/html": [
       "<div>\n",
       "<style scoped>\n",
       "    .dataframe tbody tr th:only-of-type {\n",
       "        vertical-align: middle;\n",
       "    }\n",
       "\n",
       "    .dataframe tbody tr th {\n",
       "        vertical-align: top;\n",
       "    }\n",
       "\n",
       "    .dataframe thead th {\n",
       "        text-align: right;\n",
       "    }\n",
       "</style>\n",
       "<table border=\"1\" class=\"dataframe\">\n",
       "  <thead>\n",
       "    <tr style=\"text-align: right;\">\n",
       "      <th></th>\n",
       "      <th>split</th>\n",
       "      <th>latitude</th>\n",
       "      <th>longitude</th>\n",
       "      <th>district</th>\n",
       "      <th>street</th>\n",
       "      <th>address</th>\n",
       "      <th>constructed</th>\n",
       "      <th>material</th>\n",
       "      <th>stories</th>\n",
       "    </tr>\n",
       "    <tr>\n",
       "      <th>id</th>\n",
       "      <th></th>\n",
       "      <th></th>\n",
       "      <th></th>\n",
       "      <th></th>\n",
       "      <th></th>\n",
       "      <th></th>\n",
       "      <th></th>\n",
       "      <th></th>\n",
       "      <th></th>\n",
       "    </tr>\n",
       "  </thead>\n",
       "  <tbody>\n",
       "    <tr>\n",
       "      <th>4162</th>\n",
       "      <td>train</td>\n",
       "      <td>55.595160</td>\n",
       "      <td>37.741109</td>\n",
       "      <td>NaN</td>\n",
       "      <td>23-й км</td>\n",
       "      <td>5к1</td>\n",
       "      <td>2021.0</td>\n",
       "      <td>3.0</td>\n",
       "      <td>9.0</td>\n",
       "    </tr>\n",
       "    <tr>\n",
       "      <th>1647</th>\n",
       "      <td>test</td>\n",
       "      <td>55.595160</td>\n",
       "      <td>37.741109</td>\n",
       "      <td>NaN</td>\n",
       "      <td>23-й км</td>\n",
       "      <td>7к1</td>\n",
       "      <td>2018.0</td>\n",
       "      <td>NaN</td>\n",
       "      <td>25.0</td>\n",
       "    </tr>\n",
       "    <tr>\n",
       "      <th>6403</th>\n",
       "      <td>test</td>\n",
       "      <td>55.595160</td>\n",
       "      <td>37.741109</td>\n",
       "      <td>NaN</td>\n",
       "      <td>23-й км</td>\n",
       "      <td>11к1</td>\n",
       "      <td>2019.0</td>\n",
       "      <td>NaN</td>\n",
       "      <td>16.0</td>\n",
       "    </tr>\n",
       "    <tr>\n",
       "      <th>7317</th>\n",
       "      <td>test</td>\n",
       "      <td>55.583551</td>\n",
       "      <td>37.711356</td>\n",
       "      <td>NaN</td>\n",
       "      <td>25-й км</td>\n",
       "      <td>вл1с1</td>\n",
       "      <td>NaN</td>\n",
       "      <td>NaN</td>\n",
       "      <td>13.0</td>\n",
       "    </tr>\n",
       "    <tr>\n",
       "      <th>2265</th>\n",
       "      <td>test</td>\n",
       "      <td>55.595160</td>\n",
       "      <td>37.741109</td>\n",
       "      <td>NaN</td>\n",
       "      <td>23-й км</td>\n",
       "      <td>13к2</td>\n",
       "      <td>2018.0</td>\n",
       "      <td>NaN</td>\n",
       "      <td>25.0</td>\n",
       "    </tr>\n",
       "    <tr>\n",
       "      <th>926</th>\n",
       "      <td>test</td>\n",
       "      <td>55.921627</td>\n",
       "      <td>37.781578</td>\n",
       "      <td>NaN</td>\n",
       "      <td>В мкр</td>\n",
       "      <td>37</td>\n",
       "      <td>1989.0</td>\n",
       "      <td>2.0</td>\n",
       "      <td>16.0</td>\n",
       "    </tr>\n",
       "    <tr>\n",
       "      <th>6879</th>\n",
       "      <td>test</td>\n",
       "      <td>55.932127</td>\n",
       "      <td>37.793705</td>\n",
       "      <td>NaN</td>\n",
       "      <td>В мкр</td>\n",
       "      <td>30</td>\n",
       "      <td>1975.0</td>\n",
       "      <td>2.0</td>\n",
       "      <td>9.0</td>\n",
       "    </tr>\n",
       "    <tr>\n",
       "      <th>4202</th>\n",
       "      <td>test</td>\n",
       "      <td>55.727684</td>\n",
       "      <td>37.592893</td>\n",
       "      <td>NaN</td>\n",
       "      <td>улица 1-я Линия</td>\n",
       "      <td>57</td>\n",
       "      <td>2016.0</td>\n",
       "      <td>NaN</td>\n",
       "      <td>3.0</td>\n",
       "    </tr>\n",
       "    <tr>\n",
       "      <th>183</th>\n",
       "      <td>test</td>\n",
       "      <td>55.595160</td>\n",
       "      <td>37.741109</td>\n",
       "      <td>NaN</td>\n",
       "      <td>23-й км</td>\n",
       "      <td>11к2</td>\n",
       "      <td>2019.0</td>\n",
       "      <td>NaN</td>\n",
       "      <td>25.0</td>\n",
       "    </tr>\n",
       "  </tbody>\n",
       "</table>\n",
       "</div>"
      ],
      "text/plain": [
       "      split   latitude  longitude  district           street address  \\\n",
       "id                                                                     \n",
       "4162  train  55.595160  37.741109       NaN          23-й км     5к1   \n",
       "1647   test  55.595160  37.741109       NaN          23-й км     7к1   \n",
       "6403   test  55.595160  37.741109       NaN          23-й км    11к1   \n",
       "7317   test  55.583551  37.711356       NaN          25-й км   вл1с1   \n",
       "2265   test  55.595160  37.741109       NaN          23-й км    13к2   \n",
       "926    test  55.921627  37.781578       NaN            В мкр      37   \n",
       "6879   test  55.932127  37.793705       NaN            В мкр      30   \n",
       "4202   test  55.727684  37.592893       NaN  улица 1-я Линия      57   \n",
       "183    test  55.595160  37.741109       NaN          23-й км    11к2   \n",
       "\n",
       "      constructed  material  stories  \n",
       "id                                    \n",
       "4162       2021.0       3.0      9.0  \n",
       "1647       2018.0       NaN     25.0  \n",
       "6403       2019.0       NaN     16.0  \n",
       "7317          NaN       NaN     13.0  \n",
       "2265       2018.0       NaN     25.0  \n",
       "926        1989.0       2.0     16.0  \n",
       "6879       1975.0       2.0      9.0  \n",
       "4202       2016.0       NaN      3.0  \n",
       "183        2019.0       NaN     25.0  "
      ]
     },
     "execution_count": 10,
     "metadata": {},
     "output_type": "execute_result"
    }
   ],
   "source": [
    "# Find all buildings missing a district\n",
    "no_district = buildings.district.isna()\n",
    "buildings[no_district][[\"split\", \"latitude\", \"longitude\", \"district\", \"street\", \"address\", \"constructed\", \"material\", \"stories\"]]"
   ]
  },
  {
   "cell_type": "code",
   "execution_count": 11,
   "metadata": {},
   "outputs": [
    {
     "name": "stdout",
     "output_type": "stream",
     "text": [
      "There are now 0 buildings with district missing\n"
     ]
    }
   ],
   "source": [
    "# For each building with district missing, copy the district from the closest building\n",
    "# Closest here is the smallest coordinate difference\n",
    "districts = buildings.loc[no_district].apply(\n",
    "    lambda b: buildings.loc[\n",
    "        (buildings[~no_district][[\"latitude\", \"longitude\"]] - b[[\"latitude\", \"longitude\"]]).abs().sum(axis=1).idxmin()\n",
    "    ].district,\n",
    "    axis=1\n",
    ")\n",
    "districts.rename(\"district\", inplace=True)\n",
    "buildings.update(districts)\n",
    "\n",
    "print(\"There are now\", buildings.district.isna().sum(), \"buildings with district missing\")"
   ]
  },
  {
   "cell_type": "markdown",
   "metadata": {},
   "source": [
    "## Nearest POI"
   ]
  },
  {
   "cell_type": "code",
   "execution_count": 12,
   "metadata": {},
   "outputs": [],
   "source": [
    "# The Earth's radius in meters\n",
    "EARTH_RADIUS = 6371000\n",
    "\n",
    "# Create columns for coordinates given in radians to avoid having to recalculate\n",
    "buildings[\"lat_rad\"] = np.radians(buildings.latitude)\n",
    "buildings[\"lon_rad\"] = np.radians(buildings.longitude)"
   ]
  },
  {
   "cell_type": "code",
   "execution_count": 13,
   "metadata": {},
   "outputs": [],
   "source": [
    "# Read the metro station location data into a DataFrame\n",
    "stations = gpd.read_file(\"resources/metro_stations.kml\", driver=\"KML\").drop(columns=[\"Description\"]).rename(columns={\"Name\": \"name\"})\n",
    "\n",
    "# Create columns for the coordinates given in radians\n",
    "stations[\"lat_rad\"] = np.radians(stations.geometry.y)\n",
    "stations[\"lon_rad\"] = np.radians(stations.geometry.x)"
   ]
  },
  {
   "cell_type": "code",
   "execution_count": 14,
   "metadata": {},
   "outputs": [],
   "source": [
    "# Calculate the distance to the nearest metro station for each building using\n",
    "# the haversine formula with the Earth's radius as given above\n",
    "metro_dist =  buildings.apply(\n",
    "    lambda row:\n",
    "            2 * EARTH_RADIUS\n",
    "            * np.arcsin(\n",
    "                np.sqrt(\n",
    "                    np.sin((stations.lat_rad - row.lat_rad) / 2) ** 2\n",
    "                    + np.cos(row.lat_rad)\n",
    "                    * np.cos(stations.lat_rad)\n",
    "                    * np.sin((stations.lon_rad - row.lon_rad) / 2) ** 2\n",
    "            )), axis=1\n",
    ")\n",
    "\n",
    "buildings[\"metro_distance\"] = np.min(metro_dist, axis = 1)\n",
    "\n",
    "# Calculate the number of 'close' metro stations.\n",
    "buildings['metro_close'] = np.sum(metro_dist < 1000, axis = 1)"
   ]
  },
  {
   "cell_type": "code",
   "execution_count": 15,
   "metadata": {},
   "outputs": [],
   "source": [
    "# Read park and garden location data\n",
    "parks = gpd.read_file(\"resources/parks_and_gardens.kml\", driver=\"KML\").drop(columns=[\"Description\"]).rename(columns={\"Name\": \"name\"})\n",
    "\n",
    "# Create columns for coordinates given in radians\n",
    "parks[\"lon_rad\"] = np.radians(parks.geometry.x)\n",
    "parks[\"lat_rad\"] = np.radians(parks.geometry.y)"
   ]
  },
  {
   "cell_type": "code",
   "execution_count": 16,
   "metadata": {},
   "outputs": [],
   "source": [
    "# Calculate the distance to the nearest park or garden for each building using\n",
    "# the haversine formula with the Earth's radius as given above\n",
    "park_dist = buildings.apply(\n",
    "    lambda row:\n",
    "        2\n",
    "        * EARTH_RADIUS\n",
    "        * np.arcsin(\n",
    "            np.sqrt(\n",
    "                np.sin((parks.lat_rad - row.lat_rad) / 2) ** 2\n",
    "                + np.cos(row.lat_rad)\n",
    "                * np.cos(parks.lat_rad)\n",
    "                * np.sin((parks.lon_rad - row.lon_rad) / 2) ** 2\n",
    "            )\n",
    "        ), axis = 1\n",
    "    )\n",
    "\n",
    "buildings[\"park_distance\"] = np.min(park_dist, axis = 1)\n",
    "\n",
    "# Calculate number of 'close' parks to the house.\n",
    "buildings['park_close']  = np.sum(park_dist < 2000, axis = 1)\n"
   ]
  },
  {
   "cell_type": "code",
   "execution_count": 17,
   "metadata": {},
   "outputs": [],
   "source": [
    "# Read square location data\n",
    "squares = gpd.read_file(\"resources/squares.kml\", dirver=\"KML\").drop(columns=[\"Description\"]).rename(columns={\"Name\": \"name\"})\n",
    "\n",
    "# Create columns for coordinates given in radians\n",
    "squares[\"lon_rad\"] = np.radians(squares.geometry.x)\n",
    "squares[\"lat_rad\"] = np.radians(squares.geometry.y)"
   ]
  },
  {
   "cell_type": "code",
   "execution_count": 18,
   "metadata": {},
   "outputs": [],
   "source": [
    "# Calculate the distance to the nearest square for each building using the\n",
    "# haversine formula with the Earth's radius as given above\n",
    "square_dist = buildings.apply(\n",
    "    lambda row: \n",
    "        2\n",
    "        * EARTH_RADIUS\n",
    "        * np.arcsin(\n",
    "            np.sqrt(\n",
    "                np.sin((squares.lat_rad - row.lat_rad) / 2) ** 2\n",
    "                + np.cos(row.lat_rad)\n",
    "                * np.cos(squares.lat_rad)\n",
    "                * np.sin((squares.lon_rad - row.lon_rad) / 2) ** 2\n",
    "            )\n",
    "        ), \n",
    "    axis=1\n",
    ")\n",
    "\n",
    "buildings['square_distance'] = np.min(square_dist, axis = 1)\n",
    "\n",
    "# Calculate number of 'close' squares\n",
    "buildings['square_close']  = np.sum(square_dist < 2000, axis = 1)"
   ]
  },
  {
   "cell_type": "code",
   "execution_count": 19,
   "metadata": {},
   "outputs": [],
   "source": [
    "rublevka_lat = 55.73870\n",
    "rublevka_lon = 37.25904\n",
    "rublevka_lat_rad = np.radians(rublevka_lat)\n",
    "rublevka_lon_rad = np.radians(rublevka_lon)\n",
    "\n",
    "buildings['rublevka_dist'] = buildings.apply(\n",
    "    lambda row: \n",
    "        2\n",
    "        * EARTH_RADIUS\n",
    "        * np.arcsin(\n",
    "            np.sqrt(\n",
    "                np.sin((rublevka_lat_rad - row.lat_rad) / 2) ** 2\n",
    "                + np.cos(row.lat_rad)\n",
    "                * np.cos(rublevka_lat_rad)\n",
    "                * np.sin((rublevka_lon_rad - row.lon_rad) / 2) ** 2\n",
    "            )\n",
    "        ), \n",
    "    axis=1\n",
    ")"
   ]
  },
  {
   "cell_type": "code",
   "execution_count": 20,
   "metadata": {},
   "outputs": [],
   "source": [
    "ostoz_lat = 55.74041592186014\n",
    "ostoz_lon = 37.59606083068356\n",
    "ostoz_lat_rad = np.radians(ostoz_lat)\n",
    "ostoz_lon_rad = np.radians(ostoz_lon)\n",
    "\n",
    "buildings['ostoz_dist'] = buildings.apply(\n",
    "    lambda row: \n",
    "        2\n",
    "        * EARTH_RADIUS\n",
    "        * np.arcsin(\n",
    "            np.sqrt(\n",
    "                np.sin((ostoz_lat_rad - row.lat_rad) / 2) ** 2\n",
    "                + np.cos(row.lat_rad)\n",
    "                * np.cos(ostoz_lat_rad)\n",
    "                * np.sin((ostoz_lon_rad - row.lon_rad) / 2) ** 2\n",
    "            )\n",
    "        ), \n",
    "    axis=1\n",
    ")"
   ]
  },
  {
   "cell_type": "code",
   "execution_count": 21,
   "metadata": {},
   "outputs": [],
   "source": [
    "khamo_lat = 55.733078399352074\n",
    "khamo_lon = 37.574861386328806\n",
    "khamo_lat_rad = np.radians(khamo_lat)\n",
    "khamo_lon_rad = np.radians(khamo_lon)\n",
    "\n",
    "buildings['khamo_dist'] = buildings.apply(\n",
    "    lambda row: \n",
    "        2\n",
    "        * EARTH_RADIUS\n",
    "        * np.arcsin(\n",
    "            np.sqrt(\n",
    "                np.sin((khamo_lat_rad - row.lat_rad) / 2) ** 2\n",
    "                + np.cos(row.lat_rad)\n",
    "                * np.cos(khamo_lat_rad)\n",
    "                * np.sin((khamo_lon_rad - row.lon_rad) / 2) ** 2\n",
    "            )\n",
    "        ), \n",
    "    axis=1\n",
    ")"
   ]
  },
  {
   "cell_type": "code",
   "execution_count": 22,
   "metadata": {},
   "outputs": [],
   "source": [
    "yaki_lat = 55.732884073626586\n",
    "yaki_lon = 37.610828401028435\n",
    "yaki_lat_rad = np.radians(yaki_lat)\n",
    "yaki_lon_rad = np.radians(yaki_lon)\n",
    "\n",
    "buildings['yaki_dist'] = buildings.apply(\n",
    "    lambda row: \n",
    "        2\n",
    "        * EARTH_RADIUS\n",
    "        * np.arcsin(\n",
    "            np.sqrt(\n",
    "                np.sin((yaki_lat_rad - row.lat_rad) / 2) ** 2\n",
    "                + np.cos(row.lat_rad)\n",
    "                * np.cos(yaki_lat_rad)\n",
    "                * np.sin((yaki_lon_rad - row.lon_rad) / 2) ** 2\n",
    "            )\n",
    "        ), \n",
    "    axis=1\n",
    ")"
   ]
  },
  {
   "cell_type": "code",
   "execution_count": 23,
   "metadata": {},
   "outputs": [],
   "source": [
    "arbat_lat = 55.751646651040474\n",
    "arbat_lon = 37.601199713824386\n",
    "arbat_lat_rad = np.radians(arbat_lat)\n",
    "arbat_lon_rad = np.radians(arbat_lon)\n",
    "\n",
    "buildings['arbat_dist'] = buildings.apply(\n",
    "    lambda row: \n",
    "        2\n",
    "        * EARTH_RADIUS\n",
    "        * np.arcsin(\n",
    "            np.sqrt(\n",
    "                np.sin((arbat_lat_rad - row.lat_rad) / 2) ** 2\n",
    "                + np.cos(row.lat_rad)\n",
    "                * np.cos(arbat_lat_rad)\n",
    "                * np.sin((arbat_lon_rad - row.lon_rad) / 2) ** 2\n",
    "            )\n",
    "        ), \n",
    "    axis=1\n",
    ")"
   ]
  },
  {
   "cell_type": "code",
   "execution_count": 24,
   "metadata": {},
   "outputs": [],
   "source": [
    "pres_lat = 55.7638390539512\n",
    "pres_lon = 37.559469484210624\n",
    "pres_lat_rad = np.radians(pres_lat)\n",
    "pres_lon_rad = np.radians(pres_lon)\n",
    "\n",
    "buildings['pres_dist'] = buildings.apply(\n",
    "    lambda row: \n",
    "        2\n",
    "        * EARTH_RADIUS\n",
    "        * np.arcsin(\n",
    "            np.sqrt(\n",
    "                np.sin((pres_lat_rad - row.lat_rad) / 2) ** 2\n",
    "                + np.cos(row.lat_rad)\n",
    "                * np.cos(pres_lat_rad)\n",
    "                * np.sin((pres_lon_rad - row.lon_rad) / 2) ** 2\n",
    "            )\n",
    "        ), \n",
    "    axis=1\n",
    ")"
   ]
  },
  {
   "cell_type": "code",
   "execution_count": 25,
   "metadata": {},
   "outputs": [],
   "source": [
    "tver_lat = 55.76960731290398\n",
    "tver_lon = 37.608153625557165\n",
    "tver_lat_rad = np.radians(tver_lat)\n",
    "tver_lon_rad = np.radians(tver_lon)\n",
    "\n",
    "buildings['tver_dist'] = buildings.apply(\n",
    "    lambda row: \n",
    "        2\n",
    "        * EARTH_RADIUS\n",
    "        * np.arcsin(\n",
    "            np.sqrt(\n",
    "                np.sin((tver_lat_rad - row.lat_rad) / 2) ** 2\n",
    "                + np.cos(row.lat_rad)\n",
    "                * np.cos(tver_lat_rad)\n",
    "                * np.sin((tver_lon_rad - row.lon_rad) / 2) ** 2\n",
    "            )\n",
    "        ), \n",
    "    axis=1\n",
    ")"
   ]
  },
  {
   "cell_type": "code",
   "execution_count": 26,
   "metadata": {},
   "outputs": [],
   "source": [
    "del stations, parks, squares\n",
    "\n",
    "buildings.drop(columns=[\"lat_rad\", \"lon_rad\"], inplace=True)"
   ]
  },
  {
   "cell_type": "markdown",
   "metadata": {},
   "source": [
    "## More Cleaning and Feature Engineering"
   ]
  },
  {
   "cell_type": "code",
   "execution_count": 27,
   "metadata": {},
   "outputs": [],
   "source": [
    "district_constructed_mean = buildings.groupby(\"district\").constructed.mean().round()\n",
    "district_constructed_median = buildings.groupby(\"district\").constructed.median().round()"
   ]
  },
  {
   "cell_type": "code",
   "execution_count": 28,
   "metadata": {},
   "outputs": [],
   "source": [
    "# Find the mean and median construction year for each street\n",
    "street_constructed_mean = buildings.groupby(\"street\").constructed.mean().round().dropna()\n",
    "street_constructed_median = buildings.groupby(\"street\").constructed.median().round().dropna()"
   ]
  },
  {
   "cell_type": "code",
   "execution_count": 29,
   "metadata": {},
   "outputs": [],
   "source": [
    "idx = ~buildings.constructed.isna()\n",
    "buildings['constructed_fix'] = buildings.constructed"
   ]
  },
  {
   "cell_type": "code",
   "execution_count": 30,
   "metadata": {},
   "outputs": [],
   "source": [
    "buildings.loc[~idx, \"constructed_fix\"] = buildings[~idx].apply(\n",
    "    lambda b: street_constructed_median[b.street]\n",
    "              if b.street in street_constructed_median\n",
    "              else district_constructed_median[b.district],\n",
    "    axis=1\n",
    ")"
   ]
  },
  {
   "cell_type": "code",
   "execution_count": 31,
   "metadata": {},
   "outputs": [],
   "source": [
    "idx = apartments.ceiling > 50\n",
    "# Create a new feature, `ceiling_fix`, where this has been corrected\n",
    "apartments[\"ceiling_fix\"] = apartments.ceiling\n",
    "apartments.loc[idx, \"ceiling_fix\"] = apartments.ceiling[idx] / 100"
   ]
  },
  {
   "cell_type": "code",
   "execution_count": 32,
   "metadata": {},
   "outputs": [],
   "source": [
    "apartments['log_area_per_room'] = np.log(apartments.area_total/apartments.rooms)"
   ]
  },
  {
   "cell_type": "markdown",
   "metadata": {},
   "source": [
    "## Merge"
   ]
  },
  {
   "cell_type": "code",
   "execution_count": 33,
   "metadata": {},
   "outputs": [],
   "source": [
    "data = apartments.reset_index().merge(\n",
    "    buildings, how=\"left\", left_on=[\"building_id\", \"split\"], right_on=[\"id\", \"split\"]\n",
    ").set_index(\"id\")"
   ]
  },
  {
   "cell_type": "markdown",
   "metadata": {},
   "source": [
    "## Extra features"
   ]
  },
  {
   "cell_type": "code",
   "execution_count": 34,
   "metadata": {},
   "outputs": [],
   "source": [
    "data[\"ballog\"] = data.balconies + data.loggias\n",
    "data[\"bathrooms_total\"] = data.bathrooms_private + data.bathrooms_shared\n",
    "data[\"log_price_per_sqm\"] = np.log(data.price / data.area_total)\n",
    "data[\"log_area_total\"] = np.log(data.area_total)"
   ]
  },
  {
   "cell_type": "code",
   "execution_count": 35,
   "metadata": {},
   "outputs": [],
   "source": [
    "data['price_per_sqm'] = data.price/data.area_total\n",
    "avg_price_per_sqm = data.groupby('district').agg('mean')['price_per_sqm']\n",
    "\n",
    "distr_avg = np.empty(data.shape[0])\n",
    "for i in range(data.shape[0]):\n",
    "    distr_avg[i] = avg_price_per_sqm[int(data.district[i])]\n",
    "data['distr_avg'] = distr_avg"
   ]
  },
  {
   "cell_type": "code",
   "execution_count": 36,
   "metadata": {},
   "outputs": [],
   "source": [
    "data_train = data[data.split == \"train\"].copy()\n",
    "data_test = data[data.split == \"test\"].copy()"
   ]
  },
  {
   "cell_type": "markdown",
   "metadata": {},
   "source": [
    "# Modeling and prediction"
   ]
  },
  {
   "cell_type": "code",
   "execution_count": 37,
   "metadata": {},
   "outputs": [],
   "source": [
    "LIGHTGBM_F4LC_FEATURES = [\n",
    "    \"latitude\", \"longitude\", \"district\", \"constructed_fix\", \"log_area_total\",\n",
    "    \"rooms\", \"ballog\", \"metro_distance\", \"park_distance\", \"square_distance\",\n",
    "    \"material\", \"condition\", \"heating\", \"stories\", \"floor\", \"ceiling_fix\",\n",
    "    \"bathrooms_total\", \"new\",\n",
    "]\n",
    "LIGHTGBM_F4LC_CATEGORICAL_FEATURES = [\n",
    "    \"district\", \"material\", \"condition\", \"heating\", \"new\",\n",
    "]"
   ]
  },
  {
   "cell_type": "code",
   "execution_count": 38,
   "metadata": {},
   "outputs": [
    {
     "name": "stderr",
     "output_type": "stream",
     "text": [
      "\u001b[32m[I 2021-11-18 18:09:52,853]\u001b[0m Using an existing study with name 'LightGBM-F4LC' instead of creating a new one.\u001b[0m\n"
     ]
    },
    {
     "data": {
      "text/plain": [
       "LGBMRegressor(cat_smooth=56, colsample_bytree=0.6, learning_rate=0.03,\n",
       "              max_depth=121, metric='rmse', min_child_samples=1,\n",
       "              n_estimators=5000, n_jobs=3, num_leaves=515, random_state=42,\n",
       "              reg_alpha=0.13020331134351731, reg_lambda=1.2937692395596345)"
      ]
     },
     "execution_count": 38,
     "metadata": {},
     "output_type": "execute_result"
    }
   ],
   "source": [
    "lgb_f4lc_study = optuna.create_study(\n",
    "    storage='sqlite:///resources/vegard_optuna.sqlite',\n",
    "    sampler=optuna.samplers.TPESampler(seed=SEED),\n",
    "    study_name=\"LightGBM-F4LC\",\n",
    "    direction=\"minimize\",\n",
    "    load_if_exists=True\n",
    ")\n",
    "\n",
    "X = data_train[LIGHTGBM_F4LC_FEATURES]\n",
    "y = data_train.price\n",
    "area = data_train.area_total\n",
    "\n",
    "lgb_f4lc_mod = lgb.LGBMRegressor(random_state=42, metric=\"rmse\", n_estimators=5000, n_jobs=3, **lgb_f4lc_study.best_params)\n",
    "lgb_f4lc_mod.fit(X, np.log(y/area), categorical_feature=LIGHTGBM_F4LC_CATEGORICAL_FEATURES)"
   ]
  },
  {
   "cell_type": "code",
   "execution_count": 39,
   "metadata": {},
   "outputs": [],
   "source": [
    "lgb_f4lc_preds = np.exp(lgb_f4lc_mod.predict(data_test[LIGHTGBM_F4LC_FEATURES])) * data_test.area_total"
   ]
  },
  {
   "cell_type": "code",
   "execution_count": 40,
   "metadata": {},
   "outputs": [
    {
     "name": "stderr",
     "output_type": "stream",
     "text": [
      "\u001b[32m[I 2021-11-18 18:10:19,739]\u001b[0m Using an existing study with name 'CatBoost-T2LC' instead of creating a new one.\u001b[0m\n"
     ]
    },
    {
     "data": {
      "text/plain": [
       "<catboost.core.CatBoostRegressor at 0x12999bc70>"
      ]
     },
     "execution_count": 40,
     "metadata": {},
     "output_type": "execute_result"
    }
   ],
   "source": [
    "CATBOOST_T2LC_FEATURES = LIGHTGBM_F4LC_FEATURES\n",
    "\n",
    "cat_t2lc_study = optuna.create_study(\n",
    "    storage='sqlite:///resources/vegard_optuna.sqlite',\n",
    "    sampler=optuna.samplers.TPESampler(seed=42),\n",
    "    study_name=\"CatBoost-T2LC\",\n",
    "    direction=\"minimize\",\n",
    "    load_if_exists=True\n",
    ")\n",
    "\n",
    "cat_t2lc_mod = catboost.CatBoostRegressor(objective=\"RMSE\", random_seed=SEED, silent=True, thread_count=1, **cat_t2lc_study.best_params)\n",
    "cat_t2lc_mod.fit(data_train[CATBOOST_T2LC_FEATURES],  np.log(y/area))"
   ]
  },
  {
   "cell_type": "code",
   "execution_count": 41,
   "metadata": {},
   "outputs": [],
   "source": [
    "cat_t2lc_preds = np.exp(cat_t2lc_mod.predict(data_test[CATBOOST_T2LC_FEATURES])) * data_test.area_total"
   ]
  },
  {
   "cell_type": "code",
   "execution_count": 42,
   "metadata": {},
   "outputs": [
    {
     "name": "stderr",
     "output_type": "stream",
     "text": [
      "\u001b[32m[I 2021-11-18 18:10:31,784]\u001b[0m Using an existing study with name 'LightGBM-h2' instead of creating a new one.\u001b[0m\n"
     ]
    },
    {
     "data": {
      "text/plain": [
       "LGBMRegressor(cat_smooth=8, colsample_bytree=0.4, learning_rate=0.006,\n",
       "              max_depth=32, metric='rmse', min_child_samples=1,\n",
       "              n_estimators=6000, n_jobs=3, num_leaves=327, random_state=42,\n",
       "              reg_alpha=0.04332781805200478, reg_lambda=0.02011247431970239)"
      ]
     },
     "execution_count": 42,
     "metadata": {},
     "output_type": "execute_result"
    }
   ],
   "source": [
    "NUMERIC_FEATURES_H2 = [\"latitude\", \"longitude\", \"constructed\", \"log_area_total\", \"log_area_per_room\", \"rooms\", \"metro_distance\", \"park_distance\",\n",
    "            \"square_distance\", \"metro_close\", \"park_close\", \"square_close\", \"stories\", \"floor\", \"ceiling_fix\", \"bathrooms_total\", \"ballog\", \"distr_avg\", \n",
    "            'khamo_dist', 'ostoz_dist', 'rublevka_dist', 'yaki_dist', 'arbat_dist', 'pres_dist', 'tver_dist']\n",
    "            \n",
    "CATEGORICAL_FEATURES_H2 = ['condition', 'district', 'garbage_chute', 'heating', 'layout', 'material',\n",
    "                         'new', 'parking', 'seller', 'windows_court', 'windows_street']\n",
    "\n",
    "\n",
    "X = data_train[NUMERIC_FEATURES_H2 + CATEGORICAL_FEATURES_H2].copy()\n",
    "X[CATEGORICAL_FEATURES_H2] = X[CATEGORICAL_FEATURES_H2].astype('category')\n",
    "\n",
    "X_test = data_test[NUMERIC_FEATURES_H2 + CATEGORICAL_FEATURES_H2]\n",
    "X_test[CATEGORICAL_FEATURES_H2] = X_test[CATEGORICAL_FEATURES_H2].astype('category')\n",
    "\n",
    "y = data_train.price\n",
    "area = data_train.area_total\n",
    "\n",
    "lgb_h2_study = optuna.create_study(\n",
    "    storage=\"sqlite:///resources/jim_optuna.sqlite\",\n",
    "    sampler=optuna.samplers.TPESampler(seed=SEED),\n",
    "    study_name=\"LightGBM-h2\",\n",
    "    direction=\"minimize\",\n",
    "    load_if_exists=True\n",
    ")\n",
    "\n",
    "lgb_h2_mod = lgb.LGBMRegressor(random_state=SEED, metric=\"rmse\", n_jobs=3, n_estimators=6000, **lgb_h2_study.best_params)\n",
    "lgb_h2_mod.fit(X, np.log(y/area), categorical_feature=CATEGORICAL_FEATURES_H2)"
   ]
  },
  {
   "cell_type": "code",
   "execution_count": 43,
   "metadata": {},
   "outputs": [],
   "source": [
    "lgb_h2_preds = np.exp(lgb_h2_mod.predict(X_test)) * data_test.area_total"
   ]
  },
  {
   "cell_type": "code",
   "execution_count": 44,
   "metadata": {},
   "outputs": [
    {
     "name": "stderr",
     "output_type": "stream",
     "text": [
      "\u001b[32m[I 2021-11-18 18:11:41,269]\u001b[0m Using an existing study with name 'cat-lh' instead of creating a new one.\u001b[0m\n"
     ]
    },
    {
     "data": {
      "text/plain": [
       "<catboost.core.CatBoostRegressor at 0x1299a8370>"
      ]
     },
     "execution_count": 44,
     "metadata": {},
     "output_type": "execute_result"
    }
   ],
   "source": [
    "cat_h2_study = optuna.create_study(\n",
    "    storage=\"sqlite:///resources/jim_optuna.sqlite\",\n",
    "    sampler=optuna.samplers.TPESampler(seed=SEED),\n",
    "    study_name=\"cat-lh\",\n",
    "    direction=\"minimize\",\n",
    "    load_if_exists=True\n",
    ")\n",
    "\n",
    "X = data_train[NUMERIC_FEATURES_H2 + CATEGORICAL_FEATURES_H2].copy()\n",
    "X['district'] = X['district'].astype(int)\n",
    "X_test = data_test[NUMERIC_FEATURES_H2 + CATEGORICAL_FEATURES_H2]\n",
    "X_test['district'] = X_test['district'].astype(int)\n",
    "\n",
    "cat_h2_mod = catboost.CatBoostRegressor(objective=\"RMSE\", random_seed=SEED, silent=True, thread_count=4, **cat_h2_study.best_params)\n",
    "cat_h2_mod.fit(X, np.log(y/area), cat_features = ['district'])"
   ]
  },
  {
   "cell_type": "code",
   "execution_count": 45,
   "metadata": {},
   "outputs": [],
   "source": [
    "cat_h2_preds = np.exp(cat_h2_mod.predict(X_test)) * data_test.area_total"
   ]
  },
  {
   "cell_type": "code",
   "execution_count": 46,
   "metadata": {},
   "outputs": [],
   "source": [
    "final_preds = np.average(\n",
    "        [lgb_f4lc_preds, cat_t2lc_preds, \n",
    "         lgb_h2_preds, cat_h2_preds],\n",
    "        axis=0,\n",
    "        weights=[ -lgb_f4lc_study.best_value, -cat_t2lc_study.best_value, \n",
    "                  -lgb_h2_study.best_value, -cat_h2_study.best_value],\n",
    "    )\n",
    "submission = pd.DataFrame()\n",
    "submission['id'] = data_test.index\n",
    "submission['price_prediction'] = final_preds\n",
    "submission.to_csv('best_preds.csv', index=False)"
   ]
  }
 ],
 "metadata": {
  "interpreter": {
   "hash": "675e4d1f4971b295d587632b2ddd77135b95b56ce96661a1d369a7e57f4b577d"
  },
  "kernelspec": {
   "display_name": "Python 3.7.3 64-bit ('base': conda)",
   "name": "python3"
  },
  "language_info": {
   "codemirror_mode": {
    "name": "ipython",
    "version": 3
   },
   "file_extension": ".py",
   "mimetype": "text/x-python",
   "name": "python",
   "nbconvert_exporter": "python",
   "pygments_lexer": "ipython3",
   "version": "3.9.8"
  },
  "orig_nbformat": 4
 },
 "nbformat": 4,
 "nbformat_minor": 2
}
